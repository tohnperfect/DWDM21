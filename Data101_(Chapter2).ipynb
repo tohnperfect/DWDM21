{
  "nbformat": 4,
  "nbformat_minor": 0,
  "metadata": {
    "colab": {
      "name": "Data101 (Chapter2).ipynb",
      "provenance": [],
      "authorship_tag": "ABX9TyOjBpxFlOjealRccCjfE0Na",
      "include_colab_link": true
    },
    "kernelspec": {
      "name": "python3",
      "display_name": "Python 3"
    },
    "language_info": {
      "name": "python"
    }
  },
  "cells": [
    {
      "cell_type": "markdown",
      "metadata": {
        "id": "view-in-github",
        "colab_type": "text"
      },
      "source": [
        "<a href=\"https://colab.research.google.com/github/tohnperfect/DWDM21/blob/main/Data101_(Chapter2).ipynb\" target=\"_parent\"><img src=\"https://colab.research.google.com/assets/colab-badge.svg\" alt=\"Open In Colab\"/></a>"
      ]
    },
    {
      "cell_type": "markdown",
      "metadata": {
        "id": "9ninME2Dzyuv"
      },
      "source": [
        "ข้อความที่อยู่ใน textbox จะเป็น ภาษา markdown "
      ]
    },
    {
      "cell_type": "markdown",
      "metadata": {
        "id": "Imkhqvm-tkVx"
      },
      "source": [
        "ข้อดีหนึ่งของ Python คือมี package สำหรับทำงานต่างๆมากมาย\n",
        "\n",
        "ซึ่ง pandas เป็น package สำหรับการทำงานกับข้อมูลที่อยู่ในรูปแบบตาราง\n",
        "\n",
        "โดย pandas จะเรียกตารางนั้นว่า dataframe"
      ]
    },
    {
      "cell_type": "code",
      "metadata": {
        "id": "REAvSryNr31e"
      },
      "source": [
        "import pandas # วิธีเรียกใช้ package คือ import ตามด้วยชื่อ package"
      ],
      "execution_count": null,
      "outputs": []
    },
    {
      "cell_type": "code",
      "metadata": {
        "id": "XceSq3_9tAiI"
      },
      "source": [
        "import pandas as pd # เหมือนกับข้างบนแต่ว่า ตั้งชื่อให้ package ที่โหลดมาใหม่ว่า pd"
      ],
      "execution_count": null,
      "outputs": []
    },
    {
      "cell_type": "markdown",
      "metadata": {
        "id": "tD0GYzbQusBc"
      },
      "source": [
        "ไฟล์ .csv (CSV = comma separated values) เป็นไฟล์หลักที่เราจะได้ใช้กันในวิชานี้\n",
        "\n"
      ]
    },
    {
      "cell_type": "code",
      "metadata": {
        "id": "DfMZhvmpuZjH"
      },
      "source": [
        "data_df = pd.read_csv('data.csv')"
      ],
      "execution_count": null,
      "outputs": []
    },
    {
      "cell_type": "code",
      "metadata": {
        "colab": {
          "base_uri": "https://localhost:8080/",
          "height": 142
        },
        "id": "hd_mvZFexNV-",
        "outputId": "32a2760b-5778-47d8-bab4-ec988cbea55a"
      },
      "source": [
        "data_df"
      ],
      "execution_count": null,
      "outputs": [
        {
          "output_type": "execute_result",
          "data": {
            "text/html": [
              "<div>\n",
              "<style scoped>\n",
              "    .dataframe tbody tr th:only-of-type {\n",
              "        vertical-align: middle;\n",
              "    }\n",
              "\n",
              "    .dataframe tbody tr th {\n",
              "        vertical-align: top;\n",
              "    }\n",
              "\n",
              "    .dataframe thead th {\n",
              "        text-align: right;\n",
              "    }\n",
              "</style>\n",
              "<table border=\"1\" class=\"dataframe\">\n",
              "  <thead>\n",
              "    <tr style=\"text-align: right;\">\n",
              "      <th></th>\n",
              "      <th>name</th>\n",
              "      <th>age</th>\n",
              "      <th>city</th>\n",
              "    </tr>\n",
              "  </thead>\n",
              "  <tbody>\n",
              "    <tr>\n",
              "      <th>0</th>\n",
              "      <td>Tom</td>\n",
              "      <td>27</td>\n",
              "      <td>Khon Kaen</td>\n",
              "    </tr>\n",
              "    <tr>\n",
              "      <th>1</th>\n",
              "      <td>Paul</td>\n",
              "      <td>15</td>\n",
              "      <td>Bangkok</td>\n",
              "    </tr>\n",
              "    <tr>\n",
              "      <th>2</th>\n",
              "      <td>Sarah</td>\n",
              "      <td>49</td>\n",
              "      <td>London</td>\n",
              "    </tr>\n",
              "  </tbody>\n",
              "</table>\n",
              "</div>"
            ],
            "text/plain": [
              "    name  age       city\n",
              "0    Tom   27  Khon Kaen\n",
              "1   Paul   15    Bangkok\n",
              "2  Sarah   49     London"
            ]
          },
          "metadata": {
            "tags": []
          },
          "execution_count": 7
        }
      ]
    },
    {
      "cell_type": "code",
      "metadata": {
        "colab": {
          "base_uri": "https://localhost:8080/",
          "height": 142
        },
        "id": "u6YWj83SxO10",
        "outputId": "87f4c02e-564e-4879-cee8-b4057d8d43ad"
      },
      "source": [
        "data_df2 = pandas.read_csv('data.csv')\n",
        "data_df2"
      ],
      "execution_count": null,
      "outputs": [
        {
          "output_type": "execute_result",
          "data": {
            "text/html": [
              "<div>\n",
              "<style scoped>\n",
              "    .dataframe tbody tr th:only-of-type {\n",
              "        vertical-align: middle;\n",
              "    }\n",
              "\n",
              "    .dataframe tbody tr th {\n",
              "        vertical-align: top;\n",
              "    }\n",
              "\n",
              "    .dataframe thead th {\n",
              "        text-align: right;\n",
              "    }\n",
              "</style>\n",
              "<table border=\"1\" class=\"dataframe\">\n",
              "  <thead>\n",
              "    <tr style=\"text-align: right;\">\n",
              "      <th></th>\n",
              "      <th>name</th>\n",
              "      <th>age</th>\n",
              "      <th>city</th>\n",
              "    </tr>\n",
              "  </thead>\n",
              "  <tbody>\n",
              "    <tr>\n",
              "      <th>0</th>\n",
              "      <td>Tom</td>\n",
              "      <td>27</td>\n",
              "      <td>Khon Kaen</td>\n",
              "    </tr>\n",
              "    <tr>\n",
              "      <th>1</th>\n",
              "      <td>Paul</td>\n",
              "      <td>15</td>\n",
              "      <td>Bangkok</td>\n",
              "    </tr>\n",
              "    <tr>\n",
              "      <th>2</th>\n",
              "      <td>Sarah</td>\n",
              "      <td>49</td>\n",
              "      <td>London</td>\n",
              "    </tr>\n",
              "  </tbody>\n",
              "</table>\n",
              "</div>"
            ],
            "text/plain": [
              "    name  age       city\n",
              "0    Tom   27  Khon Kaen\n",
              "1   Paul   15    Bangkok\n",
              "2  Sarah   49     London"
            ]
          },
          "metadata": {
            "tags": []
          },
          "execution_count": 8
        }
      ]
    },
    {
      "cell_type": "markdown",
      "metadata": {
        "id": "_TAPnVP6ygh4"
      },
      "source": [
        "# Basic Python\n",
        "## Variables\n",
        "\n"
      ]
    },
    {
      "cell_type": "markdown",
      "metadata": {
        "id": "jieWNVjo1iAm"
      },
      "source": [
        "ข้อกำหนดในการตั้งชื่อตัวแปร\n",
        "\n",
        "\n",
        "1.   ชื่อห้ามมีเว้นวรรค\n",
        "2.   (พยายาม)ใช้ภาษาอังกฤษ\n",
        "3.   ตัวเล็กกับตัวใหญ่ แตกต่างกัน (case sensitive)\n",
        "4.   ห้ามใช้ตัวเลขเป็นตัวหน้า\n",
        "\n"
      ]
    },
    {
      "cell_type": "code",
      "metadata": {
        "id": "rPgssQeIyQqg"
      },
      "source": [
        "variable_a = 12\n",
        "variable_b = 'abcde'  # ' เรียกว่า quote\n",
        "variable_c = variable_a"
      ],
      "execution_count": null,
      "outputs": []
    },
    {
      "cell_type": "code",
      "metadata": {
        "colab": {
          "base_uri": "https://localhost:8080/"
        },
        "id": "G_vXp-Ed1Glr",
        "outputId": "7cf0aab7-b90a-45c3-dabd-1e9d92d2692c"
      },
      "source": [
        "variable_a"
      ],
      "execution_count": null,
      "outputs": [
        {
          "output_type": "execute_result",
          "data": {
            "text/plain": [
              "12"
            ]
          },
          "metadata": {
            "tags": []
          },
          "execution_count": 10
        }
      ]
    },
    {
      "cell_type": "code",
      "metadata": {
        "colab": {
          "base_uri": "https://localhost:8080/",
          "height": 37
        },
        "id": "Pf_hORo10Trj",
        "outputId": "9a9849b9-60b9-47a3-e7cd-de0f8daf8a13"
      },
      "source": [
        "variable_b"
      ],
      "execution_count": null,
      "outputs": [
        {
          "output_type": "execute_result",
          "data": {
            "application/vnd.google.colaboratory.intrinsic+json": {
              "type": "string"
            },
            "text/plain": [
              "'abcde'"
            ]
          },
          "metadata": {
            "tags": []
          },
          "execution_count": 11
        }
      ]
    },
    {
      "cell_type": "code",
      "metadata": {
        "colab": {
          "base_uri": "https://localhost:8080/"
        },
        "id": "rkaBZg8V0ToT",
        "outputId": "9baf00d5-8c57-4272-aff4-072c5999f755"
      },
      "source": [
        "variable_c"
      ],
      "execution_count": null,
      "outputs": [
        {
          "output_type": "execute_result",
          "data": {
            "text/plain": [
              "12"
            ]
          },
          "metadata": {
            "tags": []
          },
          "execution_count": 12
        }
      ]
    },
    {
      "cell_type": "code",
      "metadata": {
        "colab": {
          "base_uri": "https://localhost:8080/",
          "height": 130
        },
        "id": "IeNEqfX70Teg",
        "outputId": "b036b7b3-b01b-4ca9-86d0-df804180d12e"
      },
      "source": [
        "# ชื่อห้ามมีเว้นวรรค\n",
        "variable a = 6"
      ],
      "execution_count": null,
      "outputs": [
        {
          "output_type": "error",
          "ename": "SyntaxError",
          "evalue": "ignored",
          "traceback": [
            "\u001b[0;36m  File \u001b[0;32m\"<ipython-input-13-126f7ab49866>\"\u001b[0;36m, line \u001b[0;32m2\u001b[0m\n\u001b[0;31m    variable a = 6\u001b[0m\n\u001b[0m             ^\u001b[0m\n\u001b[0;31mSyntaxError\u001b[0m\u001b[0;31m:\u001b[0m invalid syntax\n"
          ]
        }
      ]
    },
    {
      "cell_type": "code",
      "metadata": {
        "colab": {
          "base_uri": "https://localhost:8080/"
        },
        "id": "hFKahdKt0Tbv",
        "outputId": "827a360f-cbb8-4b42-df57-360f634b3076"
      },
      "source": [
        "# (พยายาม)ใช้ภาษาอังกฤษ\n",
        "# colab ใช้ภาษาไทยเป็นชื่อตัวแปรได้ แต่ไม่ควรใช้\n",
        "ตัวแปร = 3\n",
        "ตัวแปร"
      ],
      "execution_count": null,
      "outputs": [
        {
          "output_type": "execute_result",
          "data": {
            "text/plain": [
              "3"
            ]
          },
          "metadata": {
            "tags": []
          },
          "execution_count": 14
        }
      ]
    },
    {
      "cell_type": "code",
      "metadata": {
        "colab": {
          "base_uri": "https://localhost:8080/"
        },
        "id": "n0zQagv82Qcp",
        "outputId": "dd856e47-d316-4ca1-9464-8199f93ae718"
      },
      "source": [
        "# ตัวเล็กกับตัวใหญ่ แตกต่างกัน (case sensitive)\n",
        "v_a = 1\n",
        "V_a = 2\n",
        "print(v_a)\n",
        "print(V_a)"
      ],
      "execution_count": null,
      "outputs": [
        {
          "output_type": "stream",
          "text": [
            "1\n",
            "2\n"
          ],
          "name": "stdout"
        }
      ]
    },
    {
      "cell_type": "code",
      "metadata": {
        "colab": {
          "base_uri": "https://localhost:8080/"
        },
        "id": "Y3bqChAb3Qaz",
        "outputId": "cd549e47-8795-4434-ef19-57d0b4236374"
      },
      "source": [
        "# ตัวเล็กกับตัวใหญ่ แตกต่างกัน (case sensitive)\n",
        "v_a = 1\n",
        "v_a = 2\n",
        "print(v_a)\n",
        "print(v_a)"
      ],
      "execution_count": null,
      "outputs": [
        {
          "output_type": "stream",
          "text": [
            "2\n",
            "2\n"
          ],
          "name": "stdout"
        }
      ]
    },
    {
      "cell_type": "code",
      "metadata": {
        "colab": {
          "base_uri": "https://localhost:8080/",
          "height": 130
        },
        "id": "RMnl3D383GWM",
        "outputId": "39318228-87bc-4dde-9a43-63767791ba77"
      },
      "source": [
        "# ห้ามใช้ตัวเลขเป็นตัวหน้า\n",
        "2 = 1"
      ],
      "execution_count": null,
      "outputs": [
        {
          "output_type": "error",
          "ename": "SyntaxError",
          "evalue": "ignored",
          "traceback": [
            "\u001b[0;36m  File \u001b[0;32m\"<ipython-input-17-24eb8a2ec18c>\"\u001b[0;36m, line \u001b[0;32m2\u001b[0m\n\u001b[0;31m    2 = 1\u001b[0m\n\u001b[0m         ^\u001b[0m\n\u001b[0;31mSyntaxError\u001b[0m\u001b[0;31m:\u001b[0m can't assign to literal\n"
          ]
        }
      ]
    },
    {
      "cell_type": "code",
      "metadata": {
        "colab": {
          "base_uri": "https://localhost:8080/",
          "height": 130
        },
        "id": "yu4ixyBO3oMF",
        "outputId": "6dfbc822-9dd8-47d4-de28-222b55a211f2"
      },
      "source": [
        "# ห้ามใช้ตัวเลขเป็นตัวหน้า\n",
        "2ab = 1"
      ],
      "execution_count": null,
      "outputs": [
        {
          "output_type": "error",
          "ename": "SyntaxError",
          "evalue": "ignored",
          "traceback": [
            "\u001b[0;36m  File \u001b[0;32m\"<ipython-input-18-4a1c88deec89>\"\u001b[0;36m, line \u001b[0;32m2\u001b[0m\n\u001b[0;31m    2ab = 1\u001b[0m\n\u001b[0m      ^\u001b[0m\n\u001b[0;31mSyntaxError\u001b[0m\u001b[0;31m:\u001b[0m invalid syntax\n"
          ]
        }
      ]
    },
    {
      "cell_type": "code",
      "metadata": {
        "id": "fKDEwXoh3tlN"
      },
      "source": [
        "# ห้ามใช้ตัวเลขเป็นตัวหน้า\n",
        "variable1 = 1"
      ],
      "execution_count": null,
      "outputs": []
    },
    {
      "cell_type": "code",
      "metadata": {
        "colab": {
          "base_uri": "https://localhost:8080/"
        },
        "id": "ZIBbuUKR3zCt",
        "outputId": "055305d6-907b-4b2a-bbfc-7e3a84f5850a"
      },
      "source": [
        "print(variable1)"
      ],
      "execution_count": null,
      "outputs": [
        {
          "output_type": "stream",
          "text": [
            "1\n"
          ],
          "name": "stdout"
        }
      ]
    },
    {
      "cell_type": "code",
      "metadata": {
        "id": "PlnIn2MJ31cr"
      },
      "source": [
        "variable_a = 12\n",
        "variable_b = 'abcde'  # ' เรียกว่า quote\n",
        "variable_c = variable_a\n",
        "variable_d = -41.2\n",
        "variable_4 = \"KKU\" # \" เรียกว่า double quote"
      ],
      "execution_count": null,
      "outputs": []
    },
    {
      "cell_type": "code",
      "metadata": {
        "colab": {
          "base_uri": "https://localhost:8080/"
        },
        "id": "73DFRzP94bXS",
        "outputId": "4acc3252-bd3e-4163-a2e6-040e4788e373"
      },
      "source": [
        "variable_x = variable_c + variable_d\n",
        "print(variable_x)"
      ],
      "execution_count": null,
      "outputs": [
        {
          "output_type": "stream",
          "text": [
            "-29.200000000000003\n"
          ],
          "name": "stdout"
        }
      ]
    },
    {
      "cell_type": "code",
      "metadata": {
        "colab": {
          "base_uri": "https://localhost:8080/",
          "height": 164
        },
        "id": "lTD2-Kk15KRt",
        "outputId": "afe615a0-cd1e-42ed-fffd-5b329d80c419"
      },
      "source": [
        "variable_a + variable_b"
      ],
      "execution_count": null,
      "outputs": [
        {
          "output_type": "error",
          "ename": "TypeError",
          "evalue": "ignored",
          "traceback": [
            "\u001b[0;31m---------------------------------------------------------------------------\u001b[0m",
            "\u001b[0;31mTypeError\u001b[0m                                 Traceback (most recent call last)",
            "\u001b[0;32m<ipython-input-23-ca279e5cd267>\u001b[0m in \u001b[0;36m<module>\u001b[0;34m()\u001b[0m\n\u001b[0;32m----> 1\u001b[0;31m \u001b[0mvariable_a\u001b[0m \u001b[0;34m+\u001b[0m \u001b[0mvariable_b\u001b[0m\u001b[0;34m\u001b[0m\u001b[0;34m\u001b[0m\u001b[0m\n\u001b[0m",
            "\u001b[0;31mTypeError\u001b[0m: unsupported operand type(s) for +: 'int' and 'str'"
          ]
        }
      ]
    },
    {
      "cell_type": "code",
      "metadata": {
        "colab": {
          "base_uri": "https://localhost:8080/"
        },
        "id": "xAQJsKHl6KiS",
        "outputId": "e8cd78da-bf93-48c3-9f48-3a388a10603f"
      },
      "source": [
        "print(variable_b + variable_4)"
      ],
      "execution_count": null,
      "outputs": [
        {
          "output_type": "stream",
          "text": [
            "abcdeKKU\n"
          ],
          "name": "stdout"
        }
      ]
    },
    {
      "cell_type": "markdown",
      "metadata": {
        "id": "-hvrBF0K7Akh"
      },
      "source": [
        "## Casting int() float() str()"
      ]
    },
    {
      "cell_type": "code",
      "metadata": {
        "colab": {
          "base_uri": "https://localhost:8080/"
        },
        "id": "X1BdjApo60Cr",
        "outputId": "37cdfc34-c0ea-44ee-dc66-aa242c28ca06"
      },
      "source": [
        "print(variable_x)\n",
        "print(int(variable_x))"
      ],
      "execution_count": null,
      "outputs": [
        {
          "output_type": "stream",
          "text": [
            "-29.200000000000003\n",
            "-29\n"
          ],
          "name": "stdout"
        }
      ]
    },
    {
      "cell_type": "code",
      "metadata": {
        "colab": {
          "base_uri": "https://localhost:8080/"
        },
        "id": "5lDEeZIt7X63",
        "outputId": "e8cd1d69-d460-4119-fb79-3ecf5dea2dfa"
      },
      "source": [
        "V_X = str(variable_x)\n",
        "print(V_X)"
      ],
      "execution_count": null,
      "outputs": [
        {
          "output_type": "stream",
          "text": [
            "-29.200000000000003\n"
          ],
          "name": "stdout"
        }
      ]
    },
    {
      "cell_type": "code",
      "metadata": {
        "colab": {
          "base_uri": "https://localhost:8080/",
          "height": 164
        },
        "id": "FMb_shv07pb_",
        "outputId": "c83f9758-3cfe-4b9b-bdde-930bcd003fbe"
      },
      "source": [
        "V_X + variable_a"
      ],
      "execution_count": null,
      "outputs": [
        {
          "output_type": "error",
          "ename": "TypeError",
          "evalue": "ignored",
          "traceback": [
            "\u001b[0;31m---------------------------------------------------------------------------\u001b[0m",
            "\u001b[0;31mTypeError\u001b[0m                                 Traceback (most recent call last)",
            "\u001b[0;32m<ipython-input-27-d83c0918f5c6>\u001b[0m in \u001b[0;36m<module>\u001b[0;34m()\u001b[0m\n\u001b[0;32m----> 1\u001b[0;31m \u001b[0mV_X\u001b[0m \u001b[0;34m+\u001b[0m \u001b[0mvariable_a\u001b[0m\u001b[0;34m\u001b[0m\u001b[0;34m\u001b[0m\u001b[0m\n\u001b[0m",
            "\u001b[0;31mTypeError\u001b[0m: can only concatenate str (not \"int\") to str"
          ]
        }
      ]
    },
    {
      "cell_type": "code",
      "metadata": {
        "colab": {
          "base_uri": "https://localhost:8080/",
          "height": 164
        },
        "id": "muL37A_u70or",
        "outputId": "d38a2ff5-b1c1-4039-c22b-3196a1ab4d17"
      },
      "source": [
        "variable_a + V_X"
      ],
      "execution_count": null,
      "outputs": [
        {
          "output_type": "error",
          "ename": "TypeError",
          "evalue": "ignored",
          "traceback": [
            "\u001b[0;31m---------------------------------------------------------------------------\u001b[0m",
            "\u001b[0;31mTypeError\u001b[0m                                 Traceback (most recent call last)",
            "\u001b[0;32m<ipython-input-28-9c7fa6bc8848>\u001b[0m in \u001b[0;36m<module>\u001b[0;34m()\u001b[0m\n\u001b[0;32m----> 1\u001b[0;31m \u001b[0mvariable_a\u001b[0m \u001b[0;34m+\u001b[0m \u001b[0mV_X\u001b[0m\u001b[0;34m\u001b[0m\u001b[0;34m\u001b[0m\u001b[0m\n\u001b[0m",
            "\u001b[0;31mTypeError\u001b[0m: unsupported operand type(s) for +: 'int' and 'str'"
          ]
        }
      ]
    },
    {
      "cell_type": "code",
      "metadata": {
        "colab": {
          "base_uri": "https://localhost:8080/",
          "height": 37
        },
        "id": "WNPZNqBY79ok",
        "outputId": "41e41e75-c475-4f48-ef69-d2ded9812337"
      },
      "source": [
        "V_X"
      ],
      "execution_count": null,
      "outputs": [
        {
          "output_type": "execute_result",
          "data": {
            "application/vnd.google.colaboratory.intrinsic+json": {
              "type": "string"
            },
            "text/plain": [
              "'-29.200000000000003'"
            ]
          },
          "metadata": {
            "tags": []
          },
          "execution_count": 29
        }
      ]
    },
    {
      "cell_type": "code",
      "metadata": {
        "colab": {
          "base_uri": "https://localhost:8080/"
        },
        "id": "nACxICmg8WxL",
        "outputId": "c5e63d24-1b6a-4e79-e691-1e1baf6a7252"
      },
      "source": [
        "float(V_X)"
      ],
      "execution_count": null,
      "outputs": [
        {
          "output_type": "execute_result",
          "data": {
            "text/plain": [
              "-29.200000000000003"
            ]
          },
          "metadata": {
            "tags": []
          },
          "execution_count": 30
        }
      ]
    },
    {
      "cell_type": "markdown",
      "metadata": {
        "id": "9BOFeZk381fZ"
      },
      "source": [
        "## Data Structure\n",
        "### list()"
      ]
    },
    {
      "cell_type": "code",
      "metadata": {
        "id": "DQmGHCR48khO"
      },
      "source": [
        "list_a = [1,2,0.2,'abs'] # [] square brackets\n",
        "list_b = [2,'xyz',list_a,[1,2,0.0]]"
      ],
      "execution_count": null,
      "outputs": []
    },
    {
      "cell_type": "code",
      "metadata": {
        "colab": {
          "base_uri": "https://localhost:8080/"
        },
        "id": "5HRNr2K99z3o",
        "outputId": "c61a91d4-fa1f-41a9-a537-0180188e849d"
      },
      "source": [
        "list_a"
      ],
      "execution_count": null,
      "outputs": [
        {
          "output_type": "execute_result",
          "data": {
            "text/plain": [
              "[1, 2, 0.2, 'abs']"
            ]
          },
          "metadata": {
            "tags": []
          },
          "execution_count": 32
        }
      ]
    },
    {
      "cell_type": "code",
      "metadata": {
        "colab": {
          "base_uri": "https://localhost:8080/"
        },
        "id": "VaiTNnAW91bd",
        "outputId": "fc21ca11-4118-43c4-e800-b656478afe76"
      },
      "source": [
        "list_b"
      ],
      "execution_count": null,
      "outputs": [
        {
          "output_type": "execute_result",
          "data": {
            "text/plain": [
              "[2, 'xyz', [1, 2, 0.2, 'abs'], [1, 2, 0.0]]"
            ]
          },
          "metadata": {
            "tags": []
          },
          "execution_count": 33
        }
      ]
    },
    {
      "cell_type": "code",
      "metadata": {
        "colab": {
          "base_uri": "https://localhost:8080/"
        },
        "id": "GKEpKbmQ-Ae3",
        "outputId": "b10d2c90-5d8f-480f-cac8-618725250a0b"
      },
      "source": [
        "len(list_b)"
      ],
      "execution_count": null,
      "outputs": [
        {
          "output_type": "execute_result",
          "data": {
            "text/plain": [
              "4"
            ]
          },
          "metadata": {
            "tags": []
          },
          "execution_count": 34
        }
      ]
    },
    {
      "cell_type": "code",
      "metadata": {
        "colab": {
          "base_uri": "https://localhost:8080/"
        },
        "id": "5-dnqkR1-L8q",
        "outputId": "d3b85eb4-7afa-4c8f-a51a-b4a2a859b989"
      },
      "source": [
        "list_b[3]"
      ],
      "execution_count": null,
      "outputs": [
        {
          "output_type": "execute_result",
          "data": {
            "text/plain": [
              "[1, 2, 0.0]"
            ]
          },
          "metadata": {
            "tags": []
          },
          "execution_count": 35
        }
      ]
    },
    {
      "cell_type": "code",
      "metadata": {
        "colab": {
          "base_uri": "https://localhost:8080/"
        },
        "id": "XEO9iDuz-bLi",
        "outputId": "d5c2f36f-3deb-4d2b-80a4-de6583a099ff"
      },
      "source": [
        "list_b[3][1]"
      ],
      "execution_count": null,
      "outputs": [
        {
          "output_type": "execute_result",
          "data": {
            "text/plain": [
              "2"
            ]
          },
          "metadata": {
            "tags": []
          },
          "execution_count": 36
        }
      ]
    },
    {
      "cell_type": "markdown",
      "metadata": {
        "id": "LJl0F0Yl-1i9"
      },
      "source": [
        "string คือ list ของ ตัวหนังสือ "
      ]
    },
    {
      "cell_type": "code",
      "metadata": {
        "id": "2-_mlTu3-jsb"
      },
      "source": [
        "a = 'Stat KKU'"
      ],
      "execution_count": null,
      "outputs": []
    },
    {
      "cell_type": "code",
      "metadata": {
        "colab": {
          "base_uri": "https://localhost:8080/",
          "height": 37
        },
        "id": "ueieyud7_Cr6",
        "outputId": "3d7ed840-dc5a-4e43-fb1a-58b74717b60d"
      },
      "source": [
        "a[4]"
      ],
      "execution_count": null,
      "outputs": [
        {
          "output_type": "execute_result",
          "data": {
            "application/vnd.google.colaboratory.intrinsic+json": {
              "type": "string"
            },
            "text/plain": [
              "' '"
            ]
          },
          "metadata": {
            "tags": []
          },
          "execution_count": 38
        }
      ]
    },
    {
      "cell_type": "markdown",
      "metadata": {
        "id": "ixZib7Nn_fN2"
      },
      "source": [
        "### วิธีสร้าง list ว่าง"
      ]
    },
    {
      "cell_type": "code",
      "metadata": {
        "id": "uCN8gVP7_Jss"
      },
      "source": [
        "list_c = list() #แบบที่ 1\n",
        "list_d = [] #แบบที่ 2"
      ],
      "execution_count": null,
      "outputs": []
    },
    {
      "cell_type": "code",
      "metadata": {
        "colab": {
          "base_uri": "https://localhost:8080/"
        },
        "id": "TvkCXAkO_2B6",
        "outputId": "878a73ce-4853-4e3c-e9df-bc4d18e837dd"
      },
      "source": [
        "list_c"
      ],
      "execution_count": null,
      "outputs": [
        {
          "output_type": "execute_result",
          "data": {
            "text/plain": [
              "[]"
            ]
          },
          "metadata": {
            "tags": []
          },
          "execution_count": 40
        }
      ]
    },
    {
      "cell_type": "code",
      "metadata": {
        "colab": {
          "base_uri": "https://localhost:8080/"
        },
        "id": "VI2VPTCL_3wt",
        "outputId": "f14830bd-2215-4acf-9b09-113f5c7e0252"
      },
      "source": [
        "list_d"
      ],
      "execution_count": null,
      "outputs": [
        {
          "output_type": "execute_result",
          "data": {
            "text/plain": [
              "[]"
            ]
          },
          "metadata": {
            "tags": []
          },
          "execution_count": 41
        }
      ]
    },
    {
      "cell_type": "markdown",
      "metadata": {
        "id": "TJ-aibDAAPYx"
      },
      "source": [
        "เติมค่าลงไปใน list  (.append())"
      ]
    },
    {
      "cell_type": "code",
      "metadata": {
        "id": "T2-wDrT0_6-e"
      },
      "source": [
        "list_d.append('a')"
      ],
      "execution_count": null,
      "outputs": []
    },
    {
      "cell_type": "code",
      "metadata": {
        "colab": {
          "base_uri": "https://localhost:8080/"
        },
        "id": "JYsXI8AvAp47",
        "outputId": "08821926-9095-45e1-fb4e-234821f476a8"
      },
      "source": [
        "list_d"
      ],
      "execution_count": null,
      "outputs": [
        {
          "output_type": "execute_result",
          "data": {
            "text/plain": [
              "['a']"
            ]
          },
          "metadata": {
            "tags": []
          },
          "execution_count": 43
        }
      ]
    },
    {
      "cell_type": "code",
      "metadata": {
        "id": "xgLwyXzTAriW"
      },
      "source": [
        "list_d.append(56)"
      ],
      "execution_count": null,
      "outputs": []
    },
    {
      "cell_type": "code",
      "metadata": {
        "colab": {
          "base_uri": "https://localhost:8080/"
        },
        "id": "ydve18SGAxQf",
        "outputId": "c7f3d5ca-8cce-4880-d2a5-225013010476"
      },
      "source": [
        "list_d"
      ],
      "execution_count": null,
      "outputs": [
        {
          "output_type": "execute_result",
          "data": {
            "text/plain": [
              "['a', 56]"
            ]
          },
          "metadata": {
            "tags": []
          },
          "execution_count": 45
        }
      ]
    },
    {
      "cell_type": "markdown",
      "metadata": {
        "id": "MPzxoHYFBCnS"
      },
      "source": [
        "#### การชี้ค่าใน list (indexing)\n",
        "\n",
        "\n",
        "1.   ใช้ลำดับในการชี้\n",
        "2.   ลำดับเริ่มจาก 0\n",
        "3.   สามารถชี้จากข้างหลังได้โดยใช้ negative index\n",
        "\n"
      ]
    },
    {
      "cell_type": "code",
      "metadata": {
        "colab": {
          "base_uri": "https://localhost:8080/"
        },
        "id": "thH_4JQCAy7h",
        "outputId": "38f4266e-9da3-40ce-89df-af1dfb741b16"
      },
      "source": [
        "list_b"
      ],
      "execution_count": null,
      "outputs": [
        {
          "output_type": "execute_result",
          "data": {
            "text/plain": [
              "[2, 'xyz', [1, 2, 0.2, 'abs'], [1, 2, 0.0]]"
            ]
          },
          "metadata": {
            "tags": []
          },
          "execution_count": 46
        }
      ]
    },
    {
      "cell_type": "code",
      "metadata": {
        "colab": {
          "base_uri": "https://localhost:8080/"
        },
        "id": "8EXlEPKRBaaW",
        "outputId": "5dfa4bcc-743f-415b-f2a1-5c27340a5752"
      },
      "source": [
        "list_b[-1]"
      ],
      "execution_count": null,
      "outputs": [
        {
          "output_type": "execute_result",
          "data": {
            "text/plain": [
              "[1, 2, 0.0]"
            ]
          },
          "metadata": {
            "tags": []
          },
          "execution_count": 47
        }
      ]
    },
    {
      "cell_type": "markdown",
      "metadata": {
        "id": "qiVG5afcCG4g"
      },
      "source": [
        "### list slicing"
      ]
    },
    {
      "cell_type": "code",
      "metadata": {
        "id": "U7lsBVgABezX"
      },
      "source": [
        "list_ex = [1,2,3,5,6,8,-1,20,50,0]"
      ],
      "execution_count": null,
      "outputs": []
    },
    {
      "cell_type": "markdown",
      "metadata": {
        "id": "rOXcoDvTC28r"
      },
      "source": [
        "เราจะตัดlist โดยเอาตั้งแต่ [ตัวหน้า:ตัวก่อนตัวหลัง]   \n",
        "ถ้าเป็นสัญลักษณ์คณิตศาสตร์ [ตัวหน้า:ตัวหลัง] -> [ตัวหน้า,ตัวหลัง)"
      ]
    },
    {
      "cell_type": "code",
      "metadata": {
        "colab": {
          "base_uri": "https://localhost:8080/"
        },
        "id": "agAPyJMACXBg",
        "outputId": "e6e456bf-2d54-4ee7-e094-df3dc54dd341"
      },
      "source": [
        "list_ex[1:6] "
      ],
      "execution_count": null,
      "outputs": [
        {
          "output_type": "execute_result",
          "data": {
            "text/plain": [
              "[2, 3, 5, 6, 8]"
            ]
          },
          "metadata": {
            "tags": []
          },
          "execution_count": 49
        }
      ]
    },
    {
      "cell_type": "code",
      "metadata": {
        "colab": {
          "base_uri": "https://localhost:8080/"
        },
        "id": "c3G9seawCjBJ",
        "outputId": "6c93ff93-9bda-4ce0-d5d4-aa2144116558"
      },
      "source": [
        "list_ex[4:] "
      ],
      "execution_count": null,
      "outputs": [
        {
          "output_type": "execute_result",
          "data": {
            "text/plain": [
              "[6, 8, -1, 20, 50, 0]"
            ]
          },
          "metadata": {
            "tags": []
          },
          "execution_count": 50
        }
      ]
    },
    {
      "cell_type": "code",
      "metadata": {
        "colab": {
          "base_uri": "https://localhost:8080/"
        },
        "id": "_DwVtjSQDagc",
        "outputId": "3c2a7cbc-a4f0-437d-d5b6-24d41d930d53"
      },
      "source": [
        "list_ex[:6] "
      ],
      "execution_count": null,
      "outputs": [
        {
          "output_type": "execute_result",
          "data": {
            "text/plain": [
              "[1, 2, 3, 5, 6, 8]"
            ]
          },
          "metadata": {
            "tags": []
          },
          "execution_count": 51
        }
      ]
    },
    {
      "cell_type": "markdown",
      "metadata": {
        "id": "WCUd4iNHEF_L"
      },
      "source": [
        "[จุดเริ่มต้น:จุดสุดท้าย:step]"
      ]
    },
    {
      "cell_type": "code",
      "metadata": {
        "colab": {
          "base_uri": "https://localhost:8080/"
        },
        "id": "bk4AGs7_ETGV",
        "outputId": "4f374855-14f8-44f1-b87a-093c77c0f679"
      },
      "source": [
        "list_ex"
      ],
      "execution_count": null,
      "outputs": [
        {
          "output_type": "execute_result",
          "data": {
            "text/plain": [
              "[1, 2, 3, 5, 6, 8, -1, 20, 50, 0]"
            ]
          },
          "metadata": {
            "tags": []
          },
          "execution_count": 52
        }
      ]
    },
    {
      "cell_type": "code",
      "metadata": {
        "colab": {
          "base_uri": "https://localhost:8080/"
        },
        "id": "_1otmso3Diip",
        "outputId": "9e7d2758-29c3-4702-dc27-32b141c78fc9"
      },
      "source": [
        "list_ex[::2] "
      ],
      "execution_count": null,
      "outputs": [
        {
          "output_type": "execute_result",
          "data": {
            "text/plain": [
              "[1, 3, 6, -1, 50]"
            ]
          },
          "metadata": {
            "tags": []
          },
          "execution_count": 53
        }
      ]
    },
    {
      "cell_type": "code",
      "metadata": {
        "colab": {
          "base_uri": "https://localhost:8080/"
        },
        "id": "sxTyJxDBD-Tc",
        "outputId": "7d9f6d45-a968-4ad6-f850-2c0dc19c3777"
      },
      "source": [
        "list_ex[::-1]  # การกลับ list"
      ],
      "execution_count": null,
      "outputs": [
        {
          "output_type": "execute_result",
          "data": {
            "text/plain": [
              "[0, 50, 20, -1, 8, 6, 5, 3, 2, 1]"
            ]
          },
          "metadata": {
            "tags": []
          },
          "execution_count": 54
        }
      ]
    },
    {
      "cell_type": "code",
      "metadata": {
        "colab": {
          "base_uri": "https://localhost:8080/",
          "height": 37
        },
        "id": "SWVAUgx1ElZr",
        "outputId": "f3a13545-d7b1-407d-a602-ab25044af85a"
      },
      "source": [
        "a"
      ],
      "execution_count": null,
      "outputs": [
        {
          "output_type": "execute_result",
          "data": {
            "application/vnd.google.colaboratory.intrinsic+json": {
              "type": "string"
            },
            "text/plain": [
              "'Stat KKU'"
            ]
          },
          "metadata": {
            "tags": []
          },
          "execution_count": 55
        }
      ]
    },
    {
      "cell_type": "code",
      "metadata": {
        "colab": {
          "base_uri": "https://localhost:8080/",
          "height": 37
        },
        "id": "ms88GDeOE4eg",
        "outputId": "c3e2c781-7797-47b0-c3f6-88e315ddcc90"
      },
      "source": [
        "a[5:]"
      ],
      "execution_count": null,
      "outputs": [
        {
          "output_type": "execute_result",
          "data": {
            "application/vnd.google.colaboratory.intrinsic+json": {
              "type": "string"
            },
            "text/plain": [
              "'KKU'"
            ]
          },
          "metadata": {
            "tags": []
          },
          "execution_count": 56
        }
      ]
    },
    {
      "cell_type": "code",
      "metadata": {
        "colab": {
          "base_uri": "https://localhost:8080/",
          "height": 37
        },
        "id": "iW48XdaKFrNh",
        "outputId": "efc46e7f-2cba-4b5e-f889-881adfb7ce15"
      },
      "source": [
        "a[-3:]"
      ],
      "execution_count": null,
      "outputs": [
        {
          "output_type": "execute_result",
          "data": {
            "application/vnd.google.colaboratory.intrinsic+json": {
              "type": "string"
            },
            "text/plain": [
              "'KKU'"
            ]
          },
          "metadata": {
            "tags": []
          },
          "execution_count": 57
        }
      ]
    },
    {
      "cell_type": "code",
      "metadata": {
        "colab": {
          "base_uri": "https://localhost:8080/",
          "height": 37
        },
        "id": "mnAkJ4FlFx8x",
        "outputId": "6d4a0cb6-2a1f-487c-af3f-81204efb70a7"
      },
      "source": [
        "a[5:8]"
      ],
      "execution_count": null,
      "outputs": [
        {
          "output_type": "execute_result",
          "data": {
            "application/vnd.google.colaboratory.intrinsic+json": {
              "type": "string"
            },
            "text/plain": [
              "'KKU'"
            ]
          },
          "metadata": {
            "tags": []
          },
          "execution_count": 58
        }
      ]
    },
    {
      "cell_type": "code",
      "metadata": {
        "colab": {
          "base_uri": "https://localhost:8080/",
          "height": 37
        },
        "id": "4IWJp-HhF4bB",
        "outputId": "b1ef6802-ab5e-4d0b-b232-c5a5706bfdd7"
      },
      "source": [
        "a[5::]"
      ],
      "execution_count": null,
      "outputs": [
        {
          "output_type": "execute_result",
          "data": {
            "application/vnd.google.colaboratory.intrinsic+json": {
              "type": "string"
            },
            "text/plain": [
              "'KKU'"
            ]
          },
          "metadata": {
            "tags": []
          },
          "execution_count": 59
        }
      ]
    },
    {
      "cell_type": "code",
      "metadata": {
        "colab": {
          "base_uri": "https://localhost:8080/",
          "height": 37
        },
        "id": "zNnAqdidGHAH",
        "outputId": "5b59dce6-c0b0-4b23-8422-1c1c15c6d818"
      },
      "source": [
        "a[-3::]"
      ],
      "execution_count": null,
      "outputs": [
        {
          "output_type": "execute_result",
          "data": {
            "application/vnd.google.colaboratory.intrinsic+json": {
              "type": "string"
            },
            "text/plain": [
              "'KKU'"
            ]
          },
          "metadata": {
            "tags": []
          },
          "execution_count": 60
        }
      ]
    },
    {
      "cell_type": "code",
      "metadata": {
        "colab": {
          "base_uri": "https://localhost:8080/",
          "height": 37
        },
        "id": "vnNn2a1TGVr7",
        "outputId": "c0584ad4-701a-43fa-b883-46239a355e07"
      },
      "source": [
        "a[-3::1]"
      ],
      "execution_count": null,
      "outputs": [
        {
          "output_type": "execute_result",
          "data": {
            "application/vnd.google.colaboratory.intrinsic+json": {
              "type": "string"
            },
            "text/plain": [
              "'KKU'"
            ]
          },
          "metadata": {
            "tags": []
          },
          "execution_count": 61
        }
      ]
    },
    {
      "cell_type": "markdown",
      "metadata": {
        "id": "qlQbTjrZGoU6"
      },
      "source": [
        "### list + list"
      ]
    },
    {
      "cell_type": "code",
      "metadata": {
        "colab": {
          "base_uri": "https://localhost:8080/"
        },
        "id": "wwwDzaU-GmoG",
        "outputId": "05486cc1-3bc6-48f1-cb7c-1280814e3bf3"
      },
      "source": [
        "print(list_a)\n",
        "print(list_b)"
      ],
      "execution_count": null,
      "outputs": [
        {
          "output_type": "stream",
          "text": [
            "[1, 2, 0.2, 'abs']\n",
            "[2, 'xyz', [1, 2, 0.2, 'abs'], [1, 2, 0.0]]\n"
          ],
          "name": "stdout"
        }
      ]
    },
    {
      "cell_type": "code",
      "metadata": {
        "colab": {
          "base_uri": "https://localhost:8080/"
        },
        "id": "j0e9NVC0GbuK",
        "outputId": "a20a4059-77ab-43bc-860e-596adbd7f003"
      },
      "source": [
        "list_a + list_b"
      ],
      "execution_count": null,
      "outputs": [
        {
          "output_type": "execute_result",
          "data": {
            "text/plain": [
              "[1, 2, 0.2, 'abs', 2, 'xyz', [1, 2, 0.2, 'abs'], [1, 2, 0.0]]"
            ]
          },
          "metadata": {
            "tags": []
          },
          "execution_count": 63
        }
      ]
    },
    {
      "cell_type": "markdown",
      "metadata": {
        "id": "j0QW9Dw0LLR7"
      },
      "source": [
        "format string"
      ]
    },
    {
      "cell_type": "markdown",
      "metadata": {
        "id": "oYMLyO80Lth1"
      },
      "source": [
        "```python\n",
        "f'string{ตัวแปร}' \n",
        "```\n",
        "{} เรียกว่า curly brackets"
      ]
    },
    {
      "cell_type": "code",
      "metadata": {
        "colab": {
          "base_uri": "https://localhost:8080/",
          "height": 37
        },
        "id": "PwyWr2O1LQRw",
        "outputId": "49c258c5-10c8-4fc0-a4c5-3c9e6196acd9"
      },
      "source": [
        "f'ตัวแปร list_a มีค่าคือ {list_a}'"
      ],
      "execution_count": null,
      "outputs": [
        {
          "output_type": "execute_result",
          "data": {
            "application/vnd.google.colaboratory.intrinsic+json": {
              "type": "string"
            },
            "text/plain": [
              "\"ตัวแปร list_a มีค่าคือ [1, 2, 0.2, 'abs']\""
            ]
          },
          "metadata": {
            "tags": []
          },
          "execution_count": 64
        }
      ]
    },
    {
      "cell_type": "markdown",
      "metadata": {
        "id": "6vR0evYhHXVl"
      },
      "source": [
        "## Loop\n",
        "\n",
        "ทำงานซ้ำๆ หรือ ทำงานคล้ายๆกัน"
      ]
    },
    {
      "cell_type": "markdown",
      "metadata": {
        "id": "rnUZEmRyKVKZ"
      },
      "source": [
        "indent\n",
        "```python\n",
        "for ตัวแปรที่จะรับค่าจากลิสต์ in ลิสต์ที่จะนำมาวนลูป:\n",
        "    do something #in loop\n",
        "    do another thing #in loop\n",
        "\n",
        "do other things#out side loop\n",
        "\n",
        "```"
      ]
    },
    {
      "cell_type": "code",
      "metadata": {
        "colab": {
          "base_uri": "https://localhost:8080/"
        },
        "id": "suYJJjrKJjo0",
        "outputId": "17b2cfa0-e908-4d40-e84f-08deab5b9862"
      },
      "source": [
        "for i in [1,2,3,4,5]:\n",
        "    print(i+1)    "
      ],
      "execution_count": 1,
      "outputs": [
        {
          "output_type": "stream",
          "text": [
            "2\n",
            "3\n",
            "4\n",
            "5\n",
            "6\n"
          ],
          "name": "stdout"
        }
      ]
    },
    {
      "cell_type": "code",
      "metadata": {
        "colab": {
          "base_uri": "https://localhost:8080/"
        },
        "id": "VMHv-XV9MTuP",
        "outputId": "641b636a-8203-446b-d964-beee64298594"
      },
      "source": [
        "for x in [1,2,3,4,5]:\n",
        "    print(f'ค่าตัวแปร x คือ {x} และ x+2={x+2}')"
      ],
      "execution_count": 2,
      "outputs": [
        {
          "output_type": "stream",
          "text": [
            "ค่าตัวแปร x คือ 1 และ x+2=3\n",
            "ค่าตัวแปร x คือ 2 และ x+2=4\n",
            "ค่าตัวแปร x คือ 3 และ x+2=5\n",
            "ค่าตัวแปร x คือ 4 และ x+2=6\n",
            "ค่าตัวแปร x คือ 5 และ x+2=7\n"
          ],
          "name": "stdout"
        }
      ]
    },
    {
      "cell_type": "code",
      "metadata": {
        "colab": {
          "base_uri": "https://localhost:8080/"
        },
        "id": "cwffpb_vMxzw",
        "outputId": "8e07e12d-5aa7-4c97-a6bb-4879073bbedf"
      },
      "source": [
        "list5=[1,2,3,4,5]\n",
        "for x in list5:\n",
        "    print(f'ค่าตัวแปร x คือ {x} และ x+2={x+2}')"
      ],
      "execution_count": 3,
      "outputs": [
        {
          "output_type": "stream",
          "text": [
            "ค่าตัวแปร x คือ 1 และ x+2=3\n",
            "ค่าตัวแปร x คือ 2 และ x+2=4\n",
            "ค่าตัวแปร x คือ 3 และ x+2=5\n",
            "ค่าตัวแปร x คือ 4 และ x+2=6\n",
            "ค่าตัวแปร x คือ 5 และ x+2=7\n"
          ],
          "name": "stdout"
        }
      ]
    },
    {
      "cell_type": "code",
      "metadata": {
        "colab": {
          "base_uri": "https://localhost:8080/"
        },
        "id": "lb9857KUMxTo",
        "outputId": "1b9da234-6172-4816-ec6d-e7870befa158"
      },
      "source": [
        "list(range(10))"
      ],
      "execution_count": 4,
      "outputs": [
        {
          "output_type": "execute_result",
          "data": {
            "text/plain": [
              "[0, 1, 2, 3, 4, 5, 6, 7, 8, 9]"
            ]
          },
          "metadata": {
            "tags": []
          },
          "execution_count": 4
        }
      ]
    },
    {
      "cell_type": "code",
      "metadata": {
        "colab": {
          "base_uri": "https://localhost:8080/"
        },
        "id": "2dmTCBTcNR9m",
        "outputId": "ae9728ee-c110-4bbd-8601-1bcb7ca47997"
      },
      "source": [
        "for i in range(2,7):\n",
        "    print(i)"
      ],
      "execution_count": 5,
      "outputs": [
        {
          "output_type": "stream",
          "text": [
            "2\n",
            "3\n",
            "4\n",
            "5\n",
            "6\n"
          ],
          "name": "stdout"
        }
      ]
    },
    {
      "cell_type": "code",
      "metadata": {
        "colab": {
          "base_uri": "https://localhost:8080/"
        },
        "id": "mi7nnoJaN0VA",
        "outputId": "bc4f8b48-ead4-47ad-a9e6-892cd02e39b0"
      },
      "source": [
        "for i in range(2,7,2):\n",
        "    print(i)"
      ],
      "execution_count": 6,
      "outputs": [
        {
          "output_type": "stream",
          "text": [
            "2\n",
            "4\n",
            "6\n"
          ],
          "name": "stdout"
        }
      ]
    },
    {
      "cell_type": "code",
      "metadata": {
        "colab": {
          "base_uri": "https://localhost:8080/"
        },
        "id": "zOykZGgHOPQp",
        "outputId": "8d61d8fb-95f1-4d9a-fc94-406da6d4fe65"
      },
      "source": [
        "for i in range(5):\n",
        "    print('hahaha')"
      ],
      "execution_count": 7,
      "outputs": [
        {
          "output_type": "stream",
          "text": [
            "hahaha\n",
            "hahaha\n",
            "hahaha\n",
            "hahaha\n",
            "hahaha\n"
          ],
          "name": "stdout"
        }
      ]
    },
    {
      "cell_type": "code",
      "metadata": {
        "colab": {
          "base_uri": "https://localhost:8080/"
        },
        "id": "bZqefgBNOd4E",
        "outputId": "85f93219-0657-4642-f051-19b2f44cfaed"
      },
      "source": [
        "for i in range(5):\n",
        "    print('hahaha')\n",
        "    x = i + 3\n",
        "    print(f'i={i} x={x}')"
      ],
      "execution_count": 8,
      "outputs": [
        {
          "output_type": "stream",
          "text": [
            "hahaha\n",
            "i=0 x=3\n",
            "hahaha\n",
            "i=1 x=4\n",
            "hahaha\n",
            "i=2 x=5\n",
            "hahaha\n",
            "i=3 x=6\n",
            "hahaha\n",
            "i=4 x=7\n"
          ],
          "name": "stdout"
        }
      ]
    },
    {
      "cell_type": "markdown",
      "metadata": {
        "id": "EoCBpaI3PBFM"
      },
      "source": [
        "### Nested loop"
      ]
    },
    {
      "cell_type": "code",
      "metadata": {
        "colab": {
          "base_uri": "https://localhost:8080/"
        },
        "id": "dHJHUdmTO_5s",
        "outputId": "e9bc6ec6-053d-45e7-d04e-e91b0110f778"
      },
      "source": [
        "for i in range(3):\n",
        "    print(f'now i = {i}')\n",
        "    print('start j loop')\n",
        "    for j in range(4):\n",
        "        print(f'i = {i} j = {j} i+j = {i+j}')\n",
        "    print('end j loop')"
      ],
      "execution_count": 9,
      "outputs": [
        {
          "output_type": "stream",
          "text": [
            "now i = 0\n",
            "start j loop\n",
            "i = 0 j = 0 i+j = 0\n",
            "i = 0 j = 1 i+j = 1\n",
            "i = 0 j = 2 i+j = 2\n",
            "i = 0 j = 3 i+j = 3\n",
            "end j loop\n",
            "now i = 1\n",
            "start j loop\n",
            "i = 1 j = 0 i+j = 1\n",
            "i = 1 j = 1 i+j = 2\n",
            "i = 1 j = 2 i+j = 3\n",
            "i = 1 j = 3 i+j = 4\n",
            "end j loop\n",
            "now i = 2\n",
            "start j loop\n",
            "i = 2 j = 0 i+j = 2\n",
            "i = 2 j = 1 i+j = 3\n",
            "i = 2 j = 2 i+j = 4\n",
            "i = 2 j = 3 i+j = 5\n",
            "end j loop\n"
          ],
          "name": "stdout"
        }
      ]
    },
    {
      "cell_type": "markdown",
      "metadata": {
        "id": "fR_LmCc7Had-"
      },
      "source": [
        "## Condition (if statement)"
      ]
    },
    {
      "cell_type": "markdown",
      "metadata": {
        "id": "YYoDkV6bFYhd"
      },
      "source": [
        "```python\n",
        "if เงื่อนไขที่จะตรวจสอบ (โดยใช้สัญลักษณ์ ==,!=,<,>,<=,>=):\n",
        "    ถ้าเงื่อนไขเป็นจริง ทำงาน 1\n",
        "    ถ้าเงื่อนไขเป็นจริง ทำงาน 2\n",
        "```"
      ]
    },
    {
      "cell_type": "code",
      "metadata": {
        "colab": {
          "base_uri": "https://localhost:8080/"
        },
        "id": "8xZcZsyIFTTf",
        "outputId": "2e674b96-c4c9-43da-d0dc-6e2ccf0a1560"
      },
      "source": [
        "stringx = 'sadfasdfsadfweirjwersdfspadofgj'\n",
        "\n",
        "if len(stringx) > 30:\n",
        "    print(f'{stringx} is longer than 30 characters')"
      ],
      "execution_count": 10,
      "outputs": [
        {
          "output_type": "stream",
          "text": [
            "sadfasdfsadfweirjwersdfspadofgj is longer than 30 characters\n"
          ],
          "name": "stdout"
        }
      ]
    },
    {
      "cell_type": "code",
      "metadata": {
        "id": "pQJ9KBo4G1qs"
      },
      "source": [
        "stringx = 'sadfasdfsadfweirjwersdfspadofgj'\n",
        "\n",
        "if len(stringx) > 100:\n",
        "    print(f'{stringx} is longer than 30 characters')"
      ],
      "execution_count": 11,
      "outputs": []
    },
    {
      "cell_type": "markdown",
      "metadata": {
        "id": "Lha5s0-xHbkK"
      },
      "source": [
        "```python\n",
        "if เงื่อนไขที่จะตรวจสอบ (โดยใช้สัญลักษณ์ ==,!=,<,>,<=,>=):\n",
        "    ถ้าเงื่อนไขเป็นจริง ทำงานที่ 1\n",
        "    ถ้าเงื่อนไขเป็นจริง ทำงานที่ 2\n",
        "else: #ตรวจสอบเงื่อนไขข้างบนแล้วไม่เป็นจริง\n",
        "    ทำงานที่ X\n",
        "```"
      ]
    },
    {
      "cell_type": "code",
      "metadata": {
        "colab": {
          "base_uri": "https://localhost:8080/"
        },
        "id": "Us8fzuMwH1fT",
        "outputId": "cf12bc77-94d6-43f1-968c-62823a264c54"
      },
      "source": [
        "stringx = 'sadfasdfsadfweirjwersdfspadofgj'\n",
        "\n",
        "if len(stringx) > 100:\n",
        "    print(f'{stringx} is longer than 30 characters')\n",
        "else:\n",
        "    print(f'{stringx} in {len(stringx)} characters long')"
      ],
      "execution_count": 12,
      "outputs": [
        {
          "output_type": "stream",
          "text": [
            "sadfasdfsadfweirjwersdfspadofgj in 31 characters long\n"
          ],
          "name": "stdout"
        }
      ]
    },
    {
      "cell_type": "markdown",
      "metadata": {
        "id": "dGZrM378HbSc"
      },
      "source": [
        "```python\n",
        "if เงื่อนไขที่จะตรวจสอบ (โดยใช้สัญลักษณ์ ==,!=,<,>,<=,>=):\n",
        "    ถ้าเงื่อนไขเป็นจริง ทำงานที่ 1\n",
        "    ถ้าเงื่อนไขเป็นจริง ทำงานที่ 2\n",
        "elif เงื่อนไขที่จะตรวจสอบต่อไปถ้าเงื่อนไขข้างบนไม่เป็นจริง:\n",
        "    ถ้าเงื่อนไขเป็นจริง ทำงานที่ a1\n",
        "    ถ้าเงื่อนไขเป็นจริง ทำงานที่ a2\n",
        "elif เงื่อนไขที่จะตรวจสอบต่อไปถ้าเงื่อนไขข้างบนไม่เป็นจริง:\n",
        "    ถ้าเงื่อนไขเป็นจริง ทำงานที่ b1\n",
        "    ถ้าเงื่อนไขเป็นจริง ทำงานที่ b2\n",
        "else: #ตรวจสอบเงื่อนไขข้างบนแล้วไม่เป็นจริง\n",
        "    ทำงานที่ X\n",
        "```"
      ]
    },
    {
      "cell_type": "code",
      "metadata": {
        "colab": {
          "base_uri": "https://localhost:8080/"
        },
        "id": "LCXpMs5OLCat",
        "outputId": "e39c327d-61be-4963-c13d-106af39464ce"
      },
      "source": [
        "password = '12345'\n",
        "\n",
        "input_pass = '123sf'\n",
        "if input_pass == password:\n",
        "    print('Welcome!')\n",
        "elif len(input_pass) > len(password):\n",
        "    print('Too long, try again!')\n",
        "elif len(input_pass) < len(password):\n",
        "    print('Too short, try again!')\n",
        "else:\n",
        "    print('Wrong password, try again!')"
      ],
      "execution_count": 13,
      "outputs": [
        {
          "output_type": "stream",
          "text": [
            "Wrong password, try again!\n"
          ],
          "name": "stdout"
        }
      ]
    },
    {
      "cell_type": "markdown",
      "metadata": {
        "id": "FcrJn2fEK5Rl"
      },
      "source": [
        "Quiz 1 หา min"
      ]
    },
    {
      "cell_type": "code",
      "metadata": {
        "id": "a88owYTTNfNI"
      },
      "source": [
        "list_ex = [1,5,9,-19,-2,0] #หาค่าน้อยที่สุดใน list_ex โดยไม่ใช้ function min (commit ก่อน 10:30 :Quiz1)"
      ],
      "execution_count": 14,
      "outputs": []
    },
    {
      "cell_type": "code",
      "metadata": {
        "colab": {
          "base_uri": "https://localhost:8080/"
        },
        "id": "d9ARvDLaQKU1",
        "outputId": "2f7ff7a4-d704-4289-cc98-05dc638f9f50"
      },
      "source": [
        "min = 100000000\n",
        "\n",
        "for i in list_ex:\n",
        "    if i < min:\n",
        "        min = i\n",
        "\n",
        "print(min)"
      ],
      "execution_count": 15,
      "outputs": [
        {
          "output_type": "stream",
          "text": [
            "-19\n"
          ],
          "name": "stdout"
        }
      ]
    },
    {
      "cell_type": "code",
      "metadata": {
        "colab": {
          "base_uri": "https://localhost:8080/"
        },
        "id": "j4fFf6jvTee5",
        "outputId": "1df383eb-26a3-4d21-b2df-7b675d527aea"
      },
      "source": [
        "min = 100000000\n",
        "print(list_ex)\n",
        "for i in list_ex:\n",
        "    print(f'now i = {i}, min = {min}')\n",
        "    print('start condition')\n",
        "    if i < min:\n",
        "        print(f'i < min, update min -> {i}')\n",
        "        min = i\n",
        "    else:\n",
        "        print('i >= min, not update')\n",
        "    print('end condition, go to next i')\n",
        "\n",
        "print(min)"
      ],
      "execution_count": 16,
      "outputs": [
        {
          "output_type": "stream",
          "text": [
            "[1, 5, 9, -19, -2, 0]\n",
            "now i = 1, min = 100000000\n",
            "start condition\n",
            "i < min, update min -> 1\n",
            "end condition, go to next i\n",
            "now i = 5, min = 1\n",
            "start condition\n",
            "i >= min, not update\n",
            "end condition, go to next i\n",
            "now i = 9, min = 1\n",
            "start condition\n",
            "i >= min, not update\n",
            "end condition, go to next i\n",
            "now i = -19, min = 1\n",
            "start condition\n",
            "i < min, update min -> -19\n",
            "end condition, go to next i\n",
            "now i = -2, min = -19\n",
            "start condition\n",
            "i >= min, not update\n",
            "end condition, go to next i\n",
            "now i = 0, min = -19\n",
            "start condition\n",
            "i >= min, not update\n",
            "end condition, go to next i\n",
            "-19\n"
          ],
          "name": "stdout"
        }
      ]
    },
    {
      "cell_type": "markdown",
      "metadata": {
        "id": "2KHh99ehK4zC"
      },
      "source": [
        "HW3 ตัดเกรด"
      ]
    },
    {
      "cell_type": "code",
      "metadata": {
        "id": "ZYIYYVJ4QK-W"
      },
      "source": [
        "score = [49,65,70,95,82,55,89,20,77,77,81,59,10] #ตัดเกรด คะแนนใน list score (ใช้ if กับ for)"
      ],
      "execution_count": 17,
      "outputs": []
    },
    {
      "cell_type": "markdown",
      "metadata": {
        "id": "zTwmkLqRFWpR"
      },
      "source": [
        "## Function\n",
        "\n",
        "\n",
        "```python\n",
        "def ชื่อฟังก์ชั่น(input1,input2,....):\n",
        "    งานxxx\n",
        "    งานyyy\n",
        "    return output\n",
        "```\n",
        "\n",
        "\n",
        "ส่วนประกอบสำคัญ\n",
        "*   input\n",
        "*   process (ไม่มีไม่ได้)\n",
        "*   output\n",
        "\n",
        "![Screen Shot 2564-07-27 at 09.25.49.png](data:image/png;base64,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)\n"
      ]
    },
    {
      "cell_type": "markdown",
      "metadata": {
        "id": "EWx6hWEYyxIy"
      },
      "source": [
        "#### Example1"
      ]
    },
    {
      "cell_type": "code",
      "metadata": {
        "id": "TEdgrQ7Xywv-"
      },
      "source": [
        "def grading(score):\n",
        "    if score >= 80:\n",
        "        grade = 'A'\n",
        "    elif score >= 75:\n",
        "        grade = 'B+'\n",
        "    elif score >= 70:\n",
        "        grade = 'B'\n",
        "    elif score >= 65:\n",
        "        grade = 'C+'\n",
        "    elif score >= 60:\n",
        "        grade = 'C'\n",
        "    elif score >= 55:\n",
        "        grade = 'D+'\n",
        "    elif score >= 50:\n",
        "        grade = 'D'\n",
        "    else:\n",
        "        grade = 'F'\n",
        "\n",
        "    return grade"
      ],
      "execution_count": 19,
      "outputs": []
    },
    {
      "cell_type": "code",
      "metadata": {
        "id": "fD6_rJQ-HF57",
        "colab": {
          "base_uri": "https://localhost:8080/"
        },
        "outputId": "7ff4c892-fad4-4232-aef7-983eab540c81"
      },
      "source": [
        "score = [49,65,70,95,82,55,89,20,77,77,81,59,10]\n",
        "for i in score:\n",
        "    print(f'คะแนน {i} ได้เกรด {grading(i)}')"
      ],
      "execution_count": 22,
      "outputs": [
        {
          "output_type": "stream",
          "text": [
            "คะแนน 49 ได้เกรด F\n",
            "คะแนน 65 ได้เกรด C+\n",
            "คะแนน 70 ได้เกรด B\n",
            "คะแนน 95 ได้เกรด A\n",
            "คะแนน 82 ได้เกรด A\n",
            "คะแนน 55 ได้เกรด D+\n",
            "คะแนน 89 ได้เกรด A\n",
            "คะแนน 20 ได้เกรด F\n",
            "คะแนน 77 ได้เกรด B+\n",
            "คะแนน 77 ได้เกรด B+\n",
            "คะแนน 81 ได้เกรด A\n",
            "คะแนน 59 ได้เกรด D+\n",
            "คะแนน 10 ได้เกรด F\n"
          ],
          "name": "stdout"
        }
      ]
    },
    {
      "cell_type": "code",
      "metadata": {
        "id": "mr1IMCJe2mq5"
      },
      "source": [
        "def grading_list(list_score):\n",
        "    grade_list = []\n",
        "    for score in list_score:\n",
        "        if score >= 80:\n",
        "            grade = 'A'\n",
        "        elif score >= 75:\n",
        "            grade = 'B+'\n",
        "        elif score >= 70:\n",
        "            grade = 'B'\n",
        "        elif score >= 65:\n",
        "            grade = 'C+'\n",
        "        elif score >= 60:\n",
        "            grade = 'C'\n",
        "        elif score >= 55:\n",
        "            grade = 'D+'\n",
        "        elif score >= 50:\n",
        "            grade = 'D'\n",
        "        else:\n",
        "            grade = 'F'\n",
        "        grade_list.append([score,grade])\n",
        "    return grade_list"
      ],
      "execution_count": 27,
      "outputs": []
    },
    {
      "cell_type": "code",
      "metadata": {
        "colab": {
          "base_uri": "https://localhost:8080/"
        },
        "id": "FemuRcmL0wSg",
        "outputId": "bfe9f2d7-2841-4772-fbdd-48dcaa4576fe"
      },
      "source": [
        "g = grading_list(score)\n",
        "g"
      ],
      "execution_count": 28,
      "outputs": [
        {
          "output_type": "execute_result",
          "data": {
            "text/plain": [
              "[[49, 'F'],\n",
              " [65, 'C+'],\n",
              " [70, 'B'],\n",
              " [95, 'A'],\n",
              " [82, 'A'],\n",
              " [55, 'D+'],\n",
              " [89, 'A'],\n",
              " [20, 'F'],\n",
              " [77, 'B+'],\n",
              " [77, 'B+'],\n",
              " [81, 'A'],\n",
              " [59, 'D+'],\n",
              " [10, 'F']]"
            ]
          },
          "metadata": {
            "tags": []
          },
          "execution_count": 28
        }
      ]
    },
    {
      "cell_type": "code",
      "metadata": {
        "colab": {
          "base_uri": "https://localhost:8080/"
        },
        "id": "r_UweNWv3Jmt",
        "outputId": "6c544c31-3deb-4e2a-dbee-a7e9ea6f3c14"
      },
      "source": [
        "for i in g:\n",
        "    print(f'คะแนน {i[0]} ได้เกรด {i[1]}')"
      ],
      "execution_count": 29,
      "outputs": [
        {
          "output_type": "stream",
          "text": [
            "คะแนน 49 ได้เกรด F\n",
            "คะแนน 65 ได้เกรด C+\n",
            "คะแนน 70 ได้เกรด B\n",
            "คะแนน 95 ได้เกรด A\n",
            "คะแนน 82 ได้เกรด A\n",
            "คะแนน 55 ได้เกรด D+\n",
            "คะแนน 89 ได้เกรด A\n",
            "คะแนน 20 ได้เกรด F\n",
            "คะแนน 77 ได้เกรด B+\n",
            "คะแนน 77 ได้เกรด B+\n",
            "คะแนน 81 ได้เกรด A\n",
            "คะแนน 59 ได้เกรด D+\n",
            "คะแนน 10 ได้เกรด F\n"
          ],
          "name": "stdout"
        }
      ]
    },
    {
      "cell_type": "code",
      "metadata": {
        "id": "D7FW8tEk5RBV"
      },
      "source": [
        "def grading2(score):\n",
        "    if score >= 80:\n",
        "        return 'A'\n",
        "    elif score >= 75:\n",
        "        return 'B+'\n",
        "    elif score >= 70:\n",
        "        return 'B'\n",
        "    elif score >= 65:\n",
        "        return 'C+'\n",
        "    elif score >= 60:\n",
        "        return 'C'\n",
        "    elif score >= 55:\n",
        "        return 'D+'\n",
        "    elif score >= 50:\n",
        "        return 'D'\n",
        "    else:\n",
        "        return 'F'\n"
      ],
      "execution_count": 30,
      "outputs": []
    },
    {
      "cell_type": "code",
      "metadata": {
        "colab": {
          "base_uri": "https://localhost:8080/"
        },
        "id": "AOpwn7Gv7aeP",
        "outputId": "30cb7cc8-d4ca-4835-db11-bc38219a50f6"
      },
      "source": [
        "score = [49,65,70,95,82,55,89,20,77,77,81,59,10]\n",
        "for i in score:\n",
        "    print(f'คะแนน {i} ได้เกรด {grading2(i)}')"
      ],
      "execution_count": 31,
      "outputs": [
        {
          "output_type": "stream",
          "text": [
            "คะแนน 49 ได้เกรด F\n",
            "คะแนน 65 ได้เกรด C+\n",
            "คะแนน 70 ได้เกรด B\n",
            "คะแนน 95 ได้เกรด A\n",
            "คะแนน 82 ได้เกรด A\n",
            "คะแนน 55 ได้เกรด D+\n",
            "คะแนน 89 ได้เกรด A\n",
            "คะแนน 20 ได้เกรด F\n",
            "คะแนน 77 ได้เกรด B+\n",
            "คะแนน 77 ได้เกรด B+\n",
            "คะแนน 81 ได้เกรด A\n",
            "คะแนน 59 ได้เกรด D+\n",
            "คะแนน 10 ได้เกรด F\n"
          ],
          "name": "stdout"
        }
      ]
    },
    {
      "cell_type": "markdown",
      "metadata": {
        "id": "DZw0YSNC882B"
      },
      "source": [
        "Example 2 (ไม่มี input)"
      ]
    },
    {
      "cell_type": "code",
      "metadata": {
        "id": "BTcUU82A7h6Z"
      },
      "source": [
        "def mypi():\n",
        "    return 3.14"
      ],
      "execution_count": 32,
      "outputs": []
    },
    {
      "cell_type": "code",
      "metadata": {
        "colab": {
          "base_uri": "https://localhost:8080/"
        },
        "id": "urILZvoY9J_T",
        "outputId": "8c02b50e-b22a-48d8-a3ac-029c0d2cf57b"
      },
      "source": [
        "r=10\n",
        "print(f'รัศมี={r} จะมีเส้นรอบวง={2*mypi()*r}')"
      ],
      "execution_count": 34,
      "outputs": [
        {
          "output_type": "stream",
          "text": [
            "รัศมี=10 จะมีเส้นรอบวง=62.800000000000004\n"
          ],
          "name": "stdout"
        }
      ]
    },
    {
      "cell_type": "markdown",
      "metadata": {
        "id": "AYlukMsM9zh0"
      },
      "source": [
        "Example 3 (ไม่มี output)"
      ]
    },
    {
      "cell_type": "code",
      "metadata": {
        "id": "AqwPny9R9hFP"
      },
      "source": [
        "def grading_nooutput(score):\n",
        "    if i >= 80:\n",
        "        print('ได้เกรด A')\n",
        "    elif i >= 75:\n",
        "        print('ได้เกรด B+')\n",
        "    elif i >= 70:\n",
        "        print('ได้เกรด B')\n",
        "    elif i >= 65:\n",
        "        print('ได้เกรด C+')\n",
        "    elif i >= 60:\n",
        "        print('ได้เกรด C')\n",
        "    elif i >= 55:\n",
        "        print('ได้เกรด D+')\n",
        "    elif i >= 50:\n",
        "        print('ได้เกรด D')\n",
        "    else:\n",
        "        print('ได้เกรด F')"
      ],
      "execution_count": 38,
      "outputs": []
    },
    {
      "cell_type": "code",
      "metadata": {
        "colab": {
          "base_uri": "https://localhost:8080/"
        },
        "id": "-ZpdkXFz-NDW",
        "outputId": "b33aaba9-d42f-45d7-dec2-d33a13ada434"
      },
      "source": [
        "score = [49,65,70,95,82,55,89,20,77,77,81,59,10]\n",
        "for i in score:\n",
        "    print(f'คะแนน {i}', end=' ') \n",
        "    grading_nooutput(i)"
      ],
      "execution_count": 42,
      "outputs": [
        {
          "output_type": "stream",
          "text": [
            "คะแนน 49 ได้เกรด F\n",
            "คะแนน 65 ได้เกรด C+\n",
            "คะแนน 70 ได้เกรด B\n",
            "คะแนน 95 ได้เกรด A\n",
            "คะแนน 82 ได้เกรด A\n",
            "คะแนน 55 ได้เกรด D+\n",
            "คะแนน 89 ได้เกรด A\n",
            "คะแนน 20 ได้เกรด F\n",
            "คะแนน 77 ได้เกรด B+\n",
            "คะแนน 77 ได้เกรด B+\n",
            "คะแนน 81 ได้เกรด A\n",
            "คะแนน 59 ได้เกรด D+\n",
            "คะแนน 10 ได้เกรด F\n"
          ],
          "name": "stdout"
        }
      ]
    },
    {
      "cell_type": "markdown",
      "metadata": {
        "id": "3Mb_UN7i_Wfo"
      },
      "source": [
        "Example 3 (ไม่มี input และ output)"
      ]
    },
    {
      "cell_type": "code",
      "metadata": {
        "id": "lPDPE7Sb-gUt"
      },
      "source": [
        "def draw_rect():\n",
        "    print('=============')\n",
        "    print('|           |')\n",
        "    print('|           |')\n",
        "    print('=============')"
      ],
      "execution_count": 43,
      "outputs": []
    },
    {
      "cell_type": "code",
      "metadata": {
        "colab": {
          "base_uri": "https://localhost:8080/"
        },
        "id": "jiXEA8bG_1rZ",
        "outputId": "d283716f-772b-4e89-d0aa-a28fff16eb10"
      },
      "source": [
        "draw_rect()\n",
        "draw_rect()"
      ],
      "execution_count": 45,
      "outputs": [
        {
          "output_type": "stream",
          "text": [
            "=============\n",
            "|           |\n",
            "|           |\n",
            "=============\n",
            "=============\n",
            "|           |\n",
            "|           |\n",
            "=============\n"
          ],
          "name": "stdout"
        }
      ]
    },
    {
      "cell_type": "markdown",
      "metadata": {
        "id": "up1Bi3qbA6ci"
      },
      "source": [
        "#### ลักษณะของ input(paremeter,argument)\n",
        "\n",
        "\n",
        "*   จำเป็นต้องใส่ (non-default argument)\n",
        "*   ไม่จำเป็นต้องใส่ (default argument)\n",
        "\n"
      ]
    },
    {
      "cell_type": "code",
      "metadata": {
        "id": "DWCnuAVU_3bw"
      },
      "source": [
        "def A(input1, input2 = 3):\n",
        "    return input1+input2 "
      ],
      "execution_count": 47,
      "outputs": []
    },
    {
      "cell_type": "code",
      "metadata": {
        "colab": {
          "base_uri": "https://localhost:8080/"
        },
        "id": "ERXNO1S7A2KC",
        "outputId": "2f2f4441-3f76-4e80-9563-9b4b89feb4fd"
      },
      "source": [
        "A(1)"
      ],
      "execution_count": 48,
      "outputs": [
        {
          "output_type": "execute_result",
          "data": {
            "text/plain": [
              "4"
            ]
          },
          "metadata": {
            "tags": []
          },
          "execution_count": 48
        }
      ]
    },
    {
      "cell_type": "code",
      "metadata": {
        "colab": {
          "base_uri": "https://localhost:8080/"
        },
        "id": "kymMZyOkByFt",
        "outputId": "0f6842bf-ae42-44ca-92c3-2c6412385836"
      },
      "source": [
        "A(1,6)"
      ],
      "execution_count": 51,
      "outputs": [
        {
          "output_type": "execute_result",
          "data": {
            "text/plain": [
              "7"
            ]
          },
          "metadata": {
            "tags": []
          },
          "execution_count": 51
        }
      ]
    },
    {
      "cell_type": "code",
      "metadata": {
        "colab": {
          "base_uri": "https://localhost:8080/",
          "height": 164
        },
        "id": "MNattx_1B4zC",
        "outputId": "3260ab7f-8d99-469f-a771-d8c4b5713a34"
      },
      "source": [
        "A()"
      ],
      "execution_count": 50,
      "outputs": [
        {
          "output_type": "error",
          "ename": "TypeError",
          "evalue": "ignored",
          "traceback": [
            "\u001b[0;31m---------------------------------------------------------------------------\u001b[0m",
            "\u001b[0;31mTypeError\u001b[0m                                 Traceback (most recent call last)",
            "\u001b[0;32m<ipython-input-50-6234893e030b>\u001b[0m in \u001b[0;36m<module>\u001b[0;34m()\u001b[0m\n\u001b[0;32m----> 1\u001b[0;31m \u001b[0mA\u001b[0m\u001b[0;34m(\u001b[0m\u001b[0;34m)\u001b[0m\u001b[0;34m\u001b[0m\u001b[0;34m\u001b[0m\u001b[0m\n\u001b[0m",
            "\u001b[0;31mTypeError\u001b[0m: A() missing 1 required positional argument: 'input1'"
          ]
        }
      ]
    },
    {
      "cell_type": "code",
      "metadata": {
        "id": "GyUfB6e1CFT5"
      },
      "source": [
        "def printlove(input1, input2 = 'Stat', input3 = 'KKU'):\n",
        "    print(f'{input1} love {input2} {input3}') "
      ],
      "execution_count": 53,
      "outputs": []
    },
    {
      "cell_type": "code",
      "metadata": {
        "colab": {
          "base_uri": "https://localhost:8080/"
        },
        "id": "9E1MyQF3DAku",
        "outputId": "ca3f866d-3a98-45e0-be7b-d33d98b86227"
      },
      "source": [
        "printlove('Thanapong')"
      ],
      "execution_count": 54,
      "outputs": [
        {
          "output_type": "stream",
          "text": [
            "Thanapong love Stat KKU\n"
          ],
          "name": "stdout"
        }
      ]
    },
    {
      "cell_type": "code",
      "metadata": {
        "colab": {
          "base_uri": "https://localhost:8080/"
        },
        "id": "MEEQhshcDJPz",
        "outputId": "e35b873f-679c-4c0c-fdb0-c8358cb21d35"
      },
      "source": [
        "printlove('Thanapong','SI','Stat')"
      ],
      "execution_count": 55,
      "outputs": [
        {
          "output_type": "stream",
          "text": [
            "Thanapong love SI Stat\n"
          ],
          "name": "stdout"
        }
      ]
    },
    {
      "cell_type": "code",
      "metadata": {
        "colab": {
          "base_uri": "https://localhost:8080/"
        },
        "id": "Q60kHegsDRgv",
        "outputId": "b58e6fc6-6b85-48eb-cab8-6df0b40b6de6"
      },
      "source": [
        "printlove(input3 = 'Thanapong',input2 = 'SI',input1 = 'Stat')"
      ],
      "execution_count": 56,
      "outputs": [
        {
          "output_type": "stream",
          "text": [
            "Stat love SI Thanapong\n"
          ],
          "name": "stdout"
        }
      ]
    },
    {
      "cell_type": "code",
      "metadata": {
        "colab": {
          "base_uri": "https://localhost:8080/",
          "height": 130
        },
        "id": "DRVLZuz-DeB8",
        "outputId": "84e05023-bcbc-4116-cbbd-903070a62e9f"
      },
      "source": [
        "def printlove(input2 = 'Stat', input1,  input3 = 'KKU'):\n",
        "    print(f'{input1} love {input2} {input3}') "
      ],
      "execution_count": 57,
      "outputs": [
        {
          "output_type": "error",
          "ename": "SyntaxError",
          "evalue": "ignored",
          "traceback": [
            "\u001b[0;36m  File \u001b[0;32m\"<ipython-input-57-a6d8ed39ba43>\"\u001b[0;36m, line \u001b[0;32m1\u001b[0m\n\u001b[0;31m    def printlove(input2 = 'Stat', input1,  input3 = 'KKU'):\u001b[0m\n\u001b[0m                 ^\u001b[0m\n\u001b[0;31mSyntaxError\u001b[0m\u001b[0;31m:\u001b[0m non-default argument follows default argument\n"
          ]
        }
      ]
    },
    {
      "cell_type": "markdown",
      "metadata": {
        "id": "nJ7aCBqREsYF"
      },
      "source": [
        "#### Quiz2 ส่ง 11.05 (27/07/2021)\n",
        "สร้างฟังก์ชั่น \n",
        "\n",
        "*  วาดรูปบ้าน\n",
        "*  วาดรูปต้นไม้ "
      ]
    },
    {
      "cell_type": "code",
      "metadata": {
        "id": "8qCskDnVDstQ"
      },
      "source": [
        ""
      ],
      "execution_count": null,
      "outputs": []
    }
  ]
}