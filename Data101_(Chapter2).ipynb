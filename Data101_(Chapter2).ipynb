{
  "nbformat": 4,
  "nbformat_minor": 0,
  "metadata": {
    "colab": {
      "name": "Data101 (Chapter2).ipynb",
      "provenance": [],
      "authorship_tag": "ABX9TyOcQZNncizx/P+8n5BM8eva",
      "include_colab_link": true
    },
    "kernelspec": {
      "name": "python3",
      "display_name": "Python 3"
    },
    "language_info": {
      "name": "python"
    }
  },
  "cells": [
    {
      "cell_type": "markdown",
      "metadata": {
        "id": "view-in-github",
        "colab_type": "text"
      },
      "source": [
        "<a href=\"https://colab.research.google.com/github/tohnperfect/DWDM21/blob/main/Data101_(Chapter2).ipynb\" target=\"_parent\"><img src=\"https://colab.research.google.com/assets/colab-badge.svg\" alt=\"Open In Colab\"/></a>"
      ]
    },
    {
      "cell_type": "markdown",
      "metadata": {
        "id": "9ninME2Dzyuv"
      },
      "source": [
        "ข้อความที่อยู่ใน textbox จะเป็น ภาษา markdown "
      ]
    },
    {
      "cell_type": "markdown",
      "metadata": {
        "id": "Imkhqvm-tkVx"
      },
      "source": [
        "ข้อดีหนึ่งของ Python คือมี package สำหรับทำงานต่างๆมากมาย\n",
        "\n",
        "ซึ่ง pandas เป็น package สำหรับการทำงานกับข้อมูลที่อยู่ในรูปแบบตาราง\n",
        "\n",
        "โดย pandas จะเรียกตารางนั้นว่า dataframe"
      ]
    },
    {
      "cell_type": "code",
      "metadata": {
        "id": "REAvSryNr31e"
      },
      "source": [
        "import pandas # วิธีเรียกใช้ package คือ import ตามด้วยชื่อ package"
      ],
      "execution_count": 2,
      "outputs": []
    },
    {
      "cell_type": "code",
      "metadata": {
        "id": "XceSq3_9tAiI"
      },
      "source": [
        "import pandas as pd # เหมือนกับข้างบนแต่ว่า ตั้งชื่อให้ package ที่โหลดมาใหม่ว่า pd"
      ],
      "execution_count": 3,
      "outputs": []
    },
    {
      "cell_type": "markdown",
      "metadata": {
        "id": "tD0GYzbQusBc"
      },
      "source": [
        "ไฟล์ .csv (CSV = comma separated values) เป็นไฟล์หลักที่เราจะได้ใช้กันในวิชานี้\n",
        "\n"
      ]
    },
    {
      "cell_type": "code",
      "metadata": {
        "id": "DfMZhvmpuZjH"
      },
      "source": [
        "data_df = pd.read_csv('data.csv')"
      ],
      "execution_count": 4,
      "outputs": []
    },
    {
      "cell_type": "code",
      "metadata": {
        "colab": {
          "base_uri": "https://localhost:8080/",
          "height": 142
        },
        "id": "hd_mvZFexNV-",
        "outputId": "6f6f7042-f24d-42ae-9a3f-0625f586a410"
      },
      "source": [
        "data_df"
      ],
      "execution_count": 5,
      "outputs": [
        {
          "output_type": "execute_result",
          "data": {
            "text/html": [
              "<div>\n",
              "<style scoped>\n",
              "    .dataframe tbody tr th:only-of-type {\n",
              "        vertical-align: middle;\n",
              "    }\n",
              "\n",
              "    .dataframe tbody tr th {\n",
              "        vertical-align: top;\n",
              "    }\n",
              "\n",
              "    .dataframe thead th {\n",
              "        text-align: right;\n",
              "    }\n",
              "</style>\n",
              "<table border=\"1\" class=\"dataframe\">\n",
              "  <thead>\n",
              "    <tr style=\"text-align: right;\">\n",
              "      <th></th>\n",
              "      <th>name</th>\n",
              "      <th>age</th>\n",
              "      <th>city</th>\n",
              "    </tr>\n",
              "  </thead>\n",
              "  <tbody>\n",
              "    <tr>\n",
              "      <th>0</th>\n",
              "      <td>Tom</td>\n",
              "      <td>27</td>\n",
              "      <td>Khon Kaen</td>\n",
              "    </tr>\n",
              "    <tr>\n",
              "      <th>1</th>\n",
              "      <td>Paul</td>\n",
              "      <td>15</td>\n",
              "      <td>Bangkok</td>\n",
              "    </tr>\n",
              "    <tr>\n",
              "      <th>2</th>\n",
              "      <td>Sarah</td>\n",
              "      <td>49</td>\n",
              "      <td>London</td>\n",
              "    </tr>\n",
              "  </tbody>\n",
              "</table>\n",
              "</div>"
            ],
            "text/plain": [
              "    name  age       city\n",
              "0    Tom   27  Khon Kaen\n",
              "1   Paul   15    Bangkok\n",
              "2  Sarah   49     London"
            ]
          },
          "metadata": {
            "tags": []
          },
          "execution_count": 5
        }
      ]
    },
    {
      "cell_type": "code",
      "metadata": {
        "colab": {
          "base_uri": "https://localhost:8080/",
          "height": 142
        },
        "id": "u6YWj83SxO10",
        "outputId": "3d2675c2-6a92-4528-fa5a-0a4330a19426"
      },
      "source": [
        "data_df2 = pandas.read_csv('data.csv')\n",
        "data_df2"
      ],
      "execution_count": 6,
      "outputs": [
        {
          "output_type": "execute_result",
          "data": {
            "text/html": [
              "<div>\n",
              "<style scoped>\n",
              "    .dataframe tbody tr th:only-of-type {\n",
              "        vertical-align: middle;\n",
              "    }\n",
              "\n",
              "    .dataframe tbody tr th {\n",
              "        vertical-align: top;\n",
              "    }\n",
              "\n",
              "    .dataframe thead th {\n",
              "        text-align: right;\n",
              "    }\n",
              "</style>\n",
              "<table border=\"1\" class=\"dataframe\">\n",
              "  <thead>\n",
              "    <tr style=\"text-align: right;\">\n",
              "      <th></th>\n",
              "      <th>name</th>\n",
              "      <th>age</th>\n",
              "      <th>city</th>\n",
              "    </tr>\n",
              "  </thead>\n",
              "  <tbody>\n",
              "    <tr>\n",
              "      <th>0</th>\n",
              "      <td>Tom</td>\n",
              "      <td>27</td>\n",
              "      <td>Khon Kaen</td>\n",
              "    </tr>\n",
              "    <tr>\n",
              "      <th>1</th>\n",
              "      <td>Paul</td>\n",
              "      <td>15</td>\n",
              "      <td>Bangkok</td>\n",
              "    </tr>\n",
              "    <tr>\n",
              "      <th>2</th>\n",
              "      <td>Sarah</td>\n",
              "      <td>49</td>\n",
              "      <td>London</td>\n",
              "    </tr>\n",
              "  </tbody>\n",
              "</table>\n",
              "</div>"
            ],
            "text/plain": [
              "    name  age       city\n",
              "0    Tom   27  Khon Kaen\n",
              "1   Paul   15    Bangkok\n",
              "2  Sarah   49     London"
            ]
          },
          "metadata": {
            "tags": []
          },
          "execution_count": 6
        }
      ]
    },
    {
      "cell_type": "markdown",
      "metadata": {
        "id": "_TAPnVP6ygh4"
      },
      "source": [
        "# Basic Python\n",
        "## Variables\n",
        "\n"
      ]
    },
    {
      "cell_type": "markdown",
      "metadata": {
        "id": "jieWNVjo1iAm"
      },
      "source": [
        "ข้อกำหนดในการตั้งชื่อตัวแปร\n",
        "\n",
        "\n",
        "1.   ชื่อห้ามมีเว้นวรรค\n",
        "2.   (พยายาม)ใช้ภาษาอังกฤษ\n",
        "3.   ตัวเล็กกับตัวใหญ่ แตกต่างกัน (case sensitive)\n",
        "4.   ห้ามใช้ตัวเลขเป็นตัวหน้า\n",
        "\n"
      ]
    },
    {
      "cell_type": "code",
      "metadata": {
        "id": "rPgssQeIyQqg"
      },
      "source": [
        "variable_a = 12\n",
        "variable_b = 'abcde'  # ' เรียกว่า quote\n",
        "variable_c = variable_a"
      ],
      "execution_count": 8,
      "outputs": []
    },
    {
      "cell_type": "code",
      "metadata": {
        "colab": {
          "base_uri": "https://localhost:8080/"
        },
        "id": "G_vXp-Ed1Glr",
        "outputId": "dc6d6b80-164a-4fee-d3a4-a3e34b289063"
      },
      "source": [
        "variable_a"
      ],
      "execution_count": 9,
      "outputs": [
        {
          "output_type": "execute_result",
          "data": {
            "text/plain": [
              "12"
            ]
          },
          "metadata": {
            "tags": []
          },
          "execution_count": 9
        }
      ]
    },
    {
      "cell_type": "code",
      "metadata": {
        "colab": {
          "base_uri": "https://localhost:8080/",
          "height": 35
        },
        "id": "Pf_hORo10Trj",
        "outputId": "62c7f12c-fea0-4e25-af6d-ba0a3dacb5eb"
      },
      "source": [
        "variable_b"
      ],
      "execution_count": 10,
      "outputs": [
        {
          "output_type": "execute_result",
          "data": {
            "application/vnd.google.colaboratory.intrinsic+json": {
              "type": "string"
            },
            "text/plain": [
              "'abcde'"
            ]
          },
          "metadata": {
            "tags": []
          },
          "execution_count": 10
        }
      ]
    },
    {
      "cell_type": "code",
      "metadata": {
        "colab": {
          "base_uri": "https://localhost:8080/"
        },
        "id": "rkaBZg8V0ToT",
        "outputId": "887e9f8a-1497-4457-91f8-6fc0a1c75fd9"
      },
      "source": [
        "variable_c"
      ],
      "execution_count": 11,
      "outputs": [
        {
          "output_type": "execute_result",
          "data": {
            "text/plain": [
              "12"
            ]
          },
          "metadata": {
            "tags": []
          },
          "execution_count": 11
        }
      ]
    },
    {
      "cell_type": "code",
      "metadata": {
        "colab": {
          "base_uri": "https://localhost:8080/",
          "height": 130
        },
        "id": "IeNEqfX70Teg",
        "outputId": "01285242-bfce-4fe5-8071-d871ac9e4b74"
      },
      "source": [
        "# ชื่อห้ามมีเว้นวรรค\n",
        "variable a = 6"
      ],
      "execution_count": 12,
      "outputs": [
        {
          "output_type": "error",
          "ename": "SyntaxError",
          "evalue": "ignored",
          "traceback": [
            "\u001b[0;36m  File \u001b[0;32m\"<ipython-input-12-fd7265a87fe2>\"\u001b[0;36m, line \u001b[0;32m1\u001b[0m\n\u001b[0;31m    variable a = 6\u001b[0m\n\u001b[0m             ^\u001b[0m\n\u001b[0;31mSyntaxError\u001b[0m\u001b[0;31m:\u001b[0m invalid syntax\n"
          ]
        }
      ]
    },
    {
      "cell_type": "code",
      "metadata": {
        "colab": {
          "base_uri": "https://localhost:8080/"
        },
        "id": "hFKahdKt0Tbv",
        "outputId": "c89d3861-35b8-4b3a-ed7a-5c7153cb5087"
      },
      "source": [
        "# (พยายาม)ใช้ภาษาอังกฤษ\n",
        "# colab ใช้ภาษาไทยเป็นชื่อตัวแปรได้ แต่ไม่ควรใช้\n",
        "ตัวแปร = 3\n",
        "ตัวแปร"
      ],
      "execution_count": 17,
      "outputs": [
        {
          "output_type": "execute_result",
          "data": {
            "text/plain": [
              "3"
            ]
          },
          "metadata": {
            "tags": []
          },
          "execution_count": 17
        }
      ]
    },
    {
      "cell_type": "code",
      "metadata": {
        "colab": {
          "base_uri": "https://localhost:8080/"
        },
        "id": "n0zQagv82Qcp",
        "outputId": "554bb785-8307-43a4-dfd8-b51dcae6a01a"
      },
      "source": [
        "# ตัวเล็กกับตัวใหญ่ แตกต่างกัน (case sensitive)\n",
        "v_a = 1\n",
        "V_a = 2\n",
        "print(v_a)\n",
        "print(V_a)"
      ],
      "execution_count": 18,
      "outputs": [
        {
          "output_type": "stream",
          "text": [
            "1\n",
            "2\n"
          ],
          "name": "stdout"
        }
      ]
    },
    {
      "cell_type": "code",
      "metadata": {
        "colab": {
          "base_uri": "https://localhost:8080/"
        },
        "id": "Y3bqChAb3Qaz",
        "outputId": "628b70b4-4a79-46f9-a378-5d2991f0a500"
      },
      "source": [
        "# ตัวเล็กกับตัวใหญ่ แตกต่างกัน (case sensitive)\n",
        "v_a = 1\n",
        "v_a = 2\n",
        "print(v_a)\n",
        "print(v_a)"
      ],
      "execution_count": 19,
      "outputs": [
        {
          "output_type": "stream",
          "text": [
            "2\n",
            "2\n"
          ],
          "name": "stdout"
        }
      ]
    },
    {
      "cell_type": "code",
      "metadata": {
        "colab": {
          "base_uri": "https://localhost:8080/",
          "height": 130
        },
        "id": "RMnl3D383GWM",
        "outputId": "7f0abebc-725a-4527-a91d-5517fe48d080"
      },
      "source": [
        "# ห้ามใช้ตัวเลขเป็นตัวหน้า\n",
        "2 = 1"
      ],
      "execution_count": 20,
      "outputs": [
        {
          "output_type": "error",
          "ename": "SyntaxError",
          "evalue": "ignored",
          "traceback": [
            "\u001b[0;36m  File \u001b[0;32m\"<ipython-input-20-24eb8a2ec18c>\"\u001b[0;36m, line \u001b[0;32m2\u001b[0m\n\u001b[0;31m    2 = 1\u001b[0m\n\u001b[0m         ^\u001b[0m\n\u001b[0;31mSyntaxError\u001b[0m\u001b[0;31m:\u001b[0m can't assign to literal\n"
          ]
        }
      ]
    },
    {
      "cell_type": "code",
      "metadata": {
        "colab": {
          "base_uri": "https://localhost:8080/",
          "height": 130
        },
        "id": "yu4ixyBO3oMF",
        "outputId": "d182d547-7d44-4426-e815-f7993a5a01f9"
      },
      "source": [
        "# ห้ามใช้ตัวเลขเป็นตัวหน้า\n",
        "2ab = 1"
      ],
      "execution_count": 21,
      "outputs": [
        {
          "output_type": "error",
          "ename": "SyntaxError",
          "evalue": "ignored",
          "traceback": [
            "\u001b[0;36m  File \u001b[0;32m\"<ipython-input-21-4a1c88deec89>\"\u001b[0;36m, line \u001b[0;32m2\u001b[0m\n\u001b[0;31m    2ab = 1\u001b[0m\n\u001b[0m      ^\u001b[0m\n\u001b[0;31mSyntaxError\u001b[0m\u001b[0;31m:\u001b[0m invalid syntax\n"
          ]
        }
      ]
    },
    {
      "cell_type": "code",
      "metadata": {
        "id": "fKDEwXoh3tlN"
      },
      "source": [
        "# ห้ามใช้ตัวเลขเป็นตัวหน้า\n",
        "variable1 = 1"
      ],
      "execution_count": 22,
      "outputs": []
    },
    {
      "cell_type": "code",
      "metadata": {
        "colab": {
          "base_uri": "https://localhost:8080/"
        },
        "id": "ZIBbuUKR3zCt",
        "outputId": "29cdb608-d08a-4e42-8b2c-45aac250e03a"
      },
      "source": [
        "print(variable1)"
      ],
      "execution_count": 23,
      "outputs": [
        {
          "output_type": "stream",
          "text": [
            "1\n"
          ],
          "name": "stdout"
        }
      ]
    },
    {
      "cell_type": "code",
      "metadata": {
        "id": "PlnIn2MJ31cr"
      },
      "source": [
        "variable_a = 12\n",
        "variable_b = 'abcde'  # ' เรียกว่า quote\n",
        "variable_c = variable_a\n",
        "variable_d = -41.2\n",
        "variable_4 = \"KKU\" # \" เรียกว่า double quote"
      ],
      "execution_count": 24,
      "outputs": []
    },
    {
      "cell_type": "code",
      "metadata": {
        "colab": {
          "base_uri": "https://localhost:8080/"
        },
        "id": "73DFRzP94bXS",
        "outputId": "9aafcc5c-be05-43d8-834a-ccc6fce691e8"
      },
      "source": [
        "variable_x = variable_c + variable_d\n",
        "print(variable_x)"
      ],
      "execution_count": 25,
      "outputs": [
        {
          "output_type": "stream",
          "text": [
            "-29.200000000000003\n"
          ],
          "name": "stdout"
        }
      ]
    },
    {
      "cell_type": "code",
      "metadata": {
        "colab": {
          "base_uri": "https://localhost:8080/",
          "height": 164
        },
        "id": "lTD2-Kk15KRt",
        "outputId": "f76114bc-fbc6-4e72-982e-acb3e57530fa"
      },
      "source": [
        "variable_a + variable_b"
      ],
      "execution_count": 26,
      "outputs": [
        {
          "output_type": "error",
          "ename": "TypeError",
          "evalue": "ignored",
          "traceback": [
            "\u001b[0;31m---------------------------------------------------------------------------\u001b[0m",
            "\u001b[0;31mTypeError\u001b[0m                                 Traceback (most recent call last)",
            "\u001b[0;32m<ipython-input-26-ca279e5cd267>\u001b[0m in \u001b[0;36m<module>\u001b[0;34m()\u001b[0m\n\u001b[0;32m----> 1\u001b[0;31m \u001b[0mvariable_a\u001b[0m \u001b[0;34m+\u001b[0m \u001b[0mvariable_b\u001b[0m\u001b[0;34m\u001b[0m\u001b[0;34m\u001b[0m\u001b[0m\n\u001b[0m",
            "\u001b[0;31mTypeError\u001b[0m: unsupported operand type(s) for +: 'int' and 'str'"
          ]
        }
      ]
    },
    {
      "cell_type": "code",
      "metadata": {
        "colab": {
          "base_uri": "https://localhost:8080/"
        },
        "id": "xAQJsKHl6KiS",
        "outputId": "7cf433a5-2c51-4ee9-cc29-061f5b06dfe5"
      },
      "source": [
        "print(variable_b + variable_4)"
      ],
      "execution_count": 27,
      "outputs": [
        {
          "output_type": "stream",
          "text": [
            "abcdeKKU\n"
          ],
          "name": "stdout"
        }
      ]
    },
    {
      "cell_type": "markdown",
      "metadata": {
        "id": "-hvrBF0K7Akh"
      },
      "source": [
        "## Casting int() float() str()"
      ]
    },
    {
      "cell_type": "code",
      "metadata": {
        "colab": {
          "base_uri": "https://localhost:8080/"
        },
        "id": "X1BdjApo60Cr",
        "outputId": "00a87ac9-6758-4091-a6bc-80bd68cf15a3"
      },
      "source": [
        "print(variable_x)\n",
        "print(int(variable_x))"
      ],
      "execution_count": 28,
      "outputs": [
        {
          "output_type": "stream",
          "text": [
            "-29.200000000000003\n",
            "-29\n"
          ],
          "name": "stdout"
        }
      ]
    },
    {
      "cell_type": "code",
      "metadata": {
        "colab": {
          "base_uri": "https://localhost:8080/"
        },
        "id": "5lDEeZIt7X63",
        "outputId": "957f4db0-eb50-4f40-c8fd-aafa1083b21b"
      },
      "source": [
        "V_X = str(variable_x)\n",
        "print(V_X)"
      ],
      "execution_count": 30,
      "outputs": [
        {
          "output_type": "stream",
          "text": [
            "-29.200000000000003\n"
          ],
          "name": "stdout"
        }
      ]
    },
    {
      "cell_type": "code",
      "metadata": {
        "colab": {
          "base_uri": "https://localhost:8080/",
          "height": 164
        },
        "id": "FMb_shv07pb_",
        "outputId": "2be68e20-795a-4be9-b6f1-29d1fe9c58f4"
      },
      "source": [
        "V_X + variable_a"
      ],
      "execution_count": 31,
      "outputs": [
        {
          "output_type": "error",
          "ename": "TypeError",
          "evalue": "ignored",
          "traceback": [
            "\u001b[0;31m---------------------------------------------------------------------------\u001b[0m",
            "\u001b[0;31mTypeError\u001b[0m                                 Traceback (most recent call last)",
            "\u001b[0;32m<ipython-input-31-d83c0918f5c6>\u001b[0m in \u001b[0;36m<module>\u001b[0;34m()\u001b[0m\n\u001b[0;32m----> 1\u001b[0;31m \u001b[0mV_X\u001b[0m \u001b[0;34m+\u001b[0m \u001b[0mvariable_a\u001b[0m\u001b[0;34m\u001b[0m\u001b[0;34m\u001b[0m\u001b[0m\n\u001b[0m",
            "\u001b[0;31mTypeError\u001b[0m: can only concatenate str (not \"int\") to str"
          ]
        }
      ]
    },
    {
      "cell_type": "code",
      "metadata": {
        "colab": {
          "base_uri": "https://localhost:8080/",
          "height": 164
        },
        "id": "muL37A_u70or",
        "outputId": "af70066e-9130-46f6-8507-b0d551d08409"
      },
      "source": [
        "variable_a + V_X"
      ],
      "execution_count": 32,
      "outputs": [
        {
          "output_type": "error",
          "ename": "TypeError",
          "evalue": "ignored",
          "traceback": [
            "\u001b[0;31m---------------------------------------------------------------------------\u001b[0m",
            "\u001b[0;31mTypeError\u001b[0m                                 Traceback (most recent call last)",
            "\u001b[0;32m<ipython-input-32-9c7fa6bc8848>\u001b[0m in \u001b[0;36m<module>\u001b[0;34m()\u001b[0m\n\u001b[0;32m----> 1\u001b[0;31m \u001b[0mvariable_a\u001b[0m \u001b[0;34m+\u001b[0m \u001b[0mV_X\u001b[0m\u001b[0;34m\u001b[0m\u001b[0;34m\u001b[0m\u001b[0m\n\u001b[0m",
            "\u001b[0;31mTypeError\u001b[0m: unsupported operand type(s) for +: 'int' and 'str'"
          ]
        }
      ]
    },
    {
      "cell_type": "code",
      "metadata": {
        "colab": {
          "base_uri": "https://localhost:8080/",
          "height": 35
        },
        "id": "WNPZNqBY79ok",
        "outputId": "6866bb15-6b8b-431a-ff3b-66c34915baa8"
      },
      "source": [
        "V_X"
      ],
      "execution_count": 33,
      "outputs": [
        {
          "output_type": "execute_result",
          "data": {
            "application/vnd.google.colaboratory.intrinsic+json": {
              "type": "string"
            },
            "text/plain": [
              "'-29.200000000000003'"
            ]
          },
          "metadata": {
            "tags": []
          },
          "execution_count": 33
        }
      ]
    },
    {
      "cell_type": "code",
      "metadata": {
        "colab": {
          "base_uri": "https://localhost:8080/"
        },
        "id": "nACxICmg8WxL",
        "outputId": "54fd566a-a80f-4633-c6ab-7972de92136f"
      },
      "source": [
        "float(V_X)"
      ],
      "execution_count": 34,
      "outputs": [
        {
          "output_type": "execute_result",
          "data": {
            "text/plain": [
              "-29.200000000000003"
            ]
          },
          "metadata": {
            "tags": []
          },
          "execution_count": 34
        }
      ]
    },
    {
      "cell_type": "markdown",
      "metadata": {
        "id": "9BOFeZk381fZ"
      },
      "source": [
        "## Data Structure\n",
        "### list()"
      ]
    },
    {
      "cell_type": "code",
      "metadata": {
        "id": "DQmGHCR48khO"
      },
      "source": [
        "list_a = [1,2,0.2,'abs'] # [] square brackets\n",
        "list_b = [2,'xyz',list_a,[1,2,0.0]]"
      ],
      "execution_count": 35,
      "outputs": []
    },
    {
      "cell_type": "code",
      "metadata": {
        "colab": {
          "base_uri": "https://localhost:8080/"
        },
        "id": "5HRNr2K99z3o",
        "outputId": "337e65d9-29a9-4687-ff3c-765c67b1c2ad"
      },
      "source": [
        "list_a"
      ],
      "execution_count": 36,
      "outputs": [
        {
          "output_type": "execute_result",
          "data": {
            "text/plain": [
              "[1, 2, 0.2, 'abs']"
            ]
          },
          "metadata": {
            "tags": []
          },
          "execution_count": 36
        }
      ]
    },
    {
      "cell_type": "code",
      "metadata": {
        "colab": {
          "base_uri": "https://localhost:8080/"
        },
        "id": "VaiTNnAW91bd",
        "outputId": "5d904433-48fa-4d94-fe66-72d71ec8cf2b"
      },
      "source": [
        "list_b"
      ],
      "execution_count": 37,
      "outputs": [
        {
          "output_type": "execute_result",
          "data": {
            "text/plain": [
              "[2, 'xyz', [1, 2, 0.2, 'abs'], [1, 2, 0.0]]"
            ]
          },
          "metadata": {
            "tags": []
          },
          "execution_count": 37
        }
      ]
    },
    {
      "cell_type": "code",
      "metadata": {
        "colab": {
          "base_uri": "https://localhost:8080/"
        },
        "id": "GKEpKbmQ-Ae3",
        "outputId": "6586044f-8caa-47f5-84e7-62f2f4760b73"
      },
      "source": [
        "len(list_b)"
      ],
      "execution_count": 38,
      "outputs": [
        {
          "output_type": "execute_result",
          "data": {
            "text/plain": [
              "4"
            ]
          },
          "metadata": {
            "tags": []
          },
          "execution_count": 38
        }
      ]
    },
    {
      "cell_type": "code",
      "metadata": {
        "colab": {
          "base_uri": "https://localhost:8080/"
        },
        "id": "5-dnqkR1-L8q",
        "outputId": "1c5d10e8-27d7-4c06-f77d-6a70b8c4288f"
      },
      "source": [
        "list_b[3]"
      ],
      "execution_count": 39,
      "outputs": [
        {
          "output_type": "execute_result",
          "data": {
            "text/plain": [
              "[1, 2, 0.0]"
            ]
          },
          "metadata": {
            "tags": []
          },
          "execution_count": 39
        }
      ]
    },
    {
      "cell_type": "code",
      "metadata": {
        "colab": {
          "base_uri": "https://localhost:8080/"
        },
        "id": "XEO9iDuz-bLi",
        "outputId": "b4ec98fb-4aaf-4dcc-fc08-5197deeec6c6"
      },
      "source": [
        "list_b[3][1]"
      ],
      "execution_count": 40,
      "outputs": [
        {
          "output_type": "execute_result",
          "data": {
            "text/plain": [
              "2"
            ]
          },
          "metadata": {
            "tags": []
          },
          "execution_count": 40
        }
      ]
    },
    {
      "cell_type": "markdown",
      "metadata": {
        "id": "LJl0F0Yl-1i9"
      },
      "source": [
        "string คือ list ของ ตัวหนังสือ "
      ]
    },
    {
      "cell_type": "code",
      "metadata": {
        "id": "2-_mlTu3-jsb"
      },
      "source": [
        "a = 'Stat KKU'"
      ],
      "execution_count": 41,
      "outputs": []
    },
    {
      "cell_type": "code",
      "metadata": {
        "colab": {
          "base_uri": "https://localhost:8080/",
          "height": 35
        },
        "id": "ueieyud7_Cr6",
        "outputId": "5a989c4a-43d7-4dc9-a1b7-fc529d201f0c"
      },
      "source": [
        "a[4]"
      ],
      "execution_count": 42,
      "outputs": [
        {
          "output_type": "execute_result",
          "data": {
            "application/vnd.google.colaboratory.intrinsic+json": {
              "type": "string"
            },
            "text/plain": [
              "' '"
            ]
          },
          "metadata": {
            "tags": []
          },
          "execution_count": 42
        }
      ]
    },
    {
      "cell_type": "markdown",
      "metadata": {
        "id": "ixZib7Nn_fN2"
      },
      "source": [
        "### วิธีสร้าง list ว่าง"
      ]
    },
    {
      "cell_type": "code",
      "metadata": {
        "id": "uCN8gVP7_Jss"
      },
      "source": [
        "list_c = list() #แบบที่ 1\n",
        "list_d = [] #แบบที่ 2"
      ],
      "execution_count": 43,
      "outputs": []
    },
    {
      "cell_type": "code",
      "metadata": {
        "colab": {
          "base_uri": "https://localhost:8080/"
        },
        "id": "TvkCXAkO_2B6",
        "outputId": "3de6de71-5638-4aea-9aad-890420ee15ad"
      },
      "source": [
        "list_c"
      ],
      "execution_count": 45,
      "outputs": [
        {
          "output_type": "execute_result",
          "data": {
            "text/plain": [
              "[]"
            ]
          },
          "metadata": {
            "tags": []
          },
          "execution_count": 45
        }
      ]
    },
    {
      "cell_type": "code",
      "metadata": {
        "colab": {
          "base_uri": "https://localhost:8080/"
        },
        "id": "VI2VPTCL_3wt",
        "outputId": "414a9943-cf1c-49c2-e9ef-a1ab9157d70d"
      },
      "source": [
        "list_d"
      ],
      "execution_count": 46,
      "outputs": [
        {
          "output_type": "execute_result",
          "data": {
            "text/plain": [
              "[]"
            ]
          },
          "metadata": {
            "tags": []
          },
          "execution_count": 46
        }
      ]
    },
    {
      "cell_type": "markdown",
      "metadata": {
        "id": "TJ-aibDAAPYx"
      },
      "source": [
        "เติมค่าลงไปใน list  (.append())"
      ]
    },
    {
      "cell_type": "code",
      "metadata": {
        "id": "T2-wDrT0_6-e"
      },
      "source": [
        "list_d.append('a')"
      ],
      "execution_count": 47,
      "outputs": []
    },
    {
      "cell_type": "code",
      "metadata": {
        "colab": {
          "base_uri": "https://localhost:8080/"
        },
        "id": "JYsXI8AvAp47",
        "outputId": "ff4378e6-149d-44fd-b06e-051525fcbfe2"
      },
      "source": [
        "list_d"
      ],
      "execution_count": 48,
      "outputs": [
        {
          "output_type": "execute_result",
          "data": {
            "text/plain": [
              "['a']"
            ]
          },
          "metadata": {
            "tags": []
          },
          "execution_count": 48
        }
      ]
    },
    {
      "cell_type": "code",
      "metadata": {
        "id": "xgLwyXzTAriW"
      },
      "source": [
        "list_d.append(56)"
      ],
      "execution_count": 49,
      "outputs": []
    },
    {
      "cell_type": "code",
      "metadata": {
        "colab": {
          "base_uri": "https://localhost:8080/"
        },
        "id": "ydve18SGAxQf",
        "outputId": "84e8c50a-2b9e-4d60-e317-780a1193adb7"
      },
      "source": [
        "list_d"
      ],
      "execution_count": 50,
      "outputs": [
        {
          "output_type": "execute_result",
          "data": {
            "text/plain": [
              "['a', 56]"
            ]
          },
          "metadata": {
            "tags": []
          },
          "execution_count": 50
        }
      ]
    },
    {
      "cell_type": "markdown",
      "metadata": {
        "id": "MPzxoHYFBCnS"
      },
      "source": [
        "#### การชี้ค่าใน list (indexing)\n",
        "\n",
        "\n",
        "1.   ใช้ลำดับในการชี้\n",
        "2.   ลำดับเริ่มจาก 0\n",
        "3.   สามารถชี้จากข้างหลังได้โดยใช้ negative index\n",
        "\n"
      ]
    },
    {
      "cell_type": "code",
      "metadata": {
        "colab": {
          "base_uri": "https://localhost:8080/"
        },
        "id": "thH_4JQCAy7h",
        "outputId": "68712050-5f88-40ec-c6f9-c0460a8b2922"
      },
      "source": [
        "list_b"
      ],
      "execution_count": 51,
      "outputs": [
        {
          "output_type": "execute_result",
          "data": {
            "text/plain": [
              "[2, 'xyz', [1, 2, 0.2, 'abs'], [1, 2, 0.0]]"
            ]
          },
          "metadata": {
            "tags": []
          },
          "execution_count": 51
        }
      ]
    },
    {
      "cell_type": "code",
      "metadata": {
        "colab": {
          "base_uri": "https://localhost:8080/"
        },
        "id": "8EXlEPKRBaaW",
        "outputId": "343a97ba-dafe-4d59-db21-ea0cb75840aa"
      },
      "source": [
        "list_b[-1]"
      ],
      "execution_count": 52,
      "outputs": [
        {
          "output_type": "execute_result",
          "data": {
            "text/plain": [
              "[1, 2, 0.0]"
            ]
          },
          "metadata": {
            "tags": []
          },
          "execution_count": 52
        }
      ]
    },
    {
      "cell_type": "markdown",
      "metadata": {
        "id": "qiVG5afcCG4g"
      },
      "source": [
        "### list slicing"
      ]
    },
    {
      "cell_type": "code",
      "metadata": {
        "id": "U7lsBVgABezX"
      },
      "source": [
        "list_ex = [1,2,3,5,6,8,-1,20,50,0]"
      ],
      "execution_count": 53,
      "outputs": []
    },
    {
      "cell_type": "markdown",
      "metadata": {
        "id": "rOXcoDvTC28r"
      },
      "source": [
        "เราจะตัดlist โดยเอาตั้งแต่ [ตัวหน้า:ตัวก่อนตัวหลัง]   \n",
        "ถ้าเป็นสัญลักษณ์คณิตศาสตร์ [ตัวหน้า:ตัวหลัง] -> [ตัวหน้า,ตัวหลัง)"
      ]
    },
    {
      "cell_type": "code",
      "metadata": {
        "colab": {
          "base_uri": "https://localhost:8080/"
        },
        "id": "agAPyJMACXBg",
        "outputId": "162c61e7-56d5-4a2c-b6ee-4d17ea4505a1"
      },
      "source": [
        "list_ex[1:6] "
      ],
      "execution_count": 54,
      "outputs": [
        {
          "output_type": "execute_result",
          "data": {
            "text/plain": [
              "[2, 3, 5, 6, 8]"
            ]
          },
          "metadata": {
            "tags": []
          },
          "execution_count": 54
        }
      ]
    },
    {
      "cell_type": "code",
      "metadata": {
        "colab": {
          "base_uri": "https://localhost:8080/"
        },
        "id": "c3G9seawCjBJ",
        "outputId": "0c19f74a-2f3a-4d02-83fc-7e7dfbea40a8"
      },
      "source": [
        "list_ex[4:] "
      ],
      "execution_count": 55,
      "outputs": [
        {
          "output_type": "execute_result",
          "data": {
            "text/plain": [
              "[6, 8, -1, 20, 50, 0]"
            ]
          },
          "metadata": {
            "tags": []
          },
          "execution_count": 55
        }
      ]
    },
    {
      "cell_type": "code",
      "metadata": {
        "colab": {
          "base_uri": "https://localhost:8080/"
        },
        "id": "_DwVtjSQDagc",
        "outputId": "b6842ee3-a365-4ec7-895d-621b8d68d161"
      },
      "source": [
        "list_ex[:6] "
      ],
      "execution_count": 56,
      "outputs": [
        {
          "output_type": "execute_result",
          "data": {
            "text/plain": [
              "[1, 2, 3, 5, 6, 8]"
            ]
          },
          "metadata": {
            "tags": []
          },
          "execution_count": 56
        }
      ]
    },
    {
      "cell_type": "markdown",
      "metadata": {
        "id": "WCUd4iNHEF_L"
      },
      "source": [
        "[จุดเริ่มต้น:จุดสุดท้าย:step]"
      ]
    },
    {
      "cell_type": "code",
      "metadata": {
        "colab": {
          "base_uri": "https://localhost:8080/"
        },
        "id": "bk4AGs7_ETGV",
        "outputId": "18bda32a-b878-4a6d-dcf7-6a03554f688d"
      },
      "source": [
        "list_ex"
      ],
      "execution_count": 60,
      "outputs": [
        {
          "output_type": "execute_result",
          "data": {
            "text/plain": [
              "[1, 2, 3, 5, 6, 8, -1, 20, 50, 0]"
            ]
          },
          "metadata": {
            "tags": []
          },
          "execution_count": 60
        }
      ]
    },
    {
      "cell_type": "code",
      "metadata": {
        "colab": {
          "base_uri": "https://localhost:8080/"
        },
        "id": "_1otmso3Diip",
        "outputId": "2588703a-e55c-4e7b-83b6-58f8afc121b2"
      },
      "source": [
        "list_ex[::2] "
      ],
      "execution_count": 59,
      "outputs": [
        {
          "output_type": "execute_result",
          "data": {
            "text/plain": [
              "[1, 3, 6, -1, 50]"
            ]
          },
          "metadata": {
            "tags": []
          },
          "execution_count": 59
        }
      ]
    },
    {
      "cell_type": "code",
      "metadata": {
        "colab": {
          "base_uri": "https://localhost:8080/"
        },
        "id": "sxTyJxDBD-Tc",
        "outputId": "5106754f-2dc4-4fa0-c8f2-aca48ea5a70b"
      },
      "source": [
        "list_ex[::-1]  # การกลับ list"
      ],
      "execution_count": 62,
      "outputs": [
        {
          "output_type": "execute_result",
          "data": {
            "text/plain": [
              "[0, 50, 20, -1, 8, 6, 5, 3, 2, 1]"
            ]
          },
          "metadata": {
            "tags": []
          },
          "execution_count": 62
        }
      ]
    },
    {
      "cell_type": "code",
      "metadata": {
        "colab": {
          "base_uri": "https://localhost:8080/",
          "height": 35
        },
        "id": "SWVAUgx1ElZr",
        "outputId": "94f22537-935c-4156-8aa3-47ea9c70079e"
      },
      "source": [
        "a"
      ],
      "execution_count": 63,
      "outputs": [
        {
          "output_type": "execute_result",
          "data": {
            "application/vnd.google.colaboratory.intrinsic+json": {
              "type": "string"
            },
            "text/plain": [
              "'Stat KKU'"
            ]
          },
          "metadata": {
            "tags": []
          },
          "execution_count": 63
        }
      ]
    },
    {
      "cell_type": "code",
      "metadata": {
        "colab": {
          "base_uri": "https://localhost:8080/",
          "height": 35
        },
        "id": "ms88GDeOE4eg",
        "outputId": "e39b5560-2a1e-46f4-c25f-b01c0f4463ee"
      },
      "source": [
        "a[5:]"
      ],
      "execution_count": 64,
      "outputs": [
        {
          "output_type": "execute_result",
          "data": {
            "application/vnd.google.colaboratory.intrinsic+json": {
              "type": "string"
            },
            "text/plain": [
              "'KKU'"
            ]
          },
          "metadata": {
            "tags": []
          },
          "execution_count": 64
        }
      ]
    },
    {
      "cell_type": "code",
      "metadata": {
        "colab": {
          "base_uri": "https://localhost:8080/",
          "height": 35
        },
        "id": "iW48XdaKFrNh",
        "outputId": "191da8a4-819f-4ff4-a025-a273d6d4e911"
      },
      "source": [
        "a[-3:]"
      ],
      "execution_count": 65,
      "outputs": [
        {
          "output_type": "execute_result",
          "data": {
            "application/vnd.google.colaboratory.intrinsic+json": {
              "type": "string"
            },
            "text/plain": [
              "'KKU'"
            ]
          },
          "metadata": {
            "tags": []
          },
          "execution_count": 65
        }
      ]
    },
    {
      "cell_type": "code",
      "metadata": {
        "colab": {
          "base_uri": "https://localhost:8080/",
          "height": 35
        },
        "id": "mnAkJ4FlFx8x",
        "outputId": "a03ce76b-4468-4313-f1a0-eb29b62f7392"
      },
      "source": [
        "a[5:8]"
      ],
      "execution_count": 68,
      "outputs": [
        {
          "output_type": "execute_result",
          "data": {
            "application/vnd.google.colaboratory.intrinsic+json": {
              "type": "string"
            },
            "text/plain": [
              "'KKU'"
            ]
          },
          "metadata": {
            "tags": []
          },
          "execution_count": 68
        }
      ]
    },
    {
      "cell_type": "code",
      "metadata": {
        "colab": {
          "base_uri": "https://localhost:8080/",
          "height": 35
        },
        "id": "4IWJp-HhF4bB",
        "outputId": "e22fba30-7b5e-4a1d-c698-94d59e5cfd03"
      },
      "source": [
        "a[5::]"
      ],
      "execution_count": 69,
      "outputs": [
        {
          "output_type": "execute_result",
          "data": {
            "application/vnd.google.colaboratory.intrinsic+json": {
              "type": "string"
            },
            "text/plain": [
              "'KKU'"
            ]
          },
          "metadata": {
            "tags": []
          },
          "execution_count": 69
        }
      ]
    },
    {
      "cell_type": "code",
      "metadata": {
        "colab": {
          "base_uri": "https://localhost:8080/",
          "height": 35
        },
        "id": "zNnAqdidGHAH",
        "outputId": "f6b713ad-d09f-4ec0-f902-1fbbcba91b2a"
      },
      "source": [
        "a[-3::]"
      ],
      "execution_count": 70,
      "outputs": [
        {
          "output_type": "execute_result",
          "data": {
            "application/vnd.google.colaboratory.intrinsic+json": {
              "type": "string"
            },
            "text/plain": [
              "'KKU'"
            ]
          },
          "metadata": {
            "tags": []
          },
          "execution_count": 70
        }
      ]
    },
    {
      "cell_type": "code",
      "metadata": {
        "colab": {
          "base_uri": "https://localhost:8080/",
          "height": 35
        },
        "id": "vnNn2a1TGVr7",
        "outputId": "6ae2a18a-772b-4933-fb05-4cfc6f7e08a5"
      },
      "source": [
        "a[-3::1]"
      ],
      "execution_count": 71,
      "outputs": [
        {
          "output_type": "execute_result",
          "data": {
            "application/vnd.google.colaboratory.intrinsic+json": {
              "type": "string"
            },
            "text/plain": [
              "'KKU'"
            ]
          },
          "metadata": {
            "tags": []
          },
          "execution_count": 71
        }
      ]
    },
    {
      "cell_type": "markdown",
      "metadata": {
        "id": "qlQbTjrZGoU6"
      },
      "source": [
        "### list + list"
      ]
    },
    {
      "cell_type": "code",
      "metadata": {
        "colab": {
          "base_uri": "https://localhost:8080/"
        },
        "id": "wwwDzaU-GmoG",
        "outputId": "2b70ea8a-f760-46f3-b96e-fb76ae348871"
      },
      "source": [
        "print(list_a)\n",
        "print(list_b)"
      ],
      "execution_count": 72,
      "outputs": [
        {
          "output_type": "stream",
          "text": [
            "[1, 2, 0.2, 'abs']\n",
            "[2, 'xyz', [1, 2, 0.2, 'abs'], [1, 2, 0.0]]\n"
          ],
          "name": "stdout"
        }
      ]
    },
    {
      "cell_type": "code",
      "metadata": {
        "colab": {
          "base_uri": "https://localhost:8080/"
        },
        "id": "j0e9NVC0GbuK",
        "outputId": "7015af6c-d2bc-4767-b4cc-b8f66a2502e2"
      },
      "source": [
        "list_a + list_b"
      ],
      "execution_count": 73,
      "outputs": [
        {
          "output_type": "execute_result",
          "data": {
            "text/plain": [
              "[1, 2, 0.2, 'abs', 2, 'xyz', [1, 2, 0.2, 'abs'], [1, 2, 0.0]]"
            ]
          },
          "metadata": {
            "tags": []
          },
          "execution_count": 73
        }
      ]
    },
    {
      "cell_type": "markdown",
      "metadata": {
        "id": "j0QW9Dw0LLR7"
      },
      "source": [
        "format string"
      ]
    },
    {
      "cell_type": "markdown",
      "metadata": {
        "id": "oYMLyO80Lth1"
      },
      "source": [
        "```python\n",
        "f'string{ตัวแปร}' \n",
        "```\n",
        "{} เรียกว่า curly brackets"
      ]
    },
    {
      "cell_type": "code",
      "metadata": {
        "colab": {
          "base_uri": "https://localhost:8080/",
          "height": 35
        },
        "id": "PwyWr2O1LQRw",
        "outputId": "ccb8065c-5d16-441f-d66b-f45ccdb4ede3"
      },
      "source": [
        "f'ตัวแปร list_a มีค่าคือ {list_a}'"
      ],
      "execution_count": 77,
      "outputs": [
        {
          "output_type": "execute_result",
          "data": {
            "application/vnd.google.colaboratory.intrinsic+json": {
              "type": "string"
            },
            "text/plain": [
              "\"ตัวแปร list_a มีค่าคือ [1, 2, 0.2, 'abs']\""
            ]
          },
          "metadata": {
            "tags": []
          },
          "execution_count": 77
        }
      ]
    },
    {
      "cell_type": "markdown",
      "metadata": {
        "id": "6vR0evYhHXVl"
      },
      "source": [
        "## Loop"
      ]
    },
    {
      "cell_type": "markdown",
      "metadata": {
        "id": "rnUZEmRyKVKZ"
      },
      "source": [
        "```python\n",
        "for ตัวแปรที่จะรับค่าจากลิสต์ in ลิสต์ที่จะนำมาวนลูป:\n",
        "    do something\n",
        "```"
      ]
    },
    {
      "cell_type": "code",
      "metadata": {
        "colab": {
          "base_uri": "https://localhost:8080/"
        },
        "id": "suYJJjrKJjo0",
        "outputId": "1ff7820a-8dc3-480e-afba-25b378d7a8c1"
      },
      "source": [
        "for i in [1,2,3,4,5]:\n",
        "    print(i+1)    "
      ],
      "execution_count": 76,
      "outputs": [
        {
          "output_type": "stream",
          "text": [
            "2\n",
            "3\n",
            "4\n",
            "5\n",
            "6\n"
          ],
          "name": "stdout"
        }
      ]
    },
    {
      "cell_type": "code",
      "metadata": {
        "colab": {
          "base_uri": "https://localhost:8080/"
        },
        "id": "VMHv-XV9MTuP",
        "outputId": "b1404b75-8869-409a-9cbf-2beeb23fd9f1"
      },
      "source": [
        "for x in [1,2,3,4,5]:\n",
        "    print(f'ค่าตัวแปร x คือ {x} และ x+2={x+2}')"
      ],
      "execution_count": 78,
      "outputs": [
        {
          "output_type": "stream",
          "text": [
            "ค่าตัวแปร x คือ 1 และ x+2=3\n",
            "ค่าตัวแปร x คือ 2 และ x+2=4\n",
            "ค่าตัวแปร x คือ 3 และ x+2=5\n",
            "ค่าตัวแปร x คือ 4 และ x+2=6\n",
            "ค่าตัวแปร x คือ 5 และ x+2=7\n"
          ],
          "name": "stdout"
        }
      ]
    },
    {
      "cell_type": "code",
      "metadata": {
        "colab": {
          "base_uri": "https://localhost:8080/"
        },
        "id": "cwffpb_vMxzw",
        "outputId": "a66eaec4-1501-4a77-d336-0cb8e6c1c948"
      },
      "source": [
        "list5=[1,2,3,4,5]\n",
        "for x in list5:\n",
        "    print(f'ค่าตัวแปร x คือ {x} และ x+2={x+2}')"
      ],
      "execution_count": 79,
      "outputs": [
        {
          "output_type": "stream",
          "text": [
            "ค่าตัวแปร x คือ 1 และ x+2=3\n",
            "ค่าตัวแปร x คือ 2 และ x+2=4\n",
            "ค่าตัวแปร x คือ 3 และ x+2=5\n",
            "ค่าตัวแปร x คือ 4 และ x+2=6\n",
            "ค่าตัวแปร x คือ 5 และ x+2=7\n"
          ],
          "name": "stdout"
        }
      ]
    },
    {
      "cell_type": "code",
      "metadata": {
        "colab": {
          "base_uri": "https://localhost:8080/"
        },
        "id": "lb9857KUMxTo",
        "outputId": "f2d9935e-a19d-4b9c-dce7-b9f4916e5432"
      },
      "source": [
        "list(range(10))"
      ],
      "execution_count": 82,
      "outputs": [
        {
          "output_type": "execute_result",
          "data": {
            "text/plain": [
              "[0, 1, 2, 3, 4, 5, 6, 7, 8, 9]"
            ]
          },
          "metadata": {
            "tags": []
          },
          "execution_count": 82
        }
      ]
    },
    {
      "cell_type": "code",
      "metadata": {
        "colab": {
          "base_uri": "https://localhost:8080/"
        },
        "id": "2dmTCBTcNR9m",
        "outputId": "77212f2f-6bff-4854-cccc-26901965f960"
      },
      "source": [
        "for i in range(2,7):\n",
        "    print(i)"
      ],
      "execution_count": 83,
      "outputs": [
        {
          "output_type": "stream",
          "text": [
            "2\n",
            "3\n",
            "4\n",
            "5\n",
            "6\n"
          ],
          "name": "stdout"
        }
      ]
    },
    {
      "cell_type": "code",
      "metadata": {
        "colab": {
          "base_uri": "https://localhost:8080/"
        },
        "id": "mi7nnoJaN0VA",
        "outputId": "3d6da848-5188-48bb-cdc8-b473d2f29eef"
      },
      "source": [
        "for i in range(2,7,2):\n",
        "    print(i)"
      ],
      "execution_count": 84,
      "outputs": [
        {
          "output_type": "stream",
          "text": [
            "2\n",
            "4\n",
            "6\n"
          ],
          "name": "stdout"
        }
      ]
    },
    {
      "cell_type": "code",
      "metadata": {
        "colab": {
          "base_uri": "https://localhost:8080/"
        },
        "id": "zOykZGgHOPQp",
        "outputId": "6fa0088c-039e-4ff3-b34a-a9277db068c4"
      },
      "source": [
        "for i in range(5):\n",
        "    print('hahaha')"
      ],
      "execution_count": 85,
      "outputs": [
        {
          "output_type": "stream",
          "text": [
            "hahaha\n",
            "hahaha\n",
            "hahaha\n",
            "hahaha\n",
            "hahaha\n"
          ],
          "name": "stdout"
        }
      ]
    },
    {
      "cell_type": "code",
      "metadata": {
        "colab": {
          "base_uri": "https://localhost:8080/"
        },
        "id": "bZqefgBNOd4E",
        "outputId": "4fdb62b2-627c-4971-9b7d-ab87d7a454bb"
      },
      "source": [
        "for i in range(5):\n",
        "    print('hahaha')\n",
        "    x = i + 3\n",
        "    print(f'i={i} x={x}')"
      ],
      "execution_count": 86,
      "outputs": [
        {
          "output_type": "stream",
          "text": [
            "hahaha\n",
            "i=0 x=3\n",
            "hahaha\n",
            "i=1 x=4\n",
            "hahaha\n",
            "i=2 x=5\n",
            "hahaha\n",
            "i=3 x=6\n",
            "hahaha\n",
            "i=4 x=7\n"
          ],
          "name": "stdout"
        }
      ]
    },
    {
      "cell_type": "markdown",
      "metadata": {
        "id": "EoCBpaI3PBFM"
      },
      "source": [
        "### Nested loop"
      ]
    },
    {
      "cell_type": "code",
      "metadata": {
        "colab": {
          "base_uri": "https://localhost:8080/"
        },
        "id": "dHJHUdmTO_5s",
        "outputId": "52f3e7e6-32b5-4955-947a-bf03b9abd2a1"
      },
      "source": [
        "for i in range(3):\n",
        "    print(f'now i = {i}')\n",
        "    print('start j loop')\n",
        "    for j in range(4):\n",
        "        print(f'i = {i} j = {j} i+j = {i+j}')\n",
        "    print('end j loop')"
      ],
      "execution_count": 89,
      "outputs": [
        {
          "output_type": "stream",
          "text": [
            "now i = 0\n",
            "start j loop\n",
            "i = 0 j = 0 i+j = 0\n",
            "i = 0 j = 1 i+j = 1\n",
            "i = 0 j = 2 i+j = 2\n",
            "i = 0 j = 3 i+j = 3\n",
            "end j loop\n",
            "now i = 1\n",
            "start j loop\n",
            "i = 1 j = 0 i+j = 1\n",
            "i = 1 j = 1 i+j = 2\n",
            "i = 1 j = 2 i+j = 3\n",
            "i = 1 j = 3 i+j = 4\n",
            "end j loop\n",
            "now i = 2\n",
            "start j loop\n",
            "i = 2 j = 0 i+j = 2\n",
            "i = 2 j = 1 i+j = 3\n",
            "i = 2 j = 2 i+j = 4\n",
            "i = 2 j = 3 i+j = 5\n",
            "end j loop\n"
          ],
          "name": "stdout"
        }
      ]
    },
    {
      "cell_type": "markdown",
      "metadata": {
        "id": "fR_LmCc7Had-"
      },
      "source": [
        "## Condition\n",
        "## Function"
      ]
    },
    {
      "cell_type": "code",
      "metadata": {
        "id": "fD6_rJQ-HF57"
      },
      "source": [
        ""
      ],
      "execution_count": null,
      "outputs": []
    }
  ]
}