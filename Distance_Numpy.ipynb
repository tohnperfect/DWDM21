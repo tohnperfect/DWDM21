{
  "nbformat": 4,
  "nbformat_minor": 0,
  "metadata": {
    "colab": {
      "name": "Distance_Numpy.ipynb",
      "provenance": [],
      "authorship_tag": "ABX9TyMCY5XiKHuT42JDjSAIzJnd",
      "include_colab_link": true
    },
    "kernelspec": {
      "name": "python3",
      "display_name": "Python 3"
    },
    "language_info": {
      "name": "python"
    }
  },
  "cells": [
    {
      "cell_type": "markdown",
      "metadata": {
        "id": "view-in-github",
        "colab_type": "text"
      },
      "source": [
        "<a href=\"https://colab.research.google.com/github/tohnperfect/DWDM21/blob/main/Distance_Numpy.ipynb\" target=\"_parent\"><img src=\"https://colab.research.google.com/assets/colab-badge.svg\" alt=\"Open In Colab\"/></a>"
      ]
    },
    {
      "cell_type": "code",
      "metadata": {
        "id": "F2TdENrfcrro"
      },
      "source": [
        "import numpy as np # package สำหรับทำงานกับ ข้อมูลที่เป็นตัวเลข (อยู่ในรูปแบบ matrix)"
      ],
      "execution_count": 1,
      "outputs": []
    },
    {
      "cell_type": "markdown",
      "metadata": {
        "id": "yEvoUsgKdZmt"
      },
      "source": [
        "# Numpy Array"
      ]
    },
    {
      "cell_type": "markdown",
      "metadata": {
        "id": "KCd_z_dediXq"
      },
      "source": [
        "## สร้าง numpy array (matrix) จาก list"
      ]
    },
    {
      "cell_type": "code",
      "metadata": {
        "id": "7YAMSZRidLbd"
      },
      "source": [
        "np_a = np.array([[1,2,3],[4,5,6]]) #สร้าง numpy array ที่มี 2 แถว 3 หลัก"
      ],
      "execution_count": 2,
      "outputs": []
    },
    {
      "cell_type": "code",
      "metadata": {
        "colab": {
          "base_uri": "https://localhost:8080/"
        },
        "id": "Fwr3EyCNd0qX",
        "outputId": "d613e49c-e7df-49d9-f2ef-375b12aa81bc"
      },
      "source": [
        "np_a"
      ],
      "execution_count": 3,
      "outputs": [
        {
          "output_type": "execute_result",
          "data": {
            "text/plain": [
              "array([[1, 2, 3],\n",
              "       [4, 5, 6]])"
            ]
          },
          "metadata": {},
          "execution_count": 3
        }
      ]
    },
    {
      "cell_type": "code",
      "metadata": {
        "colab": {
          "base_uri": "https://localhost:8080/"
        },
        "id": "VRsPfk-ld1yf",
        "outputId": "8f10375a-6bb0-4b75-db17-6a76888a852d"
      },
      "source": [
        "np_a.shape"
      ],
      "execution_count": 4,
      "outputs": [
        {
          "output_type": "execute_result",
          "data": {
            "text/plain": [
              "(2, 3)"
            ]
          },
          "metadata": {},
          "execution_count": 4
        }
      ]
    },
    {
      "cell_type": "code",
      "metadata": {
        "colab": {
          "base_uri": "https://localhost:8080/"
        },
        "id": "msM37LOIeEZE",
        "outputId": "8d309681-1c9d-4b6a-a038-b2dc6f4d0ee5"
      },
      "source": [
        "np_b = np.array([[1,4],[2,5],[3,6]])\n",
        "np_b"
      ],
      "execution_count": 5,
      "outputs": [
        {
          "output_type": "execute_result",
          "data": {
            "text/plain": [
              "array([[1, 4],\n",
              "       [2, 5],\n",
              "       [3, 6]])"
            ]
          },
          "metadata": {},
          "execution_count": 5
        }
      ]
    },
    {
      "cell_type": "markdown",
      "metadata": {
        "id": "PzZ4Lc3he6AO"
      },
      "source": [
        "## สร้าง matrix เริ่มต้น (zeros, ones)"
      ]
    },
    {
      "cell_type": "code",
      "metadata": {
        "colab": {
          "base_uri": "https://localhost:8080/"
        },
        "id": "tqkQmY17epiz",
        "outputId": "8c41109b-a8d3-46de-d71c-072345ea4ea2"
      },
      "source": [
        "np_z = np.zeros((4,5))\n",
        "np_z"
      ],
      "execution_count": 6,
      "outputs": [
        {
          "output_type": "execute_result",
          "data": {
            "text/plain": [
              "array([[0., 0., 0., 0., 0.],\n",
              "       [0., 0., 0., 0., 0.],\n",
              "       [0., 0., 0., 0., 0.],\n",
              "       [0., 0., 0., 0., 0.]])"
            ]
          },
          "metadata": {},
          "execution_count": 6
        }
      ]
    },
    {
      "cell_type": "code",
      "metadata": {
        "colab": {
          "base_uri": "https://localhost:8080/"
        },
        "id": "esV63SJ2fdC8",
        "outputId": "3386e2c9-783b-4dd0-acd6-07620d3a5ff7"
      },
      "source": [
        "np_o = np.ones((5,6))\n",
        "np_o"
      ],
      "execution_count": 7,
      "outputs": [
        {
          "output_type": "execute_result",
          "data": {
            "text/plain": [
              "array([[1., 1., 1., 1., 1., 1.],\n",
              "       [1., 1., 1., 1., 1., 1.],\n",
              "       [1., 1., 1., 1., 1., 1.],\n",
              "       [1., 1., 1., 1., 1., 1.],\n",
              "       [1., 1., 1., 1., 1., 1.]])"
            ]
          },
          "metadata": {},
          "execution_count": 7
        }
      ]
    },
    {
      "cell_type": "code",
      "metadata": {
        "colab": {
          "base_uri": "https://localhost:8080/"
        },
        "id": "N9zornzkfoHu",
        "outputId": "3726f428-c869-4e79-d1c1-e144f5cde1bf"
      },
      "source": [
        "np_200 = 200 * np.ones((4,7))\n",
        "np_200"
      ],
      "execution_count": 8,
      "outputs": [
        {
          "output_type": "execute_result",
          "data": {
            "text/plain": [
              "array([[200., 200., 200., 200., 200., 200., 200.],\n",
              "       [200., 200., 200., 200., 200., 200., 200.],\n",
              "       [200., 200., 200., 200., 200., 200., 200.],\n",
              "       [200., 200., 200., 200., 200., 200., 200.]])"
            ]
          },
          "metadata": {},
          "execution_count": 8
        }
      ]
    },
    {
      "cell_type": "markdown",
      "metadata": {
        "id": "6Q4HYsCTgX1i"
      },
      "source": [
        "## สร้าว matrix random"
      ]
    },
    {
      "cell_type": "code",
      "metadata": {
        "colab": {
          "base_uri": "https://localhost:8080/"
        },
        "id": "RAxYZ2Ozf_3_",
        "outputId": "110ba527-19dc-41c3-8d03-f37eb4ba086b"
      },
      "source": [
        "np.random.randn(5,5) # random เลขมาจาก normal distribution ที่มี mu=0 std=1"
      ],
      "execution_count": 9,
      "outputs": [
        {
          "output_type": "execute_result",
          "data": {
            "text/plain": [
              "array([[-1.08753297,  0.45094821,  0.61806274,  0.93101872,  1.20188928],\n",
              "       [-1.50144084,  1.13406025, -2.272908  ,  0.25667713,  0.76041526],\n",
              "       [-1.00551313, -1.40567902,  0.0955183 ,  1.68964842, -0.54328041],\n",
              "       [ 0.75311475, -0.12289865,  2.23601285,  1.27974721, -0.10364104],\n",
              "       [ 1.56026476,  1.17890295,  1.32473104,  0.00353078,  0.05634957]])"
            ]
          },
          "metadata": {},
          "execution_count": 9
        }
      ]
    },
    {
      "cell_type": "code",
      "metadata": {
        "colab": {
          "base_uri": "https://localhost:8080/"
        },
        "id": "vlQVm8vIguNd",
        "outputId": "cb0d5cc5-3566-4951-e0b6-4013c487937d"
      },
      "source": [
        "2+(5*np.random.randn(3,3)) # random เลขมาจาก normal distribution ที่มี mu=2 std=5"
      ],
      "execution_count": 10,
      "outputs": [
        {
          "output_type": "execute_result",
          "data": {
            "text/plain": [
              "array([[ 2.29225658,  3.75083792,  1.20424264],\n",
              "       [ 2.11262589,  8.73453232, -1.57229479],\n",
              "       [ 1.840083  ,  2.41431158,  3.34761452]])"
            ]
          },
          "metadata": {},
          "execution_count": 10
        }
      ]
    },
    {
      "cell_type": "code",
      "metadata": {
        "colab": {
          "base_uri": "https://localhost:8080/"
        },
        "id": "9Hm2iEwQhIYh",
        "outputId": "5ba4f954-f2cb-4542-eb07-a4beaeb35937"
      },
      "source": [
        "np.random.randint(5,11,(4,5)) # random เลขจำนวนเต็ม ระหว่าง [5,11) ขนาด (4x5)"
      ],
      "execution_count": 11,
      "outputs": [
        {
          "output_type": "execute_result",
          "data": {
            "text/plain": [
              "array([[10,  8, 10,  5,  7],\n",
              "       [ 7,  7,  9,  5,  7],\n",
              "       [ 8, 10,  5,  7,  8],\n",
              "       [ 6,  6,  5, 10, 10]])"
            ]
          },
          "metadata": {},
          "execution_count": 11
        }
      ]
    },
    {
      "cell_type": "markdown",
      "metadata": {
        "id": "qnFH7aiEeluu"
      },
      "source": [
        "### matrix properties"
      ]
    },
    {
      "cell_type": "code",
      "metadata": {
        "colab": {
          "base_uri": "https://localhost:8080/"
        },
        "id": "3r50q0AfOfib",
        "outputId": "e9403b93-197b-4cf9-ca70-5458c6e84f8a"
      },
      "source": [
        "np_a"
      ],
      "execution_count": 12,
      "outputs": [
        {
          "output_type": "execute_result",
          "data": {
            "text/plain": [
              "array([[1, 2, 3],\n",
              "       [4, 5, 6]])"
            ]
          },
          "metadata": {},
          "execution_count": 12
        }
      ]
    },
    {
      "cell_type": "code",
      "metadata": {
        "colab": {
          "base_uri": "https://localhost:8080/"
        },
        "id": "m0qDTUU-eak6",
        "outputId": "71950167-0f37-4b33-9cc3-91f738e76676"
      },
      "source": [
        "np_a.T  #transpose"
      ],
      "execution_count": 13,
      "outputs": [
        {
          "output_type": "execute_result",
          "data": {
            "text/plain": [
              "array([[1, 4],\n",
              "       [2, 5],\n",
              "       [3, 6]])"
            ]
          },
          "metadata": {},
          "execution_count": 13
        }
      ]
    },
    {
      "cell_type": "code",
      "metadata": {
        "id": "1lgZ6O5phgp-",
        "colab": {
          "base_uri": "https://localhost:8080/"
        },
        "outputId": "6f3e659c-f1de-4b0d-ee44-01c47a7d1399"
      },
      "source": [
        "1 + np_a  #adding scalar to matrix"
      ],
      "execution_count": 14,
      "outputs": [
        {
          "output_type": "execute_result",
          "data": {
            "text/plain": [
              "array([[2, 3, 4],\n",
              "       [5, 6, 7]])"
            ]
          },
          "metadata": {},
          "execution_count": 14
        }
      ]
    },
    {
      "cell_type": "code",
      "metadata": {
        "colab": {
          "base_uri": "https://localhost:8080/"
        },
        "id": "XSM79veVOr_z",
        "outputId": "dad6159a-2e03-44e8-89a3-c67c8599cb03"
      },
      "source": [
        "2 * np_a  #multipling scalar to matrix"
      ],
      "execution_count": 15,
      "outputs": [
        {
          "output_type": "execute_result",
          "data": {
            "text/plain": [
              "array([[ 2,  4,  6],\n",
              "       [ 8, 10, 12]])"
            ]
          },
          "metadata": {},
          "execution_count": 15
        }
      ]
    },
    {
      "cell_type": "code",
      "metadata": {
        "colab": {
          "base_uri": "https://localhost:8080/"
        },
        "id": "yz4WsBGwPNHT",
        "outputId": "a8947019-8555-4d5d-e97a-eeccc6aeb580"
      },
      "source": [
        "np_c = np.array([[6,5,4],[3,2,1]])\n",
        "np_c"
      ],
      "execution_count": 16,
      "outputs": [
        {
          "output_type": "execute_result",
          "data": {
            "text/plain": [
              "array([[6, 5, 4],\n",
              "       [3, 2, 1]])"
            ]
          },
          "metadata": {},
          "execution_count": 16
        }
      ]
    },
    {
      "cell_type": "code",
      "metadata": {
        "colab": {
          "base_uri": "https://localhost:8080/"
        },
        "id": "nzBLnettPAzy",
        "outputId": "46c5126c-1b40-4342-8f26-b07c9f2ce2cb"
      },
      "source": [
        "np_a + np_c  #adding matrix to matrix"
      ],
      "execution_count": 17,
      "outputs": [
        {
          "output_type": "execute_result",
          "data": {
            "text/plain": [
              "array([[7, 7, 7],\n",
              "       [7, 7, 7]])"
            ]
          },
          "metadata": {},
          "execution_count": 17
        }
      ]
    },
    {
      "cell_type": "code",
      "metadata": {
        "colab": {
          "base_uri": "https://localhost:8080/"
        },
        "id": "nmBrnrM1PKxD",
        "outputId": "f375138a-ed52-4a0e-a23d-204ef49580ce"
      },
      "source": [
        "np_a.shape"
      ],
      "execution_count": 18,
      "outputs": [
        {
          "output_type": "execute_result",
          "data": {
            "text/plain": [
              "(2, 3)"
            ]
          },
          "metadata": {},
          "execution_count": 18
        }
      ]
    },
    {
      "cell_type": "code",
      "metadata": {
        "colab": {
          "base_uri": "https://localhost:8080/"
        },
        "id": "GQ9pggG5QC_M",
        "outputId": "90ae1d4b-3ec1-423b-f1c0-c77cbb9ab3b6"
      },
      "source": [
        "np_c.shape"
      ],
      "execution_count": 19,
      "outputs": [
        {
          "output_type": "execute_result",
          "data": {
            "text/plain": [
              "(2, 3)"
            ]
          },
          "metadata": {},
          "execution_count": 19
        }
      ]
    },
    {
      "cell_type": "code",
      "metadata": {
        "colab": {
          "base_uri": "https://localhost:8080/"
        },
        "id": "U6Wba9s4Qhov",
        "outputId": "8f8abddd-eae1-4ed1-a9ba-50096a3368ab"
      },
      "source": [
        "np_c.T.shape"
      ],
      "execution_count": 20,
      "outputs": [
        {
          "output_type": "execute_result",
          "data": {
            "text/plain": [
              "(3, 2)"
            ]
          },
          "metadata": {},
          "execution_count": 20
        }
      ]
    },
    {
      "cell_type": "markdown",
      "metadata": {
        "id": "j3406FdyRBru"
      },
      "source": [
        "![VectorsandMatrices.PNG](data:image/png;base64,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)"
      ]
    },
    {
      "cell_type": "code",
      "metadata": {
        "colab": {
          "base_uri": "https://localhost:8080/"
        },
        "id": "vx7M_HvmQFIe",
        "outputId": "a419c685-4ce7-4e8c-e7be-a417ea47f3fa"
      },
      "source": [
        "np.dot(np_a,np_c.T)  #multipling matrix to matrix   (a,b) x (b,c) = (a,c)"
      ],
      "execution_count": 21,
      "outputs": [
        {
          "output_type": "execute_result",
          "data": {
            "text/plain": [
              "array([[28, 10],\n",
              "       [73, 28]])"
            ]
          },
          "metadata": {},
          "execution_count": 21
        }
      ]
    },
    {
      "cell_type": "markdown",
      "metadata": {
        "id": "TF-vIpv0ROPs"
      },
      "source": [
        "## Indexing & Slicing"
      ]
    },
    {
      "cell_type": "code",
      "metadata": {
        "colab": {
          "base_uri": "https://localhost:8080/"
        },
        "id": "Pi18pR88RdpT",
        "outputId": "e90da432-f148-4198-e5ae-ee0b05e3bfed"
      },
      "source": [
        "np_a"
      ],
      "execution_count": 22,
      "outputs": [
        {
          "output_type": "execute_result",
          "data": {
            "text/plain": [
              "array([[1, 2, 3],\n",
              "       [4, 5, 6]])"
            ]
          },
          "metadata": {},
          "execution_count": 22
        }
      ]
    },
    {
      "cell_type": "code",
      "metadata": {
        "colab": {
          "base_uri": "https://localhost:8080/"
        },
        "id": "UtxhcLPgQMHz",
        "outputId": "74d22b80-0d3b-4d56-d478-76d9f0f73ac8"
      },
      "source": [
        "np_a[1,1] "
      ],
      "execution_count": 23,
      "outputs": [
        {
          "output_type": "execute_result",
          "data": {
            "text/plain": [
              "5"
            ]
          },
          "metadata": {},
          "execution_count": 23
        }
      ]
    },
    {
      "cell_type": "code",
      "metadata": {
        "colab": {
          "base_uri": "https://localhost:8080/"
        },
        "id": "DoCXvLGlR80V",
        "outputId": "9292fe27-bd91-44c5-c8d2-c0933ac5804f"
      },
      "source": [
        "np_a[:2,:2]"
      ],
      "execution_count": 24,
      "outputs": [
        {
          "output_type": "execute_result",
          "data": {
            "text/plain": [
              "array([[1, 2],\n",
              "       [4, 5]])"
            ]
          },
          "metadata": {},
          "execution_count": 24
        }
      ]
    },
    {
      "cell_type": "code",
      "metadata": {
        "colab": {
          "base_uri": "https://localhost:8080/"
        },
        "id": "evTd2rBNSS7r",
        "outputId": "7de3a8b0-60dc-4a5c-a9c1-04ec8812c7f5"
      },
      "source": [
        "np_a[0,:]"
      ],
      "execution_count": 25,
      "outputs": [
        {
          "output_type": "execute_result",
          "data": {
            "text/plain": [
              "array([1, 2, 3])"
            ]
          },
          "metadata": {},
          "execution_count": 25
        }
      ]
    },
    {
      "cell_type": "markdown",
      "metadata": {
        "id": "ySU1335pSljN"
      },
      "source": [
        "## Useful functions"
      ]
    },
    {
      "cell_type": "code",
      "metadata": {
        "colab": {
          "base_uri": "https://localhost:8080/"
        },
        "id": "rAaagF8RS29P",
        "outputId": "0259cd97-3bfb-4996-a721-a9b71d60c485"
      },
      "source": [
        "np_a"
      ],
      "execution_count": 26,
      "outputs": [
        {
          "output_type": "execute_result",
          "data": {
            "text/plain": [
              "array([[1, 2, 3],\n",
              "       [4, 5, 6]])"
            ]
          },
          "metadata": {},
          "execution_count": 26
        }
      ]
    },
    {
      "cell_type": "code",
      "metadata": {
        "colab": {
          "base_uri": "https://localhost:8080/"
        },
        "id": "k9dnyPmASYAj",
        "outputId": "ca36ba6e-2a59-4feb-c8d7-1567dcfa79d7"
      },
      "source": [
        "np.sum(np_a)"
      ],
      "execution_count": 27,
      "outputs": [
        {
          "output_type": "execute_result",
          "data": {
            "text/plain": [
              "21"
            ]
          },
          "metadata": {},
          "execution_count": 27
        }
      ]
    },
    {
      "cell_type": "code",
      "metadata": {
        "colab": {
          "base_uri": "https://localhost:8080/"
        },
        "id": "IxMhzcNDSxPI",
        "outputId": "5f22524c-ff10-41bc-85d0-08ebc43924a0"
      },
      "source": [
        "np.sum(np_a,axis=0)  # axis 0 ก็คือรวมเลขในแต่ละแถว"
      ],
      "execution_count": 28,
      "outputs": [
        {
          "output_type": "execute_result",
          "data": {
            "text/plain": [
              "array([5, 7, 9])"
            ]
          },
          "metadata": {},
          "execution_count": 28
        }
      ]
    },
    {
      "cell_type": "code",
      "metadata": {
        "colab": {
          "base_uri": "https://localhost:8080/"
        },
        "id": "WqQyXpX4TFif",
        "outputId": "991baa15-da26-43aa-a593-d67dc5b9106d"
      },
      "source": [
        "np.sum(np_a,axis=1)  # axis 1 ก็คือรวมเลขในแต่ละหลัก"
      ],
      "execution_count": 29,
      "outputs": [
        {
          "output_type": "execute_result",
          "data": {
            "text/plain": [
              "array([ 6, 15])"
            ]
          },
          "metadata": {},
          "execution_count": 29
        }
      ]
    },
    {
      "cell_type": "code",
      "metadata": {
        "colab": {
          "base_uri": "https://localhost:8080/"
        },
        "id": "P-7gTl-jTOEC",
        "outputId": "1b9963aa-ed23-40b3-aa20-3d33a825bd8b"
      },
      "source": [
        "np.mean(np_a)"
      ],
      "execution_count": 30,
      "outputs": [
        {
          "output_type": "execute_result",
          "data": {
            "text/plain": [
              "3.5"
            ]
          },
          "metadata": {},
          "execution_count": 30
        }
      ]
    },
    {
      "cell_type": "code",
      "metadata": {
        "colab": {
          "base_uri": "https://localhost:8080/"
        },
        "id": "1cgffbFgTbDq",
        "outputId": "41261ab5-cced-4b4b-d2f3-44054d21e187"
      },
      "source": [
        "np.mean(np_a,axis=0)  #หา mean ของ column"
      ],
      "execution_count": 31,
      "outputs": [
        {
          "output_type": "execute_result",
          "data": {
            "text/plain": [
              "array([2.5, 3.5, 4.5])"
            ]
          },
          "metadata": {},
          "execution_count": 31
        }
      ]
    },
    {
      "cell_type": "markdown",
      "metadata": {
        "id": "0GHjVWEuUrHY"
      },
      "source": [
        "## วนลูปเอง"
      ]
    },
    {
      "cell_type": "markdown",
      "metadata": {
        "id": "qfHxRNZzU-o0"
      },
      "source": [
        "#### summation"
      ]
    },
    {
      "cell_type": "code",
      "metadata": {
        "colab": {
          "base_uri": "https://localhost:8080/"
        },
        "id": "82jk10YPVOlN",
        "outputId": "ceb2004d-ad58-4008-fbf3-6a4a6afe00ea"
      },
      "source": [
        "np_a.shape"
      ],
      "execution_count": 32,
      "outputs": [
        {
          "output_type": "execute_result",
          "data": {
            "text/plain": [
              "(2, 3)"
            ]
          },
          "metadata": {},
          "execution_count": 32
        }
      ]
    },
    {
      "cell_type": "markdown",
      "metadata": {
        "id": "lJ5z5BpGWp9e"
      },
      "source": [
        "```np.sum(np_a)```"
      ]
    },
    {
      "cell_type": "code",
      "metadata": {
        "colab": {
          "base_uri": "https://localhost:8080/"
        },
        "id": "zAEwcv04UG0y",
        "outputId": "43a46b39-6505-44c5-d7cb-0acece991301"
      },
      "source": [
        "sum_all = 0\n",
        "\n",
        "for row in range(np_a.shape[0]):\n",
        "    for col in range(np_a.shape[1]):\n",
        "        sum_all = sum_all + np_a[row,col]\n",
        "        print(f'we are at row={row},col={col} np_a[{row},{col}]={np_a[row,col]}  sum_all={sum_all}')\n",
        "print(sum_all)"
      ],
      "execution_count": 33,
      "outputs": [
        {
          "output_type": "stream",
          "name": "stdout",
          "text": [
            "we are at row=0,col=0 np_a[0,0]=1  sum_all=1\n",
            "we are at row=0,col=1 np_a[0,1]=2  sum_all=3\n",
            "we are at row=0,col=2 np_a[0,2]=3  sum_all=6\n",
            "we are at row=1,col=0 np_a[1,0]=4  sum_all=10\n",
            "we are at row=1,col=1 np_a[1,1]=5  sum_all=15\n",
            "we are at row=1,col=2 np_a[1,2]=6  sum_all=21\n",
            "21\n"
          ]
        }
      ]
    },
    {
      "cell_type": "markdown",
      "metadata": {
        "id": "a39Jkm1-Wy0M"
      },
      "source": [
        "```np.sum(np_a,axis=0)```"
      ]
    },
    {
      "cell_type": "code",
      "metadata": {
        "colab": {
          "base_uri": "https://localhost:8080/"
        },
        "id": "rwttlRZjV1zL",
        "outputId": "2cfc1036-46a1-40c9-de02-e0a18b149b8c"
      },
      "source": [
        "sum_all = np.zeros(np_a.shape[1])\n",
        "\n",
        "for row in range(np_a.shape[0]):\n",
        "    for col in range(np_a.shape[1]):\n",
        "        sum_all[col] = sum_all[col] + np_a[row,col]\n",
        "print(sum_all)"
      ],
      "execution_count": 34,
      "outputs": [
        {
          "output_type": "stream",
          "name": "stdout",
          "text": [
            "[5. 7. 9.]\n"
          ]
        }
      ]
    },
    {
      "cell_type": "markdown",
      "metadata": {
        "id": "io-Mz-vJYiO-"
      },
      "source": [
        "Quiz กลุ่ม\n",
        "\n",
        "วนลูปหาค่า\n",
        "\n",
        "* ```np.sum(np_a,axis=1)``` sukuna /\n",
        "* ```np.mean(np_a)``` i love อ.ต้น /\n",
        "* ```np.mean(np_a,axis=0)``` natashar /\n",
        "* ```np.mean(np_a,axis=1)``` teletubby /\n",
        "* ```np.max(np_a)``` numba one /\n",
        "* ```np.max(np_a,axis=0)``` เอกาไร้สติ /\n",
        "* ```np.max(np_a,axis=1)``` sandbox /\n",
        "* ```np.min(np_a)``` ลูกหมี /\n",
        "* ```np.min(np_a,axis=0)``` wakame /\n",
        "* ```np.min(np_a,axis=1)``` แมวส้ม /"
      ]
    },
    {
      "cell_type": "code",
      "metadata": {
        "colab": {
          "base_uri": "https://localhost:8080/"
        },
        "id": "dGO_SMwPXf5P",
        "outputId": "2b221982-91b7-409a-db0a-bb11bca5d75c"
      },
      "source": [
        "# np.max(np_a,axis=1)\n",
        "max_all = np.zeros(np_a.shape[0])\n",
        "for row in range(np_a.shape[0]):\n",
        "    max_all[row] = max(np_a[row,:])\n",
        "print(max_all)"
      ],
      "execution_count": 35,
      "outputs": [
        {
          "output_type": "stream",
          "name": "stdout",
          "text": [
            "[3. 6.]\n"
          ]
        }
      ]
    },
    {
      "cell_type": "code",
      "metadata": {
        "colab": {
          "base_uri": "https://localhost:8080/"
        },
        "id": "KL8VuMv8dnRB",
        "outputId": "e58063d1-a4d7-4aba-e060-a7c9873d86ce"
      },
      "source": [
        "#np.mean(np_a,axis=0)\n",
        "mean_all = np.zeros(np_a.shape[1])\n",
        "for row in range(np_a.shape[0]):\n",
        "     for col in range(np_a.shape[1]):\n",
        "          mean_all[col] = mean_all[col] + np_a[row,col]/np_a.shape[0]\n",
        "print(mean_all)"
      ],
      "execution_count": 36,
      "outputs": [
        {
          "output_type": "stream",
          "name": "stdout",
          "text": [
            "[2.5 3.5 4.5]\n"
          ]
        }
      ]
    },
    {
      "cell_type": "code",
      "metadata": {
        "colab": {
          "base_uri": "https://localhost:8080/"
        },
        "id": "nkL4nmose3yY",
        "outputId": "60278d41-d988-40cf-b9be-e925ccaabbda"
      },
      "source": [
        "#np.mean(np_a,axis=1)\n",
        "sum_all = np.zeros(np_a.shape[0])\n",
        "for row in range(np_a.shape[0]):\n",
        "    for col in range(np_a.shape[1]): \n",
        "        sum_all[row] = sum_all[row] + np_a[row,col]\n",
        "sum_all = sum_all/np_a.shape[1]\n",
        "print(sum_all)"
      ],
      "execution_count": 37,
      "outputs": [
        {
          "output_type": "stream",
          "name": "stdout",
          "text": [
            "[2. 5.]\n"
          ]
        }
      ]
    },
    {
      "cell_type": "code",
      "metadata": {
        "colab": {
          "base_uri": "https://localhost:8080/"
        },
        "id": "quWQF_yEgOzm",
        "outputId": "90dca834-6ddb-48b3-f532-cb0c4371478d"
      },
      "source": [
        "#np.max(np_a)\n",
        "max_a = -100000000\n",
        "for row in range(np_a.shape[0]):\n",
        "    for col in range(np_a.shape[1]):\n",
        "        if np_a[row,col] > max_a :\n",
        "            max_a = np_a[row,col]\n",
        "print(max_a)"
      ],
      "execution_count": 38,
      "outputs": [
        {
          "output_type": "stream",
          "name": "stdout",
          "text": [
            "6\n"
          ]
        }
      ]
    },
    {
      "cell_type": "code",
      "metadata": {
        "colab": {
          "base_uri": "https://localhost:8080/"
        },
        "id": "LRGuywWlhAyZ",
        "outputId": "c90e1cbf-e840-494b-b9d4-ca03dcde986e"
      },
      "source": [
        "### 10. np.min(np_a,axis=1)\n",
        "min_row = np.zeros(np_a.shape[0])\n",
        "for row in range(np_a.shape[0]):\n",
        "   min_row[row] = min(np_a[row,:])\n",
        "print(min_row)"
      ],
      "execution_count": 39,
      "outputs": [
        {
          "output_type": "stream",
          "name": "stdout",
          "text": [
            "[1. 4.]\n"
          ]
        }
      ]
    },
    {
      "cell_type": "code",
      "metadata": {
        "colab": {
          "base_uri": "https://localhost:8080/"
        },
        "id": "z6A-Aw9eiHHD",
        "outputId": "9fc9c76d-4935-4a88-9574-f31854f33da8"
      },
      "source": [
        "# np.min(np_a,axis=0)\n",
        "min_all = np.zeros(np_a.shape[1])\n",
        "\n",
        "for col in range(np_a.shape[1]):\n",
        "    min_all[col] = min(np_a[:,col])\n",
        "print(min_all)"
      ],
      "execution_count": 40,
      "outputs": [
        {
          "output_type": "stream",
          "name": "stdout",
          "text": [
            "[1. 2. 3.]\n"
          ]
        }
      ]
    },
    {
      "cell_type": "code",
      "metadata": {
        "colab": {
          "base_uri": "https://localhost:8080/"
        },
        "id": "6a2EYE9Gixd4",
        "outputId": "a5a7e777-d3ca-4bce-ce7e-09e24d72f345"
      },
      "source": [
        "# np.min(np_a)  ลูกหมี\n",
        "minV = 100000\n",
        "for row in range(np_a.shape[0]):\n",
        "    for col in range(np_a.shape[1]):\n",
        "        if np_a[row,col] < minV:\n",
        "            minV = np_a[row,col]\n",
        "print(minV)\n"
      ],
      "execution_count": 41,
      "outputs": [
        {
          "output_type": "stream",
          "name": "stdout",
          "text": [
            "1\n"
          ]
        }
      ]
    },
    {
      "cell_type": "code",
      "metadata": {
        "colab": {
          "base_uri": "https://localhost:8080/"
        },
        "id": "T6-aXIFyjZBX",
        "outputId": "1babecd2-9d94-4f6d-a9e9-0a79a8cf93b6"
      },
      "source": [
        "# np.max(np_a,axis=0)\n",
        "max_all = -100000 * np.ones(np_a.shape[1])\n",
        "for col in range(np_a.shape[1]):\n",
        "    for row in range(np_a.shape[0]):\n",
        "        if np_a[row,col] > max_all[col]: \n",
        "            max_all[col] = np_a[row,col]\n",
        "print(max_all)"
      ],
      "execution_count": 42,
      "outputs": [
        {
          "output_type": "stream",
          "name": "stdout",
          "text": [
            "[4. 5. 6.]\n"
          ]
        }
      ]
    },
    {
      "cell_type": "code",
      "metadata": {
        "colab": {
          "base_uri": "https://localhost:8080/"
        },
        "id": "xjm10yXRkhGn",
        "outputId": "3a58fa2e-de1c-49fa-8561-0a75018d9744"
      },
      "source": [
        "#np.mean(np_a)\n",
        "mean_all = 0\n",
        "for row in range(np_a.shape[0]):\n",
        "    for col in range(np_a.shape[1]):\n",
        "        mean_all = mean_all + np_a[row,col]\n",
        "mean_all = mean_all/(np_a.shape[0]*np_a.shape[1])\n",
        "print(mean_all)"
      ],
      "execution_count": 43,
      "outputs": [
        {
          "output_type": "stream",
          "name": "stdout",
          "text": [
            "3.5\n"
          ]
        }
      ]
    },
    {
      "cell_type": "markdown",
      "metadata": {
        "id": "dDtGuMpWXWfM"
      },
      "source": [
        "# Distance Matrix"
      ]
    },
    {
      "cell_type": "code",
      "metadata": {
        "colab": {
          "base_uri": "https://localhost:8080/"
        },
        "id": "ATTlGvnjXV09",
        "outputId": "de65f344-4081-404c-ce1c-bed444562979"
      },
      "source": [
        "data1 = np.array([[1,2],[3,5],[2,0],[4,5]])\n",
        "data1 "
      ],
      "execution_count": 44,
      "outputs": [
        {
          "output_type": "execute_result",
          "data": {
            "text/plain": [
              "array([[1, 2],\n",
              "       [3, 5],\n",
              "       [2, 0],\n",
              "       [4, 5]])"
            ]
          },
          "metadata": {},
          "execution_count": 44
        }
      ]
    },
    {
      "cell_type": "code",
      "metadata": {
        "id": "nalxUpi6l03d",
        "colab": {
          "base_uri": "https://localhost:8080/",
          "height": 282
        },
        "outputId": "bb28a1cb-166a-48fa-d357-e1686b57d5fd"
      },
      "source": [
        "from matplotlib import pyplot as plt\n",
        "plt.scatter(data1[:,0],data1[:,1])"
      ],
      "execution_count": 45,
      "outputs": [
        {
          "output_type": "execute_result",
          "data": {
            "text/plain": [
              "<matplotlib.collections.PathCollection at 0x7f205b817950>"
            ]
          },
          "metadata": {},
          "execution_count": 45
        },
        {
          "output_type": "display_data",
          "data": {
            "image/png": "[encoded data removed]",
            "text/plain": [
              "<Figure size 432x288 with 1 Axes>"
            ]
          },
          "metadata": {
            "needs_background": "light"
          }
        }
      ]
    },
    {
      "cell_type": "markdown",
      "metadata": {
        "id": "rv_6NmGWaZRS"
      },
      "source": [
        "## Euclidean Distance (L2-norm)\n",
        "$\\sqrt{(x_1-x_2)^2+(y_1-y_2)^2}$"
      ]
    },
    {
      "cell_type": "markdown",
      "metadata": {
        "id": "F1P5RwifeCgY"
      },
      "source": [
        "dist(P1,P2)"
      ]
    },
    {
      "cell_type": "code",
      "metadata": {
        "colab": {
          "base_uri": "https://localhost:8080/"
        },
        "id": "3zv6eYubZ0eC",
        "outputId": "3e727961-1c2d-43a8-96fc-af392a9efa8a"
      },
      "source": [
        "dist_p1_p2 = np.sqrt(np.power(data1[0,0]-data1[1,0],2) + np.power(data1[0,1]-data1[1,1],2))\n",
        "dist_p1_p2"
      ],
      "execution_count": 46,
      "outputs": [
        {
          "output_type": "execute_result",
          "data": {
            "text/plain": [
              "3.605551275463989"
            ]
          },
          "metadata": {},
          "execution_count": 46
        }
      ]
    },
    {
      "cell_type": "code",
      "metadata": {
        "colab": {
          "base_uri": "https://localhost:8080/"
        },
        "id": "Hq2BfWWic-vX",
        "outputId": "0b5137dd-fbc9-4573-9c7e-f3be772e3b2a"
      },
      "source": [
        "dist_p1_p2 = np.power(np.power(data1[0,0]-data1[1,0],2) + np.power(data1[0,1]-data1[1,1],2),0.5)\n",
        "dist_p1_p2"
      ],
      "execution_count": 47,
      "outputs": [
        {
          "output_type": "execute_result",
          "data": {
            "text/plain": [
              "3.605551275463989"
            ]
          },
          "metadata": {},
          "execution_count": 47
        }
      ]
    },
    {
      "cell_type": "markdown",
      "metadata": {
        "id": "H63GsWqkeJr-"
      },
      "source": [
        "dist(P2,P4)"
      ]
    },
    {
      "cell_type": "code",
      "metadata": {
        "colab": {
          "base_uri": "https://localhost:8080/"
        },
        "id": "oqO5xM1SduSw",
        "outputId": "748e64cd-a66f-4c21-f181-6a6ee1d094c8"
      },
      "source": [
        "dist_p2_p4 = np.sqrt(np.power(data1[1,0]-data1[3,0],2) + np.power(data1[1,1]-data1[3,1],2))\n",
        "dist_p2_p4"
      ],
      "execution_count": 48,
      "outputs": [
        {
          "output_type": "execute_result",
          "data": {
            "text/plain": [
              "1.0"
            ]
          },
          "metadata": {},
          "execution_count": 48
        }
      ]
    },
    {
      "cell_type": "markdown",
      "metadata": {
        "id": "ldCZYvAYf4XD"
      },
      "source": [
        "## Distance function"
      ]
    },
    {
      "cell_type": "markdown",
      "metadata": {
        "id": "k55ob_oUguwI"
      },
      "source": [
        "p1 = [x,y]"
      ]
    },
    {
      "cell_type": "markdown",
      "metadata": {
        "id": "j8XClGach4eZ"
      },
      "source": [
        "dim = 2"
      ]
    },
    {
      "cell_type": "code",
      "metadata": {
        "id": "ZFNMD62gfjhF"
      },
      "source": [
        "def dist_l2_2(p1,p2):\n",
        "    return np.sqrt(np.power(p1[0]-p2[0],2) + np.power(p1[1]-p2[1],2))"
      ],
      "execution_count": 49,
      "outputs": []
    },
    {
      "cell_type": "code",
      "metadata": {
        "colab": {
          "base_uri": "https://localhost:8080/"
        },
        "id": "MAK6c8Rhg3FL",
        "outputId": "640d9ed0-9dc7-4ed4-b348-72c488f07fe6"
      },
      "source": [
        "dist_l2_2(data1[0,:],data1[1,:])"
      ],
      "execution_count": 50,
      "outputs": [
        {
          "output_type": "execute_result",
          "data": {
            "text/plain": [
              "3.605551275463989"
            ]
          },
          "metadata": {},
          "execution_count": 50
        }
      ]
    },
    {
      "cell_type": "code",
      "metadata": {
        "colab": {
          "base_uri": "https://localhost:8080/"
        },
        "id": "3euiiOo5g_Gm",
        "outputId": "1e475bbf-1782-4b38-a092-e6f94535f481"
      },
      "source": [
        "dist_l2_2(data1[1,:],data1[3,:])"
      ],
      "execution_count": 51,
      "outputs": [
        {
          "output_type": "execute_result",
          "data": {
            "text/plain": [
              "1.0"
            ]
          },
          "metadata": {},
          "execution_count": 51
        }
      ]
    },
    {
      "cell_type": "markdown",
      "metadata": {
        "id": "ThIk-yVoh7BT"
      },
      "source": [
        "dim = n"
      ]
    },
    {
      "cell_type": "code",
      "metadata": {
        "id": "2KAzQ7BJhC0k"
      },
      "source": [
        "def dist_l2_n(p1,p2):\n",
        "    sum = 0\n",
        "    for i in range(len(p1)):\n",
        "        sum = sum + np.power(p1[i]-p2[i],2)\n",
        "    return np.sqrt(sum)"
      ],
      "execution_count": 52,
      "outputs": []
    },
    {
      "cell_type": "code",
      "metadata": {
        "colab": {
          "base_uri": "https://localhost:8080/"
        },
        "id": "TLR-Yjyhjrth",
        "outputId": "ce5c3bef-86ac-43ff-f8d9-bb244c97aa5f"
      },
      "source": [
        "dist_l2_n(data1[0,:],data1[1,:])"
      ],
      "execution_count": 53,
      "outputs": [
        {
          "output_type": "execute_result",
          "data": {
            "text/plain": [
              "3.605551275463989"
            ]
          },
          "metadata": {},
          "execution_count": 53
        }
      ]
    },
    {
      "cell_type": "markdown",
      "metadata": {
        "id": "1MYNdwX7j_Hw"
      },
      "source": [
        "## Manhattan Distance (L1-norm)\n",
        "$|x_1-x_2|+|y_1-y_2|$"
      ]
    },
    {
      "cell_type": "markdown",
      "metadata": {
        "id": "XTujYJclkVah"
      },
      "source": [
        "#quiz6 \n",
        "เขียน function คำนวณ manhattan distance ของ ข้อมูล 2 dimensions"
      ]
    },
    {
      "cell_type": "markdown",
      "metadata": {
        "id": "yBx08W2cn4Jx"
      },
      "source": [
        "# HW11\n",
        "\n",
        "\n",
        "\n",
        "1.   Function คำนวณ manhattan distance ของ ข้อมูล N dimensions\n",
        "2.   Function คำนวณ L-$\\infty$ ของ ข้อมูล N dimensions\n",
        "3.   Function คำนวณ Distance Matrix ด้วย Euclidean Distance\n",
        "\n"
      ]
    },
    {
      "cell_type": "markdown",
      "metadata": {
        "id": "Eogv6Y9BL8Zo"
      },
      "source": [
        "2.   Function คำนวณ L-$\\infty$ ของ ข้อมูล N dimensions"
      ]
    },
    {
      "cell_type": "code",
      "metadata": {
        "id": "_4JfVQjfj8cH"
      },
      "source": [
        "def dist_linf_n(p1,p2):\n",
        "    maxv = -10000\n",
        "    for i in range(len(p1)):\n",
        "        this_dist = np.abs(p1[i]-p2[i])\n",
        "        if this_dist > maxv:\n",
        "            maxv = this_dist\n",
        "    return maxv"
      ],
      "execution_count": 54,
      "outputs": []
    },
    {
      "cell_type": "code",
      "metadata": {
        "id": "kdZXyaAJJL88",
        "outputId": "e8da569b-dee7-4ff4-e851-ab94c20ff805",
        "colab": {
          "base_uri": "https://localhost:8080/"
        }
      },
      "source": [
        "dist_linf_n(data1[0,:],data1[2,:])"
      ],
      "execution_count": 57,
      "outputs": [
        {
          "output_type": "execute_result",
          "data": {
            "text/plain": [
              "2"
            ]
          },
          "metadata": {},
          "execution_count": 57
        }
      ]
    },
    {
      "cell_type": "code",
      "metadata": {
        "id": "v9mT_Ne9JPPt",
        "outputId": "d13701c1-3ad5-49f7-a66d-01e54a09b195",
        "colab": {
          "base_uri": "https://localhost:8080/"
        }
      },
      "source": [
        "dist_linf_n([-20,2,7],[0,5,9])"
      ],
      "execution_count": 58,
      "outputs": [
        {
          "output_type": "execute_result",
          "data": {
            "text/plain": [
              "20"
            ]
          },
          "metadata": {},
          "execution_count": 58
        }
      ]
    },
    {
      "cell_type": "markdown",
      "metadata": {
        "id": "womjguoeMAnK"
      },
      "source": [
        "3.   Function คำนวณ Distance Matrix ด้วย Euclidean Distance"
      ]
    },
    {
      "cell_type": "code",
      "metadata": {
        "id": "cH-pf7TdJ_dn"
      },
      "source": [
        "def dist_mat_eud(data):\n",
        "    d_mat = np.zeros((data.shape[0],data.shape[0]))\n",
        "    for i in range(data.shape[0]):\n",
        "        for j in range(data.shape[0]):\n",
        "            d_mat[i,j] = dist_l2_n(data[i,:],data[j,:])\n",
        "    return d_mat"
      ],
      "execution_count": 59,
      "outputs": []
    },
    {
      "cell_type": "code",
      "metadata": {
        "id": "eoeaZ3uvNMXf",
        "outputId": "de71778a-5c0f-4848-83c2-6c849a6699d8",
        "colab": {
          "base_uri": "https://localhost:8080/"
        }
      },
      "source": [
        "dist_mat_eud(data1)"
      ],
      "execution_count": 60,
      "outputs": [
        {
          "output_type": "execute_result",
          "data": {
            "text/plain": [
              "array([[0.        , 3.60555128, 2.23606798, 4.24264069],\n",
              "       [3.60555128, 0.        , 5.09901951, 1.        ],\n",
              "       [2.23606798, 5.09901951, 0.        , 5.38516481],\n",
              "       [4.24264069, 1.        , 5.38516481, 0.        ]])"
            ]
          },
          "metadata": {},
          "execution_count": 60
        }
      ]
    },
    {
      "cell_type": "markdown",
      "metadata": {
        "id": "j21LQiiEjvtl"
      },
      "source": [
        "## Distance of Binary Value"
      ]
    },
    {
      "cell_type": "markdown",
      "metadata": {
        "id": "pRRN12TMkDhc"
      },
      "source": [
        "Create Table\n",
        "\n",
        "![Screen Shot 2564-09-14 at 11.28.55.png](data:image/png;base64,iVBORw0KGgoAAAANSUhEUgAABIsAAADLCAYAAADumBMRAAABRmlDQ1BJQ0MgUHJvZmlsZQAAKJFjYGASSSwoyGFhYGDIzSspCnJ3UoiIjFJgf8rAycAHxIwMTInJxQWOAQE+QCUMMBoVfLsGVAcEl3VBZl0+sr14d8Vbn1hZAfGjCp43MdWjAK6U1OJkIP0HiNOSC4pKGBgYU4Bs5fKSAhC7A8gWKQI6CsieA2KnQ9gbQOwkCPsIWE1IkDOQfQPIFkjOSASawfgCyNZJQhJPR2JD7QUBHhdXHx+FUCMTQ0sPAs4lHZSkVpSAaOf8gsqizPSMEgVHYCilKnjmJevpKBgZGBkyMIDCHKL6cyA4LBnFziDE8hcxMFh8ZWBgnoAQS5rJwLC9lYFB4hZCTGUBAwN/CwPDtvMFiUWJcAcwfmMpTjM2grB5nBgYWO/9//9ZjYGBfTIDw98J////XvT//9/FQPPvMDAcyAMAPt5gZklIY4IAAABWZVhJZk1NACoAAAAIAAGHaQAEAAAAAQAAABoAAAAAAAOShgAHAAAAEgAAAESgAgAEAAAAAQAABIugAwAEAAAAAQAAAMsAAAAAQVNDSUkAAABTY3JlZW5zaG90agQsvQAAAddpVFh0WE1MOmNvbS5hZG9iZS54bXAAAAAAADx4OnhtcG1ldGEgeG1sbnM6eD0iYWRvYmU6bnM6bWV0YS8iIHg6eG1wdGs9IlhNUCBDb3JlIDYuMC4wIj4KICAgPHJkZjpSREYgeG1sbnM6cmRmPSJodHRwOi8vd3d3LnczLm9yZy8xOTk5LzAyLzIyLXJkZi1zeW50YXgtbnMjIj4KICAgICAgPHJkZjpEZXNjcmlwdGlvbiByZGY6YWJvdXQ9IiIKICAgICAgICAgICAgeG1sbnM6ZXhpZj0iaHR0cDovL25zLmFkb2JlLmNvbS9leGlmLzEuMC8iPgogICAgICAgICA8ZXhpZjpQaXhlbFlEaW1lbnNpb24+MjAzPC9leGlmOlBpeGVsWURpbWVuc2lvbj4KICAgICAgICAgPGV4aWY6UGl4ZWxYRGltZW5zaW9uPjExNjM8L2V4aWY6UGl4ZWxYRGltZW5zaW9uPgogICAgICAgICA8ZXhpZjpVc2VyQ29tbWVudD5TY3JlZW5zaG90PC9leGlmOlVzZXJDb21tZW50PgogICAgICA8L3JkZjpEZXNjcmlwdGlvbj4KICAgPC9yZGY6UkRGPgo8L3g6eG1wbWV0YT4K/Rj2qAAAQABJREFUeAHsXQXYFUUXPnR3STdKCQoKoiIgIakgYSGgKBiEIiAhKoLSIYISgggIEvLTpTRSioLSLSDS3XH/8w7sZXfv3vq+G3vvPed5vm93p3bmnbmzM2dOJHAwkZAgIAgIAoKAICAICAKCgCAgCAgCgoAgIAgIAoKAIMAIJBQUBAFBQBAQBAQBQUAQEAQEAUFAEBAEBAFBQBAQBAQBDQFhFmlIyFUQEAQEAUFAEBAEBAFBQBAQBAQBQUAQEAQEAUFAJItkDAgCgoAgIAgIAoKAICAICAKCgCAgCAgCgoAgIAjcQ0Aki+5hIXeCgCAgCAgCgoAgIAgIAoKAICAICAKCgCAgCMQ8Aom9ITB79myaM2cO3b5921tSiY9BBDJkyED//PMPZc6cmS5dukSJE3sdUjGIkjQ5UAgkS5aMLl68SEmSJAlUkVKOjRHImDEjHT58mJImTUoJEyZUfzaurlTNhgjgG3X06FFKlCiR+j4lSJDAhrWUKtkZgVu3blHq1Knp/Pnz8u2xc0fZtG6Ye7A+xvfs3LlzMoZs2k92rhbWQPBHdfnyZRk/du6oCK5bqlSp6JlnnqFatWq5tMLrzn7btm30yy+/0I0bNyh58qSUIoVs0lxQjOGAxImT0Natu6hAgTyEBRXGiJAgEAwEjh07reahjBnTUcqUyYPxCinTdggkoh07dlPevDmYYZREbfhtV0WpkK0RuHUrAe3evZfy5MnO65fkJMwiW3eXLSt35MgJZlQnoHTpUsu3x5Y9ZO9KYc45ePComn9SpUrGYyiFvSsstbMdAmfOXKSzZ89RtmwZZfzYrneio0KJEiUmHMjHiVl0+vRp2r9/v0KiU6fXqW/f6tGBirQiIAh8//1WatasJ40a9QY9+WS+gJQphQgCVgikS/cGZc+eiZkHfayiJSwKEWjffh4zo3fwZr9fFLZOmhQKBJo0mUC7du2hPXv6h+J18o4oRCBx4peoePFCtHlzzyhsnTQp2AhcvXqLGUUv0cMPF6alSzsG+3VSfhQiUKBAJ0qTJqV8x6Kwb+3SpG3bztD8+RcsqyM2iyxhkUB/EUiWTCTO/MVM0vuHAE52IRkgJAgIAoKAPwiINJE/aElaMwLQXBRpEDMq8uwvAqlTp/Q3i6QXBBQCiRIlVOr4AocgEA4EhFkUDtTlnYKAICAICAKCgCAgCAgCgoAgIAgIAoKAICAI2BQBYRbZtGOkWoKAICAICAKCgCAgCAgCgoAgIAgIAoKAICAIhAMBYRaFA3V5pyAgCAgCgoAgIAgIAoKAICAICAKCgCAgCAgCNkVAmEU27RipliAgCAgCgoAgIAgIAoKAICAICAKCgCAgCAgC4UBAmEXhQF3eKQgIAoKAICAICAKCgCAgCAgCgoAgIAgIAoKATREQZpFNO0aqJQgIAoKAICAICAKCgCAgCAgCgoAgIAgIAoJAOBAQZlE4UJd3+o3ApUtXaffuo/Trrztp3bpdtH//cbpy5bplOXv3/kdbtx6yjIvWQIfDQcuXb6XXX/+a8uV7h1q1GhWtTZV2CQIBR+DEifO0adM+2rBhDx0+fIpu3bpt+Y4bN27S6tU76OLFq5bxsR546tQFGjFiET3++EeUO/dbtH797liHRNofDwROnjwfc9/yeMAlWe8igHl6165/6eDBE4S1kZAg4C8C167dkDHkL2iS3iMCp09fpC1bDqo/rDkjiRIHurIffjhJbeTdlVu6dD7q0qW+u2jL8GHDFqgFumWkLrBatQepZcundSFyG6kI7NhxhCZNWk2zZm3kD/5JunD+imtTEhAVK5aLKlcuTnXrlqFKlYpT0qSJ6bXXvqHbt2/TqlU9XfNEWci2bYdpwoSV9MMPq+nQP6ecrTt58oLzPlZvJk1aRbNn/x7w5vfr9zLlzZsl4OVKgaFBAJsHMHy+/36lYrAePnyarl29YXh5wkQJqGDB++i55x6hRo3KU9myBVX8N98soXZtv6Nlyz+mp54qZsgTqw9Xr16nOXN+53loFS1c+CfdvHHLCQUW3JFII0cuoaVLtwat6n36vET582cNWvmRXvDGjXvoyy8X0NSpayl16uR06tTYiGuSjKHQdtmRI6fpk0+m0cqV22nfvmN06+Ydhn/yFEmoSJEcvD4sRt27N6DMmdOGtmLxeJuMoXiAF4esOOwYOHAuTZy4Sh0a0V0+Y4qUSemBB3KqtcAHH9SlxIkTxaH00GeR8RN6zN29EQIPlSp9Qn//dUeQ4QteA3Tu/Ky75LYLDzizqGjRXISN6po1O2nHjn9dGjx16jp1atu9+/Muce4CcuXKpBbu+ADMmvUbXdUt7BMmTEC1aj2kmAaR8gN2104JJ7XZ6NZtCv2xab8BjiL3Z1cf/GzZ0imJIkgZ7dp1lLZtPaz+hn+1iDChJ0+ehM6cucTjJZshfzQ+4AT/3XcibxEdqr7AWClQICv99ts+Wrt2F12+dC0gr27XrqYwiwKCZGgLgbTQ4MHz6OuvF9P+fcedL0+cJBGVKJmb8uTJTBkypOJF4mm12diz5z/q32+2+subLws9/HB+WrRos8qHRaXQHQSKFGlPhw/dY1RHAy7Llm2lacyoCBa98051YRaZwIU0yIwZ6xWTaN3ayJdIkzFk6uAgPvbqNYO++OJ/dOWyq7T51Ss3aMtmPs3nv+++W84Mo+epQ4c6lCABnzbanGQMha6D5s3bRC+8MIQuXXRdJ2JcYU+Cv2nT1vFBdhvFPApd7eL2Jhk/ccMtGLlathzpZBQFo/xglxlwZlGzZk8R/kArVmyjt94aQ9u3HzG046OPplKmTGk4rroh3N1D/fqPEv5A27cfpgcf7Eg3754azJ//IdWoUdpdVgmPEARwOt2p0yT66quFpOfmg4v/0ktP0P3357BsCUSNu3adQj/xIhMTurZY+O+/s5bpoymwYcPyVLx4blb3yMQfuaH028a90dS8eLelatUHCX8gqC1WrPgxHWFGgJ5WrPyE0qVLqQ9S92BIX7hwhXbu/FdJuK39dZczDcKFIgsBMH6aNv2K1q+7twktwAzlVq2qqu9V1qzpXBp09OgZdcqI07mDB06oPy2RSO5pSBD9+GN7Pq1Po0SrGzUcfC8igu/OnbvsrH3KVMl47DxJhQtnp1R8rx1KQQ26bZtxznS4eaxCEZZsrewMO378HOPyD/355wHaqTs8u3AhctQYITqfMWNqZ5sCfXP58jUaNGguM3GX0NF/zwS6+LCVJ2PoHvTBHEMYOz14T+ELnT93hTp1nEjnz1+mnj2b+JIlrGlkDN2BP5jjB2+YM+c3athwEN24fk8qNhN/09Sh0F3pIm0ggGFUt25fntP78fcguRZsy6uMn3vdEuwxdO9NrncDB86hH6f86hoRQSEBZxbp2w4x/bVre1G9ev2UaKg+7t13x6oFSJMmFfTBXu8hufT44/czI2o7FSqUTRhFXhGzfwIwABs1GqwkhLTaVmLVsrFjW7P9Hc+i+hAvnj79faVW0rr1aGcZOB3AIjRlymRakVF3xQZX2+S2bFlFmEUeehgqH2A4fzWMmZE6KlUqL6VN68os0pI8/XRJat26Gg0duoA++GACOW47xF6NBk6EXCdPXkNvvDHSIFnWuMljPL+85XF+yJ49Aw0Y0JSZ0fV5fhpEy3RqSSJZdK/zH3usiHoAM6VQ4ftoz+7/7kVG6J22yC79UD6aPLmd5WEFNpxmZhHmmNdfr2LZakg/aJva81Zq1Za5whsIiczHK3xEu3YP5fXWfUGpDL7TOK2HhPhDjDeYRlv/viOqH5QXhqhQGUN3gA7mGMKBdOfOk9SLEiVOyIdmFXgjX1ZJiOIA8vff9ytJtbMsba6nXr1+Inz7n3++vD7Ydvcyhu50SeZMrwdtDvr339P0yitfKUZRTZ6DXnnlSapSpThly5aeoDo0btxy6tFjKunH0N49x9S48tekSqgHmIyfO4gHcw7y1qdLl/7tnKO8pbVzfFCZRWg4Tu2HDm3Oi4DOBhxu86YLJ73p06f0m+Fz333pVVna1VCwPEQUAjBg+cwznxvs7VTmiXrevA9ZpSypz2154okH6OefP6Jy5bo6y4J0UYEC2XwuI5ITQuVKyDMCWbLEzVZBwoQJ6b33atM//5ykoUPms8RR5EgFeEYk+mNXrtzGkkPDDXZ0OnWuR336vOxz4yFVMXt2J/5OfU6/sno1SCSLrOHDPBQNzCIwcxKwivvcuZ0pR46M1o31MxTqL1B9+aj7j0qywc/sYUn+6afT1XvB0AkWwYbM5s39ncVDirha1V7O50i9kTF0p+eCOYY++2yGsk1UvERulg7p5HK4CMbRW29VYwbuNzR/3h/3hhJLi/TuPdP2zCIZQ/e6LFhz0Pvvf69sor7JUsYjRrxOWO9pBMmhd999RtknxN4CKo0arV59Zy2gPdvxKuPnTq8Ecw7y1O/YMzRpMoRu3zKJp3nKZNO4e7+KIFYQdoWs6AYbwmzQYKCyJ2IV7y4sTZoUKsruIoDu6i/hdxCADRH8kPSGmfPlz6I2Zv4wijQ8wTycO/dDSpL0jvG5WFBF09oOw95CnhGAPav4UMeOdQmGj4O1aIlP3SSvKwL4UEO0XG9w+SG2O9S794uuib2E4FsDleeCLM0KEskia8CiZR7CiSwOIALFKNLQatu2JkECIhIYztOnr6PFd210afUPxRWq1dFAMoaIpb6DN4bOnr2kNBbAKFrJ6uTupNAhITJ16nsEu5d6glciu6uUyxi6M4b0/RbI++vX4TXvKOEA6Ztv3jAwivTvKVkyD0uW19UHEcaf3UnGT3DnIE/9D8nGBg0G0Cm24Zwnb2Zq/14tT8ltHxcSZpEnFC6znZnatfvQ33//4ymZIY4P5xRpV0OkPEQMAhAf1qt2oOI4fY0PExCTevPmlRQGscQs0uxoqIbLP0sE4mvQEhvHOXM606uvPmVZvgTaCwEYqzx54p4hamzSodqaKFHcPntQV4RKGkgki6z7OlrmocaNH6M2bZ6xbmQ8QnHQhe9TjhwZ4lFK8LMuX75VSX4H/02ub4D3s2ggGUPBHUMLFtzxvAjNhQwZPNvUgjmC4cNfNwwrnPaDYWRnkjEU3DGEw41Nm/r6JGn86KOFDEOlBDMp7U4yfoI7fjz1P+w1b2I1WHhjnDnzg4jywmjVrpCLIyxY0IUXSyPo2LFzzvrAexVE/Fev7ikeQpyo+HcDd9Dx3Qz798b4pYbhYBgm1BMMzr76akV9UJzuu3R5jjeFy+j48fNxyo9MdsfTXL9AMU7N5cYZwCjNWLPmQ363LBIwjYQ6+gP8qlXbyexRCfanSpXK508xLmlhzwDumU+duugSJwEUUd8gT/01cOCrnqLjFTd6dCu/84fy97l+/W5lZ/Kazuus3xWOR4ZokU6z0xgK5fhB14diDD39dAmayF6pqlQp4dNoq1DhfiUZrFcJ8WSv0KdCg5xIxlA/Ctc8ZO7aQzqPn9BegEc9u5OMn/CMH3iqHv/dCjU8xoxpzWZ48hOY25FMIWcWFWYDmIsWdaVKlT5lMb57Hkf+ZS8Y1av3UgwjiI0GiiBm+MMPq+mnnzbQoUMn+e+UEh/ECV/ZsgXpsccKs5ekok6vSZ7ee/DgCVXWxImraAd7NgG3sF69sioLvHINHDhXuemGwWZIx0D3HsZxX3zxccNp9sWLV2nKlDX0K3tY+vXXnXTw4El65JGCVJmNOsNAH4x4eyMY7Joz53f6669/WCrrkLKnkjNnRnbnmEMZ7oONlUCL0Hurkz/xX365wOn1TMv30UfPOz3NaGFxuUIceevWgX55cIkvnjt2HFFeszDWDrDnpA0bPqcyZQqo6i9c+CeNHPkzj429dOLEeeWCGwscGHeHJJQvBCmpuXN/V+ML5aDfMcbQ35UqFed35felGJc08W337t1Hne3eu/cYrVnTk8qXL0IbN+5RRgFRPhZkDRo8SuhfeEGMJOrZczqhjRMmtPG52nHBdNiwBQSRYU9UtGhOFxsLOBmdPfs3y2x16pSh0qXzWcbFpY76guze7zBIbqb69R8xB/n9nCRJYuVFZ/PmA17zHjt2Vv025s7dxHP8CaXyAMkb9AmMq+KK70eKFEbbbPitjxnzi9vyP/zwOcM8uWHDHlq8eLNleswNUKfyRvh+jRixWHkuhVj+kSOn+beamvLkyczeR/OyzY/K6nftrRxP8RinmAtXr96hRP9xUluzZmke0+UIjgqE7iEQ398nSsI3qU+f/ylvbPi9QqIOa5IHHsipvjsIGzNmKdtP+k59S6BW8fHHU9U4uHXX26xWI5RTrNi9dQnKadToMS06oNe4Sv4FtBIRXlg4xg8gC+UYgnMPeMr1lTDPYt1/Ttt3sIZCgQKeHaj4WnY0prPbGArlHGTVn/h2adSxYz35ZmlguLnabfygmqEYQ2vW7KD27ccrVN57v7Zfc5QbKG0RHHJmEVqN012oc9So0Zvtf1x3ArGHLcxDwmjFCmt31s6EPt5gcQoPWUePnlU5ErMaQrlyhen27du8md3LBpH/Un+I/OijBpauNM+cuag8dYBBhEUuC/AYCHqJHTpMoFGjfqabugXWFTaEdvLkTt4872SO4h+82XxX6cMuWbKFWrb8hpk7pwzlrFq1g/AHaRsYU61c2fq0BB5YPvzwB9avXaLqkoJF3MA0gMFwMMLwt2TJXyq+R4+G9P77dQyMKsNLw/SABcX48Xe4rvoq1KhRSv8Yr3tfNx96PIn7FiKDwBNerw4zlvj72Q2e2NSB6YexAXFDPeEkD663YVhxoYmjDIkH/KGv8TuAxIMnwph5+eUvnSo1efNlURtAuGPWyvKU3youPu2GO+gp7AZy0qRVtHHDXkPx+H0gHEaFtRM8uKv98u7mfciQ5ob0dn8Akzlt2js20rzVNT6Ywrsj5okruvlQ/76ixXLyRq6RPkjdw3YO8oI5B5w1ys5qLmCGmyk+dYyUfj98+BT9738bjE3njcGzz8afWYRCmzV7iv/jz5pu3rylGKX9+89WxleRKnOWNMpgPzyvYD7Q5gT06w8/tDVIPMElO75PsLm0+c+DLi+B7QS9uhcOC+bP/4ONBB90GT89P2vskVmE7xs8veB7AgbBfdnT81zzhJoD4cVjNX+T8Bv/lpkKsNcEhxV6gsc4zGGeCPMk5sEFXEc9oWz8wdDswoVdPdZTny+a7+Pz+9TjAia3ZvwX6pflyxdWqjp//LHfZc7W8tWs+QWtX7dbezRcp0z+1fD8fMNyQWMWGV4kD34hEM7xg4raeQwdOHD8HqOI64p1F9Z6QkYE7DqGwjkHQRMC+0XQ6+x5+NNPGxtBkycnAnYdP6hgsMcQ1neancwqLPnYr98rTlwi/SYszCKAhtPOadPeo+eeG0AwdK0RFrx16vThk9LuLieuWhpfrjhphXGpW3etkNeu/RBvYts6F7s4GYatpCNHzqjiPvvsJyUBYTZi9tRTn7AUh7UbV2yeKlfuSevuLrAg5YHTCyze9W364Yc16sMEBkKrVqNUnRKxoVwwNMA40ZhZqMhFdvkONb3t2we7uHXetu2wkr5CnXPmzEDYeENiA9b7EQeu6YQJq1R7UE6nTpOUm2+7TWy//PKXwY01KpwqdTIKtXc7Dc9/Gc8cbvCceBfPS4xnZxOeJUp0oNNu1FEg+VO3bl869t851R/p2OtfkiSJnAwfBMKzQsuWI7mvB1l6fgNTEwv+nj1nKOZVhoypmCn5plO6BPEYW6+99rXBiK96oYd/8W138eIdlNE2q1csYoOoqDOYbWYC0yuSaObMDbSF56MnnvQumRFfTKdPf5+wccd4mMkMKj29xJv3iROtJZvAVMbfhAkrqdmrw1W2tu1qqrlBXwbu41vHSOl3bIg1RqWGQe7cmUIyv0A6DN4dtU33U5WKsYvdFk4JQhhHh9tmzNVgTm/fdoQPMLrRF1+8xKdRtZQaV/78WWnWrE6q6oMHz6MO7K3FE732WmWeAyrT6dMXlTdIuPX1hXDQUatWH2ddy5QtoJg2mvTfxx835EXxdOp51yOWVbmJEh/0qLK7ffsRZq6NoIMsbQmCoUeonV/QuY6/fOmaOkDZtm2QWwOjvrQn0tPE9/eptf/771fQJx9PU48dO9VTdrY0Jh8Ymd9+u5TtMY1z+WYMHNiUpYzuMJw/+GACbdt6WCuS+vR9SUmYaQEPPuibRKyWXq7BRyDc4wcttPMYwsGtnlq3rqp/lHtGwM5jKFxzEKS3n3uuvzqIefmVJyguasSxMrjsPH7QB8EcQ9BiAqMIez4c6P/4Y3vbCWrEZxyGjVmESteq9TBLmLxDr7wyTEnGaA2BS8JGjQbx6XBHwwmqFu/LtWvXyU5GEdL37fuyk1GEZ0g3QfKmVavReFQECREzs+innz6gZMkSK4OmWNTrmUBvvDGKF7cJmClTj+ApCS5gQWBE1avXzyA9hJNVUD4eRJ9//iIzEsqQZsgRGz1IG12/fodpBqkjqJhBTUkjeA4DEwmMIqgHrF3bi3LnzqxFKxHx7757W+E4adJqZ3jv3j+xtFYpgr62XQgSZGYqXNjoqcIcb/UMZt3+/cetolzCIH6sF6PX8ASjKKMXPH9wg+eqVZ+q01r0d81nvjC88/XXvlGul+FlAXZO4OEFNqWwkG/R4msnMwWbKIi3Pvfco4b8ePjii//Rp59MV+EJmbm4ZEl3VmG7o9qGQDAJUXZGZiLVqdPXRa1PZTT9C0S7ly3rQVAVBUMMqqP6jTk2ltnuS8ftfFcxTYcPX0T7WD0N9W/TpqapNuF/BHNVrwYEhi6MF2/atJ9mzFjnUwUDgSleBCOdkEAsvqmDc3ONcEiaeCNtIVySN3GY68wUiDpGSr/v2+c6J0BlIRTUosUIJ/OlVOm8fOjRjZnE9z6zMLSK+R8qhRpz7/q1m4ohlCZNcv4OPG2oJqSYvDGLtAwZM6am+vUfpQH952hBHq/vvjvWWVckhAFYjVGEZ8xXYBjNmrXRIOH0aLlCBDVnxGfOnEZdkd6K3mo9Rh0EYJHWokVlypIlLX+XbxPULt9/7x4TbNfOo/TLL39TtWoPWhUT9WGB+H1qIPXrN1vdYs7FWNOrdUEirVWrakoKug33v570a4TPP5+pj2IGaGkDs8gQKQ9hR8AO4wcg2HkMQfpSo6erlnQeumlhsX61+xgK5RyEdSCEAH788Vf6+uvFdOPu3uzHH9cSbKrhAD5XrkyxPmQM7bf7+EFlgzmG2rUbpzQ9UqRMqkzU6NdSBqAi9CFhuOsNez7DhrVwqca8eX/w4nKEOrV0ifQhYPfu/wyprH7Y1asbF6aw02CmQoXuU0wZGKgqyyeveirEYvlgGGBzpjGKEA9GlJX4WePG5dl+QH9lw0hjFCF906YVCVbr9QQ7FHoaMGCOUk1AGCSK9IwiLR2YByNHvsFSKvdchEOyyrzw09KH67p3r7FvUA+cpvtLYJ49Vr67T3/t2n1nKB54/saqHiBveCbT4QnGiIYnbEtBGqpGjdKU36T7DkmlpUt7sATBy1SiRB7nhgqetMzjbv16Y1+jTmCCgdGn0VtvVTcwirRwXMF01S/S9HHm+0C0G+3Bpg92l8xujpMyY3XRom5q04cN5e7dQ2nd+t6sHvm1st9lrk+4n7FhasmMXO3vDZbs6cJqntOmrjUwwTzVMxCYauWDmfDFFy9qj+oK9TQwRt0RJJKg+gfq3/8VZm7f+/1reQJRx0jp9337XJnRoWAWjRy5hP43c6MGOQ0Y0NTAKHJG8A3mfEgd6QmSoOZ+BgMobboU+mQe7/G79IUgKq4/VICanNnbC8oBQ6hnz8aGIiE5+9xzj6hvljfjspgXYb+tU6dn1ZyBgsC8aN++NtWu87ChXDBoY5UC8fsEdhg/mkQQvlVQJbSid96pQXA5LhQdCMj48dyPcHgwefIalQhS7KNHv+k5QwzGyhi60+lDhsxjzY3W9HiFj5T5BI1RhNibrAUzbuxyVuvtpg5LY3CYuG1yLI8fSOuO/OZnhQ0MWruzFeoWvAiIuHfkGcbKvv12DSVC/9FHUw21mDhxtTJSPHSoKzPJkNDiAZ4SZt5duJfmE15NDFufFAageS3stEMEw9OeyGx4G5sBd5t0cDDNNHlyO7di9hUrFmNVk3sSQVAp0AjibfDAoxGMhEOH1h3lypWR9NI7UO2zE2mqf/o6Xbt2Q//o0/38+V0IqhSwJQVVh6NsJN1MH3/SkMBo0W8W44KnXgXDCk9s0vbrJBqmTXufjacXMVdHPUPSa9HCewZpYXfGTDj1h5oaKDGrr332WRNzEsNzQ7Yh8atJzNqQgB+C0e4MGVIZXgNJBBjE1QibTatNqBYf7msDNq6bmhePGsHmEmzeQH3mv7u2zrQ4q2swMIXhWNiR2XOX4Y1xAHUkqCpZEQwTQ02y9EP5mBFZyiVJMOpo537Xq/VqYJjrq4UH6gqV0L59ZzmLy8QSNzAu7YlwyFCepVU1OsvqWbBHN3bsW1qQuuIQINAE+wt6LzOenCE88kghw+uhNgbjyGAeeiOI7Ltz2FCJmWXz2Pi3RlaHNVpcNF8D+fuEmpme2rQZq045rfrgzTefpnZtv9Mnl/sIREDGj+dOAz5Kg4C/7SDMu3CCInQPARlD97CAs6Fnny1Lf7K9QKigWdmRhEYCTJTs2jXEIChwr5TYuovl8QN7oe+8863q8A4f1FHCINHY+7ZgFgHY7t2fVwyjwYPnG3D+8suFSjQeKmP+EBapWKyDmWD2mAARQ3ghm8rSA9jM4hlkXmiZ3wd1ND0hrzsCcwrGp2HoWqO7r9EeDVeI8+vpwoV7jCt4V7uqc2NbnqVp/KHDh08rbHFKbQeyMhisd0vpTx2TJ0+qPNlBfafq058Zsj70cH5Lo8DAU79RgnSSP3TEAk/YI9KT+VkfZ2Y6mpmUsLmiNwYLjx3p0xuZMvrycF/Ch1PiYLRbb2gX9fC2QUYaO9HYsa2VrTKrOn3xxUzq1nWKVZQzLBiYQvICHq8g7aQRGEKdOz/rMg4wvynPgpwQeawoGHW0c7/DK6SZYBsumAQVhwP7TzhfAW9nevUfZ4TuBkzUZ9gbmGbsGlHuvJrpsgXkVu+JFAXCS6M7gvQkRKv1i2bM174wi+BUwh2ZpaBgzykWKZC/TxgcT83qjBfvrh+g3leqVCdllB3zBySlNYJaILya4RsqFLkIyPjx3Hdg4u/gwx/QW29XJxxOCxkRkDF0D4/HH3+A8AfCIRCkM3GIY3Zig8Md2BOFTcJYp1gdP5Dkff75QQRTAlBthSZJtJKR+xHmVg4c+KoyfvnddysMNfmYjTVC/w+i074S0rdta7SRAley8MIF20RgoPhLnhgAVmVhEaZnFlml0cLMjCgtHFezJIu/IrQ4mbaSrNK/I5T32bKlc3ldXJlFWkHYnJnJHQPFjOcoP0WSrfA0b57NddE/pzOplZiZiGZ1DF89u+nfYXUf7nZb1cnOYV261HeKrrurZzAwxbuaNn1SSRPCGx8IBoFh/6lbtwbqWfuHufLE8fPKUxVckFtRMOroz3i3qlMww4oXz+VSPDxyBZNWrNhmKN5XffUyZdiotM5bIk4sIWnoa37DS/14yJPHaG8BnhthG0tvv8tTcYGon/ldvtjm8lSnSI0L5O8TB1jvvvsM9WF7dxpBdeLbMUuVYetatR5S6yLYhoIqvJUkopbPl+uxY2edEtze0uOQyHxw5y2PxHtHIJLHD1oXzDG0fPlWdigwQ4HY5IUKliYvvCMc/SkieQwFc/xgrV+16oNsAqQkfffdcrYpONJpbxSjAvtJYRa57lHjs6cK9TcM/RiXMQThkiZNhiiP2fnyR59Ba+CiJ1sxizBIoO+HU8///W+jvp5sHHesUkmDjSN/CFJDMCAMNQ64lAelZ89Ub71VTdmNqFKlp0Fqx1PZniSJPOWLb5x5Im/YsLyLhEF83xHK/FaMHXDpYSga9p7iQjBgbSZ3DLJg4AlD53ryNFY8xaGMP/88oC+KcrAb9EBQMNodiHrZuQy4n9+zx9XGllbnYGEKo8gwmq9XExkyZL4yLAy7RiCceg0cOEfdwzC/O0mWYNVRvdiG//SG7LXqwQ09vgXefntaen+verVf5DVLC7orr2DBbC5RMBwfbAk9jGu9BAo8s8HuldnANioHd7B6qaLczGgy2+9zaYQPATAUqqfbFh4U9fHReh/o3ydUgU+ePE9jRi81QsZ9PJ9tQeIPUrewb+bN5pSxANen0aN/oR4m8wGuqe6EwH6VMIvcoRP38EgeP2h1sMbQ1q2H2OA/e1tm48TVWfX/++/fcWsGIu7oR0fOSB5DwRo/+p7FugGSmLAl2os9Z2uEQzx8Hz2pcWtpo/kayeMH/RKXMTRo0FxasfzOIeEp9ooNj3meCPORnr75ZgnNm3dPDf/rr1u62IDVpw/3vXsZ8TDVDBueyZPbUuXKxQ01gPRFs2bDCcZefSV0TsWKHyv3wGAUQaIFHXLkyDc0YkRLZVPGgyaZr68JejqzTZtdu44G/Z3BfEHNmg+x5VTXN4wbt9w10McQq42yVRiKszueW7b8Y2g1Tv0DQXZvdyDaGOgy+vV72a3berwrmJhi454la1pnk06xl7ZRo+4Y0UPgTz9tINjSgve55s0rOdOZb4JZR/O77PBsxSw6eeKC8m4SrPqZDVMfPHhPJc3TO62YRZ7SByoOaq0wQK8n2Mm6dOme+rMW19/kXQ0q48Gwo6S9L9augf59wsD9qFGtaMZPHdwasf6DjYlDbfuNN/ik3CzaGmsdEOHtlfHj2oGwqVajRm86xwfPUA/5iX8Leq+UrjliO0TGkG/9j29fcjYvoqdgSy3r32XX+1gcP3rbmGAarl61w+PfmdNGUwjwhK3P46tn73CNAdsxiwAE1LdmzerocnoJt/UNGw4izU20J9Dmzv2d83dh48c7VbJ69cooY2StW1cj7WTeU347xZmN8cE4qT8E42N2ItjAsDIADu88N24Ev652x9MspbSXXc8Hguze7kC0MdBlwMthnjyZ3RYbTEyhpmPe0A8cOFcZKkeFNBfZ8Cxl5QFNq3Qw66i9w05XMEKerFjUpUpwgxssMjN9fGUW6Q3va3UrUMBV2kiLC+QVEigvvfyEs0gYdH/88R60adM+xUC4cOEK23ybqtzca4m6dqvPDIantUe5BgCBYP0+69d/VHlf/XFqeyr5oLUxcqintW07Ls6twG8NEkO+/HmaR+NcAclIkTx+0H2BHkMwNwHjw1DphcfFuXM7R9yaP9TDOpLHUKDHjyfsIQ2r2TNS6fjQW28HzlPeaI6L5PGDfgnlGIrUcWCUA7dRK6BWtGBBF3ryyY9px45/nTW7fPk6bdt2x1idM9B0A29Gzz8/kDdVdzyD5M6diWbM6EB2trNhaoLh0Wx7B67bYdMkd273m1itgEWL/lQMtl27hhKMX9qF4I5Zb6sD9YLkxNChCwgqNcEku+NZsmQep3gjcACzCCf+qVIl9xkWK5UOu7fb58bZKGGwMX2bDXLCQCdOSEEwrv799yvUAuW3jXuVW3Wo1HqiYNfR07vDFTd0aHMqU+ZDg30BMKO7d28Qb+8lcDsP2wXAvXLlEqqJdzwArnI2F97pwHR5+OECzjCrG7Nh6XSsIg1vlp7IH0GQW7duuy0K0kETJ7YhSGJ173bHkPsW9pxZtkwXSsrOHNQhA0v0gipXKU6ff/4ilStX+E6A/A8YAoH+ff7221564IGcyiYR1CfgXRGq6zhA++ST6QSpIj0N/2oRdehQx4XpoE/j7h72kfAnFD4EInn8ALVAjiF4r4JE0bH/zlHDRuVZtbaNSBT5MDQjeQwFcvz4ABVrpBSmX+4e2OOQKG3alL5ki+o0kTx+0DFxGUPYg/vj6XnWrI009ce1znGAA00Ir2j0MKuG25lsKVmkAYZT/SVLuvPJvtEYpxbv7go9QI1RhDQvsGE7XxhFnhbW7t4VinDzD/ESuy5u2/Y7r6+GAa6OHScq49ZWRqW9FhDEBLCZ8c67rgbLu3WbrGwXBfHVLp7D4AraTniCWaQneG7Tu+XWx7m7t5LQMo8ju7XbXVvsHB5sTLEQadPGuBnDWADDGPTWW9W9LlaCXUc79k/p0vmYoVPFUDUwo994Y5QhzN8HGGGuU6cvzZnzuwH3hx7K51LUsGELXcLMAWZ38a+88qSLipfZEPTp0xfNxbh9vnnTPbMImX755a87dq/4hPTzL16k2XM60dAvm1OnTvXYoPrrtHBRV9qz90tO10MYRW5Rjl9EIH+fGJ/lynVTDGV9rcA0qlu3LG3Y8Dn1Y1tFCUw29vyVVtaXLffhRUDGzx384bUKh8tgFLV4rRJNmdLOK6MIqh9LlmwJbwfa4O0yhnzvBL3amRye3MEtFscPDgJhQ9nXvzsHivfGGZxN6PPa3e5VSJhFejWoa+xizh/KlSuTYhhlyWJ0Le+pDHw09AQRMyuCgVj9KS3uEeaOzLr95md3+eISri8bYo5wn64nGACvVesLZcVdH67dg1kAS+1//XVIDUg72piA97ty5Y0n1TBG+NJLX7KRc6N+p9auQFyBJ8Tm9TTLRzz/doOnfhyhXH3/6d9jFWdOW6FCERebTgMGzCEY6fWVIIFnpmC02/wOKyaVOU24nuFm3kxQbY0PhQLTdu1qUcpUd4xao66wU/Qz22BLljwJtW9fy2v1Q1FHO/Z7r14vECR19ITfub+MVy3/tWs3lMQq9My/+eYNllwqoEUpQ8GP4XeroylTflWGhnVBLrdr1+66F8YMm1atqt57vnsHL1J6cqfihvqtXr1Dn9TSBpGWYOXKbYrxBV16MIc+/PA5fi7DzMma7BK4iWJEwltWfNTizPOi9m6rq3ketEpjpzD9ukarF/rAXwrk71OtadhQuNmjrFYn2PGD5G7XrvW1IHU9yYxUTxTM77H5vTjk0pNdD/H0dYzrfSDGUCSMH+ATzDE0Zcoaqlnzc+U19H2WkoOjHG9rXqirVajQnaUKxsa1+2yRL1bGUDDHj68dee7cZdZ4+VMlx5oMGhKRTrEyftBPdhhDkTpeQsIsOsOerjQyG8LSwj1d4Tp84cKufJJrXDS7y2P2gjVs2AIyi/tjkf7II11dPKH9++8ZtcBu0GAALV682fAK8wbcm6tf8wbKarOqvcB8Anz58jUtSklFfftta/bk4wxSN5i0Spb8QG1+4CL0zJmLhI0E1FSgggEDuPD89s47rhI8xpLC8wT9X/Rr1WolDRXYzmqGDz/cWalxGCIC9AApM+BpNrINtThPeM5kPLH5tMLTPAldZWkgd+Ta10YmRvHiuV2kSa5euaHEq80W9fEOjDO48NTTrl3/knnRHYx2m9+hVxnV18cO91YSGbDLEh8KBqbm+sBNuRUToXnzp9hof3pzcpfnYNQxEvo9S5a0yl5F2nTG70aXD3+gxo0HE9TJfKW///5HSWxgjniXJb2aNXvKkBWSG1999ZpBYgMSgS1afO3WDhuMYsMLh0awT1WihFGqEHHYDOrJSmJp585/lZ2OObN/1yf1qLL9IeOAOoJ+/32/OmGHZxfgYrWANBTs5kH/3UIST8wTMxPA/H118wrbBOvXNVql4rK+CcbvEyqqI0cu0arlcq1bt4whrEiR7IZns3fRDRv2OuOnTl3LXlveV16AnIEBvDF/O83PAXxV2IsKxBiy4/gBsKEaQ716zVAHjDhohDHr6tUfVHMZ1u/6v/nzN9HMmRuUkwjYPi1dupOSQrL6toZ9YPhRgVgZQ8GagyBd9sMPqwmHJ+Y9m74bcJjRsuU3yhQAwuFNMj4HKfqyw3kfK+MHGAdrDIWz/0L17pDYLAIjQyMYp37ySVfjo1q8uytEvuawiHyNGp+7MHjMeXDiO1rnNvY/Fkt96KFOhBN6/DDg5g9e1bDANxMM4yVJkoj27TtOH330vDMaE8X27Uecz7jZvfs/w7P+4dChk+w++R7DB3EHD55U9iH06bR7LPb1ZC4brpRhv2T48MX6ZMwEu8Anwj8YwrQHNG/8+HfIbHxMi7fDFYy9+fO7MAPmWxo96t7G6cD+E8rYKmyMwKCqlSFYrf5wUz1t2j1dUC3c01XDc4QJT3hNwmbSktzgCaah2Qg1np944gHLYswMH5xwmemLL15it4p/0D6dceudbLvr0Ue7qlNhuDzOnj09b/L2sUrS/1zsUMC448svD6O8eTOztJyDBgxoql4RyHZjI2h2Kw/JhjffdJWOMLcvHM8rVmx3ee2yZVt5Q2+UMnNJ5CUgkJi6exVsigwfvoiu35XMTJgoAauY1nOX3CU8kHWMpH6HMcqlS3uo7wbU0DSaPm2dcpTQokUlxfgpXNi4WdbSbdt2mO36rKLBg+cpBspHPZ6nHj0aatGG60MP5adPP23E8VNZtPBO1Ly5m9TvcPLkdqT3zgjGPrx7ai7p4cocv3krqlbtQUI5Gv3IEkvwiNmgwaNKxXjlyu0ESVNQseK5aNvWw1pSWrxoMzOex6q6QzUPaosgvH/d2t3OdLDBoNlhcAbyfAfD6clZgi0Vn6JmyJBaGXsHZs8+W9ZFxQPMH/N8cIA9frgjM2PZ/A10l88u4StWbHOpii/ON1wycUAgf59a+ZCYyJgxtbJZpIVpV/2aLDer+ZuZR/hu6AmGzrdvP6z6fNy4Zbyeyh80d9HwZKUnzHk4BMubN4s+OCruAzWG7DZ+0DnBHkNYd7322teE+VAjy3lMi7S4wrMV5rNIplgZQ8GYg6CCWKN6b2f338drauyz4IkWjng0whr9zTdHKe9ViRInpPffr2OwN6Oli8RrrIwf9E0wxlAk9nlc6pzoEyZPGZcsWUK//npnMn788YepWrWCnpKrOEzie/YcpT//PMCu6hfzRnWOU91r3brdinsLRg0kbXD6gJMRXwiLhVKl8jBjYJ3aAOPEFTYezASbLzAmdfz4eWfUhQtX+bThLyWmD0bM/fdnp9mzOxEkjMBw0QjMJJxkzZz5gWJqwbAw1Np69fqJ7TYY1dvWrdulmBiJefJIxgZB8QdGwEY+1YMB1GPHzmnFqivsQ8B4KVRfMmZMpTYP+KFOnryaxRlnqHAtA+qBxTOkb1KnTq6kqmBMFZIQKN+beH/SpIlo0KBm9OqrxhNwrfxAXTdvPsEblRXM0KlBOXPec/PtT/kQF8ZitVLl4gQuP5hqoFtsb2PZ0q00ZOh8Vqf7R+EJCTGc3m7cuIdPjbbwaf5Cev31b2jG9PXOV2IjXY3VJ8BkypfP/QJTj6e2uXMWYrpJYoEnTtExnrt2neLCrMEpheb9BRstjHUYHgVzolOniSz1c0/dERIvB1nFDHalwKhEf8PNa1U+JVvz6051+qVV5yaPHWAy9ttlyhj4tKnrCDrU2CSapeewadzFC+9HHilETz99T3orvu0+evSMklrDxPvbxn1a1dR1y5Z/6BAbmIfkCX7bgTT+17fvHJaUS8Mf6UqGd7p7AB779h3jPtrFH/fv1YfenHb+/D+UaCoYIFDhgPSir/ORvqz4Yqovy+oeWB5m49ZgDoIaN6mgxrdVWndh8a1jOPp94cLdfBq0hT/y1gwad23Vh8OwP6Swzp67RH/wN0n7rV/kb8IqVin7im0LTWFPabBDhE00bN6NYsb1Z5/NoM94XgYDFNJd//vfB7w5qcLqDa6HDNr7KlYspjbSCxb+6ZTaAcNpwoSV7KjhCMHd6owZ63lB+q1zzni+YTnl2tmdl85HHinI88Au2s8HGBrBcxnmAUiXovxUPGegfljgQkVRTxtZKgTfEzCvYSsOBDtIS5hBdOjQKX1Sl3vMwZA+wvfzBH9P9/C3E9/fMexFC7+T8qxGjPkY2IFJ9vtvxvlg5artCjswyu7Mgzd4DO8lfPc6d55EmM80On3qIv3LcwvmQXxL3eGhpff1On36FsZ+Lx/+NPA1i2U6zGlg0m3leXXixJXUpctk9Y3SJwaTfhsfKqVKlVRJVWHceBov+rzx/X2iLJyMf8GHByAHHxKAKbqaD+jSpEmu5jeMZdg7+/LLBSo+A69D5s79kNclmVQe7R+YTGCSatJf6Kc//zig5h+0CesjSO4FiqBijXG8bNnf6uDo7F2D/lr5kBBBnbAe076RWlworpgLcuTIxus61/WmP+8P5hiy0/gBJsEcQ5DKrM6b/CW8BowPvdK0Its0fTw+RfiU9+ZNB/XuPYP3HXnZLMSjPuVxlyhWx1Aw5iB86xfyt1ojHDxjjT6U50fsIaGd8emn09T+7x/elzxarpASWnjllYqWwgZaOcG4Dhv2s5rD27ePn6ZIrI4f9EkwxpCvfY21pt5EDvZ37gQKfC0z0OlOnLjKQjDXWT23gkvRCVhi5u4ZqEucCujUqROL2/W/e/86qzzdOZm0Tn0nFAyTEiU+8JTEGbdv3zDKn9+/k30sYl599Ss+LS7Fi+WuzrL0N5DswYJ8ru5EFvEZMqRSnj9wUp88eVJWR1qqTl6vsJoPJHGwmIY6gWblHBtiMHK80cCBTRWnOWPG13iR6N0u086dg3nhtV+Jz3or+513qnOdXncmW7NmB28UR7lIOmkJyvGENnbsW26lmLR0gbh+//1WPiHvSevXD2LMcgaiSLVhg6g7mHO7eXHuK2Eif5ldQTdu/JhP6jlauRqeO0ySY1o8yrXCEyKpYNp4o/ns1Q+btZfZFpM3avlGFd6otnImw+L/00+nKzfp+o2VlgC2l1A3pKte7c4JCTwZ1atXln8jFemZZ0q7ZX7Etd316vWjubw59EatWldlZvEb3pL5HJ8hw5vM/MtBf/zxiU95wJQb0H+OT2m1RHvjMB9peXGNK6b6Mtzdg5FapEg7tUHd9EdfFqPP5y6px/C41jEc/d6+/Tx23T6RN62TPbbJ18jNmw8oRhA8Qx36xzOjBGU+8eQDzGiqxNIZ5V3UKjy9E33VqtUoJb2kSQ+Z08PGEU4xX37Z+wb05MnzbBepJ8FmmoH4m4XfOGwogTndv/9s6txpkkqSnr91mAvhtcPg7vduAVgYP8WStGbvWIbyvTzMmt2RF9W/+TQP/m9WR8WYbd5shJdSibp2q88L9Be8pvMlQZMmE5i5wVJ51yf6ktxtGjBLc+Zg9WU/CMbCYQPKH4rr7xPvADMlTepmBIkJMOjglc+KcDqOcQ3pae1Qw5wO0tfNm49QTEItriYb5RwypBm5k8TT0vl7hfdaqHn7Qr0/f4EZdfV9SRqwNEmSvMRrw5J8uNglXmWGYgzZZfwAqGCNIWzk6z83IF59gczrN/RWh2nxLshLAVev3mIG/Ut8KFqRD6nf8ZLac3QsjqHatfo4QQnkHATzES++OJQWLdzsLN98k5UPL+6/P4ey/frmm097tYVlzh+o58KFP+R1/g06cGBgvIqMxfETqu+Yp46BYEPbNuOcSYaPeN0p6e0MDPPNtm1nWNPnAts1dOXfBIVZFIr24iME9ZratR/2+DqIL+PECpIDsEYOxpRZ/QxGy3DSCdd15hM2j4WHORISJZDegrtQYAGL9Giju8VfMKobDGaRvp7wFgQX1DDAiT+cYkPyC2ppOXNm5NO+DOoP/Wa2VaUvx5d7O+Dprp6QTILUziZ2e3zsGEsSsbtrjFfoTGM87937HzONlqnxDTfJ7oy6W5Vv53br6+svs0ifN9T3wcIUzO073hD924BatT9YdbR6V1zDAs0s0tcDdoggJYJTakihwlYPPHBiXoEEKNyPx3cuhWQGJETxu4V6DU7bUSbman833DjXgdg8pCxh36dMmfws2VNElam1C5Ij+DZCFRvfRqiRuSOo7r7yyjAlZbR4cXduexo1v0LSEWMM74CUMCQo8Y3EH6Q+16/f7bTb8PIrT7DUVBt3r7BFeKCYRaFuTFx+nxhvWMtAuhqSPygD3waoRUMlENJdsE+E8eGr9xWsn/AbwYYJUnqxSIFiFoUSO7uMH7Q51sdQIJlFsTiGgj1+IFwAqW0c6p4/f0VJw2KexJwX331FoPorUMyiQNXHl3JkDvIFJfukiUpmkX3gje2aBJtZFNvoSuv1CEQSs0hfb7mPOwLBZBbFvVaRn/Onn9YrI9+3bzlo4aKurNJRyudGgSHx5psjadzY5VTxqaIsCfqJz3nDkTBSmUXhwEreaY1AJDKLrFsioeFAIFKZReHASt5pjUAkMousWyKhdkXAE7MoJN7Q7AqM1EsQEAQEAUFAEIglBCDpBLFsMIrKlC3gF6MIOEG9SZO4goSjkCAgCAgCgoAgIAgIAoJAdCIgzKLo7FdplSAgCAgCgoAg4IJA69ajCca9QVDPhoqrPwTnAl99tUhl0byr+ZNf0goCgoAgIAgIAoKAICAIRAYCwiyKjH6SWgoCgoAgIAgIAvFGAA4oNILB7HLluilHD7BV5Ingsapnz+lUuXJPOsX24/r0fUnZxvGUR+IEAUFAEBAEBAFBQBAQBCIXgcSRW3WpuSAgCAgCgoAgIAj4g8Cbb1alz3vPdGb5iw3nv9FyJHvmGMMenwooI8Ywjpw+fUpl7PPYsXN0+PAp+u23fcrdeko2ktyv/yvsMaOuswy5EQQEAUFAEBAEBAFBQBCIPgSEWRR9fSotEgQEAUFAEBAELBH49NPGlDJlMho6dL7BLfrNG7do3drdlnkQCHfrLdl18McfN6L77kvvNp1ECAKCgCAgCAgCgoAgIAhEBwLCLIqOfpRWCAKCgCAgCAgCXhGAgequXetTx451ac6c32ns2GW0efNBOnr0jDJ6rRWQOEkiypcvCxUuDBfC2VnyqLq61+LlKggIAoKAICAICAKCgCAQ3Qj4ySxKwGjIiWJ0Dwl/W6cNoRQyNvyFTtLHEQGZg+IIXARmwzcHJH1+B4fA/U+ShKhBgxrqTyv19m0H3b59mxIkSKC8nmnh0XGVMRQd/RjOVsgYCif6kfvum3erDjOxMoYitx/tUHMZP3boheiswzVu1gXLpmk7fctI10AHB511DZaQGEZA+whekbERw6MgtE2XOSi0eIfzbfjmgKTP7+AQ3P8JeS+Dv+gkGUPR2a+hbJWMoVCiHT3vunW3Kbf5KmMoevo1HC2R8RMO1GPjnZfdNjNql4VuWywRgoAgIAgIAoKAICAICAKCgCAgCAgCgoAgIAgIAm4REGaRW2gkQhAQBAQBQUAQEAQEAUFAEBAEBAFBQBAQBASB2ENAmEWx1+fSYkFAEBAEBAFBQBAQBAQBQUAQEAQEAUFAEBAE3CIgzCK30EiEICAICAKCgCAgCAgCgoAgIAgIAoKAICAICAKxh4Awi2Kvz6XFgoAgIAgIAoKAICAICAKCgCAgCAgCgoAgIAi4RcCrN7S0adNSypQpqWDBglxIIlq9+qjbwiQi9hA4ffoqYYzs3HmGrl8X3mPsjYDQtThPntzKU5PMQaHDPNxvSpgwifr+SJ+Huyci9/2pU6em5MmTy9olcrsw7DXPmzcvJUiQUMZQ2HsiMitw65aDcufOTTdukIyhyOzCsNc6e/b76OjR/2T8hL0norcCx49f4fV2WssGJnAwWcbcDezUqRP1799fPWXLlo2OHTvmKbnExRgCWbNmpePHj1OKFCnoypUrMdZ6aW4oEUicODEzixIyU/J6KF8r7wojAvLNCSP4UfLqLFmy0IkTJ6KkNdKMcCEAhuPVq1fD9Xp5bwQjgHXL7du31cHH5cvu3VNHcBOl6kFGAHusG8xtvHnzZpDfJMXHKgJp0qShxo0b05gxY1wg8CpZhAGKBXvSpEmpUaNG1LRpU8KmTUgQAAJLly4lMBTHjRtHRYsWVZt5QUYQCAYC9erVo2TJktHkyZNlDgoGwDYsc9SoUYS/9evXq7klQYIENqylVMnOCPTp04dmzJhB69ato0SJEtm5qlI3myLw9NNPU44cOdQ6R9a/Nu0kG1cLG/wqVf6JzzIAAEAASURBVKpQqVKlaMiQITIP2biv7Fq1Zs2aqYP5OXPmyPrXrp0U4fU6dOgQawnttGyFV64PpEU0aSJ8JEuXLm1ZkATGJgKbNm2ia9euUZ48eejBBx+MTRCk1SFB4PTp05QrVy6Zg0KCtj1eghNZnKZhkS0kCMQFAe00VsZQXNCTPEDg1KlT8u2RoRBnBCCRdubMGXXYJfNQnGGM6Yznzp0jKALJHjymh0FQG4/19tatWy3fIUZmLGGRQH8RkBNbfxGT9P4iAKmSJEmS+JtN0gsCgkCMIyASaTE+AOLZfIwfSNcLCQLxQUDGUHzQi+28mINEqjG2x0A4Wy/MonCiL+8WBAQBQUAQEAQEAUFAEBAEBAFBQBAQBAQBQcBmCAizyGYdItURBAQBQUAQEAQEAUFAEBAEBAFBQBAQBAQBQSCcCAizKJzoy7sFAUFAEBAEBAFBQBAQBAQBQUAQEAQEAUFAELAZAsIsslmHSHUEAUFAEBAEBAFBQBAQBAQBQUAQEAQEAUFAEAgnAsIsCif68m5BQBAQBAQBQUAQEAQEAUFAEBAEBAFBQBAQBGyGgDCLbNYhUh1BQBAQBAQBQUAQEAQEAUFAEBAEBAFBQBAQBMKJgDCL4oH+2bNnafTo0fTUU09R7ty5admyZfEoTbIKAoKAICAICAKCgCAgCAgCgoAgIAgIAoKAIBB+BBKHogotWrSgy5cv+/yqatWqUcuWLX1OH8qEN27coAULFtCECRNozpw5dP3aNefrr1696ryXG2sEpkyZQjNnzrSOvBv6+eefU8GCBT2m8TXywoUL1KpVK7p165bbLI899hi1b9/ebbxERCYCHTp0oMOHD/tc+Rw5ctDgwYPdph8wYABt3LjRbbwWUbNmTWrevLn2KNcQIfDhhx/S/v373b6tdOnS1KVLF7fxVhHDhg2j1atXW0UZwuz8zTJUVB68IuDLN0orJFGiRJQmTRpKly6d+sMc8uijj1LRokUpYUI5i9NwiqWrzEOx1NvBaauMoeDgGiulyviJlZ4OXTtDwix64IEH6MCBA7RmzRr6+6+/LFuXkBddtWvXVousxIlDUi3LengLrFChAv3+22/ekkm8GwSyZMlCOXPmpG3bttHPP/9Mty2YOOj/SZMmuSnBv+AhQ4bQlMmTXTIlSZpUjbf777+fwCwSij4EsmbNSr/xb3XVypUeG5edN3gVK1ZUEoKeEoKBifLALL5w/rxL0rS8YQSjCBtIodAjgA36yZMn1Xdm544dLhWYNnWqYhp3797dJc5dQK5cuRTjet++fTRr1iy6pjsQSMDMgFq1alGxYsXIzt8sd22TcGsEsmXLRvguHDx4UB0InT1zxjqhh9AsPPe0adOG3n77bcqYMaOHlBIVbQjIPBRtPRr69sgYCj3m0fRGGT/R1Js2aYvDC3Xs2NHBVVV/nTp18pLae/Q333zjSMDlmf9WrFjhPbMNUvzxxx+OrVu3OhYvXuzgk0NDO+bPn2+DGoa2CuPHj1djY/369X6/eNGiRY4UKVIYMMS4AK5btmzxuzxzhtOnTzv4xNelfN7YOXjTb04uzzZHIH369A6WDvG7lhibJUqUcBkHGGulSpVysESgX2Xu3LnT5bfPkkSOU6dO+VWOJPaOQLt27RTW3lMaUyxfvtzBCybLPh8xYoQxsY9PzOB2YO7Qvl0LFy70MackCycCjRs3diRJkiROVTh+/Ljjvvvuc/a51vcsLe0YOnSoY+zYsQ6M0XLlyjmSJk3qko4ZT45169bF6d2SyT4I4Hdfvnx5vysk85DfkEVlhitXrqh1ct26df1un4whvyGLygyFChVy5M2b1++2yfjxG7KYzQDeRv/+/S3bH3I56TfffJNSs9i2nkqULKlO9vVhdr2HKgNOkqF28NBDD9m1mhFRr+rVq1OdOnVc6uq4fZu6devmEu5vAA96On/unEs2XvRRmTJlXMIlIDoRgFrI0qVLKX+BAi4NvHjxot9SIZA2cUoPJUhA47//nsaNGycSBC7ohi8AduTWrl1LT7LEmJneffdd+vHHH83BXp9xWvf444+rdAULFaIaNWp4zSMJIhsBSMI2aNDApRH4trRt25agYg/pVWYI0Z49e6iASX36+LFjVKlSJVrpRbrR5QUSEBUIyDwUFd0Y1kbIGAor/BH/chk/Ed+FtmhAyJlFCXhzlTlzZkPj+eTO8BwpD1hICsUPAeaWWxYwl+1BYbMXV+ITYfryyy8ts2fPnt0yXAKjFwH8VmfMmEHJkic3NHLf3r2EjZ8/NHDgQLrJtstAn376KTVt2tSf7JI2RAjAjgxLf7i8Dcxo9BlLNrrEeQvQvlXa1Vt6iY98BKCW5gvByQVLSFPhIkUMyaG6CBuM13T2DQ0J5CGqEZB5KKq7NySNkzEUEpij9iUyfqK2a0PWsJAzi9Cy5KYNGwxERiKxaHskVttWdU6dOrXb+nTt2tVtnLeIPn360OVLlyyTpUqVyjJcAqMbAUgFwmCxmT755BPavHmzOdjyefv27QQD7KCqLF0YCAk4yxdJYEAQcGdkGMw+SIz4y5DWvlUyhwSkeyKikLRp0/pcT9jj+/bbb13S79m9m6ayzSyh2ERA5qHY7PdAtlrGUCDRjL2yZPzEXp8HssVhYRZBuigaSIyaBq4Xi7BB0cpVqhgKXLF8OS1ZssQQ5svDkSNH6Ouvv1ZJ69StSzlZbUhIEAACOOF/4cUXDWDAo2GTJk3okhvmopYYkgEvcl5ICmRmSaXvWf3M3QdYyyNX+yJwhT10wqnC33//7XMltW+XdvU5oySMWAT87WuovaZImdKlvX/++adLmAQIAjIPyRiILwIyhuKLYGznl/ET2/3vS+vDwizypWKRkMbfRWQktCmcdezVq5fL6+MiXYRylNciZkp+9tlnLmVKQGwjMHLkSILNGT3t2rmTYMvGE8Ed6Za7EkiwUSSqSJ7Qsl/cfPZil9WkUgRPV7A9tH//fvtVWGoUkQiwoWtig9cudYdHPSFBQOYhGQPxRUDGUHwRjO38Mn5iu//j0vrEcckUjjzXr1+nH374gX766Sc6dOiQ+jt79ixBLaBs2bLK/TncX1etWtXn6mHxNm3aNPrrr7+IvW/Rrl27CLqd+fLlo5JsdBsGLB988EGfy7NKCJH0o0ePWkU5w9jLHGGBGesEF/a12eD1vLlznVD8zq7K0edWRkadiXQ32PRpagDsBYfY25UuVm4FAVJzBgwcV6hQgSBVpNH4775T88fLL7+sBTmvC5jRoNm/eZddYkMiRSiyEChcuLCyUwSDw+f426HR0X//JRjbX716Nflqn0bLK1dBwAoBK6ljUV20Qir2wmQeir0+D3SLZQwFGtHYKk/GT2z1dyBaGxGSRbNnz1YMnNfY8wgMH0Nt4IEHHiCIe8Ob0S8//0y9WIKkOtsQ6dGjh1dcbt68SX379iV2p01dWFpg8uTJSgUFi7kTbBh544YNNJaZPKWZ0dCoUSM6Z+FRy+tL7iZgN9s0YMAA6vHRR4Y/SLxgwwom1W02uCp0BwElXcQSQXrq3r073bp1Sx/k9h4Gh2GPJGGiRMr4sNuEEhHTCDz88MPqd2kG4a233lJejfThx9ijUfPmzYkcDirJzGN/DWLry5L78CIA5vEc/oaY1YT2sicrSBjFZ64Pb8vk7XZBgP3OWtpAA5NSSBAAAjIPyTiILwIyhuKLYGznl/ET2/3vb+ttzyxavHixkir57650Ti0+0T958qQ6Bf7111/pN5Y8ycFGJTUC0wjMGXd0+PBhJYkEJtHVK1eo6auvqvL2slekEydO0HL2ZpJYZ7h6xvTp1LBhQ5+ZFeb39uvXj+rXr+8MTsUGnfux9yUwuSDRBKOXZoPfzsQxeIMJDBJBetrBRoUnTpyoD7K8B2NOS/cq9+v9bAdJSBBwhwDUzp7T/TaR7uKFC/TCCy8QJBlB2Pg1a9ZMMZGTp0ihGMvJkiVTcfIvMhF44oknlESpfp5HS6BiWIclG6/wd0FIEIgrAjCij0MnPeHw4tlnn9UHyX2MIyDzUIwPgAA0X8ZQAECM4SJk/MRw5/vZdNszi2Cz5rZOqgQSQVAV0wjMBbM0kcYw0NJoV0inQMVEszvSmqUIxo8fTxkyZFBJYKwWqmyvvfaalkVdIbkEl7j+EiSGOnToQFBvAYHRtWPHDvrggw9IPKkpSCz/QToIi2s9wWOVtoHXh+vvP/74YzVWkrBKn3lM6NPJvSCgIQCVxTx582qP6rrp99+pc+fO6n7w4MG0+K6L9YEDB1KxYsUMaeUhMhGoVauWmvsT8JyvpzWsigZpUkifCgkC/iKAdYI2d+jzQpI4CxvFFxIE9AjIPKRHQ+7jgoCMobigJnk0BGT8aEjI1RMCxpWyp5RhitvNLmf1lMvCsxXsTegJ3rCsCCpOq1auVFFZsmZ1usA2p23durU5iCB55A/BnhJOqQcPGqSydWNVKqg/wLWukGcEIBEEySA9HTxwgEaNGqUPMtxDnU9zTQyPV7A7JSQIeEMAjOIpU6YYpAmRZ+iQIco4epcuXVQR9VgqACpqQtGDADzbQQrETPPnzaMWrPIMqTIhQcAKgVWrVim7iTdY5RleFNetW0dvv/02Va5c+Y5zBV2m115/nbR5RBcst4KAQkDmIRkI8UVAxlB8EYzt/DJ+Yrv/fWm97ZlFTz/9tLMdpUqXNkgVaRE5cuQg0tm5gYqXmc6w1xu9Z6xWrVpR+vTpzcnUc2l+D4zYpr8rcVSCjV0///zzlmmtArez2hTsKS1ko7iwjfEjq5rh3eI9zQot6zBICUFCSE9g9rlzb/4R24SCTRmoCsHGkZAg4CsC5cuXp969e7sk/5jtn91gdbTsPL9oRtNdEklARCOADX5PnpvNNInVXtu3b28OlmdBQCHQgNVX8+bJQ8n4G5WGVcsrsHOGb77+Wn2DNIjKc9gvS5fSmDFjtCC5CgKWCMg8ZAmLBPqBgIwhP8CSpC4IyPhxgUQCdAjY3hva6NGjCYYhr169Si+99JKu6nfsicBuESRKwIjRToKtVAjWrl1rUGcrXry4oSzzw5dffqkM2Z46dYoUM8qcwM3zrFmzqGnTpsr2CdRb8AxVOSH/EMjL2L3xxhs0YvhwZ8bjbGgY/WI+pd3ABsnnsBF00DvvvEPZs2d35pEbQcAXBKAaunz5clowf74xOc8rEyZMoEyZMhnD5SlqEABz+fTp0zSEVQ71NIznGvS7qLTqUZF7IPAVf5ewNjh48KAyio4DKoyV/Pnzq7+iRYsqD62CliDgKwIyD/mKlKRzh4CMIXfISLgvCMj48QWl2Exje2YRFmBwYa8n2P2BrSHYJjrCBqt9IbhF1lOBAgX0j5b3MGTrD6MItnbAuICECwhe1oRRZAmtT4HdunWjcePG0ZXLl53pYTAc6kB6qTBMcKDUadLQh2y4XEgQ8BcBMJsxp8ClqN6tem22M1alShV/i5P0EYYA7FFB+lSzL6dV/xOWcMQ3CExoIUFAQ6BJkybCQNbAkGvAEJB5KGBQxmxBMoZitusD0nAZPwGBMeoKsb0amoY4pIYWsFoX7BMV41O7vn36KI9iMFK9hqWLkiVPriW1vP7ORmv1hI1BoGnD+vVORhHKhoTRcZNXlEC/M5rLg4QQPFbpCRt5MIw0Wsk2qH5eskQ9vvfee7KA14CRq98IZM6cmbJly2bIl4LVGoWiHwEwC6Eu9Oxzz7k0tg2rJIPxLyQICAKCQDARkHkomOjGRtkyhmKjn4PVShk/wUI2ssu1BbMIXsg80datW5WXstrswQaMgay8oRvB9gFgyHrEiBFK3BsD3BOZVdN27drlKXmc4lqwFzW9d519bBQbluatbCjF6QUxmKlTp06UJm1aQ8uHDh1K//33nwrTpIoyZMyoPM8ZEsqDICAICAI+IpCIPTCCKVSJjRQbiA8qmjVrpg4rDOHyIAgIAoJAgBGQeSjAgMZgcTKGYrDTA9hkGT8BBDNKivLMpQlRI9OamAH6186dO5fKli1LcGkMqluvHoHRA49lKdl4tK9UqFAhQ9I1a9YYnj09wF7SYR/U3Ro2bEhwta0nuOGGcWx4TRHyHwGogLz//vuGjFBLg0HixYsX02r2SgMCU8nTODIUIA+CgCAgCFggkJwlVGFnrgx/c/R0k+dvzO/+fDf0+eVeEBAEBAFfEZB5yFekJJ07BGQMuUNGwn1BQMaPLyjFThpbMIsyslSIFYFBA0bLNWbWgHLlzk0zZsyIE1OgWLFihlfAKDZsH/lCPXv2pDJlyviSVNlX6sDGcvW0hJkar7P7XM0Atz5O7r0jAPWyjMw00tPIkSPplVdeUUHZ7ruPoCoiJAgIAoJAfBFIw7bPoPJ8/wMPGIoCk3r7tm2GMHkQBAQBQSAYCMg8FAxUY6tMGUOx1d+Bbq2Mn0AjGrnl2YJZVLBgQUsE582bp1xXa5EvvPACJU6cWHt0e71165ZLnJlZ5Lh9m+Ce3Rvt3LmTBg0apJhW3tJq8bCp88KLL2qP6jqRPSqJ8WUDJD4/QGLIjB1O+k+eOKHK6Nq1q19SZj6/WBIKAoJATCIA+1VLWOU5N7tHFxIEBAFBIBwIyDwUDtSj650yhqKrP0PdGhk/oUbcnu8LGrNoPRt7hrRHq1atCPeeyJ23oaVLlxqy6T1g6SNuM+PHILXDNiYQpqdy5copW0f6sGksXYQ6mtNqaQ4dOkTPPPMMXb92jVq2bKkFu71qdYD9pO+++87F9kV/ZiL179/fbf5YjLh+/bpq9jXG2BPBG9F9bPDaTNjMYYx5Iu0dWhpv79LSyTX2EJCxEl19ru9Pf3/3uXLlUgyjzFmyRBco0hq/ELAaN1euXPGrDEkc2wjIPBTb/R+I1ssYCgSKsVuGjJ/Y7ftAtDwozCIwWZ544gka/tVXNHrUKOV6evfu3c766g0+P8pMnCJFijjj9Dfp0qXTP9KwYcPoxF1pEi1i7dq19MgjjzhV1bTwf//9ly5dukQNGjRQtm0gnYL8ZkIdn332WZXm/PnzKvro0aP02WefUYkSJejggQP0ZMWK9PDDD5uzqvL1gfoFZNKkSWnmzJlUomRJfRLqzLZ1Ro8ebQiL5QfNK92pU6c8wgCvVJoxa33CHj16ELD2RNo7tDQnT57UbuUqCBgQkLFigCPiH/T96W2OsWosvk0LFy50MbJvlVbCohOBs+yB00xxGUvmMuQ5dhCQeSh2+jpYLZUxFCxkY6NcGT+x0c/BamVQmEW/siv7WzdvOusMWw+dO3dWz1hkgRkDgucweLZyR2Y7QcfYA9ZDDz2kpHOgelS7dm16/PHH6c8//3Qp4qmnnlJ2hmAgO8vdk+FGjRopA9nmxPM4zTM1alB6Zk4lZKmgnDly0MfMhLjAzKP8BQrQ9OnTzVnUs9nm0V72fqYnMLugSpeJVRr0BEmYAQMGuJVo0qeN5ntIYq1cuVI18eKFC/TXX395bC6ku/Lmy+dMU6hwYeWlyBlgcYOxCJU1Pf3ORsf1jD19nNzHLgKbN2+mc6aN4ZYtW+jcuXOxC0qEt3z58uXOFsTVODUOCubMmUPJ2Pi1UGwhgG/UihUrXBq9bNkylzAJEATcISDzkDtkJNxXBGQM+YqUpLNCQMaPFSoS5isC3g0A+VqSLh2YPGAEwS6QRv9jKRt4rNq4caPavCdi20Pff/89QT3MHTVv3pyGDx9Of+uYCP8eOaKkc7Q8Re6/n8aNG6fUxPTGR/fv20cpU6Wi2bNnKwaTln78+PH09ttv0xR2keyNcuTMqZg9GrMJ6Q8ePEgbNmxQUkP/8L2eevXqRfexseVSpUpRPmZqgFmEjWbRokWdXrtUel6AdurYUZUBJlpuNtxdunRpgvpatBOkesAsBGPtm2++oc06Rl/9+vWpW7duSqIrf/78BF1ZPUGCCHamXmvRQgV/+umnljasIMWG9/zxxx+WdqnOnD5N1apVIxjOhr2srFmzUg5mEArFHgIYhxgrYDh/8sknLgBcuniRqlatSh+w0frCzJzEWIF6kpA9EQAT+ABLg8I5wqJFiwzeKTE/Q6WoUqVKlC1bNsIckyxZMp8aUpGlS+EUAZKq+oMQnzJLoohCAPPBf3wwtWfPHhrFktFr+cDBTPhOXeADDhxKYU7wZyyZy5Ln6ENA5qHo69NQt0jGUKgRj673yfiJrv4Me2v45MwjdezY0cGVVH/M7PGYVh/J3qocrDrkYPaHyx8zkxxsj0if3O39P//846hTp45LGRkyZHDw4t/BPwiVd8yYMffelyCBg1XTHGwryW25P/74o4MXeS7lor6oN6s3OVhdziV/yZIlLfOY2/nDDz+ovGyPyWt6vI83MS7vioQAZr6pseEJa307WCLMKx7Akhls+mzO+5s3bzoeeOABB/qBbU05w/U3efPm9ekdWp+xxJI+u9zbFAG2WeZgpmpAa8eG7/0aKy+++GJA3y+FeUagXbt2joQJE3pOpIv9+++/fe7Pffv26XL6djthwgQHM/UdbMvOtwySKuwING7c2JEkSRKf6+HrN0r7fuAal7Hkc4UkYdgRYMcqjvLly/tcD5mHfIYqJhJin4J9VN26dX1ur4whn6GKiYSFChVyYG/jK8n48RUpSachsHXrVgfbVdYeDdegSBaBA/bmm28qW0CzZs1S0jiQEknOYvzFixcnnNL6SpC6gQoAJHq2sdtinAw/+OCD6iRPL4kD1/QNGzZUIuNQG/B2+s8LSIJaGiQLoJa0fft2ddoMO0Uo32wvSasv1FL8oV9++cWf5FGftnfv3oS/uFKiRIlUX3nKD8kCIUHAFwR4cvQlmaSJEATwfWEWctBq+8orr1CmTJliXoU4aADboOD4fqNs0ASpQpgRkHkozB0QBa+XMRQFnRjGJsj4CSP4UfjqoDGLgBVE/cE0CgQxR5Xw54nA4KlXr56nJIY4MJuYW6v+DBHyIAgIAoKAICAIWCBQs2ZNi1AJEgQEAUEgdAjIPBQ6rKP1TTKGorVnQ9MuGT+hwdkObwmKgWs7NEzqIAgIAoKAICAICAKCgCAgCAgCgoAgIAgIAoKAIOA/AsIs8h8zySEICAKCgCAgCAgCgoAgIAgIAoKAICAICAKCQNQiIMyiqO1aaZggIAgIAoKAICAICAKCgCAgCAgCgoAgIAgIAv4jIMwi/zGTHIKAICAICAKCgCAgCAgCgoAgIAgIAoKAICAIRC0CwiyK2q6VhgkCgoAgIAgIAoKAICAICAKCgCAgCAgCgoAg4D8CXplFadKkoZQpUyqX97gXEgT0CCRNmpQwLhIm9DqU9NnkXhDwG4HcuXNTsmTJ/M4nGSIXgbRp06rvT+S2QGoebgQyZcpEKVKkCHc15P0RjECePHnk2xPB/RfuqsPzcq5cuQjrZSFBIC4IZM+enZInTx6XrJJHEPAJAezj3a2VvO7wL1y4QJcvX6atW7cS7oUEAT0C169fV+Pi6tWr+mC5FwQCjsDBgwfp7NmzAS9XCrQvAufPn1ffH/vWUGpmdwROnTolY8junWTz+uHbc/r0aZvXUqpnVwQcDgcdPnyYMBcJCQJxQQDjB+shIUEgWAjcvn2brly5Ylm8V2aRZS4JFARMCMiJiQkQeQw4Ap643gF/mRQoCAgCUYMATvaFBIG4IoDxkypVqrhml3yCgEJAtDNkIMQVgUSJEolkWlzBk3zxRkCYRfGGUAoQBAQBQUAQEAQEAUFAEBAEBAFBQBAQBAQBQSB6EBBmUfT0pbREEBAEBAFBQBAQBAQBQUAQEAQEAUFAEBAEBIF4IyDMonhDKAUIAoKAICAICAKCgCAgCAgCgoAgIAgIAoKAIBA9CAizKHr6UloiCAgCgoAgIAgIAoKAICAICAKCgCAgCAgCgkC8ERBmUbwhlAIEAUFAEBAEBAFBQBAQBAQBQUAQEAQEAUFAEIgeBIRZFD19KS0RBAQBQUAQEAQEAUFAEBAEBAFBQBAQBAQBQSDeCAizKN4QSgGCgCAgCAgCgoAgIAgIAoKAICAICAKCgCAgCEQPAomD0ZQpU6bQzJkzPRb9+eefU8GCBT2m8TXywoUL1KpVK7p165bbLI899hi1b9/ebbxEhAaBSZMm0ezZswP+sn79+lHevHkDXq4UGLkIdOjQgQ4fPuxzA3LkyEGDBw92m37AgAG0ceNGt/FaRM2aNal58+bao1xDhMCHH35I+/fvd/u20qVLU5cuXdzGW0UMGzaMVq9ebRVlCKtWrRq1bNnSECYPkYmAL+sXrWWJEiWiNGnSULp06dQf5pBHH32UihYtSgkTylmchlMsXWUeiqXeDl5bZR4KHrbRXrLMQdHew6FvX1CYRVmyZKGcOXPStm3b6Oeff6bbFkycxIkTExgHgaAhQ4bQlMmTXYpKkjQp1a5dm+6//34Cs0go/Ahky5aNChQoQL/99hutXbuWLl+6FJBKtWvXTphFAUEyegrJmjWrGmerVq702KjsvMGrWLEiPfXUUx7TgbmNcbtgwQK6cP68S9q0vGEEowgbSKHQI4AN+smTJ2nNmjW0c8cOlwpMmzpVHSh0797dJc5dQK5cudShxr59+2jWrFl07epVZ9IEzAyoVasWFStWjPA9E4oOBPCNwprh4MGDNGfOHDp75ozfDcvCc0+bNm3o7bffpowZM/qdXzJELgIyD0Vu39mp5jIP2ak3IqsuMgdFVn9FRG0dXqhjx44Oboj669Spk5fUrtGLFi1ypEiRwpGAy9D/8ambY8uWLa4Z/Aw5ffq0g0/1DGXjPbx4d/DGzs/SJLm/CIwfP16NjfXr1/ub1cEbMAdvxlz6buXKlY7Nmze7/OEdzHx0DB8+3FGhQgVDvoULF/r9fskQWQikT5/ewdIhflca46ZEiRKG8aLNRaVKlXJcvXrVrzJ37tzpwPyllYErSxI5Tp065Vc5ktg7AswEVlh7T2lMsXz5cgcvmAx9pPXXiBEjjIl9fOLDD/Vd0cqROcdH4MKcrHHjxo4kSZLEqRbHjx933HfffS7jqEWLFo6hQ4c6xo4d68AYLVeunCNp0qQu6XjD51i3bl2c3i2Z7IMA1pPly5f3u0IyD/kNWVRmuHLlilon161bN07tk3koTrBFVaZChQo5WHvC7zbJHOQ3ZDGbYevWrY7+/ftbtp8sQ3WB8WUWoahGjRq5LKKw4I7rxKmrnoPVCizLfuKJJ/TJ5D5ICMSHWYQq8emrS/+dO3fOa21Z5dAxaNAg56Z9+vTpXvNIgshGIK7MIrQaiy2WaHMZaywt5Lh586ZfwFy6dEltPhXTIEECx/fff+9XfknsOwJxZRbhDWfPnnWwxJhLn4PRxyL+vldCl5Klz1R5WLgJRQYC8WEWoYUsHeQyhliCzaXx//zzjwPzicZM1K7Jkyd3rFixwiW9BEQOAnFlFqGFMg9FTj8Hq6bxZRahXjIPBat3IqPcuDKL0DqZgyKjj8NdS0/MopAo1fMgt5Symssi3lBFiivxBpC+/PJLy+zZs2e3DJdAeyEAlcW4EOxBvPfee9S2bVuVHXarhAQBdwhgnM2YMYOSJU9uSLJv715iTrohzNvDwIED6eaNGyrZp59+Sk2bNvWWReLDgADsyLD0h8ubHbdvqz5jqVeXOG8BLGWikmhXb+klPvIRgDqIL5Q7d25iphAVLlLEkByqi7Bnde3aNUO4PMQGAjIPxUY/B7uVMg8FG+HoLV/moOjt21C1LCTMotSpU7ttT9euXd3GeYvo06ePW5s3qVKl8pZd4m2AAJ+6xqsWLPlGCdlGzOXLl+NVjmSOfgRg4BgGi830ySefEKs9moMtn7dv304wzg+qykaNu3XrZplOAu2BAJjKVgRmX4MGDfw+rIAxY5B8X6xQjc6wtGnT+tww2Gr89ttvXdLv2b2bprLNLKHYREDmodjs90C2WuahQKIZe2XJHBR7fR7IFluvpAP5Bl1ZRdhoZOUqVXQhRCuWL6clS5YYwnx5OHLkCH399dcqaZ26dSknGyIVijwEEiRgYf14ELzPwAjpq6++Go9SJGusIIAT/hdefNHQ3Ot84t+kSRNi9TJDuPkBkgEvcl5ICmRmSSVWPxOPR2aQIuj5CjOY4QDh77//9rnW2nylXX3OKAkjFgF/+xre0FKkTOnS3j///NMlTAIEAZmHZAz4goDMQ76gJGnigoDMQXFBLbbyhJRZBGh79erlgnBcpItQjvJMw8yGzz77zKVMCYgdBOCBypP0WuwgIS31BYGRI0dSQZNq7K6dO+ndd9/1mB3uSLfclUAaN24ciSqSR7hsFzmfvdhlNakUwdNVjRo1aP/+/barr1QoMhFgQ9fEBq9dKg+PekKCgMxDMgZCgYDMQ6FAOTLfIXNQZPZbOGsdcn+/cGFfu04dmjd3rrPdv7M76p9++kmpBTgDPdxgYa+JerPxSmKPRh5Su4+6fv06/fDDD+rdhw4dIvyxITCCqkHZsmUJdYVL7apVq7ov5G7MbhYznzRpkipvL9tBgftm9p5BGzdupB49eih1B4iRQvUBjA1v6leVK1emxx9/3PDeo0ePOtttiOAHNiKu3P2aw6PxuWfPngS8J0yYEI3NkzYFGQH8vn/88Udij3oEqSKNxn/3nfqtv/zyy1qQ87qAGQ2a/Zt32SU2JFKEIguBwoULE+wUVapUic7xPK/R0X//perVq9Pq1avJV7sQWl65CgJWCLBBZJdgUV10gSQmA2QeisluD0ujZR4KC+y2f6nMQbbvIttV0HVFE4IqQipo3rx57A8N3iTvUPfu3enZZ5+lRGx/xhvBqCxsTsBWDe7jQrNnz6bWrVvTf8yAASXixR1OA2+z8VMweH75+Wf1h7juH31EYFCYCQa22auOYhJt3LDBEM1WzVV4s2bN6PatWyru/Llz9CUbXM2UOTOdOnnSkF57SMA2NsD8wmm3mWCXh90gErsCp0sXLzqjM2bKpDY597OaXywQGIv+6G/HAibSRv8QePjhh2nAgAHUlhk/enrrrbfUPKA3yn/s2DFq3ry5mq9KPvig3wax9eXLfXgRwNwKtVXMrxC91mjvnj0qDAaKYQxSSBCIKwL49lvZQAOTUkgQAAIyD8k4CDYCMg8FG+HILl/moMjuv1DXPuRqaGggBikkgvS0gw3HTpw4UR9keb+T1UW0dLBTExcGyeLFi5WEj8YoqsVSAuwKV50s//rrr/QbSzrlYEOVGvViNTdsLM1UvHhxat+uHZkZRUiHE2zUT2MU6fNmzZqV1vB7MmTMqA9W9/DutmnTJnrkkUdc4tgtL/3MTCwY9taoxjPPELvspTfeeEMLiurrzJkznapAUd1QaVzQEYDa2XP16xvec5G96r3wwgsEqUMQFlxg+J5gxnDyFClo8uTJlCxZMkMeeYgsBJ544gmaNm0aJU6SxFBxqBjWYalXdnNsCJcHQcAfBGBEH/OFnnCwhcMwIUFAQ0DmIQ0JuQYDAZmHgoFqdJUpc1B09WcwWxMWZhEaBIkgLKD0BK9E2iZNH66///jjjxUDJgnbBYB6V1wINpL0TJy+ffsaTpPBzDKXrTGo9O9btmwZHeNF4c+//OLSlp7cPjCFFjFjauCgQVSAGT0gtLkNSzNAxQ0bFjIZeAbTyhtpp5YwogkjuyktjGl6K8PO8VAvGzt2rPMPKofoIxghhrqdkCAQKAQwtvLkzWsobtPvv1Pnzp1V2ODBg2nxXRfrAwcOpGLFihnSykNkIlCrVi0aP348QZJTT2tYFQ1zzM2bN/XBci8I+IQAJNO0uUOfAXYVs7BRfCFBQI+AzEN6NOQ+UAjIPBQoJKO/HJmDor+PA9FC40o5ECX6WAYkgswerA4eOECjRo1yW8KWLVuc7mfh1Shfvnxu03qKgL0bPeWy8KQGGxZ6gvc1M5UoUUItAKuwhzdIGekpKUsfQLqoGrvXfu+995SNnXWsPga7SFB/AyEfGEd6AlPq1l21NX24dg+bSpBuAL3++utRuQBtwxIfLblt2t8b3Ndd2LjwNHY9rGfyaZjIVRCIKwIZMmRQqqRmKZOhQ4Yow/ldunRRRddjqQCoqAlFDwLwbIfTVzPNZxXpFi1aKKkyc5w8CwJAYNWqVepbfoPV4eFFcd26dfT2228TbA0qxxs6mF7jb5k2j+iC5VYQUAjIPCQDIa4IyDwUV+Qknx4BmYP0aMi9FQJhsVmkVQRSQjAKfeOuygfCYc8IC3UrY5Afse0g2DmCOghsHMWVnn76afofqzOBSpUubZAq0sqES3Yl9cPvA13U2QjS0uiv2HTqCW17kO2baAS3l3Cpayakg3SQZnAVtjMgVeNOrezrr79W9oogofT++++bi4uK5wbPP2/wbgZVoMOHD9N2VlXUVAejoqHSCFsgAEP0vXv3ps6dOhnq8/FdycXsPBdoBvUNCeQh4hHABv/06dPUA98WHU1ipn1GVhPWjJrrouRWEKAGJvVVK0jKs/Qw5hUwkIQEAU8IyDzkCR2Jc4eAzEPukJFwfxGQOchfxGIrfViZRXlZ/QNMkRHDhztRP87GZGG3x3wSt4ENSM9ho9Sgd955h7Jnz+7M4+/N6NGjCcYmr169Si+99JIhOxgTsFs0laVYwODBM8ibWoLZ64CvxiyxIYFLbkjOaAQGEuplZphdY89NwAYEm09xlazS3mPXK5hl7gxYf/HFF9SN1QiFBIFAIvDBBx8o4/EL5s83FstzANQiM7EReaHoRAAHD2AYDWGVQz0N47kW/W5WSdankfvYROArXrOcOnWKDh48SOfYcQUOkzBW8ufPr/6KFi2qVM1jEx1pdVwQkHkoLqjFdh6Zh2K7/wPdepmDAo1o9JQXVmYRYOzWrRuNGzfO4JmmX79+SuUjffr0TqQ1SaLU7PYazJX4EBZ1bdu2NRSxY8cOZcMCamBHWIrFXzIzi/zJj7pAHeLfu6pukJ4ZxHaOlCSVriBsWo/9958K6WSSgtAli+pbMBE1Nbyobqg0LqQIgDEMGzZwKapJ+aECtdn4PdRFhaIbAdijOnPmDI3/7jtDQz9hxj2+FzigEBIENARgPw/jQkgQCCQCMg8FEs3oL0vmoejv41C3UOagUCMeGe8Lm80iDR5ICMErkZ6wWQPDSKOVK1fSz0uWqEfY/wnUIg1SQwsWLCDYJyrGJ4F92csYTghbs20SeCtLljy5VoWgXlOwWh0MfusJ7T+u86iCumoe2apxfUuz+lysUtmyZWO16dLuICKQOXNmypYtm+EN+G0KRT8CYBaOGTOGnn3uOZfGwq6cMKhdYJEAQUAQCDACMg8FGFApThAQBPxCQOYgv+CKmcRhZxYBaUjJpEmb1gA6bEX8d1eKRpMqgqv5Dh06GNLF9WHr1q1UsWJFqs1eccCIysqbxBFsDwiGrEeMGKFEyPGjCRU1b96cHmCGlUaXmGmlZyD9v73zgJKiyvr4nRlmGHKOAkNmiJJBZQEDK0FE+Ih7UIIoLquLAUTFBVxhDcjBsBJcdnFA1IWjfogKiB9JEJFFMkjOImGAEcZBZKjv3lqqT4UO1T2dquv/zhm6XqhX7/3epbr61n33fspb8Pbt3atWe4u2op3nhk9RpHmLTueGuWOOIAACkSGQwn7gRCnU2exjhhX1Q4YMUV8sRObK6BUEQAAE/ksA9yFIAgiAQCwJ4B4US/rxee24UBaJpZDZWXPeL7+oziG/5NDz6zjyiCRRKvnyZRMM3s8++4zEOkXCJEvqee+9tG/fPjVKWazC0Mt/TvHHo08SGU7GJWnq1KnqZ8tWrVy/LUYsQGrUqKHywD8gAAIgEC4C6WxNunjxYmplsl68xlGv+vbtS+vXrw/XpdAPCIAACHglgPuQVywoBAEQiBIB3IOiBNohl4kLZZGwku1lZU0+AGbPnk2DBw9WUVaqXNkSZj4UxhJV63842pYW3rZa9er00UcfhUUJFcp49Of04vDct9x6q6co/9o11dG3ONz+5saPFLf6KvJAwQEIgAAIRJBACfaLJ9uTG2RmGq4iLzD27N5tKEMGBEAABCJBAPehSFBFnyAAAnYJ4B5kl1Tit4sbZZFYDJkdV8vb3HNnz6qr8BxHwAqH1c/nn39Ov1296lnZgQMHkh3n1Pn5+Z5zInnwyiuvGLr/5OOP6b4bfjRq16mjKroMDZABARAAARAIKwGxXlzB25Orw4IxrFzRGQiAgH0CuA/ZZ4WWIAAC4SeAe1D4mTqxx6goi67eUM5I6Hd/SSLOVGaH1+YkD+wjR440Fxvy2jW0Ql/XWrlypdZE/dRHXNNXXL9+ncSptCfxsZTZTb+xoiuU1KFDB3VbnP5cTWEm/ppku1oipStXrlimEyo7S0coAIEgCdi9jwTZLZrHiIB+PX19J/gaWrVq1VSFUfkKFXw1QbkLCHiTm7y8PBfMHFMMFwHch8JF0r394D7k3rUPx8xxDwoHRff2ERVlkYQklpSdne2XtEQe0pxZ6xtOmDCB0tLS9EWWY+0aWsW5c+e0Q8NnqVKlDHkJWX/2hvWSVrFhwwZq06aNZ6uaVv7jjz9Sbm4u9enTh8SXkj5d4y1j+vTDDz/os0Edi++iZJNSSH6wDGUn2ImWzp8/b5nSpUuXLGUoAIFoELB7H4nGWHCNghPQr2eg7x9vV6tfvz4tW7bMEoDBW1uUJSaBixyd1ZxCkSVzH8i7hwDuQ+5Z60jNFPehSJF1R7+4B7ljnSM1y4gri8Q6Z+3ater4L7MSYMeOHX7nMmLECMqoWdPTpm69emokGk+BlwPx6SNb1vRp8+bN5O3tXyt2EK1PpzniWosWLVQH0rLVrUePHnTbbbfR1q1b9c3U406dOpGcLw6yK+jeNovG/8CBA4b26244zzYU2sw0atTIMuc///nPlIhhvNesWWOhsmrVKksZCkAg0gS2bdtGOaYfhtu3b6ecnJxIXxr9R4jA6tWrPT2H6py6ZcuWtGTJEirMzq+R3EVAnl/wHeWuNY/EbHEfigRV9/SJ+5B71jpSM8U9KFJk3dFvoUhMU6x6Tp06RQcPHqRZs2bRNp3ipXfv3jR+/Hhq0qQJ1apVi2Q/pD6JBdHEiRNp+LBharGEj/fmU2j//v0k19myZYvaXt+HHF9gi5UuXbqojrPrsK+fihUrUtWqVVXrnLfffpt26pRWP548SeM40pqW6jdoQHPnziVRXOkdmh4+dIiKFitGEsZeFEwyR7EwWrRoER07elQ7Xf18b/581Rqqe/fu1LZtW5ItDcEkmfeCBQvoKiui5JqjRo0K5vS4bStWXD+xgu4QsxQH5lu+/94yVtlyuHPnThLlXD1WFtauXZsKFy5saYcCECgoAblHyX1ElMOTJk2ydJd7+TLdddddNGbMGFUW5T4S7P9lS6coiBgBeUFw5MgRkkAGy5cvp+nTp3uuNXnyZBLFfufOnalSpUrq94/d+0rHjh1p4cKFqlWpBB5ASlwCcj+Q7yh5ASQRSTfwyyhzkmcYsYCV7yi5J8izjF1ZMveFfOIRwH0o8dY02jPCfSjaxBPrergHJdZ6xnw2rLH2m8aOHSuOe9Q/jsTlt61WyRY6ShKfE+ivYcOG2imGT97SpWRmZipNmzZV2E+QoU7LZGRkBOxff31W/GinKseOHVPuuecey/llypRR+AeFwv/J1LZz5sxR2Jrnv+2SkhTemqZs3LjR00/Pnj0tfeivqR0/8sgjnnPsHvCPGqVs2bJq/6NHj7Z7WtTbZWVlqbKh5+JvECJPGhe7n6xY8tcl6lxCgP2LKc2bNw/rbNmKLyh5HDRoUFivj878E5B7X3Jysv9GulpWMttez1DuK/Pnz1eS+Luga9euuqviMJ4J9O/fX0lNTbU9RLvPL/rvr1BkyfaA0DDmBPiFpdK+fXvb48B9yDYqVzSU3xTyO0p+M9hNuA/ZJeWOdnXr1lXkd6/dhHuQXVJopxHYtWuXMnXqVC1r+IyIZdGUKVNI/kJN4sR5z549fk+Xt8ehpurVq6vbCo6yNdBuDoUsb5ubNWumvh3kHwKebh988EHq27evaoYuWxHMFgViYRSp9N5776nWUSmFCtGTTz4ZqctEvd9XX32V5A8JBOKBAN8c42EYGEOYCDRu3Jj49UKYerN2M3jwYCpXrlxQwQ6svaAkngkU9PklnueGsUWHAO5D0eGcyFfBfSiRVzfyc8M9KPKM3XSFiCiLnAKQtbQkf/6SOMS+9957/TUJe51EXWPtntrvwIEDqQbCN4edMToEARAAgVAIdOvWLZTTcA4IgAAIhI0A7kNhQ4mOQAAEQiCAe1AI0Bx6SsQdXDuUS0yHLVZFe29EU+OtfzEdCy4OAiAAAiAAAiAAAiAAAiAAAiAAAiDgLgJQFsV4vS+zA119Yn9KNG7cOLXof3gLHPtt0lfjGARAAARAAARAAARAAARAAARAAARAAAQiSgDKooji9d05O4YmidJWskQJdZvZgAED1Ihn4hvpNEdikQho+kg+vntCDQiAAAiAAAiAAAiAAAiAAAiAAAiAAAiEj4CrfRaFD2PwPXGUH/o5J0c98cTx47SI/zyJnWy/9dZbFofannocgAAIgAAIgAAIgAAIgAAIgAAIgAAIgECECMCyKEJgA3WbmZnptYlEP5s3bx4NGzbMaz0KQQAEQAAEQAAEQAAEQAAEQAAEQAAEQCCSBKAsiiRdP32L5VCr1q2J2IqocHo6paalUb/+/Wnnzp0k4ZmRQAAEQAAEQAAEQAAEQAAEQAAEQAAEQCAWBAJuQytbtixJ+Pibb76Z5BgpPATatGlDmzZtotOnT1N+fj5VqFCBUlNTw9N5FHspUqQIlStXjpKToXeMInZXXqphw4asW01y5dzdOuny5ctTyZIl3Tp9zDsMBKpVq0Yl2DcgEgiESqBRo0ZUjP1IIoFAKATkuUWeX+R5GQkEQiFQv359OnLkSCin4hwQsEVAfsf7elYK+Av//PnzlMO+ddauXUtyjBReApUqVaKqVas6UlEkJPLy8ig7O5uuXLkSXjDoDQRMBHbt2kVnz541lSKbyATOnTunfv8k8hwxt8gSOHHiBP3888+RvQh6T2gC8t1z5syZhJ4jJhc5Aoqi0J49eyBDkUOc8D2L/MhvLSQQiBSB69ev06VLl7x2H1BZ5PUsFIKAiUAab6NDAoFIEhCtN97uRpJwfPYNa7L4XBcnjQoy5KTVir+xivzguyf+1sVpI/L11t5p88B4o08gJSWF0tllCRIIxIIAlEWxoI5rggAIgAAIgAAIgAAIgAAIgAAIgAAIgECcEoCyKE4XBsMCARAAARAAARAAARAAARAAARAAARAAgVgQgLIoFtRxTRAAARAAARAAARAAARAAARAAARAAARCIUwJQFsXpwmBYIAACIAACIAACIAACIAACIAACIAACIBALAlAWxYI6rgkCIAACIAACIAACIAACIAACIAACIAACcUoAyqI4XRgMCwRAAARAAARAAARAAARAAARAAARAAARiQcAxyqLVq1dTz549qV27dvT888/T1atXY8EL1wQBEAABEAABEAABEAABEAABEAABEACBhCZQKBqzGzZsGP3yyy+2L9WlSxcaMWKEp31eXh4NHDiQzpw+rZZt+u47ql27Ng0fPtzTBgfOIPDhhx/SJ5984newf/vb36hOnTp+29itvHTpEo0cOZLy8/N9nnLLLbfQ448/7rMeFc4k8NRTT9GJEydsD75q1ao0ffp0n+1fe+012rRpk896raJbt240dOhQLYvPKBKwc3/RhpOSkkIlSpSgUqVKqX+y/m3btqWGDRtScrJj3qNo08FnGAg888wzdPjwYZ89NW/enJ599lmf9d4q3nrrLVq3bp23KkOZ+bnHUImMYwhAhhyzVHE7UMhQ3C6NIwYG+XHEMjlqkFFRFmVmZtKRI0do/fr1tHPHDq+AkvnBvUePHuqDeqFCxmGJoik7O9tw3tatWw15ZJxBoEKFCnTTTTfR7t276auvvqLrXpQ4sv4LFiwIy4Ref/11+vCDDyx9paalqfLWoEEDEmURUuIRqFixIv3nP/+hr9eu9Tu5Kqwk6NixI3Xq1MlvO1FgSn9Lly6lSz//bGlbkpUOoigSJQRSbAhUqlSJ5P/00aNHacmSJXTxwoWgB1KB5eaxxx6jUaNGUdmyZYM+Hyc4l4AoCs+dO6c+q+z94QfLRBYtXKi+eBDrZrupWrVq6suPQ4cO0eLFi+nXK1c8pyaxUrJ79+7UqFEjMj/3eBrhwFEEIEOOWq64HCxkKC6XxTGDgvw4ZqmcM1AlQBo7dqzCs1H/nn766QCtA1fPmjVLSeL+zH9r1qzxe/IjjzziOadkyZLKnj17/LZHZXQIZGVlqbKxcePGoC+4fPlypUiRIp511WSC3+or27dvD7o/8wnnz59X2GrA0j8/lCv8o9/cHPk4J1C6dGmF3+wHPUqRzSZNmljkQOTt5ptvVq5cuRJUn3v37lVERjV5lU+2JFJYoR1UP2gcmMDo0aNV1oFbWlucOXNGqVy5smGdZK3Y0lV54403lH/961+K9M9bm5W0tDRLO1Y8Kd9++621Y5Q4ikD//v2V1NTUoMfMW98Vfui2yIXI0IwZM4LuT07glySKfP9o945ly5aF1A9Oii4BWbP27dsHfVHIUNDIEvIE3h2hPiezK42g5wcZChpZQp5Qt25dJSMjI+i5QX6CRubaE3bt2qVMnTrV6/zJa6muMNzKouvXryts+u95WJKHpqZNm+qu6PtQHrQ+/fRThS2NfDdCTVQJFERZJAPt16+fQRa0h+hQvlTNE+ftAl777tChg7kp8g4gEKqySKYmigPeumqRB7YWUq5duxbU7HNzc9Ufn6qsJiUp8+bNC+p8NLZPoCDKIrkKWwdZ1pwtRywDOHbsmCKyoN1/tM/09HQl0IsMS2coiCsCoSqLZBIXL15U2OrQIheiLOYtjyHNky0Y1f7k4R/JGQRCVRbJ7CBDzljjSI6yIMoiyFAkV8Y5fYeqLIL8OGeNYz1Sf8qiqDtmSEpKovLlyxtMr/jtryHvKyOmdeLkmq1RfDVBucMI8A3Q64g/4y0kGzZs8Fpnp5CVA/Tmm296bVqlShWv5ShMXAKy/fGjjz6iwunphkkeOniQWJNuKAuUmTZtGl377Te12QsvvED3339/oFNQHyMCsi3NTqpevTqxUojq1a9vaC5bhsR/3q+//mooR8YdBMSfFVuhWSarXL+u/r9n61hLXaAC7XlH+wzUHvXOJgAZcvb6xcPoIUPxsArOHQPkx7lrFy8jj7qySCbOb2sN8xcno0juJFC8eHGfE3/uued81gWqePnll+mX3FyvzYoVK+a1HIWJTUCc04qzWXOaNGkSbdu2zVzsNc/bX0kcsEu6ix3xjx8/3ms7FMYHAd6ybHsg4kvtn//8p6X9gf37aSH7qkFyJwFfzs5FYdynT5+gX2pozzv4HnKPPEGG3LPWkZopZChSZN3RL+THHescqVnGRFkk1kVIIKAnUJ+d0t5+xx36IlqzejWtWLHCUGYnc/LkSZo5c6ba9B62RLuJHYwigYAQECuRgYMGGWBcZauRAQMGEG8vM5SbM2JdMojPFWuT8mypxNvPEDXLDCnO8sF+10g0tCJFi1pmgYAKFiQoYAJ5HHxDAnPs3LnTNg9NJrVP2yeiYUISgAwl5LJGdVKQoajiTriLQX4SbknDPqGYKIvCPgt0mBAEJk+ebJlHKNZF0o8acYaVki+++KKlTxS4m8Ds2bOpjmn74769e+nRRx/1C0bCkW6/YYE0d+5cwjYSv7gcWcmOrokdXlvGLpGskEDgC46EWNG0tVEi7t199910+PBhAAKBgAQgQwERoUEAApChAIBQ7ZcA5McvHlR6IeAYZRFHIKIJEyaQ+LiR0NTr16/3Mp3/FknY5JdeeokaN26stmWn2J62+/bto5EjR1KrVq2oKL9BFl8m7PCY3nvvPTUkrqfYnY/uAAASIklEQVQhH1y+fJnmzJlDw4cPp8zMTNVXkoTYnjhxIsl2FKTwEpAQ9j3uucfQ6WYOVf7xxx8byvxl5IFd20rCjk2Jo135a446FxKQbSD//ve/Ka1wYcPss959lxYsWGAo0zJL+Uei5rvkUQ6rLtYESIlJgJ3ZWiaGLUMWJK4sqFevHomfolKlSxvmf+rHH+n3v/89nT592lCODAiYCUCGzESQD5YAZChYYmivJwD50dPAsR0Cca0skgcv+YHWpk0basjKmslsJSIOacW5JHsNN8zvAr/de+edd0iUObVq1aLx7O9mz+7daltpyOGx6U9/+pOqQPoHt9vy/fd0JS+Pss+do29Y8fQAO6l94IEHiKO1qf3K9idRNj380EP0LlsRiOWBWKus+/prevGvfyXZrrBq1SrDGJApOAHVusi0TfH555+3KPJ8XUkcDosviWRWKMoxEgh4I9CyZUt67bXXLFV//OMf6cCBA4ZyuQ8NHTqU4zYq1LRZs6AdYhs6QyauCcj3ijf/VZ07d47rcWNw0SMgLyCWcAAG83bFg3zfEAujnJyc6A0GV3IkAciQI5ctrgYNGYqr5XDcYCA/jluymA44rpVFTZo0oScef5zEuiRQ4nC09AhbDIkyR37U6ZNExrr99ttp5owZlH/tGjVgxVPzFi2oUGqqvhl98P779C5bF4hlSrdu3ej4sWOq0iGTo7BVNkXQymWrI/kB+Qv7LEAKHwG5gYlFkD79wFZcYvkVKIn1mdZOFH8N2A8SEgj4IiDbzu7r3dtQffnSJRo4cCBdvXpVLRflwZAhQ+gs30PSOQrjBx98QIVNFkmGDpBxNAFxgC5rrU+ieO7Vq5e+CMcuJyDWyIsWLbI8Q8g21XvYOpZDZbucEKYfiABkKBAh1AciABkKRAj1/ghAfvzRQZ2eQFwri9auXUunfvqJVnz1FZHJ2kQ/CTmWrUpHWbmzmS2GzEogsQ767rvvaOzTT9OZs2fVLWTfc7tNmzZR9Ro1DF2NePBBeoid4Eoo5QWsPLp48SLtZgulH9nMPIsd2qayTwstiTJJ3jAihZeAWATJDzR9kohV2g94fbn+WLYHXs/PV9dItiwigUAgAqIYrpGRYWj2/ebNNG7cOLVs+vTp9OWN8NjTpk2jRo0aGdoikzgE1qxZ41l3/azE75lsV0YCAT2B7t27U1ZWFiUlGx+j1q9bR/369aNr/GIKCQT8EYAM+aODOjsEIEN2KKGNLwKQH19kUK4nYHzK0dfEwXFDtuipxM4k77zzTnVrmb8hiS8jUfC0YIuh1q1bG5qKM9uv2eLolVdeofLly3vqxIrl1Vdf9eS1g35s2bJ9+3Y18pE+tPv9vFXNbPUiSiik8BIQiyCxDNKno0eOqNsM9WX6Y1kvLby1RLyqWbOmvhrHIOCVQJkyZejDDz+0KJjfeP111Tn6s88+q553L1uWyBY1JOcTkO+C48eP02+8XVUi4H377bc0atQo1fpUdYyvm+JwfnmgyYCuGIcgoBKQ6IhijWZOX3z+OQ0bNsyyXd7cDnkQgAxBBgpKADJUUILuPh/y4+71tzP7uFYW6SdQsWJFfdbvsSiY9El8k9x66636Is9x165dPcfagWw1ESe43pL4RNKn8+fP67M4DhMBsRLSW3FJt+LPyFd487/85S/q9kPZKiQ+jpBAwC6B9u3b05QpUyzNJ7J12m+8Ha1K1aoep+mWRihwHIE+vPUwgy1KC7OVaInixelWdqw/a+ZMw/bl9lz2fytXqgEOHDdBDDiqBETR+FcvUTcX8Nbpx3kbPRIIBCIAGQpECPWBCECGAhFCvT8CkB9/dFBnDfsSp0yC8RNibpvkZwtbqVKlVF8k4uxaS2bn2Vq5fOotkyR/iX2cIIWfQAZvDXqItw/OePttT+dn2NHwm2++aXnTL9ZdS25EvBMn5lVM/qU8HeAABHwQGDNmDK1evZqWfvGFsQXfO+bPn0/lypUzliPnWAJ/53tKdnY2SdRMcUYsUS9lfSUwgvyJRatEZkQCAbsE5AWFvDh6nbet6tNb/H0lsoVt0XoqOPZGADLkjQrKgiEAGQqGFtqaCUB+zESQ1wg4RlmUanJGrU3A22cwbeX89PR0NTKat77MZWZFlLke+fARGD9+PM3lSHR5Oifism1QtgOV1oUulhucpOJsDfbMM8+EbwDoyTUERKEs/kckpGgO+ynTUo8ePeiOO+7QsvhMAAIDBgyA8i8B1jHepiA+zSQqaxYHydCnSWwlKwojeZGBBAL+CECG/NFBnR0CkCE7lNDGFwHIjy8y7i53zDY0f9ZB5iUMpq35XOTjh4BYCEnEKn2SH/J6P1PiBP2rFSvUJk888QR+BOph4TgoAmI1aN7CWoS3NSKBAAiAQCAC8twxZ84c6nXffZamjz32mBpJ0VKBAhDQEYAM6WDgMCQCkKGQsOGkGwQgPxAFbwTiQlmUbIom4m2gKHMngac5gl2JkiUNk3/jjTfoJ46SJ0mzKipTtiw99dRThnbIgAAIgAAIgEC0CKRwFE/xedj59tuNl1QUGjJkCC1dutRYjhwImAhAhkxAkA2aAGQoaGQ4QUcA8qODgUOVQFwoi0qalAFYGxDQCIj5/pNPPqll1U/ZliYOib/88ktax5GNJIlSCXKkosA/IAACIAACMSIg29oXL15MrUxRWa9x9L2+ffvS+vXrYzQyXNYpBCBDTlmp+B0nZCh+18YJI4P8OGGVojfGuFAWlWWrECQQ8EVAtpeVZaWRPs2ePZsGDx6sFlWqXJnEzB8JBEAABEAABGJNQKKpihVRg8xMw1DkRcee3bsNZciAgDcCkCFvVFAWDAHIUDC00NZMAPJjJuLefFwoi+rUqePeFcDMAxIQiyGz42p5S3vu7Fn13Oeee46KFi0asB80AAEQAAEQAIFoEBAfaCvYn171GjWicTlcIwEJQIYScFGjPCXIUJSBJ9jlID8JtqAhTidiyqKNGzeq1h4jR44kOfaX7EQb8hfO3ty3ua05b25fkHwk+y7IuJxy7tWrV9Wh/vrrr36HLJFkKrPDa3OSB3GRMX9Ju4bWJtC1tHb4dB8ByEpirbm3/+t5eXmJNUnMJqIE9PcEb/Lk7+LVqlVTFUblK1Tw1wx1CU4AMpTgCxyF6UGGogA5gS8B+UngxY3C1CKiLDp+/Dh16NCB3v773+kf77yjhp7ev3+/ZzqXL1/2HLdt147q16/vyfs6yM3NNVT9ogunbqjgjLku0I+D39hKRZ+uXLmizxqOr127Zsibr2WoRCYgAQk1LCk7O9tvW4lKpTmz1jecMGECpaWl6Yssx9o1tIpz585ph/gEAQMByIoBh+MzFzl6ojkFuteY2yPvbgL6e0IosiPPN8uWLbMEanA3VXfNHjLkrvWOxGwhQ5Gg6p4+IT/uWetIzDQiyqJvvvmG8nVKFdmnP27cOHX88rB16tQp9TiJo6BJZKtASRQ0+/btMzTbs2ePIa9lxNLHXKdXVGnttE9RbOXqlFdSfvToUa3a8rl3715Dmb++DQ2RsRCQtVq7dq1afvnSJdqxY4eljb5gxIgRlFGzpqeobr16aoQZT4GXA5FF2bKmT5s3b6ZACkR9exy7g8C2bdsox6Rc2L59O+Xk5LgDQILNUu4va9asscxq1apVljIUgIAvAqtXr/ZUheqcumXLlrRkyRIqzM6vkdxHADLkvjUP94whQ+Em6q7+ID/uWu9wz7ZQuDuU/lq1akWiCFKuX/d0/7+ffKJGrNq0aZP64z2lUCGaN28etWPLIl/p5MmTdOzYMZo2bRqdN1meiJVJmTJlqEWLFpTJTiTFxO5rjowlYWt/MCmSXnrpJarMTpDbtm1LNXjbUqlSpWg3O5kUpdD48eMtl+/Tpw+9/PLLJL6UpO/U1FT1R4coHiZPnmxof+jgQRo0aJD6J/O+6aabDPXIGAmIVY8oCw8yt1mzZtG2rVs9DXr37q2uR5MmTahWrVoke2X1SSyIJk6cSMOHDVOLX3jhBSrEcmROosCT62zZskVtb66/cP48denShcRxtqxxxYoVqWrVquZmyLuAgMihyMpWlsNJkyZZZiyK5LvuuovGjBlD9Vg5KbIiW0uQ4pOArOVPP/1EBw4coHfYqnUD37PNSe75l1g53alTJ3U95V5TuHBhczPkXUpAXiQcOXKETpw4QcuXL6fp06d7SMj3v2xF69y5M1WqVEn9nrIrOx07dqSFCxeSPF/oX6Z5OsdBwhCADCXMUsZsIpChmKFPiAtDfhJiGeNnEvz21W8aO3aswqNV/zg8ud+2+kqOVqXw1iElic81/7FSRVm5cqW+udfjoUOHWs4195WUlKSwdZDC25ECt+WxsOJJ4S1tCj/g2WrPlkTK+++/b6st+9XxOo9ELszKylJlg/1S2ZomO6O2xbJhw4Ze+2MrM4UVeErTpk1ZF3nda5uMjAxb19BkiS2WvPaDwvgiULp0aaV58+ZhHVSjRo2CkhVWDIf1+ujMP4HRo0crycnJ/hvpau3eX7T/+/J56NAhXQ84TDQC/fv3V/iFj+1p7dy50/Y9IRTZmT9/viLPLV27drU9JjSMLQF+KaW0b9/e9iAgQ7ZRuaIh/3BXn5N79uxpe76QIduoXNGwbt26ivy2sZsgP3ZJoZ1GYNeuXcrUqVO1rOHTapYRJj3Www8/TL169aLFixerFjxiJZLOJtiNGzcmecNmJ82dO5fkz04SKxP5s5v8+SUy9yE+B8R6CKngBKZMmULyF2pKSUmxbDM09yVvhZFAwA4BvjnaaYY2DiFQ0PuLQ6aJYUaQgDyj8GuIiF1h8ODBVK5cOeKXHRG7BjqOLQHIUGz5J8LVIUOJsIqxmwPkJ3bsE/HKEVMWCSwx0xalERIIgAAIgAAIgAAIgABRt27dgAEECkQAMlQgfDiZCUCGIAYFIQD5KQg9Z50bEQfXzkKA0YIACIAACIAACIAACIAACIAACIAACIAACGgEoCzSSOATBEAABEAABEAABEAABEAABEAABEAABECAoCyCEIAACIAACIAACIAACIAACIAACIAACIAACHgIQFnkQYEDEAABEAABEAABEAABEAABEAABEAABEAABKIsgAyAAAiAAAiAAAiAAAiAAAiAAAiAAAiAAAh4CUBZ5UOAABEAABEAABEAABEAABEAABEAABEAABEAAyiLIAAiAAAiAAAiAAAiAAAiAAAiAAAiAAAiAgIcAlEUeFDgAARAAARAAARAAARAAARAAARAAARAAARCAsggyAAIgAAIgAAIgAAIgAAIgAAIgAAIgAAIg4CEAZZEHBQ5AAARAAARAAARAAARAAARAAARAAARAAASgLIIMgAAIgAAIgAAIgAAIgAAIgAAIgAAIgAAIeAgU8hz5OEhNTaXk5GQqUqQIzZgxg2bOnOmjJYrdSKBWrVqqfPTu3ZtycnLUYzdywJwjTyApKYkOHz5MxYoVo5SUlMhfEFeIOYHatWuToihUvHhxkvWXPyQQCIZAzZo1KT8/HzIUDDS0NRCQ5+D9+/fju8dABRm7BER+5G/jxo3qfUh+UyGBQDAEihYtSrm5ubgHBQMNbYMiUL58efrDH/7g9ZyAyqK7776bDhw4QIUKBWzq9QIoTGwC6enpdOrUKWrXrp36o05uaEggEAkCJ0+eVGWtXr16VKpUqUhcAn3GGQF5SXH06FHq1KkTpaWlqQ/ccTZEDCfOCch31PHjx+l3v/sdyfcTFM1xvmBxOLyDBw+qP9QyMjLw3ROH6xPvQ5KXHLt371ZfdlSpUgUyFO8LFofjk5fxO3bsoGbNmlHJkiXjcIQYktMJiEK7efPmXqeRxG9tFa81KAQBmwQWLlxIPXv2VK3PbJ6CZiAQNIETJ07Q3r176c477wz6XJzgXAJZWVk0ZMgQ504AI485AchQzJfA0QOQF6anT5+m2267zdHzwOBjR2DXrl2Ul5dHrVu3jt0gcGXHErhw4QKtW7dO/a3l2Elg4I4lAGWRY5cOAwcBEAABEAABEAABEAABEAABEAABEACB8BPAxtnwM0WPIAACIAACIAACIAACIAACIAACIAACIOBYAlAWOXbpMHAQAAEQAAEQAAEQAAEQAAEQAAEQAAEQCD8BKIvCzxQ9ggAIgAAIgAAIgAAIgAAIgAAIgAAIgIBjCUBZ5Nilw8BBAARAAARAAARAAARAAARAAARAAARAIPwE/h8v6oH4lgB9DQAAAABJRU5ErkJggg==)"
      ]
    },
    {
      "cell_type": "code",
      "metadata": {
        "id": "5eaN8pCEoKkl"
      },
      "source": [
        "import pandas as pd"
      ],
      "execution_count": 62,
      "outputs": []
    },
    {
      "cell_type": "code",
      "metadata": {
        "id": "-P5gw6ztNPKP",
        "outputId": "4daca1b6-9ec8-4c70-ea62-5e8e321f6107",
        "colab": {
          "base_uri": "https://localhost:8080/",
          "height": 142
        }
      },
      "source": [
        "records = [['Jack',1,1,0,1,0,0,0],\n",
        "           ['Mary',0,1,0,1,0,1,0],\n",
        "           ['Jim',1,1,1,0,0,0,0]]\n",
        "labels = ['Name','Gender','Fever','Cough','Test-1','Test-2','Test-3','Test-4']\n",
        "\n",
        "binary_table = pd.DataFrame.from_records(records,columns=labels)\n",
        "binary_table"
      ],
      "execution_count": 63,
      "outputs": [
        {
          "output_type": "execute_result",
          "data": {
            "text/html": [
              "<div>\n",
              "<style scoped>\n",
              "    .dataframe tbody tr th:only-of-type {\n",
              "        vertical-align: middle;\n",
              "    }\n",
              "\n",
              "    .dataframe tbody tr th {\n",
              "        vertical-align: top;\n",
              "    }\n",
              "\n",
              "    .dataframe thead th {\n",
              "        text-align: right;\n",
              "    }\n",
              "</style>\n",
              "<table border=\"1\" class=\"dataframe\">\n",
              "  <thead>\n",
              "    <tr style=\"text-align: right;\">\n",
              "      <th></th>\n",
              "      <th>Name</th>\n",
              "      <th>Gender</th>\n",
              "      <th>Fever</th>\n",
              "      <th>Cough</th>\n",
              "      <th>Test-1</th>\n",
              "      <th>Test-2</th>\n",
              "      <th>Test-3</th>\n",
              "      <th>Test-4</th>\n",
              "    </tr>\n",
              "  </thead>\n",
              "  <tbody>\n",
              "    <tr>\n",
              "      <th>0</th>\n",
              "      <td>Jack</td>\n",
              "      <td>1</td>\n",
              "      <td>1</td>\n",
              "      <td>0</td>\n",
              "      <td>1</td>\n",
              "      <td>0</td>\n",
              "      <td>0</td>\n",
              "      <td>0</td>\n",
              "    </tr>\n",
              "    <tr>\n",
              "      <th>1</th>\n",
              "      <td>Mary</td>\n",
              "      <td>0</td>\n",
              "      <td>1</td>\n",
              "      <td>0</td>\n",
              "      <td>1</td>\n",
              "      <td>0</td>\n",
              "      <td>1</td>\n",
              "      <td>0</td>\n",
              "    </tr>\n",
              "    <tr>\n",
              "      <th>2</th>\n",
              "      <td>Jim</td>\n",
              "      <td>1</td>\n",
              "      <td>1</td>\n",
              "      <td>1</td>\n",
              "      <td>0</td>\n",
              "      <td>0</td>\n",
              "      <td>0</td>\n",
              "      <td>0</td>\n",
              "    </tr>\n",
              "  </tbody>\n",
              "</table>\n",
              "</div>"
            ],
            "text/plain": [
              "   Name  Gender  Fever  Cough  Test-1  Test-2  Test-3  Test-4\n",
              "0  Jack       1      1      0       1       0       0       0\n",
              "1  Mary       0      1      0       1       0       1       0\n",
              "2   Jim       1      1      1       0       0       0       0"
            ]
          },
          "metadata": {},
          "execution_count": 63
        }
      ]
    },
    {
      "cell_type": "code",
      "metadata": {
        "id": "Cux9VPoGoJGM"
      },
      "source": [
        "def dist_binary_symmetric(p1,p2):\n",
        "    q = 0.\n",
        "    r = 0.\n",
        "    s = 0.\n",
        "    t = 0.\n",
        "    for i in range(len(p1)):\n",
        "        \n",
        "        if (p1[i] == 1) and (p2[i] == 1):\n",
        "            q = q + 1\n",
        "        \n",
        "        if (p1[i] == 0) and (p2[i] == 1):\n",
        "            r = r + 1\n",
        "        \n",
        "        if (p1[i] == 1) and (p2[i] == 0):\n",
        "            s = s + 1\n",
        "\n",
        "        if (p1[i] == 0) and (p2[i] == 0):\n",
        "            t = t + 1\n",
        "    return (r+s)/(q+r+s+t)"
      ],
      "execution_count": 68,
      "outputs": []
    },
    {
      "cell_type": "code",
      "metadata": {
        "id": "QeFUO_9Qr-aa",
        "outputId": "69f7cbc9-0b39-4c37-adf1-966de813b05f",
        "colab": {
          "base_uri": "https://localhost:8080/"
        }
      },
      "source": [
        "dist_binary_symmetric(binary_table.iloc[0,1:],binary_table.iloc[1,1:])"
      ],
      "execution_count": 69,
      "outputs": [
        {
          "output_type": "execute_result",
          "data": {
            "text/plain": [
              "0.2857142857142857"
            ]
          },
          "metadata": {},
          "execution_count": 69
        }
      ]
    },
    {
      "cell_type": "code",
      "metadata": {
        "id": "hH95VR38sh1j"
      },
      "source": [
        ""
      ],
      "execution_count": null,
      "outputs": []
    }
  ]
}