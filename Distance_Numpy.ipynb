{
  "nbformat": 4,
  "nbformat_minor": 0,
  "metadata": {
    "colab": {
      "name": "Distance_Numpy.ipynb",
      "provenance": [],
      "authorship_tag": "ABX9TyNCrlqFZ6XHHpq1LQZGANi4",
      "include_colab_link": true
    },
    "kernelspec": {
      "name": "python3",
      "display_name": "Python 3"
    },
    "language_info": {
      "name": "python"
    }
  },
  "cells": [
    {
      "cell_type": "markdown",
      "metadata": {
        "id": "view-in-github",
        "colab_type": "text"
      },
      "source": [
        "<a href=\"https://colab.research.google.com/github/tohnperfect/DWDM21/blob/main/Distance_Numpy.ipynb\" target=\"_parent\"><img src=\"https://colab.research.google.com/assets/colab-badge.svg\" alt=\"Open In Colab\"/></a>"
      ]
    },
    {
      "cell_type": "code",
      "metadata": {
        "id": "F2TdENrfcrro"
      },
      "source": [
        "import numpy as np # package สำหรับทำงานกับ ข้อมูลที่เป็นตัวเลข (อยู่ในรูปแบบ matrix)"
      ],
      "execution_count": 1,
      "outputs": []
    },
    {
      "cell_type": "markdown",
      "metadata": {
        "id": "yEvoUsgKdZmt"
      },
      "source": [
        "# Numpy Array"
      ]
    },
    {
      "cell_type": "markdown",
      "metadata": {
        "id": "KCd_z_dediXq"
      },
      "source": [
        "## สร้าง numpy array (matrix) จาก list"
      ]
    },
    {
      "cell_type": "code",
      "metadata": {
        "id": "7YAMSZRidLbd"
      },
      "source": [
        "np_a = np.array([[1,2,3],[4,5,6]]) #สร้าง numpy array ที่มี 2 แถว 3 หลัก"
      ],
      "execution_count": 2,
      "outputs": []
    },
    {
      "cell_type": "code",
      "metadata": {
        "colab": {
          "base_uri": "https://localhost:8080/"
        },
        "id": "Fwr3EyCNd0qX",
        "outputId": "5c54345b-7789-4b8f-f5c8-a943a4ccce2b"
      },
      "source": [
        "np_a"
      ],
      "execution_count": 3,
      "outputs": [
        {
          "output_type": "execute_result",
          "data": {
            "text/plain": [
              "array([[1, 2, 3],\n",
              "       [4, 5, 6]])"
            ]
          },
          "metadata": {},
          "execution_count": 3
        }
      ]
    },
    {
      "cell_type": "code",
      "metadata": {
        "colab": {
          "base_uri": "https://localhost:8080/"
        },
        "id": "VRsPfk-ld1yf",
        "outputId": "10013b81-b90f-4bcb-9a66-ff280940e39c"
      },
      "source": [
        "np_a.shape"
      ],
      "execution_count": 4,
      "outputs": [
        {
          "output_type": "execute_result",
          "data": {
            "text/plain": [
              "(2, 3)"
            ]
          },
          "metadata": {},
          "execution_count": 4
        }
      ]
    },
    {
      "cell_type": "code",
      "metadata": {
        "colab": {
          "base_uri": "https://localhost:8080/"
        },
        "id": "msM37LOIeEZE",
        "outputId": "9c7e8a8e-915e-4076-d27c-62077be4202e"
      },
      "source": [
        "np_b = np.array([[1,4],[2,5],[3,6]])\n",
        "np_b"
      ],
      "execution_count": 5,
      "outputs": [
        {
          "output_type": "execute_result",
          "data": {
            "text/plain": [
              "array([[1, 4],\n",
              "       [2, 5],\n",
              "       [3, 6]])"
            ]
          },
          "metadata": {},
          "execution_count": 5
        }
      ]
    },
    {
      "cell_type": "markdown",
      "metadata": {
        "id": "PzZ4Lc3he6AO"
      },
      "source": [
        "## สร้าง matrix เริ่มต้น (zeros, ones)"
      ]
    },
    {
      "cell_type": "code",
      "metadata": {
        "colab": {
          "base_uri": "https://localhost:8080/"
        },
        "id": "tqkQmY17epiz",
        "outputId": "faf237ac-bd35-4af9-c85a-ac148fc1d21b"
      },
      "source": [
        "np_z = np.zeros((4,5))\n",
        "np_z"
      ],
      "execution_count": 6,
      "outputs": [
        {
          "output_type": "execute_result",
          "data": {
            "text/plain": [
              "array([[0., 0., 0., 0., 0.],\n",
              "       [0., 0., 0., 0., 0.],\n",
              "       [0., 0., 0., 0., 0.],\n",
              "       [0., 0., 0., 0., 0.]])"
            ]
          },
          "metadata": {},
          "execution_count": 6
        }
      ]
    },
    {
      "cell_type": "code",
      "metadata": {
        "colab": {
          "base_uri": "https://localhost:8080/"
        },
        "id": "esV63SJ2fdC8",
        "outputId": "9d1cb3ac-7891-4935-a930-d700439bd41a"
      },
      "source": [
        "np_o = np.ones((5,6))\n",
        "np_o"
      ],
      "execution_count": 7,
      "outputs": [
        {
          "output_type": "execute_result",
          "data": {
            "text/plain": [
              "array([[1., 1., 1., 1., 1., 1.],\n",
              "       [1., 1., 1., 1., 1., 1.],\n",
              "       [1., 1., 1., 1., 1., 1.],\n",
              "       [1., 1., 1., 1., 1., 1.],\n",
              "       [1., 1., 1., 1., 1., 1.]])"
            ]
          },
          "metadata": {},
          "execution_count": 7
        }
      ]
    },
    {
      "cell_type": "code",
      "metadata": {
        "colab": {
          "base_uri": "https://localhost:8080/"
        },
        "id": "N9zornzkfoHu",
        "outputId": "5631ae1f-e625-42af-8645-623982d13bac"
      },
      "source": [
        "np_200 = 200 * np.ones((4,7))\n",
        "np_200"
      ],
      "execution_count": 8,
      "outputs": [
        {
          "output_type": "execute_result",
          "data": {
            "text/plain": [
              "array([[200., 200., 200., 200., 200., 200., 200.],\n",
              "       [200., 200., 200., 200., 200., 200., 200.],\n",
              "       [200., 200., 200., 200., 200., 200., 200.],\n",
              "       [200., 200., 200., 200., 200., 200., 200.]])"
            ]
          },
          "metadata": {},
          "execution_count": 8
        }
      ]
    },
    {
      "cell_type": "markdown",
      "metadata": {
        "id": "6Q4HYsCTgX1i"
      },
      "source": [
        "## สร้าว matrix random"
      ]
    },
    {
      "cell_type": "code",
      "metadata": {
        "colab": {
          "base_uri": "https://localhost:8080/"
        },
        "id": "RAxYZ2Ozf_3_",
        "outputId": "5762f5a5-b3b9-4c03-9559-11daf5a9cf7e"
      },
      "source": [
        "np.random.randn(5,5) # random เลขมาจาก normal distribution ที่มี mu=0 std=1"
      ],
      "execution_count": 9,
      "outputs": [
        {
          "output_type": "execute_result",
          "data": {
            "text/plain": [
              "array([[ 0.44444533,  0.86113628,  0.87525438, -1.63588099, -3.08967586],\n",
              "       [ 0.80038334,  1.00884433,  1.22821003,  0.84009189,  0.14498141],\n",
              "       [ 0.74239503,  0.44752179, -2.15456025, -1.09540857,  2.56753337],\n",
              "       [ 0.63493299,  1.57125684,  0.28482929,  0.50371331,  0.59284609],\n",
              "       [ 0.8075296 ,  0.29315948, -1.35262144,  0.28557141, -1.68335501]])"
            ]
          },
          "metadata": {},
          "execution_count": 9
        }
      ]
    },
    {
      "cell_type": "code",
      "metadata": {
        "colab": {
          "base_uri": "https://localhost:8080/"
        },
        "id": "vlQVm8vIguNd",
        "outputId": "6be2af81-a7e6-4ae6-c5f3-0afe375ecd35"
      },
      "source": [
        "2+(5*np.random.randn(3,3)) # random เลขมาจาก normal distribution ที่มี mu=2 std=5"
      ],
      "execution_count": 10,
      "outputs": [
        {
          "output_type": "execute_result",
          "data": {
            "text/plain": [
              "array([[ 2.93937778,  2.33936244,  3.91946742],\n",
              "       [-2.53075879, -1.03182911,  1.74297026],\n",
              "       [ 6.18640167,  0.23128132,  1.08617781]])"
            ]
          },
          "metadata": {},
          "execution_count": 10
        }
      ]
    },
    {
      "cell_type": "code",
      "metadata": {
        "colab": {
          "base_uri": "https://localhost:8080/"
        },
        "id": "9Hm2iEwQhIYh",
        "outputId": "78b5e188-2b41-4c30-82fd-707f85ca3633"
      },
      "source": [
        "np.random.randint(5,11,(4,5)) # random เลขจำนวนเต็ม ระหว่าง [5,11) ขนาด (4x5)"
      ],
      "execution_count": 11,
      "outputs": [
        {
          "output_type": "execute_result",
          "data": {
            "text/plain": [
              "array([[5, 7, 6, 7, 8],\n",
              "       [9, 9, 7, 6, 5],\n",
              "       [8, 5, 5, 9, 6],\n",
              "       [9, 5, 7, 7, 5]])"
            ]
          },
          "metadata": {},
          "execution_count": 11
        }
      ]
    },
    {
      "cell_type": "markdown",
      "metadata": {
        "id": "qnFH7aiEeluu"
      },
      "source": [
        "### matrix properties"
      ]
    },
    {
      "cell_type": "code",
      "metadata": {
        "colab": {
          "base_uri": "https://localhost:8080/"
        },
        "id": "3r50q0AfOfib",
        "outputId": "af2773ac-f90c-41ff-a62d-d6089e17b08d"
      },
      "source": [
        "np_a"
      ],
      "execution_count": 12,
      "outputs": [
        {
          "output_type": "execute_result",
          "data": {
            "text/plain": [
              "array([[1, 2, 3],\n",
              "       [4, 5, 6]])"
            ]
          },
          "metadata": {},
          "execution_count": 12
        }
      ]
    },
    {
      "cell_type": "code",
      "metadata": {
        "colab": {
          "base_uri": "https://localhost:8080/"
        },
        "id": "m0qDTUU-eak6",
        "outputId": "22787679-996f-4844-dfe4-f23c1f3df35c"
      },
      "source": [
        "np_a.T  #transpose"
      ],
      "execution_count": 13,
      "outputs": [
        {
          "output_type": "execute_result",
          "data": {
            "text/plain": [
              "array([[1, 4],\n",
              "       [2, 5],\n",
              "       [3, 6]])"
            ]
          },
          "metadata": {},
          "execution_count": 13
        }
      ]
    },
    {
      "cell_type": "code",
      "metadata": {
        "id": "1lgZ6O5phgp-",
        "colab": {
          "base_uri": "https://localhost:8080/"
        },
        "outputId": "a22b5b39-d72c-4aab-ab72-1bf619e3de6a"
      },
      "source": [
        "1 + np_a  #adding scalar to matrix"
      ],
      "execution_count": 14,
      "outputs": [
        {
          "output_type": "execute_result",
          "data": {
            "text/plain": [
              "array([[2, 3, 4],\n",
              "       [5, 6, 7]])"
            ]
          },
          "metadata": {},
          "execution_count": 14
        }
      ]
    },
    {
      "cell_type": "code",
      "metadata": {
        "colab": {
          "base_uri": "https://localhost:8080/"
        },
        "id": "XSM79veVOr_z",
        "outputId": "122b0824-1048-4c1e-e15e-fd1397c2201b"
      },
      "source": [
        "2 * np_a  #multipling scalar to matrix"
      ],
      "execution_count": 15,
      "outputs": [
        {
          "output_type": "execute_result",
          "data": {
            "text/plain": [
              "array([[ 2,  4,  6],\n",
              "       [ 8, 10, 12]])"
            ]
          },
          "metadata": {},
          "execution_count": 15
        }
      ]
    },
    {
      "cell_type": "code",
      "metadata": {
        "colab": {
          "base_uri": "https://localhost:8080/"
        },
        "id": "yz4WsBGwPNHT",
        "outputId": "1302a716-8557-4042-b6b2-8339b6f8ac52"
      },
      "source": [
        "np_c = np.array([[6,5,4],[3,2,1]])\n",
        "np_c"
      ],
      "execution_count": 16,
      "outputs": [
        {
          "output_type": "execute_result",
          "data": {
            "text/plain": [
              "array([[6, 5, 4],\n",
              "       [3, 2, 1]])"
            ]
          },
          "metadata": {},
          "execution_count": 16
        }
      ]
    },
    {
      "cell_type": "code",
      "metadata": {
        "colab": {
          "base_uri": "https://localhost:8080/"
        },
        "id": "nzBLnettPAzy",
        "outputId": "4e8568fe-76fc-487b-bfb8-fb3db004e6cf"
      },
      "source": [
        "np_a + np_c  #adding matrix to matrix"
      ],
      "execution_count": 17,
      "outputs": [
        {
          "output_type": "execute_result",
          "data": {
            "text/plain": [
              "array([[7, 7, 7],\n",
              "       [7, 7, 7]])"
            ]
          },
          "metadata": {},
          "execution_count": 17
        }
      ]
    },
    {
      "cell_type": "code",
      "metadata": {
        "colab": {
          "base_uri": "https://localhost:8080/"
        },
        "id": "nmBrnrM1PKxD",
        "outputId": "40d81e30-9f55-4c7e-f3f1-4258734e4522"
      },
      "source": [
        "np_a.shape"
      ],
      "execution_count": 18,
      "outputs": [
        {
          "output_type": "execute_result",
          "data": {
            "text/plain": [
              "(2, 3)"
            ]
          },
          "metadata": {},
          "execution_count": 18
        }
      ]
    },
    {
      "cell_type": "code",
      "metadata": {
        "colab": {
          "base_uri": "https://localhost:8080/"
        },
        "id": "GQ9pggG5QC_M",
        "outputId": "195cd779-7be7-4994-d36b-bbdc179c409b"
      },
      "source": [
        "np_c.shape"
      ],
      "execution_count": 19,
      "outputs": [
        {
          "output_type": "execute_result",
          "data": {
            "text/plain": [
              "(2, 3)"
            ]
          },
          "metadata": {},
          "execution_count": 19
        }
      ]
    },
    {
      "cell_type": "code",
      "metadata": {
        "colab": {
          "base_uri": "https://localhost:8080/"
        },
        "id": "U6Wba9s4Qhov",
        "outputId": "1aa2713f-efc7-48ce-ac16-e11a95bbb384"
      },
      "source": [
        "np_c.T.shape"
      ],
      "execution_count": 20,
      "outputs": [
        {
          "output_type": "execute_result",
          "data": {
            "text/plain": [
              "(3, 2)"
            ]
          },
          "metadata": {},
          "execution_count": 20
        }
      ]
    },
    {
      "cell_type": "markdown",
      "metadata": {
        "id": "j3406FdyRBru"
      },
      "source": [
        "![VectorsandMatrices.PNG](data:image/png;base64,iVBORw0KGgoAAAANSUhEUgAAAasAAADSCAYAAAD0S+/QAAAAAXNSR0IArs4c6QAAAAlwSFlzAAALEwAACxMBAJqcGAAAAdVpVFh0WE1MOmNvbS5hZG9iZS54bXAAAAAAADx4OnhtcG1ldGEgeG1sbnM6eD0iYWRvYmU6bnM6bWV0YS8iIHg6eG1wdGs9IlhNUCBDb3JlIDUuNC4wIj4KICAgPHJkZjpSREYgeG1sbnM6cmRmPSJodHRwOi8vd3d3LnczLm9yZy8xOTk5LzAyLzIyLXJkZi1zeW50YXgtbnMjIj4KICAgICAgPHJkZjpEZXNjcmlwdGlvbiByZGY6YWJvdXQ9IiIKICAgICAgICAgICAgeG1sbnM6dGlmZj0iaHR0cDovL25zLmFkb2JlLmNvbS90aWZmLzEuMC8iPgogICAgICAgICA8dGlmZjpDb21wcmVzc2lvbj41PC90aWZmOkNvbXByZXNzaW9uPgogICAgICAgICA8dGlmZjpQaG90b21ldHJpY0ludGVycHJldGF0aW9uPjI8L3RpZmY6UGhvdG9tZXRyaWNJbnRlcnByZXRhdGlvbj4KICAgICAgICAgPHRpZmY6T3JpZW50YXRpb24+MTwvdGlmZjpPcmllbnRhdGlvbj4KICAgICAgPC9yZGY6RGVzY3JpcHRpb24+CiAgIDwvcmRmOlJERj4KPC94OnhtcG1ldGE+CrDjMt0AAEAASURBVHgB7F0HnBRF1q+emc2RJPEQEXPO4bw79MxiQsWAfoASRBDMZxZzuAMEBAQVMJ94JgyoJyd66hlAzAETKjnuLpt3Zvp7/575NzW9PbOzOfX7be179epV1atXr+t1mmqlPPAs4FnAs4BnAc8CngU8C3gW8CzgWcCzgGcBzwKeBTwLeBbwLOBZwLOAZwHPAp4FPAt4FvAs0LwWMJq3e6/3dmKBRH6WqKwu5jETVEpUlqCaV+RZwLNAc1ugoReK5h6P13/zWMDpRzXloaVThprH47PcieMFIDe+ztNptunGY5mHPQt4FmhGC9R2YWhGVb2um9kCTl/R88nQUF+X43DceCyrK3YGHT1fH7qu+nj1PAt4FqinBRpjoainSl71FmAB3S/c6GR5GIou65bncJ1y5CeL9SCk19H5NdFu5eQRo22d1vvyaM8CngUayQL1XSAaSS2v2Sa0gO4DpImhBumasC7rpJPJQ4bAvphPhOMFDidfz7vRiXgoYzkxdCJNnEhPr8yzgGeBeligNotCPbrxqrYgC+hzTjoRdpZhKE4e83qZk3bLx+OBX1dwCxw6ryaa5W7YjQc94/HrOgavnmcBzwIOC+iLjKPIy7YRC+hzTBpYpzFUPa/TzjI9r9Oso/NAA6yyDmfdkxvqdXg3X9Z23XxpuV3D/tSuhj+QbSh/RthQmYbPnyGyWcrwCZZkqFTJIxCE9SSNmSocDpuGKhVcpMzQVhWWZAaLzFBwqwpWFqmq0i3h4rWrq5a/tqZs4X3FUh/AoBKPZnkirJfFo/X2KQOeB54FPAvU0QL6AlPHJrxqLcwC+pyS1nE8GsNAmV5OXo04e9j8HoEe++xiZOR2NwLpXU1foJvyp3Q1DF830/B3M3y+rqap0tFQU4OhTAlk5mrTDK1WoeAaFapcLcHsR3Pr6uWVy+Z9X/rvB0pFJz2okAbWaaju5OnlicpQF0D5SM7771nAs0BSFuDClJSwJ9RiLcB5dMM6Lxkag4ScLkueyr7on738PfffxZfRcVeVkrmL4U/ZVRn+XU1l5ECo1YFEMmWGVxnBquWmWfWdWVmy3Cxc/VXo3zd8UbxsYZWMh8ElUSByK3PW0/MwE/OtzmSewp4FmsMCXJCao2+vz/pZgHPnhsHT+U7amYcmMbyME67JTjvgogONrE57qEDmrkYgZZf6BiWJC8WmGV6nQlXrVTgouHK9GZbbduFQqRGqLDeDVWWmWVlmVFWWmVXlZeFQVYXfB718PgmGPuUzhDZ8ctVmCMtv+NKzjJT0bBVIzUEyfIEcJbcVlfLnKp+/o/KldJdbi90kKuD2Yu3AUBVGOPiF6LEkXFaw1Lf200+2zDz1t2gjCDRMYJEGBuh50k4+8zoG7YFnAc8CLhbgAuVS5LFaoAU4Xzp20rXNY5hG9pCnegZ2POIQI6PDoSqQfojyBfaQJdefvA3MLRKEvjeDFSsl8Kwzg2XrzYqi9Ubp5nWhDT+sq/zmxfUVny4oc7RHXR3semcZNKyGso8ck+/ve3Q3s1PvbkZmB7lNmd3TSMvcyfCn7mT6U3aQcaYk06ME2/VmqPJjs6zwbfX7x4sKZp38q9RjXwxKxGiStBvWy0nrGLQHngU8C0Qt0FiLhWfghrMA50jHThr5ZHkqr3dvX3jgE7v7u+xyqJGWc4jypx0qFyx/SE7lSFCSZz7LVcXW5eHClcuDy99aXvLKzRu1+tRFY1lkPL5TrqHzCBZuYGb06Ov3H3N7n0D3vfsZmZ12MjNydjb8GfvJldkObhVieGb4Z7Oq9D9G6cZF5YsnvVe2eBpe5KgpMLmVk4fmqStxTJdexrNAe7VAcy0e7dXeyY6b86JjJ408E9olrWObnzf2zX5Gj/2P96Vm/8UMpB4s4rkojAuGCsmV0jeqouQzVbn1eysofb1weckbtzMooR8nuPGcMk25CNdVHzP7yMvzfQecv5+vQ6/9jbTc/SSg76cMI885GDtvqCqx14dG6ZYFVV++tGDrMyPXSxmDULIYzemyzAN74FmgXVsgmYO5XRuoCQfPudCxk0ZeT1BPz9t0zs79A/5BDx5u5PU8Tp45HS9XTn0TjUVucZWaoYqlZlnRJ+bmXz8uf2/isoqPnymJ1kG7OjjzLHMLRMny0IabLNtOhOPp4+Q782zTjR+jS0ZGhuk/55F+KX2OOMLM7NTfl5JxuDxHy2QDMRiBPlj1vlm++UXzi/kLCp8Zt0nK0V5dEppmPdAeeBZolxZwO0jbpSGacdCcA2AnTR4x1CRdDeeeNb2zf+9Tj1HpHY+TFw+OSvSGniEvOphVZfL8ZfMn4TVff1y1YMy3Zat/Dmk6oC8A+tEhZhGPFui8ZGi2p8uSR5yoDDJOvVjPrUyXTYbW23Kl0/vsG0g7ddpBvu12+YvKyP+zvKa/p4QUvW3WC6pwxXtmyabnKxbd84LLrUL8hgxjrSmhPdqEGDwPPAu0Cwu4HVztYuDNPEjaXcdOGvkaU864d3ZP6bbnCSo953jTl7K/1PG5jU2unErMytJ3zK1rFoWX//uDomcu+T0qx37dquk8fYF0o914qK/zk8nrfdaWdhuLzquJZjkx+tfpePqYWcfd1Dlw2IUn+LK7nSwvqBwqgtXmQd5lLDYrSp4Pr/3mscJJB38qMm6Byo0HGzJBB9qUGDwPPAu0aQskcyC2aQM08eBobx2DrlXC8ydfzwMHGuk5A00jsEvcMYRDv5rlhW+ZG3/6d8XzIz8qX/EZfjfEvuNWkwJ9ESQdD6MdZ5nOc9JuefAAbCeSS/5/vDHp/JpolieL42lnZp04oUvqgUNPMvO6niI/kD5IRsU2t9UJB7+UNyUfK1s8aX7ZW/cWSQHG7gxUzjxkmNCWTiPvgWeBNmuB6gdRmx1qsw6MdgZ20uTpGGflet7IOf+Rrv7dTz3LyMg7SxmBvV1Hg2clVeWfmKWb3gr+8u5bxXPP+1Hrz7VKlIlFD1BfrLeRiEYZgP1FctX/xyunDavXiHCc5XrejSYvGRxPxlWXzNPu7pq63/kDfDldz5Er312dQnLFW2xWbn288ps3ZpbMG4SrXYwZyRmonHnKoUmdRt4DzwJtzgI88NrcwFrIgGhfYD1BvWoBySFjZB10VkbKyRNP9GVud66ZknakLEnVfvdkvRhRWfJmuGjVm6F3Jr9T/N9ZhdF20Ec8wOIGcMNuvHiybnyd56Td8vF44NcWaG+9ns6riWa5jmtL633rtJlz6aL9A70OPE9+LnCqXGw5f6gcNKrKXgqv+WJ6waRDP5OKenCKRzNIEaM/zp/et0d7Fmj1FuCB2OoH0owDcLMhn1egjAkq6gEKeZaRb/HwHCrQa/8hKiXrbLfXpeXZR7k8+/hPeMuvC8pfvuqtiq8WVqBiAuAC5oZ1nk6jOeTdeCwDBjhldJ6TdsuDB2A7kVzy/93mwMnT8240eW5Y5zlpZx5a67xqo0g9bGh21jG3nG7k9/w/t6stFap439z8098L7tzjXansFqh0HudIx+izrraspq/H8CzQEizAg6ol6NLSddBtlYhmGbAzMSiRjzzAyNhnQEb6wBmnGdndhsiuCgdF2Np/uYSSW3z/MwtXPlv2xo2vRV8rZ1+aoE1ysdKxk3bmURk8nU9eMliXcdLJ5CHjBOpCfqIxx5PR67jRTh7zbhg8nc+8Gw/66HzqR2zmXvlxf3+PvUYpf/qfyLSxBC21cfldW+7e+3/CY4Aihl3i0WiCdiMGzwPPAq3WAjyQWu0AGlFx3Tak42GogTKWuwUllDn5RtZZ03um7Hf2MCOz42Cp3gkNxUA49IsqWfev0GfPPlf03GWrpAztxFuAyAd20jXl0a2zHnnEbIN5N6zznLRbPh4P/NoC7a/X03k10SzXsU6jXeSZnHny9TpuPNSLgbxRL+1m7HjkKLlFeIrMQuz2T+GKxeE1X91d+PcDP5FKDFDxMOeQGP3o8xbTr5fxLNBaLMCDqrXo29h66vbgIoM+yY/Ho156MCKtY9AAI/eyxfv7exw4WqVmnSD5gMXd9q9SlRe9EVr96VOVs0/4X3l5OfrlgqMvQqiBRQtAvlOO/EQyepkbTZ4bromnl4MmUE/mdZyoTJfjvOg80s4yPe9Gk5cI62Wg3fLku2HoRj5pYBsyz5jULe3AYeNUZv451YJWsPyN0M+LbyqacQJenMG8JxuwaE9iuz+P8CzQWizAg6216NtYetIOzoUkGT50Yj0GJuaBwSPfl3/1p8eobruNMfzpsuWRA8LBleHC356oeuvO50rfn7NFSrm4ADtp8rhgMe+G0ZHO1/M10SxPhN3KwAOgXye48Zwy9c1z7vR2nDzmiSFLGlinWabzKBOPp5fHo9kusA255zzQ07/v+Zep9LwzhbntZAbbOlUUPWx+MPm+ghcnFEgZbOkWuMgHpr11WtgeeBZoPRbgQdZ6NG44TTl2HXNBQS+kiXVePJqyeoAyMjMz/SnjPjrFt93O45QvdTdUjoGq4g/Cvy19omzeyW9Xbt2qLyg6zaCkYzTjtlBRBuVsg9jJY54YcqSJyWNex07aLQ9eSwTMF8GNJo/zClk3mjynvM4HzZMWJ9/ZLvIW5Ax+eHv/PoMuN1JzThcG6kfB3Ky2rrsnOPMvc+UbkkFhJvIDzj0x2tDnNNqmhzwLtFwL8OBquRo2vGYcMxcM9EA6HnbKMG/tYG6eOncno9OOe8tu3b2MgL+LfE9JkuoijeWEDSMgP97dSdYZxz5yZsgsL/omvP6bF+V51HtVHz+0qrK4GAsOgAsJFxcuRCgjDYxyPa/zKMs2nG0685DXeYnyehnotgTwAQJpN6zzQNcnMQjpbVAHC+eNfHl3385HT5DdMQ7TCwwz+G1w7ZdXFt27/4fC1+dfpzGvzOtzTFpv0qM9C7RIC/CAa5HKNbBSHKtzQdDzCen8/HxDjfjPPiqv5wG+tOw9lT91L/nY3+5m2JRAJMe9fLc9gsPy8VlZG8ywfK9QnpUj2SAfpq0qVWa57BEbxgkxAHXD8vHB8l+M8qIvg1t++yT81Ysfln30GHY4R6NYaOIlZ3lUCVue5dKE1RbLmScGn7SOnbQl1M7+6b6Doet5J53Qh6J1KRPvSovlbNs2d97fvjjB13X3G+QTJtvbTHlT1CzfOq/8jVtvLf/PRPzOjnNOn2Ee2JnQDHgeeBZo0RaodjC0aG3rphzHqC8ASdPZe5+e5j/1vv7+3O4nymfcj5Mfc3arpoYdpOSYlwCFZIJnhuRnUrIepaRby4F8kFCpyhIpjshEghta09cKUQ0fxBUwwlU/y1dq3wv9tvT14POjP6moqMBGs1yAdAxx5J3laBgJZcRCWjQ7dWKWA3tQ3QKRyYnwSQMzoYR0IqwHKp2OVyfSo/xP731QatrwFy7y5/YYJ/4oX0aOgKHCa8Obf72m4La+rwpH9w99/ukHwExogH4A2gPPAi3OAjgw2ipwbPEOfiffXjAQoFLPmn6qmdHxZCOQJruXq6xERjLM0OpwVdk3RuXWn8PB8g1GWcHmUMn6LWbxpmJVUW4Y+V3ywyVbKlR5SUi+xNtRZeR2lCuzDvLpji5Geu4OKiVjR/kyL24dCohaEqwMK2BFaItnhtaZZVteDf++dMHWxwYvE0EuRghQWGiYB2bQ0vnCtoMW+EgEnSbPw8lZAH4E0DFotzz5tq9F5fS8TlNex+jLgsxT7u2WdsSYO+WN0mPJs3BV+WvBTx+7cuvTo9ZJXvcL0PQJ+oATxzTlZTwLtBQL8IBqKfo0lB48uNEeaWDnQqDnfdnDnugR2HXAhfKxvSFSrbOrMmZ4oxksfVeVFn5tFv7+dejrF78qfuNebnHE9oDjJeoT03z67n/NSdnz9J2MHvvub+R2P0iC2D7SRJqlPgKXHrzCVV+qwt/nlr8w7sXy798tlYa4ADmDlB7IKIN+uWjF6OBl6m0BzC1Ax5zvRJh+AxnSxDqPbYNnA24N+rvtcbtp+LraTGVukl0wLi+4bSe3qyzOP7EesNAE8h54FmhRFohx+halWd2U4XiAncnt4IeML/dvXxzm79JvpApkDJD8tteEqYMZ+kmVbn4juOarN4JPnflp2ebNOJjZF6SsdgSjDwCwnlhODBm9PvL6ghFO6dEvNf242/Y2eh50jC+r8/Fy5dUpJmBJdXlUsdksK3giuPSpWcUvXbVB2mCwwiKkJ7TtLUxihCYEzi+wkyYPOK5fRuvFK2eb1pBSD70gJ+u0qdfLt7UGiydtK6sqeaL85WuuL3t3RrEI6j5Bmn5H/0B75Flte/88C7QEC2xz6pagTd114DiA3RIP+Bjc4cZvj1Add7xVRb4DFdu7GVqptq5/ouqntxcWPzr4p2i7ugz7BI+03jf6YiKf/et1QBO4SOgLRzgtp7NKG/zoIf4e+w4wMjoOMH14szDaZeSWYakqK3w4+OHsaUULrsNXabkQsR1iZ9BCv+yTOni4YS2g+wZapi+4YfpHPIw6LNPr2xrnXfbuof7tD59iGv4eNlOFfwmvWnZxdAcM+kAiH4EMwIkjXO+/Z4FmsAAcvrUDx6AfvKB5UFfDuZe+vau/z2ETlD/tuGqDD5Z/EF6/fE7lwye8WbZ5NQ/WamIaAzLsG2zqw36duugyOq33Bdo1ZR02ODvlmFvPMvJ7DZGLwN721RY6xsf9ygpmli+694HoN5K4IKEtBixiZ/vQBTwPGs8C9A36SzxM36kJ07egMdtW2X8alpsyYMqdKi3nNHso+HxM8aZ7Qvf2nVRUVEQfoH/oed0vUJ150naTHuFZoCktYDt4U3bagH3V5mD35Qyd2y2w+1nXqbQs3CqxP7chi3y5WVb4fHj5ormFc874VvRLZBcu6DrW5bHAEMB3Ljgoo96g0Q7yenvku/GssoyOHc20i946xui++6XyaGtfMAlye3C9WbT6li0393pGeFyQ0JZzUWJe74c0m/Nww1uA/kI/iIedvoO8G0+vb2ube/1Xp/q77H6nnMXk2cxQ+ZvhxXdeXPjyHXjOSt+gHxDDB+gvqMo8fYMYZR54FmgSC/CgaZLOGrAT6q0fpKD1A9mmc3ruGvCP+e84efZzlbxRrv84Nyxb1zxb8f6D/yhd8Le1cfTjgaljnXZWo07gU0/qQh75zKM98BK1G0/GzL/2s+OM7Xa/Sm5nxu6OEar6IPjr/67eOvUv30TbrmlxQh9MQnrQyBagHwDHS/QdHbvRzvqW6pkD/9E97fAxU+XHxIfaYzHDK8xf/nthwdT+XwiPAYq+gfknj75AHpogjzSwB54FGt0CPFgavaMG7IAHJZoEzQOXNPLk+XLHvLFLoO+R0+WzGweggg1VZe+Ev114h1xJfWfzYgnnQemWRw3yqRfypHWs89kTysFPBijLNmPqyJWWkTL6vZP9nXa+Vn4w+getMCib4s6sfOKCO0u+WoDvXnFR4oLkxBwPmkhWN607j6yDBTCnAM6tG7Z9WuRifDyaRx3KsL6wlMro0MOXftVnf1NZXS6xGPIPdxPCBb9dW3DL9k9Jlj6B+Xb6gzPv9A/PR2hUDzeqBeDUtYHayqPthnRmHoROzIOXB6svt1cvv++SZWPlauo6uZqSX+VGIVz1TWjVsjuKJh7yX7I0TF15QAKjLz1PGtV0GnkA5UlTV+aBawL2CznUBzjb0fkRCfmftucJaRnnPTrOyOxysWRTWWCEg9+FV308qmDiH78UHhcnYvTnXJRQ1W184HvQOBbQ55TzrWPbv6V7J63nUYd5amrkXfPpsb4e+04SV8q1mRVFj5Y/cPD1pb9/H7O/YIexr/aSHcLMLVOPXCGy9BP6CP1Cx2zSw54FGsUCPDjcGmcZDxbI6Dy3OjoPjgzQsU5HSpP/Tz10jAOSByVpX+6lr+8c6HPUA46PGFaqotWTyicfNLNsy2ocdDpQL/DcaPKAmXRZvRx86OjWh24/1gEPtI4la/PArylBHjI2ZA95sm/KXgPvlNs/R9hM2T/DLN14T2j6vlO3rlqV6DV3jlHHWjMe2cgW4Fy6zbvT3yFj+36UJs9ZX+WcM6NP4OCLZsVsqBwse7f0hbEjK96fUyT1w1nnP9It9YChC4xg2dubr84eD55L0n2DtIh54FmgcSwAZ3aC08HdHB913OqyLTgvgE4MrJ+VcSGnnCUc5x/70fVyHrD2wZp3669n+vN73x/zbCpc+UXVly9dXjx30HJHH3r/oNkXxPQyZx5lTCgDUJ585vWxsozy7A980ijjWHWaPI6deR1THtiC/Bt/OMvXecfb9G15VLjqw6rPnxpe/OjQVSLEhQg6kAamrjq22vT+NZkFOLfokDR9HXk3mjxiyAGQt9pI2+WP6RnDXrnHSM+33xaUrb1+qPpg5tBQWWFF2l+vf1ZuJe8g0hVVH04/oPjpsaulLk9uiOkjxPATD9qvBehntbVA0n7j7MByZukNmM6uY73cWZdKsnMucvoCSBpldHLWc8Psg/3ygKNO4OOtPl92v/1SUkYsnqDScu378jKKKlW09v6yGYdPL1/zCw4yHagf9UVboJ196nzKsi7aIw/jIbAvjlfHrMt+WAeYPGA9oYxj1/luPJajjgU55z74h5QDh0w1/ekHkidqb1Brvrxoy737vCc8XT/S0BM09eU4ibc15VGNZQHOJTDn2g3rPNBMbvWgK8pV/oQVY40O218mMww5gfBmFQ6XyQ/Qe0by8r9k04wtN3SeIBR8mgl+AZr+Qez5hhilnQB9E8PVaeZrMgN9Rcc6Xa1+1Eltvu70VhCQEuzoAD7ykKeMkK6ADvVEx6ZzE9fk4NRN75M0dLBT7hlTuvgPHzVXfjf1R2qEM8XQN6+MKXx4IF5F10HXTTcO2nb2GW+sej20redBc8zE+kEOHoB12Cd4Th2Yd8PUDWU67ZRFu5GH7FcsvUTldrtCeuY28EGzeN2tBTd2myEi0MstcTzA1JlYWB40ggWcc4i8fvxxvoF1mvV0WfIgB6C8Rede8cGJ/t6H3iOuJ1t7VQf5GcTWqhcvPnjr4tmbpRR+jGdbTn+m33h+Ud2EbY1DfyKmPzEPDCCO5GL/00+AmeBDoIlRg3KgYxpE4+gYCc6OFHj44YdvkY8HjpFdxO2H9cKvFcimrBVlZWUTL7roorukotPRYxSKNqwPnDSNouvoy7v8fwf4ex88T/ZF23Y2WFWysPSZYZdXLHlWvsMRAzSMbhTQNKxlgwceeODejIyMc0XvQGRDWRGQ16cATqzzdFrkzKqqqvemT58+6JNPPsH+fRw3MCeE/VpV8U8APPJJu2HdHihn3kmzTWCVc+mi/VJ27D/bVD5793h5NvF82XMXjyv732OwFxceHTvthabA86DhLaDPNX3dDXOe9Xknz4mhpd4u8gxoRs6oVw7373big7KBV/WtxiBZ8Nvft0zYfopQCFRMTn+mT3t+AZu1TdB9KJ5P6jLxrAAf0ZO+1pDWy6120KEOdHLw4biB+gYqNC6BLi09PX2kkBxgogHpZaRZj0EU2Ce3MU739Tn0FS1QhVXh6nvLb+4y0hGoMHAaAZgBA5hllnH222+/1KysrAt8Pl9AkhWcgJkQrJx88JxJ2jVSUlL+dMYZZxwkNPTHWAjsU9dJp6kfddUXBpY5eczr7YC2xsWOt07767LyNyacaIbKPybPDGQMTD/r4VdyzpiGAEYb0+ZOzHEQsxkPN4wFdJ/nXOBKGAknjMSkreNU+MSsg3mzjhMN620LW3x092NzA/2OvCxuoIJUXs8L0/oejC8PsG22S99gu5D2oG1bAHPNeYcf0O90H4VvJkq4ikeiD6Mu2tH9Cv3EAAQIdDgoQgVS63NFZTcsV1bFxcWPSB7KYAFFH1hEnUAddEzD6Nifd8eaC43sbvdKK+ALmAWh3z6+tGjSoYut7LZ/XKy5cOsYNPuy2lm2bBmuAp/Izs4+R8Yec2WFgKSDM6+XkQ4Gg/jeECYDoOuCxnQbkGYnOgatJ8gyTxoYYwAmDZmofYSK1FGlC2/fEF727Nnp49+/RfYaHGqV+FL2DRxxyeu5XfoMKnrw5B8s3rY+YCcAMNpjHjz05UHDWIBzChvjWPHPmTPnVjnRu9TtOBSe3StoZwrLd9OQwBc/LPjuu++umDp16vtSyeonZZf+WdnDnp8l32nb027IjTD8nTLOeezsirt2fVSK0anuB9QZNUFvUwocD9qKBTjPxJaPyp236+SC5grxMdfbyMkOXvz0i8WLF5/yyCOPbJQ6uHoH0JcsHC9Y8WDRy9XgwYOxrQ+UJcBp6bzgsXHwkXC2z9sGVUID9PrMox6NoGPooScr8na4a+PVKrPTtagMkOdTy6s+fOTCrfNH/xrhWP/Rpp50Xakf9UWfoK1geskll6DtG6N52AA6QAYYcqAB5AGTZ8oETpfbiNbzs8rKSgZ+2kOXtRpx/KNO7IeY7bM+dUI59YpHU5Z1jfK13wXLr+t0U/5NP3xpdOp3r7QRUIZve/+uJy3MvfKT84smHvSRQy9mMQ72Rx769aBhLIA5gn2RAvECFbrCyRICEWmL0P7hDgAAAcvv9+f36dPnDMkiWAHMzDNmDJJvYe1pH7URvut/o3PfEel5XZ8sL1yHY5r6AcMf6FdQBrTnD2KENgicZ3v+ZZ0bWd9ABTuJr+69zz77HC/k05LgP9V8KeLNUhIFWwnJW2d2LNDKqTCLuPDHw+gUZXRgYtanUmyXuJouubm5vg73Ft0TE6hClUsrF4w7I0GgQt84wIhBOxPLEFidNHi6PMqZoLs+Hujuk8kDtiAUCmEcVpAVzDHZ5RGpuP/ZPjD6JKaONY2L5U59bZ0Lbt9pfuj3D4fKshd9vmd0DPQ+8Pn8m37E51LoA9SbmHOk47iD8AqStgDtCTtbJzniS7hVEhd4+xkCpIFdblUX/Pzzzy9EG8L8G4V37T63csFVJ5hbVjwmn6/eGi1zR76UP6SOeO0UKUzkA8n6tXsfHrc1WED3UT/umIm/YWeceoO0g63w4Pf6umP7FAoIVAKYDgnshHgLJhdAlgPrizxpvRxts1+d1vu3FvrsHQ9P9V387xlyywJnhxGoKltc8uSgkRWfvSLfi7cB7et9cKF2Ysqgf5QBoy/wASx3Gg5yBOipl1NvtoGzWvKAOVa9DbaVCNvtaULgoR1gtg2aedLEkAGgjk6roomHvZM76qUz5cOTj8rzv+3kZD3d6LzjnLwJv1xSOGGHf1m1qv+DzZyAvjyouwXoH5gfJPiWDXJnY2/JgK/7D+YBdqcPg6ZfCGmXgYYM5SxcsmjiKrVo4sTAjofNyjp9yum+bnudI9dzvSDsBH/3PUYJDwGPehI7Rb1827QA/Y7zbowaNWqyDPUBSW5BhvKwBn1a55kzZsy4KS8vz1rT5VY1/B3t6H6KuhagASfYikiB3jDkeFAg8OCKA7f2kCodiTxgyDFRCbTDJKQF7JeDsnFOj50DKaPfetjQA1Xl1pfKJu4/zCVQsQ9gBkgnZhkwdHOWYzzUnWNxGyPKKIc22LeQEYheZeljo02JKZoMps2cmP1yXNTFOS7yKY92LCiadepXwQ+nn6pCVT9ZDNmV3pffZ2aHW1ecK3nMhVtQ5rh0bFX3/tXZArbfR22uN4QDGeW0N8s4n5xfzjuPO+Tp55DVactngj/9r7jwHwc/VXxzp9ODXy+40iwvXMrGbexP2zXniv8dKXn278QQBc+DtmkBrhfO9Qd5+BEx/ZFYl4dl6Dcxd6GiayX9nzK2P6FAB12AtF5uObYw6PxweucizjwXcf2AcSrPPtywpXROz57+wBXLZshXfE+mImbZ5nnl9/S5FM9dorx4RuJBq2OOQdeFtC5HvYHjBSwGNY4V9cNidOhjgVza6mOz2STqiPXJp+465jh0npPWbWbpW/TMuJWVC/92uuxw8XVUL5/K235q/q2/XyB5OhGCFmlgfXyko9U9VEsL0H7AtLFbE5gvzDF9E/7n9FHcmnHymEdd0PQTYMs/qkpLQ1sfOnVxwbX5oyoXTzzPLFr7sqxBkLXA32OfbT+6J3Mbht4etG0LcO2Bv9B/4B/wRa6HjAFOzDUV9aw1B89TCdErK/o9jwUWWweEndEICjqdjwomOkioMAbABHkODG1wwJbCktf7A81F0Jdy2fcT5QX6s4QXgZKNDxbIiwHRT8uDp7eFtqmjfQBGeSxzYl2OOgI7x4ixOI3PseqTgPbdQB+jW3ldeG5j18enj8eNhqzehip5a/KWqgXjzlGyRVVUIZ986HFy3u2rLpI8HSlewOIYnH5DvoeTs0AiX8F8Yd6cPqr7JgMVMH0U/os8/VqvT/8ltnyl5MWrvim4ufuNZfNHHB3e8ov8cDy8yQhkHJQz/h1tJxRpsfrVlDf/llna3D+uFfoaQ5/hWk9/0/2RPMhAnvXRng1x7kLZvoTFxwl2oRTENCZ5OjgVdCpEpYipnOX8Up+LI7DzgNTzoH0d/r71DjMla4jQFpjlBfO23NDlDsnQaMQcPDD7csOUYz0dowx5vQ2MM9EksIzjhHxILqbQjgXRKytmGwuzP+d4OF6nLcgn1uup4sUPFlS9cPG5KlS5zFJYtuPx5fa4N3/Cr+dLPlHA4kkGqul+ZDXj/UvKAs7jwFnJ6Z/wObfj0BmodB9FHSSdp9Msh9/It7MfWV94a9/7S+4/+Ijwhh+u9nfd42jh6wD/8eZbt0jbo/U1ArSbH8KHkLj+637JMvoW6rNNIcWB3O9CWWX4h3vgAP0AiXAcDUWZXPTYMRWDAuhYB+Z1rNOQpYPr/Vt0h3sKblAp2dtuOVQUza+8recNWh20xcRF14mhL2TIpzwwwIkhB4AOOk0eMAEyuMJgG+BbusubWKwLHkGXI68hsbN95KEPgDiSi/xHORM4kOHJi1H837lFqaXl52WfO/cJM5B2gEgaRofek/JvWl5UcPvOC1DBBTButAHM/oE9qL0FLF9yVIMtYVsriAjG8acHHdraiUXM9lO2y5MOzhXqIJFPnyE/VLliaWXlnTvj1WL0qdeTrN0+aA/argXgD5h7An0GPPoWMWX0NQE8ltPHKMcy4phyNFIbgEIMWIyQ8TDliJ3OzX51haxByE7h/VV63lUUUJXFC8rv2+OK0lLsWmQdFDyAaDi0reum98kyvQ5pu4soQb5bW/HGSb7ep92uBC62afMamWB/xBy/25hYBt1Js56qXPp0cck/LxgsV1ifWzrLSxdG550elO8iHSV5BGq3xMUO2JpPq27t/rFebXDtemjZ0hi3G3AO6XPA+tkraZ5EAjPpdUCDj3knn3LAPDMGTVlg3U+q+YuUe9C2LcC1AZi+SB9y+g99kVgvp1/F3IWK3gaMa8HaBitd2WTpuJ1LAQ9KLkoR2Yy8HexKofI3y6cecUnZppUwCo3EA4UHDzBplunYqavdfBKEsy7zbJ954pgXLOQBIseYRFcNJkJddEx9dRzPbqxnyLZVpZWvXDUEGwNb2pkqzd9j30dzL/33oZLHb4Dwy3W3rVW4hQqu3hnU3AIY5x5llCNG3ZqSLgsa7bAfIVsN0A66v2AedOB8AesHPxcEHaPcmXcGHi4aelukUZdtMKAR81ijn+hY19ej254FMNf6GkKfoG/pfqP7H/n0OcgjWKGtmsA6JngbsCbhBinvNtXsUumPfLU3s2LlxpVX/AEDqAZV/7n+n6nH/qOLGayqqHj07DllKz/HAKEwD14ajJjG40GEPMuAkQDEkVzb/+823mSdgwu+r+TtaYXhlNyh6cdPmI/PR8gdwUx/36OeyBo878ySJ4d+L2ZEm7A9+tPngPOiY8gwCWlffWF+2Sdoy0E1LGQ14PjYHjH6I01crXIrZNCOsDGSvlCAxlgTAe3rtAnzaJ8ynAO2Ccz+nZgy7NuZJ9/DbccCmGN9nnm8uo0QPgUARoLv4sQyLMHKbiNK23kpj4EmC1a95psZJavVd+LuHaFBidntTkG3xGgTzZQserhM0kTJ6gcOBwHM5DxomEc5aMoJGWNY5BsD0B+AGDsJJJrEiHTj/qcuwFyA0CPyTMgDKKPzUcdf9uadG30pmRelHv23J5XsFSevXOSnHjB4Xvi3D88o+++D2M+LQYoLKdpw8pjH3Oh2oRPrWNdVl5WqNqAPADDnmz6gY8oAt3bg3MTD8cYHG9JekIF9AHo7+vGm21+X0+0KWq9PGvIetC8L6L7lHLmbn9CP7HoSrOId51Z7TRasSteq86VHK1DJhmay1vlG9Bj58l2rZ5/senUlshgEBpTooKEMB04Mvp4kGwHzoc6zpP/hzDtwobxG8KvwXlT+wAzjwrUbHOWtNQtbwI7AANgJCxOwE1gGPupADn7iK3n1htVGRtbo1CMunSP7B2fLVVav9FP+MTv483+HVK36ulxkUJfBioGJeZz5oz3kdV3YB/rhLb1Ei6aIxQDnGX0zsU8Kgg/g+CO59vXfbeywC+0HjDzmQ0+StcApR3mdT1kPexZocAtgUWgaCKvxdkcSQCVcbVe+09FnR3m6w3PBccNchIBRzrwuq7cF2gkYc7zUQQLZvpImqFDwC3Nutz7Oygnydl/6pS32aIsDWBCaEpx2gc3Ao+1oU8pBN+jIAIJnUCnF/7rsl8pl82+QEsgLJ2uf7NH/uU8+h5IuOTy/Amay6kBKEgIe23KzP8ogw4Q6bs/C+JwMfTkTytz6ampbixotEji3nHNiHkc6dt5i1MtYj/7DdoE98CxQkwVsP9HXyhZxZdVpqnm0/FB5D+cIzEDqWOE9JgmLCR0eYqBxQICvLzSU0THkKK/zQdcAxnvS+jeWkKlyhd5JAtUBkbzZTb6r8ITQR9TQSGsr1u1CG3MMsDV4AMghqBi33377+A4dOgwVOiWyOcdG9XF4sXpF9ReWQPZ2xw6Y/OGxx6cssTZTRYDGFb0DlxQWFl49duzYJyOV7H58/fr18918881Pyc7gJ0gZ+qwTSJ+h8vLyV8eNGzdcNthkG7X0CVZrs1iffwwSeR5/+vHG446YssTx7OpsH/J1hh6zzM6V5WqvsKn6mn61WlxrRUYXtWLlIEPfD7TO7TsrXnzxxSPAe/DBBx9ylnn55rUAzmIbHcTRtl1V+WTTw7DC76ewKO3fYVLR4VuuyP1fVAkslOBzEdUPHh4EzoMEsk4eZaPNxkE+82lj+Cb5Zf42MB/uMl52n70/wjEPNed3yTYGbbBXvm2SMVTc/mp6HTOmlabLOPVlgILtaUvQsH+gc+fOQ+WtRitQIQghYB3s+0ptDOerD+VCFLA4uL/qrArUgSk/WuXgRQKbTKacqUjgypJvhA0V9jOSeEtQSKUGDRrUVwLVSVamHv+kP39aWtop0l4/+Q7Uj9GmOB76lHPs9eix9VXtOMX8UqZvd2guE3zopsuMJdFRwC4MTE4cFbERbQoG7UlsC9WV6DLdzA4F1R1S/+yyMtXNbkeu7cKSStYoU8axyG+oazaMMyI/XLeF6keID50XbaFRg1VreBwRo6OhxhojNs2MZ12RfVIO+HOscp8aKuvq43FkY/xE325JbE+/06vaPCxIjQrieP2kAy5EwYBf3Snr3VvsVHaFv1RoOj8wFhU98fYDeKD1MtB6XdLCriP4s2ZJzS1WbfldkSoM/KG2LYnRoUdLB9qKWLcldYej+CRApfAqCQUIWIATfO+pnY1fLBr/Xgz+Wf0e7GgFJ5hAN4PQJZs3b4YDMwjSCY3HHnvsN9kX7DUpgw71BglYWdIITsRwa9HZX73bb60N4A6HTMueUZv45EcV44TG/HPudQw6UTIvvPDCzBEjRvzfWWedBVvTj4TcBiNHjjxWvg+32zZOYqrDFPPEYFB9LXqOl7QtUOnV5BmClB0dNNVSCVrzzpov11ytD+CX8VJ9Hkc0pCW26Sefkq6hYWutsMZkymlEIwCcrFEhVKUQjKj8axvGGGs7TDXnyYp3LNxb/k7Pv2N1r4Ibe6x0UQQHgA7MAzOhnDTL9Tq1o83yvqJtvtWiYZSoQNovNTRQ/z5r6KARi526Y3EioMyaNwYn4DFjxhwb5Vtl/q7TU3Ou/HiykZqzY1Diw/SyAWtLHz55aMV3b20SOVxB4WcHSBVR7OzTXLlyZXjIkCFDpRz+iGdOWHwYaHDAAOhD2w6gCM/iz5s371l5brYjBKMbYur1UYf1IdIuIeYOByxgqkFyMnk1jkkrF7GKPe8aL1Li+B8IBHYS1pyOHTueJkHprNmzZ2OebcAtNTlzniXzcYcwb7YL4hCd7zcHhEwlG+faEJRZe10mbqm8U/uDOOeOovNekk4SJTMEyxdt1H+eHWTgJLYVQ7t5HOE89mPmDCfEiaBRg1XHqWaunJsNowLicHNA5+WoFwoL5Z6RkqCgjICR1WWU0DdJ4mD0A0bYNujlYCLv5NnCSRDZ5lM9OltyxeGuyhc6UlY66IvzCDl/M24whq0oT6KdGBG5iqBOuApp6YukrWt0ENVsCieK3sqDCMstHFr3XUXFS1den37mzIfklfZc+RZSt8wh828N377DJVWlhVhEkBC0EAiZUBd8YHgoaD2gUI483YbgOYMZeGjLgugHL8HT6+ttRCXbD8IdDrliidzhMFShWCtPRp8qt9tw7N3qsIRtSwc/JivB6VMJUmPE3adLwXyhBzFgCT0cgUr4r/Xo0QPBKiF0mGXmhcvUg5rQj+J2gzeNMz7WeBbZdYbZt6pKTZMj61kpf8xZ3uryDfQ4QmzeWZabU7t37z53woQJOIaqgXx/6myZryUyTz9VK2wGhr5W1tQ9DubGhAvF63PQgTjW2r32Vq+CXjHMKJfA9U8wI+Af0WPCErzZhYMkXoLxUUZMOWFZfODaQVjdq4orNlhJVX0lK/I0aWp/CVRfy3fAjzCGb5hSuwZbrTRtqWMMxsojWGm3ARFYmKwrp7L3H/q98vPnb7YCPGpldDgk8+plo4XCmTZkKA+MNvU5BA95yDGhHn7S4EzgM7Fd1EWyQRZJOBYTAxbK6XC2bHshrDsccvplGcEnAcqw7IjsxXvMT/w14kQ2kkVvpiyQeFHqVEkIWCkIVELPloRANVAWTsxjQjDK1X3iGD2jQhszA/I8zSVQoXzdJcbPm8cbJ0n5vKh820N1eBwhz333lcX/4TVr1jwmNq+2tkugulXK/ynzdVwzGAzHfb2g0a6sJpimb8pUBSeOgKkeX3ykgQUmAoaaK8vWxVbAMs3O5fn7nisFc1gsON7gdL5Oa1XrSZoSYIOhQeb8vl8bg34urG1r4gy2XrLIt5YFEjrbekfHbOVlPFawivIYXFCGIIF8sGTeoHcCPb+b6euyi7X5sK/DDsPzLnv/08L7//h6VAZyrMsA4+xPRCwdGGAYcGhDYJTBb1HXrq+foYm+en0Rs4BtMN9ucMwdDkP9smmsmt9pihokxhuI50JrV6tBYown6mqQWbNmzZCFEM8ocYX1kaR9ZQ4WpqamnpFMoJJ6hugzmP3LudHVq8YauI3caDB69OhT5KTmcvStdyL5fZCXgLsYWAc5lv8tbwneqfMaja794wg1c+bMt2QerpUx3CMByxTbD5FkncjJLdkJMt6bRd+HZQwzZc4aTfXaNKyvlULHzIWznUYLVg88oAbIUmI9Q0Cnhj8mECmcNcnD0W/kYNkdAUveZUBgmyPJXoBQzwVqKnepEo9lLFQ+c6lVavrEFmYXof8kR93OgserwqKTzLl9DpJbgbhl2R4AttUTxmzSh6IYVzaQwUGAkw9gK2CV/X3vaZm3r9/NSMs7UnjKt/0h1wvCMwjUcQYq1NP7Ig2+M9jQiYFRBlkCeCwnj5hl8cop19axfodjnsyj2VmeG4fCaiAGLsv1pYLqHKzQRjRgHSYL5fmSXSubTg8SHp5T1gjbzVA7yoTipRgsBeVHdVOPP1tjrTYl0GCPI8Tm90qglRdQzLslYCkErLVr194sgeoWmfdHJFCNxPzX2nphYwfzke0Oi1svHIo8TokrUP+CRgtW8orpeFs9Q/0qby/3lTd9+tq8CPGFIOs1WsH7dnnA/NOGsca7DpnGy/rMV5yvrqMz86FOU2U5vFSCVj8VLL5RWFfVVQlxkta2UNKRgZGw2aQ1/ChGgGLgsYJUNB+qrKw0U54ffVnq2Y++qHwpOygzXJnVpUuwZMMGBjTWY9vgA/TABZpBBmW6/UDjeZUOlqx+ALaiq1l9HI1CW3c4pljBCO3LJstqHog991ILv/hCrZN8V0kHy9XXoZvHGR+irC4gZ/QXyQI5WObhK8F7ZmRkPCGLpv0MK1GbslbszXLR5Ru3FyYOmGWm/Fym1lNOx+IAt22+zJis82qi5SpkgcggxYCM420wZNE/MqagMTORxxH32l3wqIg8jhhpXLj+A7ssCUJuzd4jtseV7t2rV6+GbfeWeUGgGqEfJ0k0pYmYV6lQqM7roNaQk8RaYIHoi2M5LuAstcGhwzRzL9HgKLthU20vy96rziSOeY4tI0QoZL1Kq7OahzZTtl0jyyuytVVCjF7bKi1B3lr0RRFgDAAJh02Yz6uABXCVhISzZiQ8j8BLKEgVJR89van0maHHmZt+Gm9+9vSZEqgozyDHgGW1LXWAwWPgozzaBQ3sliiHdoP6QSh6cgKIRaR9gnWHQ6m+GL2cc7y1ZbzxG+joLfnHQVsQrvuxFw1UD8kc4NbfgdIe7pKcJvlnZNFMiXQQ/7+8pYg7GYSVJHRc3sHyS3khCy9lxSZZ4vC8u+3BtscRebUdHAKW1HlLEoLVD/LSRd2uqGrbcSPKW6tPQ7cvm75vu6qqReOyspwmV1+9a1GlcUQDQf2Stm0eCMlZDou9teDLwiOLnXXiw6CCIIGAgYDFwGEFlYqPntpScHu/JwseG7JCyqxgIphBym5TeADm9aClBy/Wd8OUQ10bRE+2afPaKxFzh0OpR2Ls4I9cZYEnC/6ZnaeZPWLKk8g4AtXAadOmVchCiWdXY+Wk7fQkA9YKdiUu1o+0jrt0wQ7daqmW1unlrZvG4wh1h5UM3z1yoD0iabmMCWshHkcskccRCNJJg5wk3CLCR8uJ2yeCd5IrrHlyS7Ae672mI3XVMa4C6w8Jr6wa/DYgtkcpL9/2sFR6lz14Eg4kSy5EzrTGKQ+uxJp4QH9t/cddtxbMRzrLyxXmjXZtQ71v00kScpBisbRAnCXhBFCuBWJ7DNEgRRUZIBg8kAcNTGBdBBEk5JkokwizvlMGfNiTbRHHfENMzN9abe4cb73y1h2OUPQOBx4Ly92/TvdbP9KPtCuzJpaKvMZuqhS5VX+xFNycbKcSqPYRWz8k8q/LFZUVqFgXASt6K+oBOQZuEP4EljmxPC3+PIzTHQFRcifc8ls6yohyIvzolSCu2iyQ25b/EOErmW/VuIEfR0QD1QSxyRy53TlcXq7ASxd3ScBSErCGSsIxWTuIoyMbkR0s5P0Ecw/mk8WiF/wyKWjwYFVRpkZK7+nsPeBTw9ePMyJfmiXTgeVFC/xi3Xp2JVYcIZ8TubWx9v6K6do0zhEj7xXlpYjzd1Mh80+Sz43ywsr0tbNnvbEWkpz9goVtk+jtQcnD6RGkgJF0xwPtTMKKyHT9+9pOwUCnPU0jsENT7PmGjtsb4A6HPSHY9UF+y2jnaQydYapR/aaad/44zsDVco0gr0r/JL9pu1gC1aO4onJWQMCSgPabPLdd4SzT80d1UcsXrVZlogp+6Jsiv2wcKeW4OmvfYD2OqMLLLzhqjk7GGHqgkuduw6N3Ge6WecAzrPoFrGQUaESZBg1WOCP6pcy6MrJUlkv2j2sKVBCU0+AHxVGnRsfZMfo5EZyxNS6YVmBCcHKDsHzHZLgxYv0bboWJeFEHsUSEbu1n+dZypg2DgYkY5QhYSDqAH5NyL5qf5d/9lAmGETir0jC6RS6SREpq1mPPN0u/aF9W/634atbSvyH+Oe9wJNOmGHK7LbIfn8g+loz8jBkzikVudiJZWTD1HSlcRfFChdz+f0685XwIyDOsO7rONJ9dN9pwfaHCtZEGYoqfP9VATdW/GTyOwD2LCNT4OEIC1bEiOkHSHC1QWbUlbwcseTvwY2E+YBU08z+xN49fPGZIuFbW4x5m9VH+XK7OkJ57aiVJBZycXPW4qFnKenKVFTmbIKMpsPXJC2ONWGxJ5N5xoJ8xYsPcpui6pfdBHyIWfeFgTAxawAhYet6m8+/acJx/91M/k98wXCoVJVC5QNvY881lYE3Psu5wmJE7HLICvC+/PPtD3CQvv1FDOfbGkW5KnOlXl8kawOdQ+ZWV6sOOD5iHxdUhrLLjltWjQN6YewipHk00SNW6PI7IyspaIidq5zsDFRVCwJJj+DTJv0Jea8INemUlB4V920Ecr9gfkF0qkgDZ0aJAbgVC9kJLXPb/6jzFPHLjeOPtJKrXSsQYsXGEVECqLbhFffD0xDaxkLcpQKCK3l5mkAK2g5HQ+pUVbEIbmJ3u2nhCOC33BTkRELYkQ34c7jNkzzdT9nwz6rPnG/uQdu3+8ANmdOQG8fhusq2W53KHY5b8rnFlvAF1mm5OMausbZdkjtUB8qzrj1suNWr9rDZe+8nw8SPgTlPM0TKhz1vyptrBDKp35YoLewPiBPI70Q0vGfSW25uni9xuybTbKmQa6HHE5MmTN8t4n5RgG3fYErBeilvYDAVyi9juVdaXhMdngwYr2QIl/pmQrZI7IXUvkhKklgRO47nlwSNfp1vSOBpSFwQIJj1YkYe+YAfkVc6Vb+eaqTnTtUD1oxGuuGDz5ZkfUQZygDa351tkWE3+H3c4pFPe4SjI6K7+lUiJTWOMbzvcb74rMn+GnAQDXF01abBCv5vGGy/IG4mnyvo1XQJTL2EFxIsGiCMN0E+FLMdCBYCc8cg50KZIppX+b6THEa3UGnHVbtBgFbeX1lnAAATtSTsxbqOC50zWVQiuRiSxDtpp1aANhYGJmEELeYyX64mZ0uOwu03DH3kl2jA2ppWtP3zt9d03uhkCe74J/yS3Mhce+3Apat8seQpwmW0cn3oiqZeVfLKJbDgSrCRQDJS37XrJj4TjXo01loU3Xmos6PyI+XaoWD4lZKqzZRzbxelrhRxZ81JT1aNrRxsr4si0PjYeR5jyrM5Qq+SVmNeVGZhjjFj3S+sbSNIa265a01rpBSt3mzLAuGHyUBM0Axax/Lg5ckesFm9lumvRMrlwLreEgAWwna9///7GF0bg3MhVlRjLZ16jBSpbLlKt3v8bur16K9RcDchuDofWtu8t44ynpQ5Ss8PGi4ytogSu7sbJixbbBSvVXnKDqK8Er/WybdvvgbD6fe04Y0OzK1oPBerxOCKZXvU1qs7HRW10FNnzRDGkRgMvWMU3LSccmEn9ek/HnXt3NF4RD1j75BJj4AWzN5ZIOQOVLcdma7oPS7lWiHkQADPFDOOrkxfsKPdosmA+OQsu33vLu48v1oJZjHDtMuy7drU86VZngegbgYtEcSQP3C3AtYqlzjz5wC322JFnzbqe1WgvWFUzSQyDwcfG3fN9F8p89xFGnzP2VddcEPkWUEywkgAFwC1A3A5M5DgxnbXCDIMUccwQwv5M+VCeDB92UOqbxROO3PYiblSyAfd8sw/CBC9YxOjnZTwLtHIL6GsLaWIODXn72CAzDk8rbhpS1kg33Vw7TxzKXKu0eSYmN24qKjP/SwtkpJhDRx6dkRuVhy0ZtKxnVghYUXA6EPltDWPAdpJnVTvxFqDwXZ9/tMs939rarHvjaQ4L6GsU1x0Lb7y/04H/vTYP61IMX/J6HdLNoXud+sRgPIhvAU4osW+PewL/lmum5VYVeZX2thMyBwsNO9qOwdcxEayiX62N30PbLlnB4cnFVT/SOm7APd/sM4NWuNO9bhKP9ixQkwW4HkGOtL3+5Karcw/qk4I3q7kuEVOWuKZ+Gr1c1kj7uBUSesUFDMIDdwuapusjAABAAElEQVTQcJxYa8LXrVvn21ISnskqXbLV6L49MlIkj3J/FFufgaeMYLahsdo+iT3fOErxSGvPN+aJseeb/GzhQCax1BMs87BnAc8C1SzAtQSYQSgGBwzj5FSfOfbYvbviMQ/XJF1GbwN0qwAMwIP4FuBE6pPrG/vPiqfl6sp6G0l+fvqHl0alnS5N0BkMuZqy6kVPGsBnO+zJmSe/TWHs+SYDLbMGtW3Pt0Yfo/fMqtFN7HXQ/BbAGsLEtcf/5YTOe8pjoL5SsP3jw4IDRQbByhmwWE/HzTIi/cqqplfXvWDlPkWYRII+oRb99EclVVtKTXuLmp23849OS0tjUPLhNhQCVTRYoR29Dbbb5jH2fJML++c40Oieb/F+N0OxumL7dkJdG/DqeRZo4RbQ1xHQDFLE/t4d1ckcQ8dMa9s6BitiynK9QjutAqCwB9Ut4LbwxTjKPW8E58nVFTbyVKl+tctb4zOxiaTlCAxUwLzKkrJW4xQYU0NBS9nzraHG47XjWaCZLRCzDokuWHMYiPyZqeaJ1C9gqIOW3NjxkGg5bwnyKsvZDqs1G3a5sopZMzGAZgHsCl1Zbv3Yb3vTp75PT1Gfrx5l2JvZNotS8Tul0ewJ/vvCwq1XH9NpnjyzwldR1YHb+y4R9K4knwQpANh8dd2uh3KroJ38a44937zbgO3EudrfMLkOWSfFMnwGKgtPHZzdLeBXB+gvqu/WzRgjciMkYacC1hfSBvyYn+uT20m6LdgYRG1eXW/SYNVlupkdCqo7ZNBnl5VFd96GecRcZUEVlk0rvxKrT8AeYY1hmAZs05rciW+Vz7771IyL5B5xhgTbPV4dl/uXk6YWfYDbgHgjED9yEwxHojO4OUuNasnW/0fIpN4uAXDx0UcffcegQYPgeEmD1D9P6uPDenNlI8u5SVdsIMF2u+dbA9nPa8azgFiAawfXEgYqXlX5Ttkr9UQJVJSzjJaZpk6a+X+5fUY/VvSrMBiY9PUDKzDbbPJgZSmZ5D8MuElAAtGJwaDCRxbHS3L7RIRPDL23PNd4XmQfkIU5xugNpaRsvd/DnN0pFCdVhmd1/jb4YOfny2Z2uv3ru7v0jvbrOon3vlayZX1x+Anq9pedU8ampKTgBQuLhaur6Dg4Fj1wsVqNWALNDdJOfxGcsGjRokflS59Jz5t8JRRXfk9K/T9JmlybujUqVgsB7Pnmy5YPbBpqmhgj0XeKVshr7hPSUlVf2Zsu6U81yNjsORKS9q6Fhp6oZ4EWbwH4NRPWACYErEDnbOP4aiOQr6+fsU8AV1Z4Y9kObEKzLttD1SY/bhIct9V0aZIrq873mwNCptI/whYUs2Dr/6Xy++UfZZXZSQyFb2HtAYtJ0Dqhx3SFQPGrlW/If4F02SqyLN5iL1+sMHcRvXaRmT11pw7mZUXTOt0/6+OKyVc/Xoy32uwFkSrd/Vr5Q5PPzhwsezRkZqWqXV+7NPOET6WQV1bRhRP9wfhMrJ4UlmD1prRjOaLgwWvWrFESdP5PEs6U4gIClegxTRN4q6Y6mmyDk+1hz7cGN1oDNtj/bTPwxddqFzOk9hKHrEhJVcta+iawfFwgJ7F9vS9KW86ANYTrCbAVgE7cJy0nM9U4wmWJUp1zjLNPPzB7ygtLigui7oR1DAnrB9oARrvV1jfhtRho9GDVYZaZFy6THZ23wY9yd2ywfF8HX6u0oc9c8+7CIjVJLNZBzDZqzVijyC5sPKJK5ui9aPM+6be7TNf2EnjSrFkzzfRUv3nt6INTT/ltY3b/aQuLK52qTFlUumn80WnzduhkPbNSR/QLjP6sOPQ15CSwYMslBig6GPPASYF8n2ayfJa6n7SH52JoFwHLlMAzJF7wcQYqUeN9+Qz5UNRvCdAIe77ZB1rU5i1hmC1CB/nsRn+5K33f55+rfUShVCiF1amiQg62KeYWOWH8V0qaurE5vswLXZzg+rgAQnLDoh5flHZ245ofM2ZMJxRMnz69UT47gjs7KmT+7to5RmgYP8sa9K3suP6NMlJnG8PX/BqV1dcN0FhPmPy3Dsjqj3XLrV0RzrnvtJRzX1hifdVZD1J6oGL79nHk1lZD87BGagAdAMSRXPR/owcro1zdJ+rw2zobMwPqUDx0j9FCMvIBxnJB1mLsLGu0vGEUyG7BR+nti/GM4MPdDvGFQjfJVdaJhtxR8vnM3Sccn3rXtIXqSpGFdWMsfPFTFXNeG5Nxrt+nOqQHVM9DUz8o+ip8kvXMKto2jA/HANApXCckIlL9vzxrGiMBC4GKAev86BVWtYAlz6jG6FdUCFR5eXkn3Hfffdbbi9Vbb98csddJYqPHxbYdGtgSso+v8Vb37t0HyElFtROdBu6rWnNyAphfVKT+HgrLd+IczzJsYVN1EGceUVWpTpGPLh4jH1380i5rBiL6uGCm6Ns7bvcyFtH5aNlocql8tPWxv3ZXF+FnEnHla1EQDAbnRsVPqUW15EVruLMjB/gu0tguMn75om/VFeZDnSaqPN89xqANePlMXzu4plgBa4fO6rhESvTp7BvSJTdt7oaiCqxdOFfh1RTbrFbdfKjzLNFnuFVgqLHGiE32ZghOYZF9UmTPsfg+NdQYvulxp0x981xA69uOa30s/GJ0bEdkgVxRXe0WqFjeErAsLmbqiHUfBS7eeHIobFyD6yLMZrpfDf/ujo5wCEx2THrzy9KSr9aGZ1P/gzKW9Q2oCgQWJc5vOZOU0SmIIQ46aZArrLGi3wxWkPYRsGKeYSFQSfkDlBF5Bqqt5LV1LFeQtRqi2OjCRghU0AG/tztm7dq1kdvbtdKqfsJnzTf9EqjeEBccLt5KP/tR/Hm2nDZdLOkSYc6TXqzNhcWht5MIgB+3Jw1y8jRX0suXX355hlsl8cXhklZLeUe3cicPjwtE11clMVDhccErovOtciJ4vuFTtwj9L9GbPzTHhxf/01CBKqpPjmCkpgDc2Xk7mt6RqyrZxs2Q690oyJ0dscUN5pbw/z7/e1faGHOpJ1/XvPRAh0yjP6u54YBP9VwwJuNEKeN6RKy3harIEyiDu046n+U6RnlE3vTXJGvXw3rLjBwrqBe3bqNeWW03Q+0ommRBGXGq8qO6qcefpWYtG1sGTL9k46SKmZ37W1dYom+XLOtgflNIlOtJnfpA8fzvb8u9IC2geqQZ5Wn7yN3FpeZf+TbgtkmPdTROjNVfTSbBxAqMlQUC9UZDXvLnr169GrcEhwoGzw5UQn8QvaJq84FKd3rYpTYgNpwj9Y8U3ChXVt26dbNuC9dGp/rKLlptfYDxYKsdOWWU429S927q+q8HGfoV3ky5mnpYzrGnyRJxk7zQ8mpt+hWbLRSbPV1SUrJAAtIp8ln1SBCRRhCoBOEE7rVJkyZtkbKETSf7uACNtJkvSse5s6PmdjtYBUM3ydF9UtRoe+6WG5oo9KXRPBAXdt+cIWkHyk46NZ4Q7N3LN+zYY481N2/e/OmSJUt+1NrgOgSc1FoEBZoaGjVYyf3lvTkgOcP7poHPgNh0Y2KzMhiek+o3TsQlYorfuuevXz7bAevXjVXB93+qmnnULim3Q6F9fR+or0OHWC9aSJaOBYzAxbyQtYNowLJuCUpNK2AJvmDVqlW7SFlkcYo0+UF+fv7xcuuvzQeq2lmwuvTs2bOxSNd4sFev2TI52001dwyGleWH0FAC1QQJRLdtdlFXbvu9L+z9XYpqZMmV/nw5cUoVv3tUD1h6oOrRo8dA+GxNjSX7uADt1PKL0jV13aLKo7b6SJQaILfWrpSz0X9AQfnx5qiNkzu93vnyTW9IluuHhffr7T8GMjVBZoqx7yE7+Kd+kdHzRglWP4k820FV0M0KMvaEOmDhbDSQN3h21hpfqdGtgbQCUVnY/wW+CQYzBgJql5H9c/AQ0w5SOn3yzLLXiyvUDxhcitwGPABX+Lw0jjgD7a0HLN1hIF8jwKHxDEsE7XvIwmvXgUrO8O0FUciETl+jgVu5gNxbGijGyMAwxG+XSxS+t7GGJH74hLQ9RPzvKAQsCVQ4gZot+YWyBdkZyTyrs+arlT0uaCx76u3K83S5mtp2tStv+50p5bpvW3SnLCNusJKTloKyKvOX1cVpaz/b1EntnrtuyRtvvIE5q9aO3ndT0fpxW1OfXDxrkqtr+QpWlIOmH+nWhF/4uvcKmdUwbtnK+aF/+J9SdxD9+YAS2A5cpaVV5stfVtnPlHY3PlF9MtfzjB3OAXvXK1BJfQu0gPUueVG8XhYJvEzhXVE5DNNusqZ1B8Aarvjsoz+O056DNIIRELDEH4ciYEnz0wW/kZqaOnDatGnbnr8k6NftcUEC8fZV5JPbtFHwGea+pIl37p0eWPJr+L4XllVeOH1xxblXPFd22urStLUsf+j9yr+d9tKB/x73/mHdJny423NDp359Xnk53mVrfRBoTJXxiYiwnOYBZEW3PhGxdJQR5UT4Lfy/OfSAFTuK8vL7q8ipSEmxb0tkOHaQiglY580u+rD/vrtt7h5Y39FvhNXA7suOukKpx6SOM0ghj8TbikJabQInBfJ6Os5i/+wQ3q6iouIBPMOShLbbC9hXVt52S9tuv8tLCV82hQPIGXIqr2gFBzp16oSTs6QgmccFDfhFaUun0aNHnyJvzF5Onamo5PF6P565LQbWQfzq33Lr806d1+i0L/CFkm1/ALIG7Xr5cbnpk98oijBkvVj+W3nwj/eU4zl6CtPNJ2asErqbJLU2dd+bsrOze8ma8MKbb755c2VlJU+uUZw8hI0dzEe2OyxuhXCoc9yyBAU46Wax0Al9Botlo0FzfSKiIQfkN9WBVqCygpWvbMYyhbMWBAEmTj6xWlR0+HLqsH3mxj1m/18ODgAGJ2JMjJ5YJSkszwoukQPLfplC5tk+m5IGLpC3BOdKsGrU+U1KUU+oOSxg334XB1vZ2AqIL14kvviQ+OBCSbL9mHGU+N8C8b/0ZPpO5nFBu/2idPaffxUbRk465c7OsD9ad3ZgVi7yXHeIIWu/xm8agV6yo85vcuvvVglUKKMc66OtJMC8Snbl/iBuMtUxSTRSL5FGvbLCCxXyu4nnxDznQ0txyju6zjSfjffjwwmm6Zs6Te0qD4O/qdeoGqiyueSAFPXpr6PkQIzc4PWpV55dvAFXhggCmGwGLN0J1M8VvQt/DO+h+vnkJTCpev6hqddPeC1l0OqNVbgtwmAFrAcr0IAanQjPBaKByqoji8P/5K2/4woLC+8T/sVWI6b5f9HfYQ1rZ1dYcgbqeoZG+1pG1v+JPdvU76zkXHWFOBF+r6PkN1a4/b5MH29D0nqg4q0/ueIPih/OiwasU8T/arrvtII6ycxB32qAL0rLxi1LtYJeclh21fK1ImfOnLlAKiDFgIznbTDk1uaRMQXNldn6NuxhnXTCqzdtMQoljzUCSV9/bFo2eRM64u7p/tCKQCDQ5/jjj79dAtY1LgGLbUlzTQ/iJ+jfAiHjHqMQsIwQEW2c/8l+IqLXfDNj6hT1rKj+hfzQbwJ+J9I4GtWi1WW/yvMn8wjUEEeRSOObLCQDEzEnG3mAvCZsmP8NHq8qFd7FkCfdAbXjG2OzhgiJydCTW8BKOGHRB9jTo+1gYbYCFZ5RyS2KSyT/oJRZIJOPgNUurrBgc467tljqtq3fWRnbvtAs3rZHbe2RrLws7OeLjz0k8q8zUKGu+OHjgoZJ+qv8nOKlmq7wvS9Kw2pxIKQORAkClfgp7+xwzSHG2oOrKSttrsjsgTqAXYzP7ystLZ2SkZFx8oABA+5OT7cudiHvXL/YllWv+j9joUSLO+ImQ8mZeeNCowcr/AhY7IxnKxEw1Q5mUL0rV1wvS1C6pdP95vmCJ5WuUZ+JtQbK+YJfAtYti9aoG1mlKbH5Wr80+dX4+fLa6Ofy2uhw9A1Hkf+X5l68/mMhMKmcaCe2J7zEzFEfhY5CRQv26B4YcePJ2T0lwwDlxOjF6ilSo/r/RIEK0liwEbCEnMXa7Slgccy1xWIj/M5qS23rJSGPE5d/N/XvrMSJPqNu4pDDZH+9TOYbGP9Z2nteXug53fkyhVyZPCZjHyrlO61bty4vUb9t4XFBovHVtcy6s6PkB9xRkMWGd3a4zmD9QUKQsvCJJ554cUFVZu9oFSUbQpsLFy6cJQFrkpxQnHbyySf/QwIX1hl9HYM48vHBZ74iu1LcFC/J6vNF/MrJlYi/JFz/Ask1Uz+pRJ+IsCzkMJNovLB7d3W32+9C6qeJo7Zp5ktQeivCNbPE4L3Vqi3YH1BU0JSSqxX/yI34gSONiUI4B7BOkxeG3b8IHqz2CL2ztmNqaTeJIxlXHp16yx0vW2ecCFRMqA8aGKD3EeHIf7dAJc5X7XdU0q+sveZoOetFXesfAlb0h8MXttVbgvKw3LaVjJc2JM+ZJ9/Cbe13ViqgXlRVaoIMTpYq1busQt0gNJIr4HdZmTlqVXTLM1cZN6YEpJFufPKiV1i4ykoItX1ckLCxtlQYvbNjLeGmfWeHaw4xHN9K/fv3PzwnJ2dMVqByjfC6wxSySQHkwq+88sqM0047LZiVlXXNSSedtORf//oX1jOuOcSootPINzYk3R8WySaBGj8RIbfZZJleJqvK8E3j1UmOX9o3lo4pcvX010hShwruIVO1bWHD9id+/5nyewdcGcKozkRH0flWoILCaOq51fu8JqS1kuZnGH/+4NoO2PIEfTBYATMPrCfJSsQZNQq/r9Bv/X2IQCVns0WWgOMfApYsJNDZvsISeojcEsSv4D1o4xbYNMb4VnY0uM0eZlhdL3cv7u83tfpGpx3vN48JmupT2ZrpE9nNYi+7ThMTyT4usNUKq2ybblgCP/lotp99uN3ZwfBkLeGdnUg2shZx/QEOycYAn8tz6yt7ZhT9BCFAMGy9fW1deb344osPFBUVDZMr3TekCHX0dYs0qrVIaJIrK47c9RMRSvU2/OqbnCz1Oc/sjMtYo6mx9Zn6b+Xn4l8r0/eu6rfH48aRi4MuWnBiiXWnMWVvOuRxW059Xrj9up82vv+vHTv7BoF38A7+G88+NHvRMx8Wb5IsAhXbAGagAm2DXCmMkAzK0CYC1XHxAhUrxbnCukiurK5so1dXts0cr65bdqNd2gvea291r+yyPlDGuz/GLLfWx4vDDZCgtUiyS8U10+Ux/F/EaKeIB2Id2FNuJi3uPcPs99sljXJLFGrEheb4orSbMvIywjA3fqPw6nZnB37ulsI//PDDZkkv+Ad0stYa6BwMyTcvtj3PCr/88ssLo3m9DYg2O2C9TARNGqx0RbRPRFhsrNxNAcaQlfgNQmKr2IostqkogQkmcLJ5hsKAZcnA8BJkIGue90jZrPeuyj4yxW928Rtm1+nnpF79zIfqeimDHkh60CJP2BbgucccoQ6Q9I4EqmE1BapINSuwiQrmaHk7q0DwKGlnVhsNVByyh6MWWHykEez1sHlMabGaKF441GKb1l6dO4KOuKbFtf6Ju5aKF57XHIGKWiR6XGA9lYkKWkcVK0X2PWyw5aOxPg1CdR04cmfHZsaMDAfwcvl0w/XGReufi4pgbaAQMBLXHZSBNuS3ddZnYIRWVWEf3sSkDDDrsL6OUaXFQrMFqxZrkZoVw+QC9EnWadwGRICJSInzfPxTeelb36VNPGGPwD1gdso0hrx+ee784ycXLdHaYcBiPTiWBXJL7xkJNvPRLnnJ4mida6X+dXWpn2w/zS2nj01oGp+4udVrlv5XDjfw2HdYpynmE+I490raW7w2RVdGLLVOeP9J86vr5Btyv+plzUHjcUHnR8y3Q8XqTvH2s0Xn7eLosUJ0n5eaqh5t6R+QjKO/C7vGOzs8/oHdkhWsZId6O1iVVYadwYoBi23perjx9PIGp2VdsvsUMuHx6gWrupufzsLJJ7b4WC8xD1w3T5xS+Nbm+zu+J1v541V435E7p97bp0vWcSs2lLAdYAYsTBoSeBZIOzZNXm1wfevXpi9PtmVZQK5YcOvvQGsXiEq1q5xn40vBZWZALdk8xvi9ZWmrlOvjAkP1lSNgvTwy+D0QVr+vHWdsaGl6J6NPPe/soAt9vSBtBSkps9YN+bctWFVZtwEplwgno36zynjBqm7mx6QDOPkMVMBheWZiBSlgpKicuvO18rv+fmbm8xLG8AXivT++Ln38dleUTNLaQXvOgIX6APYZybWS/zFfRjWMDfKySrd4qpuzO+8sw/w2Um78Yozc2C+ebBJ8HLgeaBaIbnWG7ZeQWgVojwsQcD2ItQDXnxgsL9dEfuApssUV1r6Q1rok2Rg5LY9Wq60vcqziWTlSjSCy54kQUq1Av7KSE+qEx6y1ktaqdU9Yt4A++XbAEpvbbwRGr2gsuYlvlq5avi40jQ10yVZXLbo6bz/JYx7iJetsScoTTiTbbHEYX0aNHVtNKkbsIB9orklQL9edXud7tGeBNmoBZ3Cx1yLZctu+stpcEsJtQLvMQdM0zrbIb1G4VgtCi9K8+ZVxOgA0QsCSt939pnZVBZYte+C9JXNLq9QnYAoE/tIvZfrJB2TgR5sMVlzc9SDVOgOVNUTvn2cBzwINZAEGFWI0y7XFpuXOjf0j8N+L/HgbkPK6LOWBWwR4V1ZNMw10AmD7BQtc1aakpOhlqri40py8qOIqeZpVDNXk7cB+jw/JvEVIBisn9oIWDFUzwM4E7ySMlvBwu7LAHzpn+uRtwBxr0IYKPfNRcGvUAPrxEY9ucltF7zwl1a93UCdlprhCmHQ98ZmV9TYgglV0MqwrrqisuvH54lXfrglPYKt56erCL2/NP17yboEKPC9g0Vge9izQfi1Q4x2WoYf5OsiKZMnJpi4FZWW4sEoK9ACWVIWmFvKCVf0trgcrtGZNejRQ6S9YWIGM5XvcsvlfWytM/EDPgj26+6fOGZbXWzLOgMVgRczAFa3poagF7INNbsHWeFB7VvMs0IotoPu3Tqu9/mB04LhCYevH3fZxQX5LwvqzZqFjxuLU03sb0GmRuuftoIWrKQaraHN6oKKcuua5ymseODdtL7+hesks5Z9/cMrDj3yQOeD970srpJ4tF6XRBicTZaCBWw/IR/kSf8DN7F3t16qtZ3Sepp4FmtsCRve8QD6VCJmmc3Nmfb2IR7N6i8NesGqYKcHE24mBCi9ZaM+sqgWsBxcXF5y8T8roE/f04ZtfqbLDxX6vXpJ+W/740uu09qCh7lgMWuC1toDVwfp4G0bUiFDTGVojdu017VmgqSzAE1f0Z9P56ea2K6uQcgarptIt6X70KytZN+1xuDXg3QZ0s0rdeAxW1nMqBqzoZOiBSqfNk6Zs+ezXzeYd7DIvw7jop7s6YOPaeLcDMaG8JchqHo4N6J49PAu0SwtkBnwdOXD5AiaDlX6yG49mtRaLvSurhp8abGRr/ShYAhVeY9eDk07bTtPnb5vnFk3reEhOmnES1OnbxT/pv9d2/OVP92zGdkwAyhKjHf0shHxLuOX+M2T/ORM/gnaHMA608CXuhR7Xs4BnAbGAftxXo9PTlB2sqkKqoC1ZzAtWDTubCBq4mLKcKPpbK4sHviQGK2LwrKukix4tufLJ4dn9UnzyOXLTTD98B9+js4fmHzdyXgG2w4EcgDiSi/6uK5pxllGm5WBDleDjbfEUiuxgoeoUrHBiQKjpdgLlPOxZoK1ZIDNF9eCY5Mn3OtKCtx0g8WlNvGlIWSP1u3tYF+OCLhhXyCuolQXsK6toLQYmNwwHstKzSypKZr9TOSxsKuubkz7D3G7oof7Hzzs8Hd/t8UvCXDEhGCIhT9oKkJL3wLOAZ4G2bQH9WI+hUwO+Xhx6YYVaKXSLDFLUkSf2yOMsn3w37F1ZuVmlAXh8ViiYAckZrMhHb9ZJw9int/6+e4/8EUfu6n9aXCxVrrL2fGRw1iPfb/FdsPRb6w1Bp2ZoU3dWlCeccGcDbSjfXsftOoWdp5k9QiGV9Ca1snv5TusuMX52bawZmT1mmZ0ry9VechLX1/Sr1XIeviKji1qxcpCR9A+IaqP+mDFjOkG+iT8VkqyK+rHuSstLWnaw+nVTEJ9DSgaa7djR74I0e7BqqQdNzAarNU6nsVw2Vd2tRrGoACcAAUuucvUgBadAXsdwOjqLcdTEgo+/v6PjdTtvZ0xEc+kp6q+Lx2RM73e77+J164rxIUjKEkMMbeqgl+l8j24nFpAd1WX/gshJUGsbcpfpZnYoqO4Qvc+W37Ru2/g4JI4uqWSNMvERSfnJxzUbxhnLGnJ8wWBwbrS9UxqyXbe2zIc6z5LLieFuZdV4PmOwMXzjfOG7BinKB3zKDlbv/BT+LcrX14N4NJtoUsy1Ep0KretWTY9Gv7JqsQcNNlgNlVlXNNWs4mTUflNV26GiwQqTgKQHLjnsLKAsdIGMscuNm+ev/UfHXl1zjcshkZ2qTv/++rSC/PHF1yAfB9g+i5FvLuCYVFmlaWQ0jRb2eMXmdv9N03UL78VQVaLhe4m0lKswbHhaKxg1atRcqdA5MzNz0OTJk6td6YwcORIL8W1ZWVl7Srl1e7umDjpMMU8MBtVMORJ6x5WVHRpkso+WM7elErQe+2t3ddGzgwweT3GrJVkQ2aooSeF6iuGYT24Niu5KEe3Pzb+NC49Iz5IC63dWIl76j1eL+TYgqtnHRwI62nzLRI0erGKG3UgHTUwfdcvIwWwkOJjNpG+nRLu3ThhwC1a7tIWzMDFoQdzpeHBeo9tVmydtur9jfsdMYxiE8jLUsE33d9ra6bJNtyPvAmgTdYF10J1U5zcUDf2Z0GbMeBCs0mO9DOWNrRP08GCbBQq2jDeO2pZtGEqcfKH499MlJSULLr/88lP0gBUNVLOlp9cmTZq0Rcpq7LTz/eaAkKle1gSD4k2vi8MsldOPH8SxdxTP2UvSSeJAGYJN2QfvPw0YqLSum5jEV4FNleC2nam/LKErZx9vf96ry55KPvgMCIbNlVEh/VgzzznnnIFbt25d8uqrr/4YLY+LYq78DDXWGLFpZjxhkX1SFrtzrHKfGiovUj0eT9bBt/XHepkIYpeRRJINU9YoB029VTOMAvkeS4MdzLy0FUzVMAt6cgtWEKYM6hm9riu7ed19mXk5aWogGB0z1biCqR3T8sdtvhF5DdiRM2ChPbariTcIiXbdUkzjFbLcyNW1ExpLJ6sf2t/ZqZdvWAs8+OCD8+XqKlXs/agesPRA1aNHj4FSDj9MCB1mmXnymcAHNaEf5fnU4E3jjI81nkV2nWH2rapS0+TwelbKH3OWt8q8YU6RYDAjge44ZnAySkCeYNF5ubl/ZLCqDMYEPsv+gwcPvi41NfUa2agAd2wQrGqaF/QX6VO2OWVncfA2/Uy5QVsH0E7sXWtXX0ZcxTxmPSyAAAKnYGKgAtZBn2DLQWQTSmOfu8wrvrw+KzsrTR0L4bx0Y1TRtE4ZO99ZcdXatdbG7c422C77o0MS6/J1oaGnW4LO6EMfh+oxfvVq4aVEy1iuYymKgDwXXC5UTH2W1YSTWRBrasMrr70FZs2a9YQELDxvsAKWBKrnpZXpkl8oC+MZEyZMqEymVaNc3SdO0TMquzEzoA5dNdbY5FY3+iKI9ZtEt/I2ztOPjxj6kC6r5c5oJLZ8UdD1DxkZpQY3sj333HMRpK4JhUKPvvnmmw85bITjsVlA/MQeg5AJ9YiMrFnUbLud6hOgnS1gIhIFLtxz1wMZ5M1f1pSHDpxYMmprhfr/9r4ETIrqaruqe1Zmn2FTUEHR6AfuwSWKYqJiZIl8BtwQMK7EKEo0GuOW+LniEjeMCu4a3IOg/EYNiBoXNKhRo1FRWWWbBQZm7/rPW91ve/pS1dPD7DN1nqf6LPfec88999x7uqqrq+bRY3KmNfHryzPvOWrfHlkiC8cOzKV5IBDMQ0TbBuo0nTrN/hL4q8/aHkkKMtbXGEaAD6C1PSA/YOCuOr+j+A4nvzkmIGFJzE+W46eiB4nqZUlU/3vnnXfiGZeNgsSVvILJOoUV5YzqYr9ExTrdHHMdwQ1xOi8ztDv98ml5r0Fjxoz5s/yeaEuiuhhnVJKoHp03b975a9ascfeWWN2kCYL6Wgu7c09D1Abj1V/bnlnFFo2XIZBV11i1pefbG/3KO5E8vgnLwtWBgSGAZ1JioLC+xqiDjd76/Nvq+t2vtM/97I/ZVXJmNQ6yHhnW8fPOzN7xz6+HJl3yZCWvZzNwgdEewP6Jo9KonHRSbMQQkiPtJ4YMgD7sVy8t6Dt8QNr94XDtgdP27DU1/7x1+vq1HjNpt7H6oB+UyCUhT0iIwrtjjsj7EAh6AVDWzXFPuatuna8PbOtFKRvlW55Cgfg8g34XnFZSUuI3h1tp6z3D2kUCIQcF8j27+qd9rUef3qpWywqmTJkyRmLmQtpM7cLvDVrOEBcCa5Abd16RS5/Xalkb06ZPNW9nplvxZFVRFXlYzqQmjR07dg95is7/SKJ6DImqvLz8h4XShD2gtcYp+2N8DOJ7v/3A7b5tk5XcOdTai2abnOo4RfL0hK2ujcd12c61cj15TpxvhNALQE0AJkIfCJpkk4MEEC9fVVYV2e4Sa9qK63tslt+uJkuZlZFmDb3op5kv79M/bcKIW8o/FREmnpNPmv3ovuN6pb6mhU0A6sCNIu4hpbRLt0M9nBk6Cy/N3/WwndOeEYH7BPXsdGe8yGfLATt4oC1oANoC4n3FaMqACaiD/hG3wDzcpC68C7IJUSdFwOhT26zLAroZHpDLgKdLfNwv+w5eefOMHDNXr179glwCHCNHo3cZyu3oe7F7CbPPvG6Y2P9eJ31plbWW9TSWyf5T6QV243dw6EYdjXas38keNNnTLNtaJ7+pj46V6XUCkRvrP9qhRzg9bA1yI1zOU99a/N51Wbv03zktLW2YrIelc+bMuUBurGD8E3t215ZCvVfGvtj7dt/WycrXkHYuED84Q31tsO1evmUeBR7fFhgcwObhtWlDKzfc+EaM37BKLqi64rsbi7/bsdi+XDSF5S6pHY76UdpLy6eXXLbDxRseV+ZALwMbtNmvtonNWJ9nL24y4FlLDGdIZZQjduQaeRzXvXFJ0dBDdg49LEr45Oe6peudB6QO2sAG1AfGAYANHCcw9NIGLRexC5AxWeESI2xwDyRTQuzWdbaH+IdCVupO2LZqxBnP+w1ZnLPEr6wxuU5UvPR3zjnnyDNUnYdSTVjyh9/dVD8rFB0nq4skLqqit2XHhTFCLiJmmrLG+HvuuecFqYMjAWQ8CyCQS5tHJBS0NuNYO0mYyuEBP9wlqGM6gb7xuEzcKYl1ZjVErGWhHUadLWdUw2QePpT1sM9xxx1399y5c8+RMyt2INPuAjHl3jhiD0z+ep+Gnt4Nk0vViRUqJrUFC73toBUXTbMGgSvmjsXXP3uosus8hMlE8UBS3xY4EcA8sGljgwbPDVzIrQB1CPZOl5TOfOeyoq8OGBCaIR3lifk5/Qus2zffVXLU9L/XXXj1CxvxnxbYAJ3AONiniaXILQNGP0wYSApol4YkhWQQSwhYECiDbiaO+veuKBy7f//wTVIpEx3I9ZzKd5Y2nPWTG8oWCYfEwv/BIGGhCtrSFvTDvolptxS5dhCjHHELnUxYYbEN9b3ANceroBvJNpZOtU9q6fHKxj5B/I4f6/8fExX6kEtlj0oZ5uPBVatWzZGzq5/LkSy+v0U7gFwUGhSlEj979bIiq1dbHyhpfwnJPorv3KQtt5g4jufNKBLa2JsY3+a6cOV79LbjlwC/3ZRbl5WVNa2urm62XPq7YPTo0b/JzMy8XLAzf/78s9avX09fNWFtOBfJ630uYsOWwvqLfWM62zZZWVarLJrGBtl4ub1e7kTr3Xi9pteQxawDwqTB40i2kNkpNmmCfdB1ZQsfPaNwzAk/Dt8nj2XaFQXyO9aoK0am73/yQcV/2O2yUnxrRCBDPzH7AgYAkwaPBMKDvG2cWSFBMNGkjxiclTNrco+L++bZP3eHKj3JG0rXPvx2zVlnPrLpE6mbJQeSvU74sMe9bCgYAB7jY9+gIdOHsPF6iFseaKN9Ixueex3cHBvaB9CyHjhM1D0nG+Ep5s0UcmbyiJxhIfz/KD/oF0i9Mr+uQ2nWR5FYdMik7YpLfh+cnfgFceERNr7k/Jg65KaQmyVyf0u+02Pb+W2SW9e5PoAJCXSvfHtfFnxc1mdQLFFN27JlizN79uw/y23rEflCceXIkSOdV1555Qz5EqHXPZu2OZb4iI8j9sXe1662TlZt7oz26FB/W8Bq9bCBMmAkKmy2ZsKKT6JqDxk3ZvvUmeVfzXo789hnz8i9vDjHmoR6cllwu1172g9Uz+j55pvfNFx25PQy/pbFvqADNA6AxjpJIAm4/ekzK9mE3iS/g/WFdYjzNys3VGnJpRwXyq2e1nxrcu/6gwv/du8hISQOPHLKkmvnlaWlpZdMmzYNv1+xf7fV4MGDQ5dccslsuWzxcynj+KIKt+HTCPqEvrZBXdDExwMSC2f5FLlinGEJgSMp/LSX9d/XVllVMlH4o2/6t9UW9N6dtFH3LdT7AmiXz8mwDqBL1mxOXySX/C6Snw3isf/444/fNnHiREfW4VUjRoxY/OCDD97F+qlh+T0y5Ogz28RmjjVW5m5worBpnNor3X3BbB0kK9MjLcB7fFvQWjkRGvslLNZBe9DcyInthZ/WVJdcWHP54j8UvrbfTmm3hCzH/X0tM8059Ge7hRZU3tXz2Q9W1N17+A0VH0p7BDb06ENYlwdGgoonqRgdkuRUK2PKQJLC0VMe6LGP/brcQfEF2uAaOS7fWP+J7Ge96/xcTqEyJEFFcy8SlVunoSE3Ly9vstB4vhn6oA32uHHjBkqiGimyFoG1a9euEkXQDyPYT4voDpS0vAdwQ4U8Zglvy54A7fLF5//63OM8vWaK7XlDRctbkKAxyc8BCfXakmFSchOTdEzeteHIwdlZcrMVnuyBEuf9Dz86VyUq2uk88sgjN0+YMOEzOevCXsB1Adw4hJx58lQK3z8tyxMsdhGVTU5WKXyxj9sWJKu4K1qO0BPgo5UBEg2vaCXKoru8T0MlRsAiE7gBPPTa8gWnDcsdfvPxGRfEHtGUJuEYzslwxsvdeeNr/1Ly7vIy576TH6958d1PNuOiC/pjn8TQhwPJhGCvXLlydp8+vU/a3vkq/ZDQi1ZJeIMkLceqlQt5OG+stPKtRXWj5C/zg9wzKdytjxNKJDacWYEW2Lxu3bonBDNRETsPPPDA8muuueYl+dZ3jJRHsxtaNB3qKioqnps5cyayKPzIAwbwaLrWzt+iUJ6h92qyYUgQPb9hqt1uZzM9wtYFVQ3WURIq+B2qsLbWeqf4LueU0t/Yb3vaHbFyPeXNFEoMntZMFa3dHOvdXfMxbP/fcZn7SnRnoGN54eIXsxa6zwR0F52IEuL+sccemyuyVPcYqGxV0Hul0LQZfWrataGtk1WHXzQtNDMMJmzUWznd6MOr3CuYzHrsg8FrP/hG5cYH37D+9MiZuY//cp/Mq7LTrSPYl/yudeDOJfaB75yfXVnTkPV2eZW16PPVkdevmV/739eiyQtVmfxs+R0idNZh6b3H7pl22C7Zd/Ytidib00JOYYakGDx5BbchZoctZ11lZOm4+1ddteizu3BTB4A3UADjB2Ng/DmUB5IUfq+C3RiTvWzZMmvSpEmnCc0bJhCXqMfkKWTCAo3biQIB6MEBvUjEwDiYrIBN/4mom4BcWpPB/6yR0eJycbsB/gRccrszRex8zjXCsQY69dYiOePCswHfl0j4XFYSHtK6ox2xxkq9PVrD2A74ahCsE31w2JRZA0rC8UuAldWW/guOjnnQ5EmTp842x7I9Yhwu4MutAQn2tW2y6gSLxnBWW7EJkxLrdKuZi8kZaDwDIUaxO/ET76/8eqJVOXHO+flDDh+U9quCrNAYidPY7b1ObmbYOqpPrhy7hqzDd82SCM4ql5si1kUcZ4OcCOXIL0295EtOT9kc0tAZYgi3S+J3Kfnmhv93gcU9lHavnNAu88/Nu/WZD2pnTnpg05sxG7SNoGEXZcAEyDlOyEETx4M4Vpk8dZGnXrTFgWSFA0mSCYt1RBRAR/WAnNk9L68U+oXE290Se/3FTkTaKJm8Ue5MxgzHZMZBolBi1vOxTPE6XYNgvAPzwMjs/EzrQA5x9cbI4hhNN5mxTzmbtDfmuBr9Yt+2yaq93dJG/etvCymcWdEqryDSGzmDjli302ca8UD+xR0bcTfetEtG5Vx7wfDMU3rlhX4Ztp2BbEgsDQpx1iS8e1chTgbZiZAuAMtDadf/d03DP5Ysb/j3CT/OPLUwO/r/GHmVdu+JB2VcduyexR/f+kr1jOtf2oLLcDy7AUbioEpXX4zn+JhoUBdAXo8rWhL95Bhj1sUTHPvq9glrwxR7pbgKfupUsP48+4Wes5wFDZXWtXJR6ASZYL+7dL+VJPWQvDTy4e+n2N92qkE2zVjGOlpp2uX33i07Xd55Fz+zevnzBpxZ6XXhR6N9uwN/04YhxmXArWxr9WTVUReNPWlFqy1mfR1WTm0ZLFs530PAusAITGzW2Lj9Nh3U45kV64soDm67G+dt3iDHHSK949aT87cfPSTt0D559qFyq/tQeT4yfiPA5TcXkJSgFEgsL99Y7Xy2dF3kvTn/rnv/urmbv5MiXJ4LX/B09TvPnJlzzNGD006XS4xIdFbPHHuv647LnnHmsMyXpj21ZcbfltSsEzGTFhMQsAZ0B0A9jhN1wCdLVlIcX5SoDz3sC8lRn1mxXMQBdHQPrD/d/V/R+WLn+XKjRe/6WmtPuVi0sySvtXbYWp4WsZZ/f76N2OrUIE+lOFMGgCMVwNrg+iBtP3hixkHC5EGB3Oj07bQnNuLmIgDXFWnywPpAebuB/mLfmBGtnqwaM6Arlkuyig9LvjkwSOKyRgjUhwJgbLKgmbSETAg0HXSoA97c4H8wRnQhmKdF78jDXXlWdna2NenAcOEhg9J69iuwiuU3qOoPl9dtmP1hpPybVTXQhxhBMgPG4W781dX1kVF3Vsw7YOfMBQ9N7jFx9z4heRWEWx4aWBIa9eyUvCM+W5U9a/x9mx/+zypcPIy2EwyAXgAxadSDDDajHwBoPQZXqD5QHwfq82DSMvtVzQKyM3ggdkfga2Irju4GjH1ijJ+0uyYGFIdH0CllVe5NNFwPEJMGBpCPch3gU3+xb+wqVJCsWmHC9LeFJp5Z0RoEFYKRQYZN2A1OhYWMBx+DkG2AddJiW7QhuDK8QuAvC60KHFLwtRxshzMo1EHf2PQB6Afl4IFD7y2tqfmfK2tuv/DI7Gd/f2z2b3rl2sNELoVOzpDtw+d/fGX+uI9W1t966PSaZ6qrqzkeVAFQf5SL9oU6XvayjsbUBww7iUHrA3LWFTKAwAOdygNcD8A8MAA7P8s+iiP54vuGV0gLNmNe85pWTRLJppz5Sd2TpTWO5kDSNYoNJ4AW9kBTvi0k6ZoTx8AC1hswEgZ4YPPwkrOt1mfSosrVxfYox+U03MmHO/uI8ZsQeDyk1MW3vVr1Ve9ppec/9UH9lOp660uRu5AWsrbbf4e06RW35cz956UFP4mJ9eJjcqQt7Btj4uU8/gaFvvwO1mEb+od6Y10HKPBAp/FAQmISqxP4Z3+Tt2s4ZA3AaOTy/cZTH6l5F6Q63CIPHvKOAtwLGv3NKkhWrTBlOlkJjeDZVtCBp2kmHm7I3OCJdfJiXV1GWpdpGRMFkxISAJMEElaVHEhUPFDmJrIT7q1Y1O93m477aFXDVQ2OHX8ImdzyPuTgndOeqrq75NH5U4vwHDMuPGD6CJi2o0/aAZrJiDahT9LATFLAelzULeIAAg90Gg9wE9frJIE+aED60RxNZa21EO++i/GMeWAeKCLN8lj19kP6KlRjlwGDZNUK86QnwOO/A9vSI4NMb8KaRpAy2XCz98LJ6mh9rMeEoRMVz640Ju0mj9LK2pp9ri5/bOSMjcNXVTh3yF8pkNxckDuXjjpmcOj1yruKZzwzpWhHESIG9dkV6pnj5VhoF3naB540x9FhFiQGFEDggW3wgFfCgho3afXKDf2COpeXRV4RmusGYtJcB+TZhHLy7YL1F/vG9sogWbXOFDHI8BSHlgoK6mHQEXNz5gauN3RNs5yYZWZ7lpsYyQCHPpsBbR7xpPHyR7WV/S4uveVPL245rKLKwTMB0RcglJNhn3j8fqHFG+8ovv72k/Nxe7J7l2EM6wQGXzKZCelC3L8xnr6JsQEKPNDpPeAmJBmFxhiUy885t3D39FD0RZFy/az6hlfrXlMj5t7AdaF50qp6+5FNuXW9qclKOy5Vuv080TI9+42TG6qJ8WUBbVzYhrsB2dQLM9CAmWRMzCQDOWmN/eS6DhMOZJomz6SFRAVaH9oe196rX9iypnBq6cXPfFR/9JY661WpHwV5RExeln32ecMz/lV6e8mlU4/MxtO54U8kLmIvmnOCOqTjPhdZAIEHOrMHGMs6thPoQ3YNn8ABbqp2/t+jiyrxTEO9P4AGaFlU0oE+9VWolr4MqDcQ3srsh/U3ZW44dHgHcleCKbRPj5Pj8Bsn5RxjwruV5HXS6AB6TWAwmfJUeLZlIOoEQVonH5NmwiJGOdtpGeRIRMRITlqXTlKUU6b1ufaOu7vii5xzN5y28KuGsXITBv9pL85xcouyrd/dNj7ng7W3lvz62KE52dIP/c65ACZNX+v5Iu3la2kaQOCBTuUBxrGOa5ce0CsnXJRtH8/RfLI68rTQ3Av8MKrrMjZvb8xx+tnh7h0oxOIHeA2CTorWiH5yA8H/bnjgAYrmgTLIWAcbOtuiTy/dIm43oD16M4TNtJ9jMcdJOesBcyN1BxNLVqAbmxS3fhM+9JyR1gnCi2ZCMbGZoMgj8YBmAkI70Lz0Rzl5Uy942iZkFI64qfz97F9v+F95EsYk+QfWfyiXpNWzV6517dwzst5bOb1kwr6DcuFfxg0x5kjPk44nTbe0v2lme2PGalNwe9sc9J+6Bxqd1znnZgwP2U4fqJQfGVaP+kv1G0q9Xm+kNVZVW5RMZjfXrMZu/eaeWWFgBCjUgA2DZxLAfpu33sS9EhWM7mjAjQ6YG2NjCQvJiWPV44z7rYUvA3r5TAciaTNRMYlQDp4JiZh1TMyEBDkTFWnNQ8bLgixnf8Q6tqz9rin/R98/bBnxxdqGqQ2OtYyDk2fk7rB9gXXn+xdnvbvippKTdts+j18COC/AmCc9V6C5YDQdnwvq78TYHDNiLtmh/UWf0Ued2A1d3nTOkYnduB7UM3QKPSB/4n+2tPSH91aJnHuAF0azhDVIPduAYZsZj4y3VGOS61R3D72egMpeoAeqy1EfBsEYfTZhJi1dBhr1ORAayImQonYF2kHn005zjBiHOU6dqDhBuAwY96u6wcLPpy01eK0fNBOExkgiOCDT2JST1xiJiTyTEjBk5EGznu5D2wAa9rmAhbb75eXP7Xfd5uHflVpXRNTt7vLtcWC/QmvGf67OfPu7m4rH9+uXp+OI8wRfMy4h0/Glad9FELWk3T/1/NEY02aOGVivMb+4ZHwmW4PsK8Dt7wG9F3nSs3+dP0Aek3YsTZ3/73o8iYbrSceQH82m24phF9ccMPc97peMOb+YZCy67fRemeQ3K3d8aKDBa4Dx8scff/yjONMEQu43qJEnJdxy+umnXyfN2AcG7RrRBFWtVZWB4U7Cww8/fEd6evpEcZ7pnyb3Hzuz4pjZvjXHbeomjzECTKxlbgX1wbYUcc60DiQf8MBMDmiHQ9dnGWSgWe7q+vi76roBl1Y/NPaAzKfuGp972nb51tlSUCT1pLIzaMdC+95vr8z47cry4pv2urb++Y0bN2rd0MUkSDllmoc6AMo6MvjZB78hUbGcGGOkTzEuyoFxwDd6njhXwAF0TA9wToHjxzG7p58jPOba2lxrLTjtoU3fgBbgXHthlmsMuqkQt0Mawgbz0OWgCainv2C5iUpkIX0zGiv7YXfQRmHCYEUZ/mPTLJBNPzMrK+ssUcLB6UE1S3cLNNa2hEaPHp0tL2D7VUskKtgmb+XEf5DoU2wOoNsK2C8w+wY2D54xmZj1tBwy8CzTmHJdX8tYFzJtW9wnz79Xs6XfRRvuPuG+yoO/3+hMlwI8BsqFNNvabacie+aG6elvfnNjyS/y8/P1mQZpxhgXiOZB6/mOae6QiP7RxsF2jgsLPtnZlS7jt1nto87iBz3+rk7rOSEdj9nLx+QVF2TZJ9IJ/1pWPyNGM1aSYVRFeXOBMajjUMei3xkV5IxD1Ed7vIUc2IXYmRVt5FhY7J7CkWEhMDeVyPr16x8sKSn5lcjQ0TYBzqwqKytnSWMsFuiGgTRKyHYHToA9d+7c+rFjxz4syfWU5iQsGbMjz8J795lnnsErpOlP7eP2GL/uU9OpTgDbwF+guaA0hpzzS8y6xJQDs62QLoC3nn6/ZrMcd0wenvfA9aPTz+yTa58hfwjIR5kkrT0GFFkPSdL6dGVp8a2H3FU3Z+XKTUyAaI9+cMDvpL2wFLuAso4Cpp1xu+TKxr/iTNOJMlnLp0+dOvXv0pR90FdN1xa0aGkPuHEvSoH1uiAfOv+IjNNk6nqg49oG+6PDbqp4R0jOpYm9Yh9NtxVghz5gY1jeyv37Hj16TMMJybYqVu20zUocJdE5gd+6+I0MmRAG4ACNcjpRSBeoHBgAhwHA48AGgt8w+EM8ztLIo4wbDNuJqE2BzufYeXpqfgvg2DF+AP0GTJ9QxqDB2PBbDsbMJzyA1r/vtNe4xYwWAY4Z2Dy0X0gDa5ptKCMP40DH4eyf5eb/cWTGWb1zQ6fjVvd4gRDyWKev1mxybhv1l5qnl3xVCf/Cr4xNk+b8aAx15EG3F5jfUDOfeOKJpbIRIB6bDfX19c/JG5kniyKuS65T4ADazwOMe2CsBe5HcXry8Ky8WSflLpbfcXvCzE9WRabseXXZPCH1HHJPJUYZaGCuAyG3CWhb3CbRkiZfoL4WXLJNGo1Gy5cvv+DSSy/FbfjcM7GWcWAMrmOAAVysHDwq6CTDhsBmwmEbL0wnAQOIo9zWPOVtgf1s0TZ7jUnL4Cf6iv7SvqK/UAftoNvsV0SdEjgWYtMv5Dl2+kpj1GE561Nf3E/3vla5se+00pt/+2z1QesqrbvkJcWb6TF5oeSg7fOtu9+/OPP91TcXn+7zPy29AWDB6YObBWSkqb4tsR6364vy8vL7W+JSvAyibPXq1U8Khh+48QAH0HE8oOeFtBuT08f0+A0Tldw5+92I26tfErO5PnTcJKNbYqSwi7aFccUMV86aq1h+LvnslVdeWSB6zD0grhqdEkBzQQPz+iK+1eEbH2Rc4EK6BmtnQQaADB0C602JGzlkoGkUcHsCxwTMcXLs2h9u0Egd7TPYDZ4yjJnj5ziZuLwSPNp3FaAPtD9Aa79pnnI/TD3AAGKXuXBEbsElR2ec0TvPPk0K8OSLOMgdhd9v2OLcddmcLQ/PXFhVKQV6XkhznjQPGkAZaVfYBh+Mt+50daMN3Nqhu9BxjrXAGIjTt5+au915w7LelSsK7iXAL9Y4F+x+RemzUpcxrPdZ7Kfk9R6rY3pbHAI7mQN4BYpxau6XXNN6zUJGOfun/dgbeTYFzCtQ/KLv5gitDDQV0mE0ijw7Q122RYca6BTtKG7cdCIwy832Wldb0F7jxniZuOgTPXZtF/0AmR47x2omKY69vcetx9CSNP0B7HdoX9K/qGvKzfawE7I4TDgkL+fGsRmT++ZZZ8r/sxIuR8hrEzaUV1t/ueX1hvuvfa58ozRCzOk5Ig2sy6Bfl5EHbk3A+Bl73AjwZVFfltY+gi1+dnJ9MQ658PnliXLGI3QF0PYe0HGPuWcMxPfcijtLbsvPtCbAtNoG65Pt/rDlWPnLV/Ne2gAAGQNJREFUB+MVWM8l55OYcYA4aQ7QTtqF/ZExCsy4hf1mjKJfvZbBM25pO5MUE5XeNzGGxIUvPDuhw4BhFHkaDOwHNIJYO5O0dmBznehnR6pyOhFj5DiJGTysQ+ynW4+ZY+Rk6OBhPT89XUHOGKHPvDD8DLkf1mW6PfwDPg4j9svMuu+EnFP6F9pnS9LaLl4ghFwyrNxU4zwy/9PIPSf+pWyliDA3nANNU+aFoRJyAHGUa7lPjImbATA2Aay/rn51Q4bYLYExjfjnoec/NHdq0R6jhoQWSsRBbr21tP7EQ2+oeEtIxCBil/uK3mco4x7EeJbq2wyw1bSRCQu2mXmCY2OHmqc9egz8EsUvVUhWHAfqJS74GE+lNExjlhFDhwmuYhHSIDpMYxrJuqaOtuYxHoyTWI+ZcpQBiKPcD58cix6bHjNplLPuD627LkV/AXsd2r+kTYx2lGkd8Br4OAzdLStj9mnZ43YqDv06bFs7xguiRP2WOvv5JSsa7jz0+rJPRKTnivOCeSLthaEJcgBxlGv+J8eJsXLTwiaAg7zpB/Rq2kG7GXPAWPjcALixsdxsD50BtK4HdBxjTjnnxOHc3Nzw+ulZz2aGnWEwRf5X9Y/c32yYJKSeX84lMOeZNHjUBW4u0F5tq45LxCfLgAEJa1PxtJ+2wV59JgWaY2HdrZRJnUY3FBpAjDYmoAMAO6JR5Ok81ovWbr9PjgVOBo1D0ywn9rKUY+EYiRkw5FnPS0dXltF3wF6H9jdpE6MdZVoH/AY+DgO3ywrPPzfrFzv3DP86PWT9KF4QI2rqrQVLS607/+fyDQtFxLnxmitTBg2sz7kkRllzgeMD5gZgfmtlHb++tH2gMQZuaqSB9dj8dAXy1vEA4xdzqeeaX0rCy24qnrxDoT3d7d62Gv76bv3RJ8+s+K/wnFPOJeeWSYq4peeX60/bzBgFZjnH5pru86HHYI4DPA/UcwFK/YBlumMt82tHOTvRWNOs15GwHp+mYSP5ZPZyfKgDmrymk7XvDmXwI31JWmNuxJCRNrEu023hP/BxyM7OthZNyzxiSL+0s7PSnEPiBTGi3rH+vaoscvdxM+ueU7e9Y770Quf8+WFoQxmAOMo1/VOPh5uCxro8YayqK9pAe7nwNUYZx6iaBmQbeIBzyLjWG76brGb9qrD/aQelvcm/aayttGb0mbbherFNz6lXkjITFea4pYB2A+uYJK3LQfsBx0Cs45I0y4BdSKaQdTRuan20jXemFXUiujuOuS2mB36lb0lrzIUMGWkT6zLdFvaDT4AXz88fcthu6efkZlqjJCqxKcRBnl69onSLM3Pmmw2P/v7ZijIp4EbORWPylBNDl0nH9TeR0GMhzbGTh8qtxqj6gS0A2gSsxwAawHpRLvhsbQ9w/oAxpzzcJCW8i6tmlDyZlWYdAWPqItaXh9y6+ZjF/63GzQecRyYlr4SFudVzDTUtBdp+jsGUoS/I/IAxB8yD9hKjLeu5epIpdCsEH4EHWtEDjD+NQfPQG7QX7SVjW60zYQgzTsnvf8IBaWcWZYdO5O3AP1SwqzbXOs99vLLh/p9cX/6xyLFguIC4sDRGGUDLQANMHJWm/qnHoGloIJ9Mm9k/bUQbliVrH5S1rAcwZ/pA/CI5EbuJatmNxZN2KLJvdruWy39//0/kuBG3luFJOJw/xJxOUjpxocyMV1dVC39wHFCrafKNdcf401jTW7VHJwEEHmhvDzAONeYCANZJSfNa7kdjbNSVMM5zj8gtuHxk5sTe+fZp8rDcXgmFwsi7tt5bXeHMPPOJ2jl//7iS32r1hkHaD0Mly0gDNwcwlqYCbAigfT3AeWOcAuNISFaLflewz7Bd0+dZjpMFc9dvtu7pdeGG60ALMBHpZGXSrKPjLtq6dT85vqb2knJsbmsHTTUoqB94IBUPMB41Bs2DC93ktVzTqAcewDbACXDAj7LSH5vYY4zcQXhaRtjZO6FQGLn1fW15VeSRFz6xHpp8f+kqEWFD4GZgYl0GVbqcvMagA+jaHmDMMR6J3TMpGTpiNHz12LyeVxyT8Zr89aI/3IEXkw6/pXL0P7+q4cOwmYj0mRTPsFim4y/lRID+OjrQiR3dzsC+7uUBxqXGoHl4JSSzzKzDco238urL04r2OXhgaHJeljVa0gz+36ShvqrOevHr9ZH797yq7J9SoBORuUnoMk1DH3nqBh9A1/UAY44xCYwjnqx26ZOb/smVGU9npduHwQ0SEBX3vlU7csrDm76Lsm7MIMYaS1Q6DqGqywCcGEDggY7qAcanxqD1wQ0AslRo3RY0gDjKyedlY3KKzzs86+TeedaponT7eEGMqI9Yn62rdGZeOa/qaeORTkxEqWJoZLIiNrsL+M7pAcYVYw7xySPh8l/57SV/LMi2fu0OU35Iff/bhklDry1fEBs2E1AqiQp1AV0ulujM6PCCz8ADHdMDjFONuQEQ+yUqlCcrY3uMHHQCbF+cbc8/P3vEbr1Dk71ufZcdoWJTjfXXN76snznqjoql0hibBA9uMuS9MPqjnLTGoAPofB5gLDG+mKSI42dVa24pnirPuLyCQ1y90bll+4tK/xzjERuIIx687KcTF8sYR8BdDujQLjewYEBd0gOMV425GWjsl5y0HPVNHk6jnq0c+ORZhbsePTg8qSDb/qV8+c1JqCCCmjpr4feVzhMXP10z7+nFm6ulXG8eqdJQy83GxAldBkyH9QBiCKBjjEkKOH5WteLm4sn98mN3/knB5jpnfq+Lqs6SN6ujPWMGyUgnJ03rRAWaMYP2XQro1C41qGAwXd4DjFuNQZuHmYw0r2mzHXk4EnQC4OG5/zcmfXz/wtBEvJ4koVAYeYDuxi111nNfrXf+us/VpYsh2sYDqtkWNKDLbkbR4XX6T8aOxog1HvFE9c31xccPKLHviZVZVfX2W0feumlS7IYKOIKJiNg8q6KcScqMFejoMrDVQuwyIwsG0l08wE0B4yXthc3k1BivdVB3gk/xdIyF07KGDdkuNKlHhnWUFEJnAkQs+6vyKuuvL37c8NTEWe5DdLGhmJsLNxli6CBNrGWgASgLoON4QMcMaSYp4B8S1Q1F4wcUh+4QGR6lZcnjv5ac9FDlic+/V7MFvADmlslIn0lpmnFE3KXjAQ4NIPBAV/AAY5mbRDKcSqIy68BHuo8En916YkHfk4am/bJXjj0uHHJ2TiiMMpGaBmuR3JTxxO9fqJ732BtbcJ2HiagxDA26juZBA7r0RhUdYof91HHBuEP8MIaYpMCH5Teq8+S/fVfKjLntcIv6uU/VjLt/QWVFbISYSyYqYJ2gSLOcdbv8/NPJMR8FKPBAp/cAY5qbRmOYG4qu5yXT5aABxFEu9vmP3xXut2//8PiCTGu0bVv5CYXCyK6yaUut9bev1ztP7H116btRUUIywsbjd0CdLiPvhSELoHU9YMYFecSQPsJ5eXmh5demX1uQZZ9Nk5Corplfdco1L2xZF5NhbnmmxMTkhXU9xgPVdknsudi65EiDQXU3DzC2uXlg/KSJvZJSqjIv/Qk+/umQzMy7xvcYMaAkND473RomhdCdAPJW468rqp3Zr34ZeXL8XWUrpJAbT2MYenQdzZPWGHQALecBc/51TDGG4mdUZx2ZnXfbcT3ulMvFY2iC/Gfv7bOfrDn90UWVm2IyzifPmnSSIs0yJjS2odoui+nwLjvAYGDd3gOMcY25sZiYm4yWe8l0uabhbPBbwY3HF/SdcHDa8X3y7F963ZQhDSJ1EfvN9ZWRv83+sH7utMc2ro8p4Wbkh1HNLKOMGOUETVMW4NQ9wPnV806asQIcP169uGjI8EHhB/S8b6q15v7sjs0XxB5Oi945hzoZIUExSREzSRF3m/mk4+GsAAIPdGUPMNY15ibjh7n56HIvmS6HD8l7+vPlC4v2PWBAaJz8CXSMVCzwqFQvv2+9Wb7Fev6vH9TPu/CJitJYHW5oXhhVTLmWkdbYpMEH4O0BzCmAc2tixkU8SUnd0IrpxRP7FYTk2X5OtttaPtZvdmbueFnVH2O3p0PMeTMTFXidpFjO+sTQ0eWBE9DlBxoMMPCA8gDj3txwKOfGY5b7yc16mke31KtMsKxD5a3G952aPULuChuXnWEdJlsWLhuZgMS1qLTSmvP4e/VzL37afX0J6nCj0thLrmVeNGXAAOgL4AcPcO7MOdWxQBrYPW46Ob/nuYek39Aj3fpfqpL7KTb/Z3X97wdfVf48ZYI5f0xEZoIykxXrEytVXZvkRHTtUQajCzzg7QHGPzci1CJtYm5Iphx8sjKtkzRwAvzp+B69Jg7NHtkn3xqdlW4NlS0Mek2or2uw3y6vdua/u7ThpdF3li+TCty0NEa7VHnW9cJaBrq7AH2vMWivw01OsTKXXn5TySn9Cq2rpXIxHSbvpPrsicU1UybPqlxKmWDOkU5UOlnpRIW6KGMb4G4FnIxuNehgsIEHDA9wHWgMOpUjWaLyao+udT+GKZZ1/biCPicPDY/sm2uPyki3fizbE+sn1MXzCStrnfn/Xdvw0tF3WksqKirMjSxVHnq5+TWGdd0Eezo5o33MecOQSGus55x06KVp+T86cteMm9PDiW+kLq+2Hh95R+VV6s++0As/M/noZMUERazrmPMJPd0G9AR1m0EHAw08kMQDXBN6c0J1zYPmJmXKvXjUBRDrOpCD9wTcmHHiAeFRffPtkRlp1v5+iUvedLxa7i57ee1G6x/3vh15/ca5ZRtjCs0Nzo9HdZQBWIe0F9YykwbfGYB+98J6jrxozn/o3sl5fU7aP31aXpY9STwXf1J/g2Mte/+7yB8Ouq5soeEM+FcnIdA6OWla19XzYqjs+iwnqeuPNBhh4IGmeYBrgxsVWpNOBXMza6yu1ksaeCu4YlROyaSfZB61XYF9dI8Mexhf0LdVRcuql8tOizdVW699ubbhHyPudj5UZ12orje9ZLRXXcqAAWgPIDZpLx6ytgbMA4G0FzbnC20gM+czdP3xBUXnHJ42tTDLPkOG34PKBdetq7TuHT+r8vaFn9bgGZEE+hpYn01pOlmigh7tZ+rtFpiT1S0GGwwy8MA2eIBrRGPQPKAStLmZsbwpmLrQhnSMTERj9svMumZUzuEDelpH52baR8oL++K/jyTWxO5mr6+utxaUbXYW/WtZwxvGb12ozk3Ui6asKVjXNWkvHjJCUzdj+ortiU05+WQYZbqcPLE7x3POKxwwfLfwWXmZ9gR5fnEuOwQWP7/zwocNl51wX/mXWi40fWyeUTFR6SSl67Ad1DXVN4YJnZvlxHTuUQTWBx5oGw9wvXDzQq+kWwNTv8agEwCvMXn8jMz9B/cNDS/IDg3PSHP2QoZKqKQYuWS4sqbellvjnX9+uLrhjWNvLf9Wir02RT8ZtHHjJG5MpstBA3TbqCT66SfXdUh7jVPLvGjKgE3ai7cLCgrsf06zD9u5V9rZ8qqYEdIOiSsOtQ3Wvz9aFbnpgGs8L/mhnk5ATFB+GONnffqCON5ndyM4Md1t3MF4Aw80xwNcNxqD9uIp98M8I4M9fnW0XtYD9oRLjs0pmnRwxmH9C0LDc7Lsw0OW08uzYkwou+Iqeb3JPytrrX+trnCW3P5W9ccPvLJFP1AVNblZApM25ZpPlUY9gNYZlTTtkz5iK82TToZ1GWh793554WfPCR+yU2HaGHnyxEjbdvpSObFcbv388zXOrQfeUDVf/W+KxfQVMJOPX4KiXNelT4ipt1tiTlC3HHww6MADLeABriF3g4vpI90cDFVe7bWcNLAnyJPhnafOyBi8/07hYYXZ9sFyW/wBojTPszKFttVQ32B9Ic+tW7KpxlmyYmPDkj/Or//0hXc318SqcPP0w6jGsmS0WQa+uQCfEbxoyjSO08P2zU2fdXzGYdsX2WN6pNvHymW+nlQWxyKsqrEW/Ht1ZOaB15a9EZf/QGDs5sFk5IdRH2W6HTSCD0A8wEkKnBF4IPBA8zzAtaSxSYPflgOWebXTctLAvoBLhjMnpg/Zq1/awUU97IOz0yR5eTxs10NBXb1jf1pT53xYWWMt+W59ZMnNr9Z+GXvJJKtzYyWG3I82y6gjmVzXIU0fkwfWMi+avrRweW/2ZGfQkH5pexf1sH4mN64cI4WFWhlpGUhp2RZnzkuf1D146sxN31CuMMcKjIPJp7EExXpsp/Uo9d2b1BPZvT0RjD7wQMt5gOtKY9BePOWpYFjoVU/LSWsM2hOKi7OtRyekD9mzf/p+BVnO3tkZ9t7pIWtXqZzwm4xnYznDiESsVQ3yMN7aemep3FzwdWV1ZOk3pfbS216v+UadiaE5N2CTpmpdTllTMH3LNpp3aSSmp39l7bLHduF98rPsfTDWtJCztxQmOdO0azbXRF79al3k2RMfqV7w+bcySm/QiQY0E5CZqFimy8224AMwPKAn1CgK2MADgQdawANcY8AmnUzGMhPDJFMGHqDlmncLY+Wk/bAjdxpmT/tp9p679AntJa+z2FvONvZy39GV5KYND2UR3MjRELGX1jY4S2vqnW+r6+zS2obI+ooau2z9xvrSz9bbpfe+5pR9umIjNu5koDdvjnWr+gfsnheecpjVa3CvcO+iHqG+PTLtPllpVu+MsNMnMz20R+OJKapSOiuVs8eFK8oir01/pW7hg29U8j9r7FvbA1ofZhJiskIdk6YMGEA9US74TPAAnZ8gDJjAA4EHWtwDeq2BJk9aY3SueS/ar46WJ6NZBkxAP9w4KQN2Jg/PyzvjwNBeO/cK7ylnJXtnpdtD5CniO0iZ+6ZbXblJtJydOY5V7jh2aYPjlMmZWqm8XblCrIjaYYsfpFA+Bcd8EqNDOPdzrPxw2Oodtu3eUqFEJI2fERoGitot8qbef1VsiSz+7PvI6xNm1SxZVVaFxAJ/aKBvNAbNI9VEhfqsy7boB3QAPh4wJ8OnWiAOPBB4oAU9wHWnsUmD95M1VgZTWcfUwTJilpMHJrDMcxPdY2BW+KIj0nfYp1/agF759sCcdGugnIUNkMuIAyWB7CBbr9eDeam7fbBtV8slyy/lTO/zsirrk09X1S8+98naz75ZXY3/OXG8pm0cv5lYwOukQ7oxTD3E6A90AEk84Dc5SZoERYEHAg+0oAe4BjU2afB+Mj85TPRrxzJirYMyjUEDWC/KRT+9NllHElna7yWRye9DA/sUhgbkpFn908N2cVrYKgqHcNhFIdspkps7CmSb9tKr+0iNllMrnJnJY47WNESsNZKU1sn/ydZWNzhryzZbqz9aVvf5pc/XL4udNUFnsn45Lo1Bex2pJCfWYXv0r2nwASTxQLLJStIsKAo8EHigFTzA9aixSXvxqchgLuqZdb3klHlhLQMNoM4ol/iJDdkLXLnc4GFPGhou2LefXdSvOK2oKNspys1CAgvLxT65MOjYuCAoVwotyUOyu7sckC1XC+UW8rpI7dqKyNqPV9vr7n+rdt3SVVU4QwKYNpl8tFbiJ23VGLTJm4lH86SJ2d7E6Jl6E60IOE8PpDKBng0DYeCBwAOt6gGuTS8MmZaT95LBSJY3hWbdVLCuA5pAe8inilPdxLdVP+zQfZDW2KTB68NMRprXtG6jdabqi6BezAPNmezAiYEHAg+0jQe4Tr2wloFujIfFXvUoN7HWZ5aBB5h1tMykwWtgWy1rLs2kYOrRctJeGDItJ29iMymZPOvDDk2bdgV8Ch5ojUBJodugSuCBwAPb6AG9ZkkDJ6OTlcEMv3K/MlOu+VRpsx54DbRJyzSNzd8PzDLNe9GQUe5FU+aF/RKU1gc7yfvZHMgb8UBjAdFI86A48EDggXb2ANewF9ayVGgMBfV0XcqSYa8yLTNpL95PBnlj4JcItNyLpkxjkwbf1AP2aj2N2R+Up+ABBmUKVYMqgQcCD3RwD+j1TFrjVGgM0a+eWUZ36PqmTLcxaa+6lG0rZpJge8170ZQBmzRlGkOv5jXNMo1BB9ACHmCQtYCqQEXggcADHcwDen2TBtY0TNa8ps2yVHhdJxltloHXQDu0TNNIEn5glmmetBfWMtBePOVmGWyhzM+uQN4MDzQWEM1QHTQNPBB4oIN5QK930l7YS4ah+Mm9yrTMpL14PxnkqYBXotAyL5oyYJNujIdNuk4qNgZ1muEBBl8zVARNAw8EHuikHtDrn3SqGEP2q6vLktEoA1BPlGveJxMItWiedDKsy/xo6GYZ+wlwK3ugJYOklU0N1AceCDzQBh7QewJpE8MMU0ZelyWjzTLwGrQ+Lde0X8Iw5Zon7YW9ZOjPlGsbArqNPJBKQLSRKUE3gQcCD3RQD+h9wov2kmEofnKzjMPW9SlLFTOhsL4fr+Wk/TB0sYx6A9xOHmhOcLSTyUG3gQcCD3QAD5h7h+Y1DVM1r2kOw0vGsqZiM7lo3ovWMvRl8k3tP6jfSh5oySBpJRMDtYEHAg90Mg947SupyjBUr7peLvBLLF5yU2byXvoDWQfyQKpB0YFMDkwJPBB4oIt4oLX2nyARdZEACYYReCDwQOCBwAOBBwIPBB4IPBB4IPBA4IHAAy3pgf8Pt4Er+Jo4T00AAAAASUVORK5CYII=)"
      ]
    },
    {
      "cell_type": "code",
      "metadata": {
        "colab": {
          "base_uri": "https://localhost:8080/"
        },
        "id": "vx7M_HvmQFIe",
        "outputId": "5056d030-a45b-4401-867d-9ccdc99030e4"
      },
      "source": [
        "np.dot(np_a,np_c.T)  #multipling matrix to matrix   (a,b) x (b,c) = (a,c)"
      ],
      "execution_count": 21,
      "outputs": [
        {
          "output_type": "execute_result",
          "data": {
            "text/plain": [
              "array([[28, 10],\n",
              "       [73, 28]])"
            ]
          },
          "metadata": {},
          "execution_count": 21
        }
      ]
    },
    {
      "cell_type": "markdown",
      "metadata": {
        "id": "TF-vIpv0ROPs"
      },
      "source": [
        "## Indexing & Slicing"
      ]
    },
    {
      "cell_type": "code",
      "metadata": {
        "colab": {
          "base_uri": "https://localhost:8080/"
        },
        "id": "Pi18pR88RdpT",
        "outputId": "2cc7f614-3f8d-44e7-a9cb-b364b0e6168e"
      },
      "source": [
        "np_a"
      ],
      "execution_count": 22,
      "outputs": [
        {
          "output_type": "execute_result",
          "data": {
            "text/plain": [
              "array([[1, 2, 3],\n",
              "       [4, 5, 6]])"
            ]
          },
          "metadata": {},
          "execution_count": 22
        }
      ]
    },
    {
      "cell_type": "code",
      "metadata": {
        "colab": {
          "base_uri": "https://localhost:8080/"
        },
        "id": "UtxhcLPgQMHz",
        "outputId": "9d4a0937-99c7-43d1-9abe-e048245e61ee"
      },
      "source": [
        "np_a[1,1] "
      ],
      "execution_count": 23,
      "outputs": [
        {
          "output_type": "execute_result",
          "data": {
            "text/plain": [
              "5"
            ]
          },
          "metadata": {},
          "execution_count": 23
        }
      ]
    },
    {
      "cell_type": "code",
      "metadata": {
        "colab": {
          "base_uri": "https://localhost:8080/"
        },
        "id": "DoCXvLGlR80V",
        "outputId": "84901bb9-0416-464e-fa49-57e9a4aa18ac"
      },
      "source": [
        "np_a[:2,:2]"
      ],
      "execution_count": 24,
      "outputs": [
        {
          "output_type": "execute_result",
          "data": {
            "text/plain": [
              "array([[1, 2],\n",
              "       [4, 5]])"
            ]
          },
          "metadata": {},
          "execution_count": 24
        }
      ]
    },
    {
      "cell_type": "code",
      "metadata": {
        "colab": {
          "base_uri": "https://localhost:8080/"
        },
        "id": "evTd2rBNSS7r",
        "outputId": "d9bec427-c767-4d6b-86e3-11db3d8d30d5"
      },
      "source": [
        "np_a[0,:]"
      ],
      "execution_count": 25,
      "outputs": [
        {
          "output_type": "execute_result",
          "data": {
            "text/plain": [
              "array([1, 2, 3])"
            ]
          },
          "metadata": {},
          "execution_count": 25
        }
      ]
    },
    {
      "cell_type": "markdown",
      "metadata": {
        "id": "ySU1335pSljN"
      },
      "source": [
        "## Useful functions"
      ]
    },
    {
      "cell_type": "code",
      "metadata": {
        "colab": {
          "base_uri": "https://localhost:8080/"
        },
        "id": "rAaagF8RS29P",
        "outputId": "8df260da-d666-421d-c6d1-b2767f6b1bde"
      },
      "source": [
        "np_a"
      ],
      "execution_count": 26,
      "outputs": [
        {
          "output_type": "execute_result",
          "data": {
            "text/plain": [
              "array([[1, 2, 3],\n",
              "       [4, 5, 6]])"
            ]
          },
          "metadata": {},
          "execution_count": 26
        }
      ]
    },
    {
      "cell_type": "code",
      "metadata": {
        "colab": {
          "base_uri": "https://localhost:8080/"
        },
        "id": "k9dnyPmASYAj",
        "outputId": "f6cbf470-2dee-4fb6-ac07-b36d48cf9e10"
      },
      "source": [
        "np.sum(np_a)"
      ],
      "execution_count": 27,
      "outputs": [
        {
          "output_type": "execute_result",
          "data": {
            "text/plain": [
              "21"
            ]
          },
          "metadata": {},
          "execution_count": 27
        }
      ]
    },
    {
      "cell_type": "code",
      "metadata": {
        "colab": {
          "base_uri": "https://localhost:8080/"
        },
        "id": "IxMhzcNDSxPI",
        "outputId": "4536e7ae-9f45-4ef6-bd8f-fcd67185aeca"
      },
      "source": [
        "np.sum(np_a,axis=0)  # axis 0 ก็คือรวมเลขในแต่ละแถว"
      ],
      "execution_count": 28,
      "outputs": [
        {
          "output_type": "execute_result",
          "data": {
            "text/plain": [
              "array([5, 7, 9])"
            ]
          },
          "metadata": {},
          "execution_count": 28
        }
      ]
    },
    {
      "cell_type": "code",
      "metadata": {
        "colab": {
          "base_uri": "https://localhost:8080/"
        },
        "id": "WqQyXpX4TFif",
        "outputId": "35207dca-4bea-4b39-8e34-4c2528cd97e9"
      },
      "source": [
        "np.sum(np_a,axis=1)  # axis 1 ก็คือรวมเลขในแต่ละหลัก"
      ],
      "execution_count": 29,
      "outputs": [
        {
          "output_type": "execute_result",
          "data": {
            "text/plain": [
              "array([ 6, 15])"
            ]
          },
          "metadata": {},
          "execution_count": 29
        }
      ]
    },
    {
      "cell_type": "code",
      "metadata": {
        "colab": {
          "base_uri": "https://localhost:8080/"
        },
        "id": "P-7gTl-jTOEC",
        "outputId": "3e4694c7-dc74-4437-beda-9fa539abc626"
      },
      "source": [
        "np.mean(np_a)"
      ],
      "execution_count": 30,
      "outputs": [
        {
          "output_type": "execute_result",
          "data": {
            "text/plain": [
              "3.5"
            ]
          },
          "metadata": {},
          "execution_count": 30
        }
      ]
    },
    {
      "cell_type": "code",
      "metadata": {
        "colab": {
          "base_uri": "https://localhost:8080/"
        },
        "id": "1cgffbFgTbDq",
        "outputId": "3947b398-a386-432e-c930-e521a6686332"
      },
      "source": [
        "np.mean(np_a,axis=0)  #หา mean ของ column"
      ],
      "execution_count": 31,
      "outputs": [
        {
          "output_type": "execute_result",
          "data": {
            "text/plain": [
              "array([2.5, 3.5, 4.5])"
            ]
          },
          "metadata": {},
          "execution_count": 31
        }
      ]
    },
    {
      "cell_type": "markdown",
      "metadata": {
        "id": "0GHjVWEuUrHY"
      },
      "source": [
        "## วนลูปเอง"
      ]
    },
    {
      "cell_type": "markdown",
      "metadata": {
        "id": "qfHxRNZzU-o0"
      },
      "source": [
        "#### summation"
      ]
    },
    {
      "cell_type": "code",
      "metadata": {
        "colab": {
          "base_uri": "https://localhost:8080/"
        },
        "id": "82jk10YPVOlN",
        "outputId": "f67b0e4b-236b-421b-a5f8-2bd40786799d"
      },
      "source": [
        "np_a.shape"
      ],
      "execution_count": 32,
      "outputs": [
        {
          "output_type": "execute_result",
          "data": {
            "text/plain": [
              "(2, 3)"
            ]
          },
          "metadata": {},
          "execution_count": 32
        }
      ]
    },
    {
      "cell_type": "markdown",
      "metadata": {
        "id": "lJ5z5BpGWp9e"
      },
      "source": [
        "```np.sum(np_a)```"
      ]
    },
    {
      "cell_type": "code",
      "metadata": {
        "colab": {
          "base_uri": "https://localhost:8080/"
        },
        "id": "zAEwcv04UG0y",
        "outputId": "b45210a7-f899-465b-d734-36f484e3f2e7"
      },
      "source": [
        "sum_all = 0\n",
        "\n",
        "for row in range(np_a.shape[0]):\n",
        "    for col in range(np_a.shape[1]):\n",
        "        sum_all = sum_all + np_a[row,col]\n",
        "        print(f'we are at row={row},col={col} np_a[{row},{col}]={np_a[row,col]}  sum_all={sum_all}')\n",
        "print(sum_all)"
      ],
      "execution_count": 33,
      "outputs": [
        {
          "output_type": "stream",
          "name": "stdout",
          "text": [
            "we are at row=0,col=0 np_a[0,0]=1  sum_all=1\n",
            "we are at row=0,col=1 np_a[0,1]=2  sum_all=3\n",
            "we are at row=0,col=2 np_a[0,2]=3  sum_all=6\n",
            "we are at row=1,col=0 np_a[1,0]=4  sum_all=10\n",
            "we are at row=1,col=1 np_a[1,1]=5  sum_all=15\n",
            "we are at row=1,col=2 np_a[1,2]=6  sum_all=21\n",
            "21\n"
          ]
        }
      ]
    },
    {
      "cell_type": "markdown",
      "metadata": {
        "id": "a39Jkm1-Wy0M"
      },
      "source": [
        "```np.sum(np_a,axis=0)```"
      ]
    },
    {
      "cell_type": "code",
      "metadata": {
        "colab": {
          "base_uri": "https://localhost:8080/"
        },
        "id": "rwttlRZjV1zL",
        "outputId": "ea385fa6-24ec-4cb0-e232-bd439ff02a20"
      },
      "source": [
        "sum_all = np.zeros(np_a.shape[1])\n",
        "\n",
        "for row in range(np_a.shape[0]):\n",
        "    for col in range(np_a.shape[1]):\n",
        "        sum_all[col] = sum_all[col] + np_a[row,col]\n",
        "print(sum_all)"
      ],
      "execution_count": 34,
      "outputs": [
        {
          "output_type": "stream",
          "name": "stdout",
          "text": [
            "[5. 7. 9.]\n"
          ]
        }
      ]
    },
    {
      "cell_type": "markdown",
      "metadata": {
        "id": "io-Mz-vJYiO-"
      },
      "source": [
        "Quiz กลุ่ม\n",
        "\n",
        "วนลูปหาค่า\n",
        "\n",
        "* ```np.sum(np_a,axis=1)``` sukuna /\n",
        "* ```np.mean(np_a)``` i love อ.ต้น /\n",
        "* ```np.mean(np_a,axis=0)``` natashar /\n",
        "* ```np.mean(np_a,axis=1)``` teletubby /\n",
        "* ```np.max(np_a)``` numba one /\n",
        "* ```np.max(np_a,axis=0)``` เอกาไร้สติ /\n",
        "* ```np.max(np_a,axis=1)``` sandbox /\n",
        "* ```np.min(np_a)``` ลูกหมี /\n",
        "* ```np.min(np_a,axis=0)``` wakame /\n",
        "* ```np.min(np_a,axis=1)``` แมวส้ม /"
      ]
    },
    {
      "cell_type": "code",
      "metadata": {
        "colab": {
          "base_uri": "https://localhost:8080/"
        },
        "id": "dGO_SMwPXf5P",
        "outputId": "e7981b7a-0d0a-4b95-9a3c-f79b09d8b9ac"
      },
      "source": [
        "# np.max(np_a,axis=1)\n",
        "max_all = np.zeros(np_a.shape[0])\n",
        "for row in range(np_a.shape[0]):\n",
        "    max_all[row] = max(np_a[row,:])\n",
        "print(max_all)"
      ],
      "execution_count": 35,
      "outputs": [
        {
          "output_type": "stream",
          "name": "stdout",
          "text": [
            "[3. 6.]\n"
          ]
        }
      ]
    },
    {
      "cell_type": "code",
      "metadata": {
        "colab": {
          "base_uri": "https://localhost:8080/"
        },
        "id": "KL8VuMv8dnRB",
        "outputId": "79065ce5-f78b-4ccb-88c4-54e912bdc222"
      },
      "source": [
        "#np.mean(np_a,axis=0)\n",
        "mean_all = np.zeros(np_a.shape[1])\n",
        "for row in range(np_a.shape[0]):\n",
        "     for col in range(np_a.shape[1]):\n",
        "          mean_all[col] = mean_all[col] + np_a[row,col]/np_a.shape[0]\n",
        "print(mean_all)"
      ],
      "execution_count": 36,
      "outputs": [
        {
          "output_type": "stream",
          "name": "stdout",
          "text": [
            "[2.5 3.5 4.5]\n"
          ]
        }
      ]
    },
    {
      "cell_type": "code",
      "metadata": {
        "colab": {
          "base_uri": "https://localhost:8080/"
        },
        "id": "nkL4nmose3yY",
        "outputId": "318721cc-d049-48e1-cac8-134219c003d8"
      },
      "source": [
        "#np.mean(np_a,axis=1)\n",
        "sum_all = np.zeros(np_a.shape[0])\n",
        "for row in range(np_a.shape[0]):\n",
        "    for col in range(np_a.shape[1]): \n",
        "        sum_all[row] = sum_all[row] + np_a[row,col]\n",
        "sum_all = sum_all/np_a.shape[1]\n",
        "print(sum_all)"
      ],
      "execution_count": 37,
      "outputs": [
        {
          "output_type": "stream",
          "name": "stdout",
          "text": [
            "[2. 5.]\n"
          ]
        }
      ]
    },
    {
      "cell_type": "code",
      "metadata": {
        "colab": {
          "base_uri": "https://localhost:8080/"
        },
        "id": "quWQF_yEgOzm",
        "outputId": "cdedf75f-cb26-4c1e-ff59-549ccc756b10"
      },
      "source": [
        "#np.max(np_a)\n",
        "max_a = -100000000\n",
        "for row in range(np_a.shape[0]):\n",
        "    for col in range(np_a.shape[1]):\n",
        "        if np_a[row,col] > max_a :\n",
        "            max_a = np_a[row,col]\n",
        "print(max_a)"
      ],
      "execution_count": 38,
      "outputs": [
        {
          "output_type": "stream",
          "name": "stdout",
          "text": [
            "6\n"
          ]
        }
      ]
    },
    {
      "cell_type": "code",
      "metadata": {
        "colab": {
          "base_uri": "https://localhost:8080/"
        },
        "id": "LRGuywWlhAyZ",
        "outputId": "566edcc6-dbd3-4605-a2d2-2967bf4050a1"
      },
      "source": [
        "### 10. np.min(np_a,axis=1)\n",
        "min_row = np.zeros(np_a.shape[0])\n",
        "for row in range(np_a.shape[0]):\n",
        "   min_row[row] = min(np_a[row,:])\n",
        "print(min_row)"
      ],
      "execution_count": 39,
      "outputs": [
        {
          "output_type": "stream",
          "name": "stdout",
          "text": [
            "[1. 4.]\n"
          ]
        }
      ]
    },
    {
      "cell_type": "code",
      "metadata": {
        "colab": {
          "base_uri": "https://localhost:8080/"
        },
        "id": "z6A-Aw9eiHHD",
        "outputId": "940df2d5-855e-4446-e316-83809b6e6e2d"
      },
      "source": [
        "# np.min(np_a,axis=0)\n",
        "min_all = np.zeros(np_a.shape[1])\n",
        "\n",
        "for col in range(np_a.shape[1]):\n",
        "    min_all[col] = min(np_a[:,col])\n",
        "print(min_all)"
      ],
      "execution_count": 40,
      "outputs": [
        {
          "output_type": "stream",
          "name": "stdout",
          "text": [
            "[1. 2. 3.]\n"
          ]
        }
      ]
    },
    {
      "cell_type": "code",
      "metadata": {
        "colab": {
          "base_uri": "https://localhost:8080/"
        },
        "id": "6a2EYE9Gixd4",
        "outputId": "0a8620bf-ace8-4943-f094-4deed9a9b46d"
      },
      "source": [
        "# np.min(np_a)  ลูกหมี\n",
        "minV = 100000\n",
        "for row in range(np_a.shape[0]):\n",
        "    for col in range(np_a.shape[1]):\n",
        "        if np_a[row,col] < minV:\n",
        "            minV = np_a[row,col]\n",
        "print(minV)\n"
      ],
      "execution_count": 41,
      "outputs": [
        {
          "output_type": "stream",
          "name": "stdout",
          "text": [
            "1\n"
          ]
        }
      ]
    },
    {
      "cell_type": "code",
      "metadata": {
        "colab": {
          "base_uri": "https://localhost:8080/"
        },
        "id": "T6-aXIFyjZBX",
        "outputId": "51941e7c-63fe-4e0c-a676-cfa9f604e7fe"
      },
      "source": [
        "# np.max(np_a,axis=0)\n",
        "max_all = -100000 * np.ones(np_a.shape[1])\n",
        "for col in range(np_a.shape[1]):\n",
        "    for row in range(np_a.shape[0]):\n",
        "        if np_a[row,col] > max_all[col]: \n",
        "            max_all[col] = np_a[row,col]\n",
        "print(max_all)"
      ],
      "execution_count": 42,
      "outputs": [
        {
          "output_type": "stream",
          "name": "stdout",
          "text": [
            "[4. 5. 6.]\n"
          ]
        }
      ]
    },
    {
      "cell_type": "code",
      "metadata": {
        "colab": {
          "base_uri": "https://localhost:8080/"
        },
        "id": "xjm10yXRkhGn",
        "outputId": "6a077d58-822c-4aaa-cf0c-407d39c122f0"
      },
      "source": [
        "#np.mean(np_a)\n",
        "mean_all = 0\n",
        "for row in range(np_a.shape[0]):\n",
        "    for col in range(np_a.shape[1]):\n",
        "        mean_all = mean_all + np_a[row,col]\n",
        "mean_all = mean_all/(np_a.shape[0]*np_a.shape[1])\n",
        "print(mean_all)"
      ],
      "execution_count": 43,
      "outputs": [
        {
          "output_type": "stream",
          "name": "stdout",
          "text": [
            "3.5\n"
          ]
        }
      ]
    },
    {
      "cell_type": "markdown",
      "metadata": {
        "id": "dDtGuMpWXWfM"
      },
      "source": [
        "# Distance Matrix"
      ]
    },
    {
      "cell_type": "code",
      "metadata": {
        "id": "ATTlGvnjXV09",
        "outputId": "691b0f31-7f8e-4616-ae48-6e84b3b28a3a",
        "colab": {
          "base_uri": "https://localhost:8080/"
        }
      },
      "source": [
        "data1 = np.array([[1,2],[3,5],[2,0],[4,5]])\n",
        "data1 "
      ],
      "execution_count": 44,
      "outputs": [
        {
          "output_type": "execute_result",
          "data": {
            "text/plain": [
              "array([[1, 2],\n",
              "       [3, 5],\n",
              "       [2, 0],\n",
              "       [4, 5]])"
            ]
          },
          "metadata": {},
          "execution_count": 44
        }
      ]
    },
    {
      "cell_type": "code",
      "metadata": {
        "id": "nalxUpi6l03d",
        "outputId": "54708c5f-04e3-485f-82fb-bf12d93559ae",
        "colab": {
          "base_uri": "https://localhost:8080/",
          "height": 282
        }
      },
      "source": [
        "from matplotlib import pyplot as plt\n",
        "plt.scatter(data1[:,0],data1[:,1])"
      ],
      "execution_count": 46,
      "outputs": [
        {
          "output_type": "execute_result",
          "data": {
            "text/plain": [
              "<matplotlib.collections.PathCollection at 0x7f84822c3a50>"
            ]
          },
          "metadata": {},
          "execution_count": 46
        },
        {
          "output_type": "display_data",
          "data": {
            "image/png": "[encoded data removed]",
            "text/plain": [
              "<Figure size 432x288 with 1 Axes>"
            ]
          },
          "metadata": {
            "needs_background": "light"
          }
        }
      ]
    },
    {
      "cell_type": "markdown",
      "metadata": {
        "id": "rv_6NmGWaZRS"
      },
      "source": [
        "## Euclidean Distance (L2-norm)\n",
        "$\\sqrt{(x_1-x_2)^2+(y_1-y_2)^2}$"
      ]
    },
    {
      "cell_type": "code",
      "metadata": {
        "id": "3zv6eYubZ0eC"
      },
      "source": [
        ""
      ],
      "execution_count": null,
      "outputs": []
    }
  ]
}